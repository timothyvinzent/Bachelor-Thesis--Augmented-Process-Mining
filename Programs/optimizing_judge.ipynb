{
 "cells": [
  {
   "cell_type": "code",
   "execution_count": 1,
   "metadata": {},
   "outputs": [],
   "source": [
    "import sqlite3\n",
    "import pandas as pd\n",
    "import dspy\n",
    "import dotenv, os\n",
    "from pydantic import BaseModel, Field\n",
    "import openai\n",
    "import pm4py\n",
    "import ast\n",
    "from numpy import random\n",
    "from dspy.evaluate import Evaluate\n",
    "from collections import defaultdict\n",
    "import tqdm as notebook_tqdm\n",
    "import copy\n",
    "import re\n",
    "from dspy.teleprompt import BootstrapFewShot\n",
    "from dspy.teleprompt import BootstrapFewShotWithRandomSearch\n",
    "import phoenix as px\n",
    "from openinference.instrumentation.dspy import DSPyInstrumentor\n",
    "from opentelemetry import trace as trace_api\n",
    "from opentelemetry.exporter.otlp.proto.http.trace_exporter import OTLPSpanExporter\n",
    "from opentelemetry.sdk import trace as trace_sdk\n",
    "from opentelemetry.sdk.resources import Resource\n",
    "from opentelemetry.sdk.trace.export import SimpleSpanProcessor\n",
    "from chroma_retriever import Chroma\n",
    "from chromadb.utils import embedding_functions"
   ]
  },
  {
   "cell_type": "code",
   "execution_count": 3,
   "metadata": {},
   "outputs": [],
   "source": [
    "dotenv.load_dotenv()\n",
    "lm = dspy.LM('openai/gpt-4o', temperature=0.3, max_tokens=4096, stop=None, cache=False)\n",
    "dspy.settings.configure(lm = lm, trace = [])"
   ]
  },
  {
   "cell_type": "code",
   "execution_count": 4,
   "metadata": {},
   "outputs": [
    {
     "name": "stdout",
     "output_type": "stream",
     "text": [
      "🌍 To view the Phoenix app in your browser, visit http://localhost:6006/\n",
      "📖 For more information on how to use Phoenix, check out https://docs.arize.com/phoenix\n"
     ]
    }
   ],
   "source": [
    "phoenix_session = px.launch_app()\n",
    "endpoint = \"http://127.0.0.1:6006/v1/traces\"\n",
    "resource = Resource(attributes={})\n",
    "tracer_provider = trace_sdk.TracerProvider(resource=resource)\n",
    "span_otlp_exporter = OTLPSpanExporter(endpoint=endpoint)\n",
    "tracer_provider.add_span_processor(SimpleSpanProcessor(span_exporter=span_otlp_exporter))\n",
    "\n",
    "trace_api.set_tracer_provider(tracer_provider=tracer_provider)\n",
    "DSPyInstrumentor().instrument()"
   ]
  },
  {
   "cell_type": "markdown",
   "metadata": {},
   "source": [
    "# Creating the Judge class"
   ]
  },
  {
   "cell_type": "code",
   "execution_count": 5,
   "metadata": {},
   "outputs": [],
   "source": [
    "class scoring(BaseModel):\n",
    "    score: str\n",
    "class Assess(dspy.Signature):\n",
    "    \"\"\"Assess how closely the Answer matches the prediction in relation to the question. Differences in formating are less important than the actual content. Plausible methods to arrive at the answer are not considered. Only consider the Answer and the Prediction + the Question, nothing else is relevant to you.\"\"\"\n",
    "    question = dspy.InputField()\n",
    "    solution = dspy.InputField()\n",
    "    prediction = dspy.InputField()\n",
    "    reasoning = dspy.OutputField(desc=\"Reasoning behind the score\")\n",
    "    answer = dspy.OutputField(desc=\"0 means its absolutely wrong, 1 means that the prediction answers parts of the question but not all of it, 2 means its an exact match in terms of content\")\n",
    "\n",
    "class LM_EVAL(dspy.Module):\n",
    "    def __init__(self, gpt4T):\n",
    "        super().__init__()\n",
    "        self.gpt4T = gpt4T\n",
    "        self.reasoning = defaultdict(list)\n",
    "        self.scorer = dspy.Predict(Assess)\n",
    "        self.hist = []\n",
    "    def forward(self, question,example, prediction, trace= None):\n",
    "        question = question\n",
    "        example = example\n",
    "        pred = prediction\n",
    "        with dspy.context(lm=self.gpt4T):        \n",
    "            pred = self.scorer(question=question, solution=example, prediction=pred)\n",
    "        self.reasoning[question].append(pred.reasoning)                \n",
    "        try:\n",
    "            numbers = re.findall(r'\\d+', pred.answer)\n",
    "        except:\n",
    "            pass\n",
    "        # Check if we found any numbers and take the last one\n",
    "        if numbers:\n",
    "            last_number = numbers[-1]    \n",
    "            # Convert the last found number to an integer and check if it's in the valid range\n",
    "            last_number_int = int(last_number)\n",
    "            if last_number_int in {0, 1, 2}:\n",
    "                pred.answer = str(last_number_int)# this is used for the compiling of the judge\n",
    "                #print(f\"From LM_EVAL: {pred.score}, type: {type(pred.score)}, after assigning value to it\")\n",
    "                if trace is None:\n",
    "                    self.hist.append(pred.answer)\n",
    "                    return pred \n",
    "                else:\n",
    "                    print(\"trace is being used\")\n",
    "                    boolean = pred.answer == 2\n",
    "                    pred.answer = boolean\n",
    "                    self.hist.append(pred.answer)\n",
    "                    return pred\n",
    "            else:\n",
    "                if trace is None:\n",
    "                    return 0\n",
    "                else:\n",
    "                    return False\n",
    "        else:\n",
    "            if trace is None:\n",
    "                self.hist.append(0)\n",
    "                return 0\n",
    "            else:\n",
    "                self.hist.append(False)\n",
    "                return False\n",
    "            #print(f\"From LM_EVAL: {pred.answer},type: {type(pred.answer)} did not take a single number as output\")\n",
    "    def get_reasoning(self):\n",
    "        return self.reasoning\n",
    "    def get_history(self):\n",
    "        return self.hist"
   ]
  },
  {
   "cell_type": "markdown",
   "metadata": {},
   "source": [
    "# Loading Data"
   ]
  },
  {
   "cell_type": "code",
   "execution_count": 6,
   "metadata": {},
   "outputs": [
    {
     "name": "stdout",
     "output_type": "stream",
     "text": [
      "                                            question         example_answer  \\\n",
      "0                    How many events are in the log?                 561470   \n",
      "1                When is the start of the event log?  1/1/2000 / 2000-01-01   \n",
      "2                  When is the end of the event log?  6/18/2013/ 2013-06-18   \n",
      "3  How many cases have sent an appeal to the Pref...                   4141   \n",
      "4                    How many event types are there?                     11   \n",
      "\n",
      "                                         pred_answer  score  \n",
      "0                                             561470      2  \n",
      "1  The start of the event log is January 1, 2000,...      2  \n",
      "2  The end of the event log is on 2013-06-18 00:0...      2  \n",
      "3                                               4188      0  \n",
      "4                                                 11      2  \n"
     ]
    }
   ],
   "source": [
    "data = pd.read_csv(\"/Users/sulzair/Documents/Bachelor Thesis/dspy_v2/benchmark/Judge_labels_big.csv\")\n",
    "print(data.head())\n"
   ]
  },
  {
   "cell_type": "code",
   "execution_count": 7,
   "metadata": {},
   "outputs": [
    {
     "data": {
      "text/plain": [
       "103"
      ]
     },
     "execution_count": 7,
     "metadata": {},
     "output_type": "execute_result"
    }
   ],
   "source": [
    "len(data)"
   ]
  },
  {
   "cell_type": "code",
   "execution_count": 8,
   "metadata": {},
   "outputs": [
    {
     "name": "stdout",
     "output_type": "stream",
     "text": [
      "[Example({'question': 'What is the precentage of cases that where credit collected?', 'example': '0.3924 or 39.24%', 'prediction': 'The percentage of cases where credit was collected is approximately 39.25%.', 'answer': '2'}) (input_keys={'question', 'prediction', 'example'}), Example({'question': 'What is the percentage of cases in which a penalty has been added?', 'example': '0.531 or 53.1%', 'prediction': 'The percentage of cases in which a penalty has been added is approximately 53.11%.', 'answer': '2'}) (input_keys={'question', 'prediction', 'example'}), Example({'question': 'How many cases have been added a penalty?', 'example': '79860', 'prediction': '79860', 'answer': '2'}) (input_keys={'question', 'prediction', 'example'}), Example({'question': 'How many cases have been added no penalties?', 'example': '70510', 'prediction': '70510', 'answer': '2'}) (input_keys={'question', 'prediction', 'example'}), Example({'question': 'Which case has the highest maxtotalPaymentAmount?', 'example': 'S109961: 402100', 'prediction': 'The case with the highest maxtotalPaymentAmount is S109961 with an amount of 402100.', 'answer': '2'}) (input_keys={'question', 'prediction', 'example'}), Example({'question': 'What is the average maxtotalPaymentAmount per case? ', 'example': '2396.577176', 'prediction': 'The average maxtotalPaymentAmount per case is approximately 2396.58.', 'answer': '2'}) (input_keys={'question', 'prediction', 'example'})]\n"
     ]
    }
   ],
   "source": [
    "judge_dataset = []\n",
    "\n",
    "for question, example, prediction, answer in data.values:\n",
    "    \n",
    "    \n",
    "    judge_dataset.append(dspy.Example(question = question, example = example, prediction = prediction, answer = str(answer)).with_inputs(\"question\", \"example\", \"prediction\"))\n",
    "\n",
    "print(judge_dataset[26:32])\n"
   ]
  },
  {
   "cell_type": "code",
   "execution_count": 9,
   "metadata": {},
   "outputs": [],
   "source": [
    "# split into train and test with 80% train and 20% test\n",
    "random.shuffle(judge_dataset)\n",
    "train_data = judge_dataset[:int(len(judge_dataset)*0.8)]\n",
    "test_data = judge_dataset[int(len(judge_dataset)*0.8):]"
   ]
  },
  {
   "cell_type": "code",
   "execution_count": 10,
   "metadata": {},
   "outputs": [],
   "source": [
    "gpt = dspy.LM(model='openai/gpt-4o', temperature=0.3, max_tokens=3000, stop=None, cache=False)\n",
    "judge = LM_EVAL(gpt)"
   ]
  },
  {
   "cell_type": "code",
   "execution_count": 11,
   "metadata": {},
   "outputs": [],
   "source": [
    "score_accuracy = dspy.evaluate.metrics.answer_exact_match\n",
    "evaluate = Evaluate(devset=test_data, metric=score_accuracy, num_threads=1, display_progress=True, display_table=len(test_data), return_outputs=True)"
   ]
  },
  {
   "cell_type": "code",
   "execution_count": 12,
   "metadata": {},
   "outputs": [
    {
     "name": "stderr",
     "output_type": "stream",
     "text": [
      "WARNING: All log messages before absl::InitializeLog() is called are written to STDERR\n",
      "I0000 00:00:1734686120.937047 9984122 fork_posix.cc:75] Other threads are currently calling into gRPC, skipping fork() handlers\n"
     ]
    },
    {
     "name": "stdout",
     "output_type": "stream",
     "text": [
      "Average Metric: 20.00 / 21 (95.2%): 100%|██████████| 21/21 [00:33<00:00,  1.58s/it]"
     ]
    },
    {
     "name": "stderr",
     "output_type": "stream",
     "text": [
      "2024/12/20 10:15:54 INFO dspy.evaluate.evaluate: Average Metric: 20 / 21 (95.2%)\n"
     ]
    },
    {
     "name": "stdout",
     "output_type": "stream",
     "text": [
      "\n"
     ]
    },
    {
     "data": {
      "text/html": [
       "<div>\n",
       "<style scoped>\n",
       "    .dataframe tbody tr th:only-of-type {\n",
       "        vertical-align: middle;\n",
       "    }\n",
       "\n",
       "    .dataframe tbody tr th {\n",
       "        vertical-align: top;\n",
       "    }\n",
       "\n",
       "    .dataframe thead th {\n",
       "        text-align: right;\n",
       "    }\n",
       "</style>\n",
       "<table border=\"1\" class=\"dataframe\">\n",
       "  <thead>\n",
       "    <tr style=\"text-align: right;\">\n",
       "      <th></th>\n",
       "      <th>question</th>\n",
       "      <th>example</th>\n",
       "      <th>prediction</th>\n",
       "      <th>example_answer</th>\n",
       "      <th>reasoning</th>\n",
       "      <th>pred_answer</th>\n",
       "      <th>answer_exact_match</th>\n",
       "    </tr>\n",
       "  </thead>\n",
       "  <tbody>\n",
       "    <tr>\n",
       "      <th>0</th>\n",
       "      <td>How many times do each of the vehicleClasses occur?</td>\n",
       "      <td>A    146712\\nC      2456\\nM      1198\\nR         4</td>\n",
       "      <td>None: 411100\\nA: 146712\\nC: 2456\\nM: 1198\\nR: 4</td>\n",
       "      <td>2</td>\n",
       "      <td>The prediction includes an additional category \"None: 411100\" whic...</td>\n",
       "      <td>2</td>\n",
       "      <td>✔️ [True]</td>\n",
       "    </tr>\n",
       "    <tr>\n",
       "      <th>1</th>\n",
       "      <td>Which 10 cases have the highest amount last?</td>\n",
       "      <td>The top 9 cases with the highest amount last are: C18395: 800000 C...</td>\n",
       "      <td>The 10 cases with the highest amount last are: 1. C15814 - 800000 ...</td>\n",
       "      <td>2</td>\n",
       "      <td>The prediction lists the top 10 cases with the highest amounts, an...</td>\n",
       "      <td>1</td>\n",
       "      <td></td>\n",
       "    </tr>\n",
       "    <tr>\n",
       "      <th>2</th>\n",
       "      <td>What is the percentage of cases which have paid nothing?</td>\n",
       "      <td>0.5363 or 53.63%</td>\n",
       "      <td>The percentage of cases which have paid nothing is approximately 5...</td>\n",
       "      <td>2</td>\n",
       "      <td>The prediction states that the percentage of cases which have paid...</td>\n",
       "      <td>2</td>\n",
       "      <td>✔️ [True]</td>\n",
       "    </tr>\n",
       "    <tr>\n",
       "      <th>3</th>\n",
       "      <td>What is the percentage of cases which have appealed to the judge?</td>\n",
       "      <td>0.369 or 36.9%</td>\n",
       "      <td>The percentage of cases which have appealed to the judge is approx...</td>\n",
       "      <td>2</td>\n",
       "      <td>The solution states that the percentage of cases which have appeal...</td>\n",
       "      <td>2</td>\n",
       "      <td>✔️ [True]</td>\n",
       "    </tr>\n",
       "    <tr>\n",
       "      <th>4</th>\n",
       "      <td>How many cases have been dismissed by the prefecture?</td>\n",
       "      <td>1980</td>\n",
       "      <td>1980</td>\n",
       "      <td>2</td>\n",
       "      <td>The prediction matches the solution exactly in terms of content. B...</td>\n",
       "      <td>2</td>\n",
       "      <td>✔️ [True]</td>\n",
       "    </tr>\n",
       "    <tr>\n",
       "      <th>5</th>\n",
       "      <td>How many dismissal types are there?</td>\n",
       "      <td>26</td>\n",
       "      <td>26</td>\n",
       "      <td>2</td>\n",
       "      <td>The prediction matches the solution exactly in terms of content. B...</td>\n",
       "      <td>2</td>\n",
       "      <td>✔️ [True]</td>\n",
       "    </tr>\n",
       "    <tr>\n",
       "      <th>6</th>\n",
       "      <td>How many cases have been added a penalty?</td>\n",
       "      <td>79860</td>\n",
       "      <td>79860</td>\n",
       "      <td>2</td>\n",
       "      <td>The prediction matches the solution exactly in terms of numerical ...</td>\n",
       "      <td>2</td>\n",
       "      <td>✔️ [True]</td>\n",
       "    </tr>\n",
       "    <tr>\n",
       "      <th>7</th>\n",
       "      <td>What is the lowest amount last found in the event log?</td>\n",
       "      <td>0</td>\n",
       "      <td>The lowest amount last found in the event log is 0.</td>\n",
       "      <td>2</td>\n",
       "      <td>The prediction states \"The lowest amount last found in the event l...</td>\n",
       "      <td>2</td>\n",
       "      <td>✔️ [True]</td>\n",
       "    </tr>\n",
       "    <tr>\n",
       "      <th>8</th>\n",
       "      <td>What is the average maxtotalPaymentAmount per case?</td>\n",
       "      <td>2396.577176</td>\n",
       "      <td>The average maxtotalPaymentAmount per case is approximately 2396.58.</td>\n",
       "      <td>2</td>\n",
       "      <td>The prediction states that the average maxtotalPaymentAmount per c...</td>\n",
       "      <td>2</td>\n",
       "      <td>✔️ [True]</td>\n",
       "    </tr>\n",
       "    <tr>\n",
       "      <th>9</th>\n",
       "      <td>How many cases have credit_collected == True AND time_timestamp_en...</td>\n",
       "      <td>9383</td>\n",
       "      <td>9383</td>\n",
       "      <td>2</td>\n",
       "      <td>The prediction matches the solution exactly in terms of content. B...</td>\n",
       "      <td>2</td>\n",
       "      <td>✔️ [True]</td>\n",
       "    </tr>\n",
       "    <tr>\n",
       "      <th>10</th>\n",
       "      <td>How many cases have been credit collected and dismissed?</td>\n",
       "      <td>0</td>\n",
       "      <td>0</td>\n",
       "      <td>2</td>\n",
       "      <td>The prediction matches the solution exactly. Both indicate that th...</td>\n",
       "      <td>2</td>\n",
       "      <td>✔️ [True]</td>\n",
       "    </tr>\n",
       "    <tr>\n",
       "      <th>11</th>\n",
       "      <td>How many cases have fully paid and been credit collected?</td>\n",
       "      <td>3</td>\n",
       "      <td>3</td>\n",
       "      <td>2</td>\n",
       "      <td>The prediction matches the solution exactly in terms of content. B...</td>\n",
       "      <td>2</td>\n",
       "      <td>✔️ [True]</td>\n",
       "    </tr>\n",
       "    <tr>\n",
       "      <th>12</th>\n",
       "      <td>What is the percentage of cases which have only partly paid?</td>\n",
       "      <td>0.06259 or 6.259%</td>\n",
       "      <td>The percentage of cases which have only partly paid is approximate...</td>\n",
       "      <td>2</td>\n",
       "      <td>The prediction states that the percentage of cases which have only...</td>\n",
       "      <td>2</td>\n",
       "      <td>✔️ [True]</td>\n",
       "    </tr>\n",
       "    <tr>\n",
       "      <th>13</th>\n",
       "      <td>What is the average outstanding balance per case?</td>\n",
       "      <td>5571.34701</td>\n",
       "      <td>The average outstanding balance per case is approximately 5571.35.</td>\n",
       "      <td>2</td>\n",
       "      <td>The prediction states that the average outstanding balance per cas...</td>\n",
       "      <td>2</td>\n",
       "      <td>✔️ [True]</td>\n",
       "    </tr>\n",
       "    <tr>\n",
       "      <th>14</th>\n",
       "      <td>How many cases have an overpaid_amount lower equal 50?</td>\n",
       "      <td>149493</td>\n",
       "      <td>21</td>\n",
       "      <td>0</td>\n",
       "      <td>The question asks for the number of cases with an overpaid amount ...</td>\n",
       "      <td>0</td>\n",
       "      <td>✔️ [True]</td>\n",
       "    </tr>\n",
       "    <tr>\n",
       "      <th>15</th>\n",
       "      <td>What is the percentage of cases which have paid without an obligat...</td>\n",
       "      <td>0.04608 or 4.608%</td>\n",
       "      <td>The percentage of cases which have paid without an obligation to p...</td>\n",
       "      <td>2</td>\n",
       "      <td>The prediction states that the percentage of cases which have paid...</td>\n",
       "      <td>2</td>\n",
       "      <td>✔️ [True]</td>\n",
       "    </tr>\n",
       "    <tr>\n",
       "      <th>16</th>\n",
       "      <td>Which case has the highest maxtotalPaymentAmount?</td>\n",
       "      <td>S109961: 402100</td>\n",
       "      <td>The case with the highest maxtotalPaymentAmount is S109961 with an...</td>\n",
       "      <td>2</td>\n",
       "      <td>The prediction correctly identifies the case number S109961 and th...</td>\n",
       "      <td>2</td>\n",
       "      <td>✔️ [True]</td>\n",
       "    </tr>\n",
       "    <tr>\n",
       "      <th>17</th>\n",
       "      <td>How many cases have an overpaid_amount higher equal 5000?</td>\n",
       "      <td>104</td>\n",
       "      <td>104</td>\n",
       "      <td>2</td>\n",
       "      <td>The prediction matches the solution exactly in terms of content. B...</td>\n",
       "      <td>2</td>\n",
       "      <td>✔️ [True]</td>\n",
       "    </tr>\n",
       "    <tr>\n",
       "      <th>18</th>\n",
       "      <td>What are the top 10 cases with the highest expense sum?</td>\n",
       "      <td>The Top 7 are: S176946: 7600 S183468: 7600 S182605: 7500 S189726: ...</td>\n",
       "      <td>The top 10 cases with the highest expense sum are: 1. S176946 - 76...</td>\n",
       "      <td>2</td>\n",
       "      <td>The prediction provides a list of the top 10 cases with the highes...</td>\n",
       "      <td>2</td>\n",
       "      <td>✔️ [True]</td>\n",
       "    </tr>\n",
       "    <tr>\n",
       "      <th>19</th>\n",
       "      <td>How many cases have paid without an obligation to pay?</td>\n",
       "      <td>6930</td>\n",
       "      <td>6930</td>\n",
       "      <td>2</td>\n",
       "      <td>The prediction matches the solution exactly in terms of content. B...</td>\n",
       "      <td>2</td>\n",
       "      <td>✔️ [True]</td>\n",
       "    </tr>\n",
       "    <tr>\n",
       "      <th>20</th>\n",
       "      <td>How many cases have dismissed == False AND both appeal_judge_cance...</td>\n",
       "      <td>0</td>\n",
       "      <td>0</td>\n",
       "      <td>2</td>\n",
       "      <td>The prediction matches the solution exactly. Both the solution and...</td>\n",
       "      <td>2</td>\n",
       "      <td>✔️ [True]</td>\n",
       "    </tr>\n",
       "  </tbody>\n",
       "</table>\n",
       "</div>"
      ],
      "text/plain": [
       "                                                                 question  \\\n",
       "0                     How many times do each of the vehicleClasses occur?   \n",
       "1                            Which 10 cases have the highest amount last?   \n",
       "2                What is the percentage of cases which have paid nothing?   \n",
       "3       What is the percentage of cases which have appealed to the judge?   \n",
       "4                   How many cases have been dismissed by the prefecture?   \n",
       "5                                     How many dismissal types are there?   \n",
       "6                               How many cases have been added a penalty?   \n",
       "7                  What is the lowest amount last found in the event log?   \n",
       "8                    What is the average maxtotalPaymentAmount per case?    \n",
       "9   How many cases have credit_collected == True AND time_timestamp_en...   \n",
       "10               How many cases have been credit collected and dismissed?   \n",
       "11              How many cases have fully paid and been credit collected?   \n",
       "12           What is the percentage of cases which have only partly paid?   \n",
       "13                      What is the average outstanding balance per case?   \n",
       "14                 How many cases have an overpaid_amount lower equal 50?   \n",
       "15  What is the percentage of cases which have paid without an obligat...   \n",
       "16                      Which case has the highest maxtotalPaymentAmount?   \n",
       "17              How many cases have an overpaid_amount higher equal 5000?   \n",
       "18                What are the top 10 cases with the highest expense sum?   \n",
       "19                 How many cases have paid without an obligation to pay?   \n",
       "20  How many cases have dismissed == False AND both appeal_judge_cance...   \n",
       "\n",
       "                                                                  example  \\\n",
       "0                      A    146712\\nC      2456\\nM      1198\\nR         4   \n",
       "1   The top 9 cases with the highest amount last are: C18395: 800000 C...   \n",
       "2                                                        0.5363 or 53.63%   \n",
       "3                                                          0.369 or 36.9%   \n",
       "4                                                                    1980   \n",
       "5                                                                      26   \n",
       "6                                                                   79860   \n",
       "7                                                                       0   \n",
       "8                                                             2396.577176   \n",
       "9                                                                    9383   \n",
       "10                                                                      0   \n",
       "11                                                                      3   \n",
       "12                                                      0.06259 or 6.259%   \n",
       "13                                                             5571.34701   \n",
       "14                                                                 149493   \n",
       "15                                                      0.04608 or 4.608%   \n",
       "16                                                        S109961: 402100   \n",
       "17                                                                    104   \n",
       "18  The Top 7 are: S176946: 7600 S183468: 7600 S182605: 7500 S189726: ...   \n",
       "19                                                                   6930   \n",
       "20                                                                      0   \n",
       "\n",
       "                                                               prediction  \\\n",
       "0                         None: 411100\\nA: 146712\\nC: 2456\\nM: 1198\\nR: 4   \n",
       "1   The 10 cases with the highest amount last are: 1. C15814 - 800000 ...   \n",
       "2   The percentage of cases which have paid nothing is approximately 5...   \n",
       "3   The percentage of cases which have appealed to the judge is approx...   \n",
       "4                                                                    1980   \n",
       "5                                                                      26   \n",
       "6                                                                   79860   \n",
       "7                     The lowest amount last found in the event log is 0.   \n",
       "8    The average maxtotalPaymentAmount per case is approximately 2396.58.   \n",
       "9                                                                    9383   \n",
       "10                                                                      0   \n",
       "11                                                                      3   \n",
       "12  The percentage of cases which have only partly paid is approximate...   \n",
       "13     The average outstanding balance per case is approximately 5571.35.   \n",
       "14                                                                     21   \n",
       "15  The percentage of cases which have paid without an obligation to p...   \n",
       "16  The case with the highest maxtotalPaymentAmount is S109961 with an...   \n",
       "17                                                                    104   \n",
       "18  The top 10 cases with the highest expense sum are: 1. S176946 - 76...   \n",
       "19                                                                   6930   \n",
       "20                                                                      0   \n",
       "\n",
       "   example_answer  \\\n",
       "0               2   \n",
       "1               2   \n",
       "2               2   \n",
       "3               2   \n",
       "4               2   \n",
       "5               2   \n",
       "6               2   \n",
       "7               2   \n",
       "8               2   \n",
       "9               2   \n",
       "10              2   \n",
       "11              2   \n",
       "12              2   \n",
       "13              2   \n",
       "14              0   \n",
       "15              2   \n",
       "16              2   \n",
       "17              2   \n",
       "18              2   \n",
       "19              2   \n",
       "20              2   \n",
       "\n",
       "                                                                reasoning  \\\n",
       "0   The prediction includes an additional category \"None: 411100\" whic...   \n",
       "1   The prediction lists the top 10 cases with the highest amounts, an...   \n",
       "2   The prediction states that the percentage of cases which have paid...   \n",
       "3   The solution states that the percentage of cases which have appeal...   \n",
       "4   The prediction matches the solution exactly in terms of content. B...   \n",
       "5   The prediction matches the solution exactly in terms of content. B...   \n",
       "6   The prediction matches the solution exactly in terms of numerical ...   \n",
       "7   The prediction states \"The lowest amount last found in the event l...   \n",
       "8   The prediction states that the average maxtotalPaymentAmount per c...   \n",
       "9   The prediction matches the solution exactly in terms of content. B...   \n",
       "10  The prediction matches the solution exactly. Both indicate that th...   \n",
       "11  The prediction matches the solution exactly in terms of content. B...   \n",
       "12  The prediction states that the percentage of cases which have only...   \n",
       "13  The prediction states that the average outstanding balance per cas...   \n",
       "14  The question asks for the number of cases with an overpaid amount ...   \n",
       "15  The prediction states that the percentage of cases which have paid...   \n",
       "16  The prediction correctly identifies the case number S109961 and th...   \n",
       "17  The prediction matches the solution exactly in terms of content. B...   \n",
       "18  The prediction provides a list of the top 10 cases with the highes...   \n",
       "19  The prediction matches the solution exactly in terms of content. B...   \n",
       "20  The prediction matches the solution exactly. Both the solution and...   \n",
       "\n",
       "   pred_answer answer_exact_match  \n",
       "0            2          ✔️ [True]  \n",
       "1            1                     \n",
       "2            2          ✔️ [True]  \n",
       "3            2          ✔️ [True]  \n",
       "4            2          ✔️ [True]  \n",
       "5            2          ✔️ [True]  \n",
       "6            2          ✔️ [True]  \n",
       "7            2          ✔️ [True]  \n",
       "8            2          ✔️ [True]  \n",
       "9            2          ✔️ [True]  \n",
       "10           2          ✔️ [True]  \n",
       "11           2          ✔️ [True]  \n",
       "12           2          ✔️ [True]  \n",
       "13           2          ✔️ [True]  \n",
       "14           0          ✔️ [True]  \n",
       "15           2          ✔️ [True]  \n",
       "16           2          ✔️ [True]  \n",
       "17           2          ✔️ [True]  \n",
       "18           2          ✔️ [True]  \n",
       "19           2          ✔️ [True]  \n",
       "20           2          ✔️ [True]  "
      ]
     },
     "metadata": {},
     "output_type": "display_data"
    }
   ],
   "source": [
    "score, outputs, scores = evaluate(program = judge, return_all_scores= True)"
   ]
  },
  {
   "cell_type": "code",
   "execution_count": null,
   "metadata": {},
   "outputs": [],
   "source": []
  },
  {
   "cell_type": "markdown",
   "metadata": {},
   "source": [
    "# Testing MIPROv2"
   ]
  },
  {
   "cell_type": "code",
   "execution_count": 13,
   "metadata": {},
   "outputs": [],
   "source": [
    "from dspy.teleprompt import MIPROv2"
   ]
  },
  {
   "cell_type": "code",
   "execution_count": 18,
   "metadata": {},
   "outputs": [],
   "source": [
    "teleprompter = MIPROv2(\n",
    "    metric=score_accuracy,\n",
    "    auto=\"medium\", # Can choose between light, medium, and heavy optimization runs\n",
    ")"
   ]
  },
  {
   "cell_type": "code",
   "execution_count": 19,
   "metadata": {},
   "outputs": [
    {
     "name": "stderr",
     "output_type": "stream",
     "text": [
      "2024/12/20 10:25:43 INFO dspy.teleprompt.mipro_optimizer_v2: \n",
      "RUNNING WITH THE FOLLOWING MEDIUM AUTO RUN SETTINGS:\n",
      "num_trials: 25\n",
      "minibatch: True\n",
      "num_candidates: 19\n",
      "valset size: 65\n",
      "\n",
      "2024/12/20 10:25:43 INFO dspy.teleprompt.mipro_optimizer_v2: \n",
      "==> STEP 1: BOOTSTRAP FEWSHOT EXAMPLES <==\n",
      "2024/12/20 10:25:43 INFO dspy.teleprompt.mipro_optimizer_v2: These will be used as few-shot example candidates for our program and for creating instructions.\n",
      "\n",
      "2024/12/20 10:25:43 INFO dspy.teleprompt.mipro_optimizer_v2: Bootstrapping N=19 sets of demonstrations...\n"
     ]
    },
    {
     "name": "stdout",
     "output_type": "stream",
     "text": [
      "Bootstrapping set 1/19\n",
      "Bootstrapping set 2/19\n"
     ]
    },
    {
     "name": "stderr",
     "output_type": "stream",
     "text": [
      " 18%|█▊        | 3/17 [00:02<00:12,  1.08it/s]\n"
     ]
    },
    {
     "name": "stdout",
     "output_type": "stream",
     "text": [
      "Bootstrapped 3 full traces after 3 examples for up to 1 rounds, amounting to 3 attempts.\n",
      "Bootstrapping set 3/19\n"
     ]
    },
    {
     "name": "stderr",
     "output_type": "stream",
     "text": [
      " 53%|█████▎    | 9/17 [00:10<00:09,  1.14s/it]\n"
     ]
    },
    {
     "name": "stdout",
     "output_type": "stream",
     "text": [
      "Bootstrapped 8 full traces after 9 examples for up to 1 rounds, amounting to 9 attempts.\n",
      "Bootstrapping set 4/19\n"
     ]
    },
    {
     "name": "stderr",
     "output_type": "stream",
     "text": [
      " 41%|████      | 7/17 [00:07<00:11,  1.14s/it]\n"
     ]
    },
    {
     "name": "stdout",
     "output_type": "stream",
     "text": [
      "Bootstrapped 6 full traces after 7 examples for up to 1 rounds, amounting to 7 attempts.\n",
      "Bootstrapping set 5/19\n"
     ]
    },
    {
     "name": "stderr",
     "output_type": "stream",
     "text": [
      "  6%|▌         | 1/17 [00:01<00:25,  1.60s/it]\n"
     ]
    },
    {
     "name": "stdout",
     "output_type": "stream",
     "text": [
      "Bootstrapped 1 full traces after 1 examples for up to 1 rounds, amounting to 1 attempts.\n",
      "Bootstrapping set 6/19\n"
     ]
    },
    {
     "name": "stderr",
     "output_type": "stream",
     "text": [
      " 47%|████▋     | 8/17 [00:10<00:11,  1.31s/it]\n"
     ]
    },
    {
     "name": "stdout",
     "output_type": "stream",
     "text": [
      "Bootstrapped 8 full traces after 8 examples for up to 1 rounds, amounting to 8 attempts.\n",
      "Bootstrapping set 7/19\n"
     ]
    },
    {
     "name": "stderr",
     "output_type": "stream",
     "text": [
      " 18%|█▊        | 3/17 [00:02<00:13,  1.07it/s]\n"
     ]
    },
    {
     "name": "stdout",
     "output_type": "stream",
     "text": [
      "Bootstrapped 3 full traces after 3 examples for up to 1 rounds, amounting to 3 attempts.\n",
      "Bootstrapping set 8/19\n"
     ]
    },
    {
     "name": "stderr",
     "output_type": "stream",
     "text": [
      "  6%|▌         | 1/17 [00:00<00:14,  1.10it/s]\n"
     ]
    },
    {
     "name": "stdout",
     "output_type": "stream",
     "text": [
      "Bootstrapped 1 full traces after 1 examples for up to 1 rounds, amounting to 1 attempts.\n",
      "Bootstrapping set 9/19\n"
     ]
    },
    {
     "name": "stderr",
     "output_type": "stream",
     "text": [
      " 47%|████▋     | 8/17 [00:09<00:10,  1.14s/it]\n"
     ]
    },
    {
     "name": "stdout",
     "output_type": "stream",
     "text": [
      "Bootstrapped 7 full traces after 8 examples for up to 1 rounds, amounting to 8 attempts.\n",
      "Bootstrapping set 10/19\n"
     ]
    },
    {
     "name": "stderr",
     "output_type": "stream",
     "text": [
      "  6%|▌         | 1/17 [00:00<00:14,  1.11it/s]\n"
     ]
    },
    {
     "name": "stdout",
     "output_type": "stream",
     "text": [
      "Bootstrapped 1 full traces after 1 examples for up to 1 rounds, amounting to 1 attempts.\n",
      "Bootstrapping set 11/19\n"
     ]
    },
    {
     "name": "stderr",
     "output_type": "stream",
     "text": [
      "  6%|▌         | 1/17 [00:00<00:14,  1.10it/s]\n"
     ]
    },
    {
     "name": "stdout",
     "output_type": "stream",
     "text": [
      "Bootstrapped 1 full traces after 1 examples for up to 1 rounds, amounting to 1 attempts.\n",
      "Bootstrapping set 12/19\n"
     ]
    },
    {
     "name": "stderr",
     "output_type": "stream",
     "text": [
      " 59%|█████▉    | 10/17 [00:11<00:08,  1.15s/it]\n"
     ]
    },
    {
     "name": "stdout",
     "output_type": "stream",
     "text": [
      "Bootstrapped 8 full traces after 10 examples for up to 1 rounds, amounting to 10 attempts.\n",
      "Bootstrapping set 13/19\n"
     ]
    },
    {
     "name": "stderr",
     "output_type": "stream",
     "text": [
      " 24%|██▎       | 4/17 [00:06<00:20,  1.61s/it]\n"
     ]
    },
    {
     "name": "stdout",
     "output_type": "stream",
     "text": [
      "Bootstrapped 4 full traces after 4 examples for up to 1 rounds, amounting to 4 attempts.\n",
      "Bootstrapping set 14/19\n"
     ]
    },
    {
     "name": "stderr",
     "output_type": "stream",
     "text": [
      " 12%|█▏        | 2/17 [00:01<00:14,  1.03it/s]\n"
     ]
    },
    {
     "name": "stdout",
     "output_type": "stream",
     "text": [
      "Bootstrapped 1 full traces after 2 examples for up to 1 rounds, amounting to 2 attempts.\n",
      "Bootstrapping set 15/19\n"
     ]
    },
    {
     "name": "stderr",
     "output_type": "stream",
     "text": [
      " 24%|██▎       | 4/17 [00:05<00:18,  1.43s/it]\n"
     ]
    },
    {
     "name": "stdout",
     "output_type": "stream",
     "text": [
      "Bootstrapped 3 full traces after 4 examples for up to 1 rounds, amounting to 4 attempts.\n",
      "Bootstrapping set 16/19\n"
     ]
    },
    {
     "name": "stderr",
     "output_type": "stream",
     "text": [
      "  6%|▌         | 1/17 [00:01<00:16,  1.01s/it]\n"
     ]
    },
    {
     "name": "stdout",
     "output_type": "stream",
     "text": [
      "Bootstrapped 1 full traces after 1 examples for up to 1 rounds, amounting to 1 attempts.\n",
      "Bootstrapping set 17/19\n"
     ]
    },
    {
     "name": "stderr",
     "output_type": "stream",
     "text": [
      "  6%|▌         | 1/17 [00:01<00:19,  1.24s/it]\n"
     ]
    },
    {
     "name": "stdout",
     "output_type": "stream",
     "text": [
      "Bootstrapped 1 full traces after 1 examples for up to 1 rounds, amounting to 1 attempts.\n",
      "Bootstrapping set 18/19\n"
     ]
    },
    {
     "name": "stderr",
     "output_type": "stream",
     "text": [
      " 29%|██▉       | 5/17 [00:06<00:16,  1.37s/it]\n"
     ]
    },
    {
     "name": "stdout",
     "output_type": "stream",
     "text": [
      "Bootstrapped 5 full traces after 5 examples for up to 1 rounds, amounting to 5 attempts.\n",
      "Bootstrapping set 19/19\n"
     ]
    },
    {
     "name": "stderr",
     "output_type": "stream",
     "text": [
      " 35%|███▌      | 6/17 [00:10<00:18,  1.72s/it]\n",
      "2024/12/20 10:27:16 INFO dspy.teleprompt.mipro_optimizer_v2: \n",
      "==> STEP 2: PROPOSE INSTRUCTION CANDIDATES <==\n",
      "2024/12/20 10:27:16 INFO dspy.teleprompt.mipro_optimizer_v2: We will use the few-shot examples from the previous step, a generated dataset summary, a summary of the program code, and a randomly selected prompting tip to propose instructions.\n"
     ]
    },
    {
     "name": "stdout",
     "output_type": "stream",
     "text": [
      "Bootstrapped 5 full traces after 6 examples for up to 1 rounds, amounting to 6 attempts.\n"
     ]
    },
    {
     "name": "stderr",
     "output_type": "stream",
     "text": [
      "2024/12/20 10:27:24 INFO dspy.teleprompt.mipro_optimizer_v2: \n",
      "Proposing instructions...\n",
      "\n",
      "2024/12/20 10:29:39 INFO dspy.teleprompt.mipro_optimizer_v2: Proposed Instructions for Predictor 0:\n",
      "\n",
      "2024/12/20 10:29:39 INFO dspy.teleprompt.mipro_optimizer_v2: 0: Assess how closely the Answer matches the prediction in relation to the question. Differences in formating are less important than the actual content. Plausible methods to arrive at the answer are not considered. Only consider the Answer and the Prediction + the Question, nothing else is relevant to you.\n",
      "\n",
      "2024/12/20 10:29:39 INFO dspy.teleprompt.mipro_optimizer_v2: 1: Evaluate the degree of accuracy between the provided prediction and the correct solution for a given question. Focus solely on the content of the prediction and the solution, disregarding any formatting differences or methodologies used to derive them. Your task is to determine if the prediction is completely incorrect (score 0), partially correct (score 1), or an exact match in content (score 2). Provide a detailed reasoning that explains your assessment based on the content comparison, and ensure that your evaluation considers only the Question, Solution, and Prediction as relevant inputs.\n",
      "\n",
      "2024/12/20 10:29:39 INFO dspy.teleprompt.mipro_optimizer_v2: 2: Imagine you are a legal analyst responsible for evaluating the accuracy of AI-generated predictions in high-stakes legal and financial scenarios. Your task is to critically assess how closely the prediction aligns with the provided solution for each question, focusing solely on the content rather than formatting. You must determine the accuracy of the prediction using a scoring system: 0 for completely incorrect, 1 for partially correct, and 2 for an exact match. Remember, your evaluation could significantly impact case outcomes and financial decisions, so precision is crucial. Consider only the Question, Prediction, and Solution provided to make your assessment, and provide a detailed reasoning for your score.\n",
      "\n",
      "2024/12/20 10:29:39 INFO dspy.teleprompt.mipro_optimizer_v2: 3: Imagine you are an AI model deployed in a critical financial or legal environment where accuracy is paramount. Your task is to evaluate predictions made by another AI model. For each query, you will receive a question, a solution, and a prediction. Your job is to determine how accurately the prediction answers the question, focusing solely on the content and disregarding formatting differences. The stakes are high, as your evaluation will directly impact decision-making processes in legal or financial case management. Assign a score of 0 if the prediction does not match the solution at all, 1 if it partially matches, and 2 if it is an exact content match. Provide reasoning for your score to ensure transparency and accountability in your assessment.\n",
      "\n",
      "2024/12/20 10:29:39 INFO dspy.teleprompt.mipro_optimizer_v2: 4: Evaluate the alignment between the given prediction and the correct solution for the specified question. Focus solely on the content accuracy of the prediction in relation to the solution, disregarding any formatting differences. Consider the prediction's ability to answer the question directly and accurately, without regard to the methods used to derive the answer. Assign a score based on the following criteria: 0 for completely incorrect predictions, 1 for partially correct predictions, and 2 for predictions that are an exact content match with the solution. Provide reasoning that justifies the assigned score, highlighting the key elements of the prediction that influenced your assessment.\n",
      "\n",
      "2024/12/20 10:29:39 INFO dspy.teleprompt.mipro_optimizer_v2: 5: Evaluate the accuracy of the prediction by comparing it to the solution, given the context of the question. Focus solely on the content of the prediction and solution, ignoring any formatting differences or methods used to derive the answer. Assign a score based on the following criteria: 0 if the prediction is completely incorrect, 1 if the prediction partially answers the question, and 2 if the prediction exactly matches the solution in terms of content. Provide reasoning for the score by explaining how the prediction aligns or deviates from the solution. Only the Question, Solution, and Prediction are relevant for this evaluation process.\n",
      "\n",
      "2024/12/20 10:29:39 INFO dspy.teleprompt.mipro_optimizer_v2: 6: Evaluate the accuracy of the prediction by comparing it to the solution in the context of the question provided. Focus solely on the content match between the prediction and the solution, disregarding any differences in formatting or the methods used to derive the prediction. Assign a score based on the content match: 0 for a complete mismatch, 1 for a partial match, and 2 for an exact match. Provide detailed reasoning for the score, explaining how the prediction aligns with or diverges from the solution with respect to the question. Your evaluation should strictly consider the question, prediction, and solution without any external context.\n",
      "\n",
      "2024/12/20 10:29:39 INFO dspy.teleprompt.mipro_optimizer_v2: 7: Evaluate the accuracy of the prediction by comparing it to the solution with respect to the given question. Focus solely on the content match and disregard any formatting differences or potential methods used to arrive at the answer. Your task is to determine how well the prediction aligns with the solution: assign a score of 0 if the prediction is completely incorrect, 1 if it partially answers the question, and 2 if it exactly matches the solution. Provide reasoning that explains your scoring decision, considering only the content of the Answer, Prediction, and Question.\n",
      "\n",
      "2024/12/20 10:29:39 INFO dspy.teleprompt.mipro_optimizer_v2: 8: Evaluate the accuracy of the prediction by comparing it to the solution, focusing solely on content rather than formatting. Assign a score based on the content match: 0 for no match, 1 for partial match, and 2 for an exact match. Use the question to guide your assessment, but disregard any other information or methods used to derive the prediction. Provide reasoning for the score assigned.\n",
      "\n",
      "2024/12/20 10:29:39 INFO dspy.teleprompt.mipro_optimizer_v2: 9: Evaluate the accuracy of the prediction by comparing it to the provided solution in the context of the given question. Focus solely on the content of the prediction and the solution, ignoring any differences in formatting or potential methods used to arrive at the prediction. Assign a score based on the level of content match: 0 if the prediction is completely incorrect, 1 if it partially answers the question, and 2 if it exactly matches the solution. Provide reasoning to justify the assigned score, considering only the question, solution, and prediction as relevant factors.\n",
      "\n",
      "2024/12/20 10:29:39 INFO dspy.teleprompt.mipro_optimizer_v2: 10: Evaluate the accuracy of the prediction in relation to the given question and solution. Focus on the content match between the prediction and the solution, ignoring formatting differences and any plausible alternative methods to arrive at the answer. Provide a reasoning for your evaluation and assign a score: 0 for absolutely incorrect, 1 for partially correct, and 2 for an exact content match. Only consider the question, solution, and prediction for your assessment.\n",
      "\n",
      "2024/12/20 10:29:39 INFO dspy.teleprompt.mipro_optimizer_v2: 11: Evaluate the accuracy of the prediction in relation to the given question and solution. Focus solely on the content of the prediction and solution, ignoring formatting differences or the method used to derive the prediction. Provide reasoning for your evaluation and assign a score of 0, 1, or 2, where 0 indicates the prediction is entirely incorrect, 1 indicates partial correctness, and 2 indicates an exact match in content. Only consider the question, solution, and prediction for your assessment.\n",
      "\n",
      "2024/12/20 10:29:39 INFO dspy.teleprompt.mipro_optimizer_v2: 12: Evaluate the accuracy of the prediction by comparing it to the solution for the given question. Focus solely on the content of the prediction and solution, disregarding any formatting differences or methods used to derive the answer. Assign a score based on the similarity: 0 for completely incorrect, 1 for a partial match, and 2 for an exact content match. Provide reasoning for the score assigned, ensuring it reflects the degree to which the prediction aligns with the solution.\n",
      "\n",
      "2024/12/20 10:29:39 INFO dspy.teleprompt.mipro_optimizer_v2: 13: Evaluate the degree of match between the predicted answer and the actual solution for a given question. Focus solely on the content accuracy, disregarding formatting differences. Your evaluation should not consider any methods used to derive the answer. Concentrate only on the question, the predicted answer, and the actual solution. Assign a score where 0 indicates no match, 1 indicates a partial match, and 2 indicates an exact match. Provide reasoning for your score based on content alignment.\n",
      "\n",
      "2024/12/20 10:29:39 INFO dspy.teleprompt.mipro_optimizer_v2: 14: Evaluate the accuracy of the prediction by comparing it to the solution based on the provided question. Focus on the content match between the prediction and the solution, disregarding formatting differences or the methods used to arrive at the prediction. Provide a reasoning for the assessment and assign a score: `0` for an incorrect prediction, `1` for a partially correct prediction, and `2` for an exact content match.\n",
      "\n",
      "2024/12/20 10:29:39 INFO dspy.teleprompt.mipro_optimizer_v2: 15: Imagine you are a legal analyst responsible for ensuring the accuracy of financial case reports that are critical for court proceedings. Your task is to evaluate how accurately a language model's prediction matches the official solution provided for a specific query. Focus solely on the content of the prediction in relation to the solution and the question. It is crucial that the prediction is evaluated precisely, as incorrect assessments could lead to significant legal and financial implications. Assign a score of 0 if the prediction is completely incorrect, 1 if it partially matches, and 2 if it is an exact content match. Document your reasoning for the score to maintain transparency and accountability in the evaluation process.\n",
      "\n",
      "2024/12/20 10:29:39 INFO dspy.teleprompt.mipro_optimizer_v2: 16: Evaluate the accuracy of the provided prediction by comparing it to the known solution for the given question. Focus solely on the content of the prediction and solution, disregarding differences in formatting or the methods used to arrive at the prediction. Assign a score based on how well the prediction matches the solution: 0 for incorrect, 1 for partially correct, and 2 for exactly correct. Provide reasoning to justify the assigned score.\n",
      "\n",
      "2024/12/20 10:29:39 INFO dspy.teleprompt.mipro_optimizer_v2: 17: Evaluate the alignment between the predicted answer and the provided solution for each question. Focus solely on the content accuracy of the prediction, disregarding formatting nuances or the methodologies used to derive the answer. Your task is to determine how well the prediction fulfills the question's requirements by comparing it directly to the solution. Assign a score based on content accuracy: 0 for incorrect, 1 for partial correctness, and 2 for exact correctness. Use only the Question, Solution, and Prediction to guide your assessment.\n",
      "\n",
      "2024/12/20 10:29:39 INFO dspy.teleprompt.mipro_optimizer_v2: 18: Evaluate the accuracy of the prediction by comparing it to the provided solution for the given question. Focus solely on the content to determine if the prediction is an exact match, a partial match, or incorrect, while ignoring formatting differences and reasoning methods. Assign a score of 0 for incorrect predictions, 1 for partial matches, and 2 for exact matches, and provide reasoning for your assessment. Only the content of the prediction, solution, and question should guide your evaluation.\n",
      "\n",
      "2024/12/20 10:29:39 INFO dspy.teleprompt.mipro_optimizer_v2: \n",
      "\n",
      "2024/12/20 10:29:39 INFO dspy.teleprompt.mipro_optimizer_v2: Evaluating the default program...\n",
      "\n"
     ]
    },
    {
     "name": "stdout",
     "output_type": "stream",
     "text": [
      "Average Metric: 63.00 / 65 (96.9%): 100%|██████████| 65/65 [00:15<00:00,  4.31it/s] "
     ]
    },
    {
     "name": "stderr",
     "output_type": "stream",
     "text": [
      "2024/12/20 10:29:54 INFO dspy.evaluate.evaluate: Average Metric: 63 / 65 (96.9%)\n",
      "2024/12/20 10:29:54 INFO dspy.teleprompt.mipro_optimizer_v2: Default program score: 96.92\n",
      "\n",
      "2024/12/20 10:29:54 INFO dspy.teleprompt.mipro_optimizer_v2: ==> STEP 3: FINDING OPTIMAL PROMPT PARAMETERS <==\n",
      "2024/12/20 10:29:54 INFO dspy.teleprompt.mipro_optimizer_v2: We will evaluate the program over a series of trials with different combinations of instructions and few-shot examples to find the optimal combination using Bayesian Optimization.\n",
      "\n",
      "/Users/sulzair/Documents/Bachelor Thesis/dspy_v2/dspy_v2/lib/python3.12/site-packages/optuna/_experimental.py:31: ExperimentalWarning: Argument ``multivariate`` is an experimental feature. The interface can change in the future.\n",
      "  warnings.warn(\n",
      "2024/12/20 10:29:54 INFO dspy.teleprompt.mipro_optimizer_v2: == Minibatch Trial 1 / 25 ==\n"
     ]
    },
    {
     "name": "stdout",
     "output_type": "stream",
     "text": [
      "\n",
      "Average Metric: 24.00 / 25 (96.0%): 100%|██████████| 25/25 [00:06<00:00,  4.07it/s] "
     ]
    },
    {
     "name": "stderr",
     "output_type": "stream",
     "text": [
      "2024/12/20 10:30:01 INFO dspy.evaluate.evaluate: Average Metric: 24 / 25 (96.0%)\n",
      "2024/12/20 10:30:01 INFO dspy.teleprompt.mipro_optimizer_v2: Score: 96.0 on minibatch of size 25 with parameters ['Predictor 0: Instruction 12', 'Predictor 0: Few-Shot Set 7'].\n",
      "2024/12/20 10:30:01 INFO dspy.teleprompt.mipro_optimizer_v2: Minibatch scores so far: [96.0]\n",
      "2024/12/20 10:30:01 INFO dspy.teleprompt.mipro_optimizer_v2: Full eval scores so far: [96.92]\n",
      "2024/12/20 10:30:01 INFO dspy.teleprompt.mipro_optimizer_v2: Best full score so far: 96.92\n",
      "2024/12/20 10:30:01 INFO dspy.teleprompt.mipro_optimizer_v2: ============================\n",
      "\n",
      "\n",
      "2024/12/20 10:30:01 INFO dspy.teleprompt.mipro_optimizer_v2: == Minibatch Trial 2 / 25 ==\n"
     ]
    },
    {
     "name": "stdout",
     "output_type": "stream",
     "text": [
      "\n",
      "Average Metric: 24.00 / 25 (96.0%): 100%|██████████| 25/25 [00:04<00:00,  5.01it/s] "
     ]
    },
    {
     "name": "stderr",
     "output_type": "stream",
     "text": [
      "2024/12/20 10:30:06 INFO dspy.evaluate.evaluate: Average Metric: 24 / 25 (96.0%)\n",
      "2024/12/20 10:30:06 INFO dspy.teleprompt.mipro_optimizer_v2: Score: 96.0 on minibatch of size 25 with parameters ['Predictor 0: Instruction 10', 'Predictor 0: Few-Shot Set 7'].\n",
      "2024/12/20 10:30:06 INFO dspy.teleprompt.mipro_optimizer_v2: Minibatch scores so far: [96.0, 96.0]\n",
      "2024/12/20 10:30:06 INFO dspy.teleprompt.mipro_optimizer_v2: Full eval scores so far: [96.92]\n",
      "2024/12/20 10:30:06 INFO dspy.teleprompt.mipro_optimizer_v2: Best full score so far: 96.92\n",
      "2024/12/20 10:30:06 INFO dspy.teleprompt.mipro_optimizer_v2: ============================\n",
      "\n",
      "\n",
      "2024/12/20 10:30:06 INFO dspy.teleprompt.mipro_optimizer_v2: == Minibatch Trial 3 / 25 ==\n"
     ]
    },
    {
     "name": "stdout",
     "output_type": "stream",
     "text": [
      "\n",
      "Average Metric: 25.00 / 25 (100.0%): 100%|██████████| 25/25 [00:06<00:00,  3.60it/s]"
     ]
    },
    {
     "name": "stderr",
     "output_type": "stream",
     "text": [
      "2024/12/20 10:30:13 INFO dspy.evaluate.evaluate: Average Metric: 25 / 25 (100.0%)\n",
      "2024/12/20 10:30:13 INFO dspy.teleprompt.mipro_optimizer_v2: Score: 100.0 on minibatch of size 25 with parameters ['Predictor 0: Instruction 7', 'Predictor 0: Few-Shot Set 18'].\n",
      "2024/12/20 10:30:13 INFO dspy.teleprompt.mipro_optimizer_v2: Minibatch scores so far: [96.0, 96.0, 100.0]\n",
      "2024/12/20 10:30:13 INFO dspy.teleprompt.mipro_optimizer_v2: Full eval scores so far: [96.92]\n",
      "2024/12/20 10:30:13 INFO dspy.teleprompt.mipro_optimizer_v2: Best full score so far: 96.92\n",
      "2024/12/20 10:30:13 INFO dspy.teleprompt.mipro_optimizer_v2: ============================\n",
      "\n",
      "\n",
      "2024/12/20 10:30:13 INFO dspy.teleprompt.mipro_optimizer_v2: == Minibatch Trial 4 / 25 ==\n"
     ]
    },
    {
     "name": "stdout",
     "output_type": "stream",
     "text": [
      "\n",
      "Average Metric: 24.00 / 25 (96.0%): 100%|██████████| 25/25 [00:05<00:00,  4.36it/s] "
     ]
    },
    {
     "name": "stderr",
     "output_type": "stream",
     "text": [
      "2024/12/20 10:30:18 INFO dspy.evaluate.evaluate: Average Metric: 24 / 25 (96.0%)\n",
      "2024/12/20 10:30:18 INFO dspy.teleprompt.mipro_optimizer_v2: Score: 96.0 on minibatch of size 25 with parameters ['Predictor 0: Instruction 15', 'Predictor 0: Few-Shot Set 2'].\n",
      "2024/12/20 10:30:18 INFO dspy.teleprompt.mipro_optimizer_v2: Minibatch scores so far: [96.0, 96.0, 100.0, 96.0]\n",
      "2024/12/20 10:30:18 INFO dspy.teleprompt.mipro_optimizer_v2: Full eval scores so far: [96.92]\n",
      "2024/12/20 10:30:18 INFO dspy.teleprompt.mipro_optimizer_v2: Best full score so far: 96.92\n",
      "2024/12/20 10:30:18 INFO dspy.teleprompt.mipro_optimizer_v2: ============================\n",
      "\n",
      "\n",
      "2024/12/20 10:30:18 INFO dspy.teleprompt.mipro_optimizer_v2: == Minibatch Trial 5 / 25 ==\n"
     ]
    },
    {
     "name": "stdout",
     "output_type": "stream",
     "text": [
      "\n",
      "Average Metric: 22.00 / 25 (88.0%): 100%|██████████| 25/25 [00:06<00:00,  3.75it/s]"
     ]
    },
    {
     "name": "stderr",
     "output_type": "stream",
     "text": [
      "2024/12/20 10:30:25 INFO dspy.evaluate.evaluate: Average Metric: 22 / 25 (88.0%)\n",
      "2024/12/20 10:30:25 INFO dspy.teleprompt.mipro_optimizer_v2: Score: 88.0 on minibatch of size 25 with parameters ['Predictor 0: Instruction 8', 'Predictor 0: Few-Shot Set 18'].\n",
      "2024/12/20 10:30:25 INFO dspy.teleprompt.mipro_optimizer_v2: Minibatch scores so far: [96.0, 96.0, 100.0, 96.0, 88.0]\n",
      "2024/12/20 10:30:25 INFO dspy.teleprompt.mipro_optimizer_v2: Full eval scores so far: [96.92]\n",
      "2024/12/20 10:30:25 INFO dspy.teleprompt.mipro_optimizer_v2: Best full score so far: 96.92\n",
      "2024/12/20 10:30:25 INFO dspy.teleprompt.mipro_optimizer_v2: ============================\n",
      "\n",
      "\n",
      "2024/12/20 10:30:25 INFO dspy.teleprompt.mipro_optimizer_v2: == Minibatch Trial 6 / 25 ==\n"
     ]
    },
    {
     "name": "stdout",
     "output_type": "stream",
     "text": [
      "\n",
      "Average Metric: 25.00 / 25 (100.0%): 100%|██████████| 25/25 [00:05<00:00,  4.70it/s]"
     ]
    },
    {
     "name": "stderr",
     "output_type": "stream",
     "text": [
      "2024/12/20 10:30:31 INFO dspy.evaluate.evaluate: Average Metric: 25 / 25 (100.0%)\n",
      "2024/12/20 10:30:31 INFO dspy.teleprompt.mipro_optimizer_v2: Score: 100.0 on minibatch of size 25 with parameters ['Predictor 0: Instruction 7', 'Predictor 0: Few-Shot Set 1'].\n",
      "2024/12/20 10:30:31 INFO dspy.teleprompt.mipro_optimizer_v2: Minibatch scores so far: [96.0, 96.0, 100.0, 96.0, 88.0, 100.0]\n",
      "2024/12/20 10:30:31 INFO dspy.teleprompt.mipro_optimizer_v2: Full eval scores so far: [96.92]\n",
      "2024/12/20 10:30:31 INFO dspy.teleprompt.mipro_optimizer_v2: Best full score so far: 96.92\n",
      "2024/12/20 10:30:31 INFO dspy.teleprompt.mipro_optimizer_v2: ============================\n",
      "\n",
      "\n",
      "2024/12/20 10:30:31 INFO dspy.teleprompt.mipro_optimizer_v2: == Minibatch Trial 7 / 25 ==\n"
     ]
    },
    {
     "name": "stdout",
     "output_type": "stream",
     "text": [
      "\n",
      "Average Metric: 24.00 / 25 (96.0%): 100%|██████████| 25/25 [00:05<00:00,  4.35it/s] "
     ]
    },
    {
     "name": "stderr",
     "output_type": "stream",
     "text": [
      "2024/12/20 10:30:36 INFO dspy.evaluate.evaluate: Average Metric: 24 / 25 (96.0%)\n",
      "2024/12/20 10:30:36 INFO dspy.teleprompt.mipro_optimizer_v2: Score: 96.0 on minibatch of size 25 with parameters ['Predictor 0: Instruction 7', 'Predictor 0: Few-Shot Set 12'].\n",
      "2024/12/20 10:30:36 INFO dspy.teleprompt.mipro_optimizer_v2: Minibatch scores so far: [96.0, 96.0, 100.0, 96.0, 88.0, 100.0, 96.0]\n",
      "2024/12/20 10:30:36 INFO dspy.teleprompt.mipro_optimizer_v2: Full eval scores so far: [96.92]\n",
      "2024/12/20 10:30:36 INFO dspy.teleprompt.mipro_optimizer_v2: Best full score so far: 96.92\n",
      "2024/12/20 10:30:36 INFO dspy.teleprompt.mipro_optimizer_v2: ============================\n",
      "\n",
      "\n",
      "2024/12/20 10:30:36 INFO dspy.teleprompt.mipro_optimizer_v2: == Minibatch Trial 8 / 25 ==\n"
     ]
    },
    {
     "name": "stdout",
     "output_type": "stream",
     "text": [
      "\n",
      "Average Metric: 24.00 / 25 (96.0%): 100%|██████████| 25/25 [00:07<00:00,  3.57it/s] "
     ]
    },
    {
     "name": "stderr",
     "output_type": "stream",
     "text": [
      "2024/12/20 10:30:43 INFO dspy.evaluate.evaluate: Average Metric: 24 / 25 (96.0%)\n",
      "2024/12/20 10:30:43 INFO dspy.teleprompt.mipro_optimizer_v2: Score: 96.0 on minibatch of size 25 with parameters ['Predictor 0: Instruction 11', 'Predictor 0: Few-Shot Set 13'].\n",
      "2024/12/20 10:30:43 INFO dspy.teleprompt.mipro_optimizer_v2: Minibatch scores so far: [96.0, 96.0, 100.0, 96.0, 88.0, 100.0, 96.0, 96.0]\n",
      "2024/12/20 10:30:43 INFO dspy.teleprompt.mipro_optimizer_v2: Full eval scores so far: [96.92]\n",
      "2024/12/20 10:30:43 INFO dspy.teleprompt.mipro_optimizer_v2: Best full score so far: 96.92\n",
      "2024/12/20 10:30:43 INFO dspy.teleprompt.mipro_optimizer_v2: ============================\n",
      "\n",
      "\n",
      "2024/12/20 10:30:43 INFO dspy.teleprompt.mipro_optimizer_v2: == Minibatch Trial 9 / 25 ==\n"
     ]
    },
    {
     "name": "stdout",
     "output_type": "stream",
     "text": [
      "\n",
      "Average Metric: 23.00 / 25 (92.0%): 100%|██████████| 25/25 [00:06<00:00,  4.00it/s] "
     ]
    },
    {
     "name": "stderr",
     "output_type": "stream",
     "text": [
      "2024/12/20 10:30:50 INFO dspy.evaluate.evaluate: Average Metric: 23 / 25 (92.0%)\n",
      "2024/12/20 10:30:50 INFO dspy.teleprompt.mipro_optimizer_v2: Score: 92.0 on minibatch of size 25 with parameters ['Predictor 0: Instruction 5', 'Predictor 0: Few-Shot Set 4'].\n",
      "2024/12/20 10:30:50 INFO dspy.teleprompt.mipro_optimizer_v2: Minibatch scores so far: [96.0, 96.0, 100.0, 96.0, 88.0, 100.0, 96.0, 96.0, 92.0]\n",
      "2024/12/20 10:30:50 INFO dspy.teleprompt.mipro_optimizer_v2: Full eval scores so far: [96.92]\n",
      "2024/12/20 10:30:50 INFO dspy.teleprompt.mipro_optimizer_v2: Best full score so far: 96.92\n",
      "2024/12/20 10:30:50 INFO dspy.teleprompt.mipro_optimizer_v2: ============================\n",
      "\n",
      "\n",
      "2024/12/20 10:30:50 INFO dspy.teleprompt.mipro_optimizer_v2: == Minibatch Trial 10 / 25 ==\n"
     ]
    },
    {
     "name": "stdout",
     "output_type": "stream",
     "text": [
      "\n",
      "Average Metric: 24.00 / 25 (96.0%): 100%|██████████| 25/25 [00:05<00:00,  4.26it/s] "
     ]
    },
    {
     "name": "stderr",
     "output_type": "stream",
     "text": [
      "2024/12/20 10:30:56 INFO dspy.evaluate.evaluate: Average Metric: 24 / 25 (96.0%)\n",
      "2024/12/20 10:30:56 INFO dspy.teleprompt.mipro_optimizer_v2: Score: 96.0 on minibatch of size 25 with parameters ['Predictor 0: Instruction 14', 'Predictor 0: Few-Shot Set 1'].\n",
      "2024/12/20 10:30:56 INFO dspy.teleprompt.mipro_optimizer_v2: Minibatch scores so far: [96.0, 96.0, 100.0, 96.0, 88.0, 100.0, 96.0, 96.0, 92.0, 96.0]\n",
      "2024/12/20 10:30:56 INFO dspy.teleprompt.mipro_optimizer_v2: Full eval scores so far: [96.92]\n",
      "2024/12/20 10:30:56 INFO dspy.teleprompt.mipro_optimizer_v2: Best full score so far: 96.92\n",
      "2024/12/20 10:30:56 INFO dspy.teleprompt.mipro_optimizer_v2: =============================\n",
      "\n",
      "\n",
      "2024/12/20 10:30:56 INFO dspy.teleprompt.mipro_optimizer_v2: ===== Full Eval 1 =====\n",
      "2024/12/20 10:30:56 INFO dspy.teleprompt.mipro_optimizer_v2: Doing full eval on next top averaging program (Avg Score: 100.0) from minibatch trials...\n"
     ]
    },
    {
     "name": "stdout",
     "output_type": "stream",
     "text": [
      "\n",
      "Average Metric: 60.00 / 65 (92.3%): 100%|██████████| 65/65 [00:15<00:00,  4.16it/s] "
     ]
    },
    {
     "name": "stderr",
     "output_type": "stream",
     "text": [
      "2024/12/20 10:31:11 INFO dspy.evaluate.evaluate: Average Metric: 60 / 65 (92.3%)\n",
      "2024/12/20 10:31:11 INFO dspy.teleprompt.mipro_optimizer_v2: Full eval scores so far: [96.92, 92.31]\n",
      "2024/12/20 10:31:11 INFO dspy.teleprompt.mipro_optimizer_v2: Best full score so far: 96.92\n",
      "2024/12/20 10:31:11 INFO dspy.teleprompt.mipro_optimizer_v2: =======================\n",
      "2024/12/20 10:31:11 INFO dspy.teleprompt.mipro_optimizer_v2: \n",
      "\n",
      "2024/12/20 10:31:11 INFO dspy.teleprompt.mipro_optimizer_v2: == Minibatch Trial 11 / 25 ==\n"
     ]
    },
    {
     "name": "stdout",
     "output_type": "stream",
     "text": [
      "\n",
      "Average Metric: 23.00 / 25 (92.0%): 100%|██████████| 25/25 [00:09<00:00,  2.61it/s] "
     ]
    },
    {
     "name": "stderr",
     "output_type": "stream",
     "text": [
      "2024/12/20 10:31:21 INFO dspy.evaluate.evaluate: Average Metric: 23 / 25 (92.0%)\n",
      "2024/12/20 10:31:21 INFO dspy.teleprompt.mipro_optimizer_v2: Score: 92.0 on minibatch of size 25 with parameters ['Predictor 0: Instruction 7', 'Predictor 0: Few-Shot Set 18'].\n",
      "2024/12/20 10:31:21 INFO dspy.teleprompt.mipro_optimizer_v2: Minibatch scores so far: [96.0, 96.0, 100.0, 96.0, 88.0, 100.0, 96.0, 96.0, 92.0, 96.0, 92.0]\n",
      "2024/12/20 10:31:21 INFO dspy.teleprompt.mipro_optimizer_v2: Full eval scores so far: [96.92, 92.31]\n",
      "2024/12/20 10:31:21 INFO dspy.teleprompt.mipro_optimizer_v2: Best full score so far: 96.92\n",
      "2024/12/20 10:31:21 INFO dspy.teleprompt.mipro_optimizer_v2: =============================\n",
      "\n",
      "\n",
      "2024/12/20 10:31:21 INFO dspy.teleprompt.mipro_optimizer_v2: == Minibatch Trial 12 / 25 ==\n"
     ]
    },
    {
     "name": "stdout",
     "output_type": "stream",
     "text": [
      "\n",
      "Average Metric: 24.00 / 25 (96.0%): 100%|██████████| 25/25 [00:05<00:00,  4.26it/s] "
     ]
    },
    {
     "name": "stderr",
     "output_type": "stream",
     "text": [
      "2024/12/20 10:31:27 INFO dspy.evaluate.evaluate: Average Metric: 24 / 25 (96.0%)\n",
      "2024/12/20 10:31:27 INFO dspy.teleprompt.mipro_optimizer_v2: Score: 96.0 on minibatch of size 25 with parameters ['Predictor 0: Instruction 7', 'Predictor 0: Few-Shot Set 14'].\n",
      "2024/12/20 10:31:27 INFO dspy.teleprompt.mipro_optimizer_v2: Minibatch scores so far: [96.0, 96.0, 100.0, 96.0, 88.0, 100.0, 96.0, 96.0, 92.0, 96.0, 92.0, 96.0]\n",
      "2024/12/20 10:31:27 INFO dspy.teleprompt.mipro_optimizer_v2: Full eval scores so far: [96.92, 92.31]\n",
      "2024/12/20 10:31:27 INFO dspy.teleprompt.mipro_optimizer_v2: Best full score so far: 96.92\n",
      "2024/12/20 10:31:27 INFO dspy.teleprompt.mipro_optimizer_v2: =============================\n",
      "\n",
      "\n",
      "2024/12/20 10:31:27 INFO dspy.teleprompt.mipro_optimizer_v2: == Minibatch Trial 13 / 25 ==\n"
     ]
    },
    {
     "name": "stdout",
     "output_type": "stream",
     "text": [
      "\n",
      "Average Metric: 23.00 / 25 (92.0%): 100%|██████████| 25/25 [00:06<00:00,  4.06it/s]"
     ]
    },
    {
     "name": "stderr",
     "output_type": "stream",
     "text": [
      "2024/12/20 10:31:33 INFO dspy.evaluate.evaluate: Average Metric: 23 / 25 (92.0%)\n",
      "2024/12/20 10:31:33 INFO dspy.teleprompt.mipro_optimizer_v2: Score: 92.0 on minibatch of size 25 with parameters ['Predictor 0: Instruction 7', 'Predictor 0: Few-Shot Set 1'].\n",
      "2024/12/20 10:31:33 INFO dspy.teleprompt.mipro_optimizer_v2: Minibatch scores so far: [96.0, 96.0, 100.0, 96.0, 88.0, 100.0, 96.0, 96.0, 92.0, 96.0, 92.0, 96.0, 92.0]\n",
      "2024/12/20 10:31:33 INFO dspy.teleprompt.mipro_optimizer_v2: Full eval scores so far: [96.92, 92.31]\n",
      "2024/12/20 10:31:33 INFO dspy.teleprompt.mipro_optimizer_v2: Best full score so far: 96.92\n",
      "2024/12/20 10:31:33 INFO dspy.teleprompt.mipro_optimizer_v2: =============================\n",
      "\n",
      "\n",
      "2024/12/20 10:31:33 INFO dspy.teleprompt.mipro_optimizer_v2: == Minibatch Trial 14 / 25 ==\n"
     ]
    },
    {
     "name": "stdout",
     "output_type": "stream",
     "text": [
      "\n",
      "Average Metric: 25.00 / 25 (100.0%): 100%|██████████| 25/25 [00:07<00:00,  3.13it/s]"
     ]
    },
    {
     "name": "stderr",
     "output_type": "stream",
     "text": [
      "2024/12/20 10:31:41 INFO dspy.evaluate.evaluate: Average Metric: 25 / 25 (100.0%)\n",
      "2024/12/20 10:31:41 INFO dspy.teleprompt.mipro_optimizer_v2: Score: 100.0 on minibatch of size 25 with parameters ['Predictor 0: Instruction 9', 'Predictor 0: Few-Shot Set 10'].\n",
      "2024/12/20 10:31:41 INFO dspy.teleprompt.mipro_optimizer_v2: Minibatch scores so far: [96.0, 96.0, 100.0, 96.0, 88.0, 100.0, 96.0, 96.0, 92.0, 96.0, 92.0, 96.0, 92.0, 100.0]\n",
      "2024/12/20 10:31:41 INFO dspy.teleprompt.mipro_optimizer_v2: Full eval scores so far: [96.92, 92.31]\n",
      "2024/12/20 10:31:41 INFO dspy.teleprompt.mipro_optimizer_v2: Best full score so far: 96.92\n",
      "2024/12/20 10:31:41 INFO dspy.teleprompt.mipro_optimizer_v2: =============================\n",
      "\n",
      "\n",
      "2024/12/20 10:31:41 INFO dspy.teleprompt.mipro_optimizer_v2: == Minibatch Trial 15 / 25 ==\n"
     ]
    },
    {
     "name": "stdout",
     "output_type": "stream",
     "text": [
      "\n",
      "Average Metric: 23.00 / 25 (92.0%): 100%|██████████| 25/25 [00:06<00:00,  3.96it/s] "
     ]
    },
    {
     "name": "stderr",
     "output_type": "stream",
     "text": [
      "2024/12/20 10:31:48 INFO dspy.evaluate.evaluate: Average Metric: 23 / 25 (92.0%)\n",
      "2024/12/20 10:31:48 INFO dspy.teleprompt.mipro_optimizer_v2: Score: 92.0 on minibatch of size 25 with parameters ['Predictor 0: Instruction 2', 'Predictor 0: Few-Shot Set 5'].\n",
      "2024/12/20 10:31:48 INFO dspy.teleprompt.mipro_optimizer_v2: Minibatch scores so far: [96.0, 96.0, 100.0, 96.0, 88.0, 100.0, 96.0, 96.0, 92.0, 96.0, 92.0, 96.0, 92.0, 100.0, 92.0]\n",
      "2024/12/20 10:31:48 INFO dspy.teleprompt.mipro_optimizer_v2: Full eval scores so far: [96.92, 92.31]\n",
      "2024/12/20 10:31:48 INFO dspy.teleprompt.mipro_optimizer_v2: Best full score so far: 96.92\n",
      "2024/12/20 10:31:48 INFO dspy.teleprompt.mipro_optimizer_v2: =============================\n",
      "\n",
      "\n",
      "2024/12/20 10:31:48 INFO dspy.teleprompt.mipro_optimizer_v2: == Minibatch Trial 16 / 25 ==\n"
     ]
    },
    {
     "name": "stdout",
     "output_type": "stream",
     "text": [
      "\n",
      "Average Metric: 24.00 / 25 (96.0%): 100%|██████████| 25/25 [00:06<00:00,  4.13it/s] "
     ]
    },
    {
     "name": "stderr",
     "output_type": "stream",
     "text": [
      "2024/12/20 10:31:54 INFO dspy.evaluate.evaluate: Average Metric: 24 / 25 (96.0%)\n",
      "2024/12/20 10:31:54 INFO dspy.teleprompt.mipro_optimizer_v2: Score: 96.0 on minibatch of size 25 with parameters ['Predictor 0: Instruction 13', 'Predictor 0: Few-Shot Set 3'].\n",
      "2024/12/20 10:31:54 INFO dspy.teleprompt.mipro_optimizer_v2: Minibatch scores so far: [96.0, 96.0, 100.0, 96.0, 88.0, 100.0, 96.0, 96.0, 92.0, 96.0, 92.0, 96.0, 92.0, 100.0, 92.0, 96.0]\n",
      "2024/12/20 10:31:54 INFO dspy.teleprompt.mipro_optimizer_v2: Full eval scores so far: [96.92, 92.31]\n",
      "2024/12/20 10:31:54 INFO dspy.teleprompt.mipro_optimizer_v2: Best full score so far: 96.92\n",
      "2024/12/20 10:31:54 INFO dspy.teleprompt.mipro_optimizer_v2: =============================\n",
      "\n",
      "\n",
      "2024/12/20 10:31:54 INFO dspy.teleprompt.mipro_optimizer_v2: == Minibatch Trial 17 / 25 ==\n"
     ]
    },
    {
     "name": "stdout",
     "output_type": "stream",
     "text": [
      "\n",
      "Average Metric: 24.00 / 25 (96.0%): 100%|██████████| 25/25 [00:06<00:00,  3.92it/s] "
     ]
    },
    {
     "name": "stderr",
     "output_type": "stream",
     "text": [
      "2024/12/20 10:32:00 INFO dspy.evaluate.evaluate: Average Metric: 24 / 25 (96.0%)\n",
      "2024/12/20 10:32:00 INFO dspy.teleprompt.mipro_optimizer_v2: Score: 96.0 on minibatch of size 25 with parameters ['Predictor 0: Instruction 16', 'Predictor 0: Few-Shot Set 6'].\n",
      "2024/12/20 10:32:00 INFO dspy.teleprompt.mipro_optimizer_v2: Minibatch scores so far: [96.0, 96.0, 100.0, 96.0, 88.0, 100.0, 96.0, 96.0, 92.0, 96.0, 92.0, 96.0, 92.0, 100.0, 92.0, 96.0, 96.0]\n",
      "2024/12/20 10:32:00 INFO dspy.teleprompt.mipro_optimizer_v2: Full eval scores so far: [96.92, 92.31]\n",
      "2024/12/20 10:32:00 INFO dspy.teleprompt.mipro_optimizer_v2: Best full score so far: 96.92\n",
      "2024/12/20 10:32:00 INFO dspy.teleprompt.mipro_optimizer_v2: =============================\n",
      "\n",
      "\n",
      "2024/12/20 10:32:00 INFO dspy.teleprompt.mipro_optimizer_v2: == Minibatch Trial 18 / 25 ==\n"
     ]
    },
    {
     "name": "stdout",
     "output_type": "stream",
     "text": [
      "\n",
      "Average Metric: 25.00 / 25 (100.0%): 100%|██████████| 25/25 [00:04<00:00,  5.20it/s]"
     ]
    },
    {
     "name": "stderr",
     "output_type": "stream",
     "text": [
      "2024/12/20 10:32:05 INFO dspy.evaluate.evaluate: Average Metric: 25 / 25 (100.0%)\n",
      "2024/12/20 10:32:05 INFO dspy.teleprompt.mipro_optimizer_v2: Score: 100.0 on minibatch of size 25 with parameters ['Predictor 0: Instruction 0', 'Predictor 0: Few-Shot Set 9'].\n",
      "2024/12/20 10:32:05 INFO dspy.teleprompt.mipro_optimizer_v2: Minibatch scores so far: [96.0, 96.0, 100.0, 96.0, 88.0, 100.0, 96.0, 96.0, 92.0, 96.0, 92.0, 96.0, 92.0, 100.0, 92.0, 96.0, 96.0, 100.0]\n",
      "2024/12/20 10:32:05 INFO dspy.teleprompt.mipro_optimizer_v2: Full eval scores so far: [96.92, 92.31]\n",
      "2024/12/20 10:32:05 INFO dspy.teleprompt.mipro_optimizer_v2: Best full score so far: 96.92\n",
      "2024/12/20 10:32:05 INFO dspy.teleprompt.mipro_optimizer_v2: =============================\n",
      "\n",
      "\n",
      "2024/12/20 10:32:05 INFO dspy.teleprompt.mipro_optimizer_v2: == Minibatch Trial 19 / 25 ==\n"
     ]
    },
    {
     "name": "stdout",
     "output_type": "stream",
     "text": [
      "\n",
      "Average Metric: 24.00 / 25 (96.0%): 100%|██████████| 25/25 [00:05<00:00,  4.58it/s]"
     ]
    },
    {
     "name": "stderr",
     "output_type": "stream",
     "text": [
      "2024/12/20 10:32:11 INFO dspy.evaluate.evaluate: Average Metric: 24 / 25 (96.0%)\n",
      "2024/12/20 10:32:11 INFO dspy.teleprompt.mipro_optimizer_v2: Score: 96.0 on minibatch of size 25 with parameters ['Predictor 0: Instruction 1', 'Predictor 0: Few-Shot Set 1'].\n",
      "2024/12/20 10:32:11 INFO dspy.teleprompt.mipro_optimizer_v2: Minibatch scores so far: [96.0, 96.0, 100.0, 96.0, 88.0, 100.0, 96.0, 96.0, 92.0, 96.0, 92.0, 96.0, 92.0, 100.0, 92.0, 96.0, 96.0, 100.0, 96.0]\n",
      "2024/12/20 10:32:11 INFO dspy.teleprompt.mipro_optimizer_v2: Full eval scores so far: [96.92, 92.31]\n",
      "2024/12/20 10:32:11 INFO dspy.teleprompt.mipro_optimizer_v2: Best full score so far: 96.92\n",
      "2024/12/20 10:32:11 INFO dspy.teleprompt.mipro_optimizer_v2: =============================\n",
      "\n",
      "\n",
      "2024/12/20 10:32:11 INFO dspy.teleprompt.mipro_optimizer_v2: == Minibatch Trial 20 / 25 ==\n"
     ]
    },
    {
     "name": "stdout",
     "output_type": "stream",
     "text": [
      "\n",
      "Average Metric: 24.00 / 25 (96.0%): 100%|██████████| 25/25 [00:06<00:00,  4.09it/s]"
     ]
    },
    {
     "name": "stderr",
     "output_type": "stream",
     "text": [
      "2024/12/20 10:32:17 INFO dspy.evaluate.evaluate: Average Metric: 24 / 25 (96.0%)\n",
      "2024/12/20 10:32:17 INFO dspy.teleprompt.mipro_optimizer_v2: Score: 96.0 on minibatch of size 25 with parameters ['Predictor 0: Instruction 7', 'Predictor 0: Few-Shot Set 8'].\n",
      "2024/12/20 10:32:17 INFO dspy.teleprompt.mipro_optimizer_v2: Minibatch scores so far: [96.0, 96.0, 100.0, 96.0, 88.0, 100.0, 96.0, 96.0, 92.0, 96.0, 92.0, 96.0, 92.0, 100.0, 92.0, 96.0, 96.0, 100.0, 96.0, 96.0]\n",
      "2024/12/20 10:32:17 INFO dspy.teleprompt.mipro_optimizer_v2: Full eval scores so far: [96.92, 92.31]\n",
      "2024/12/20 10:32:17 INFO dspy.teleprompt.mipro_optimizer_v2: Best full score so far: 96.92\n",
      "2024/12/20 10:32:17 INFO dspy.teleprompt.mipro_optimizer_v2: =============================\n",
      "\n",
      "\n",
      "2024/12/20 10:32:17 INFO dspy.teleprompt.mipro_optimizer_v2: ===== Full Eval 2 =====\n",
      "2024/12/20 10:32:17 INFO dspy.teleprompt.mipro_optimizer_v2: Doing full eval on next top averaging program (Avg Score: 100.0) from minibatch trials...\n"
     ]
    },
    {
     "name": "stdout",
     "output_type": "stream",
     "text": [
      "\n",
      "Average Metric: 62.00 / 65 (95.4%): 100%|██████████| 65/65 [00:15<00:00,  4.30it/s] "
     ]
    },
    {
     "name": "stderr",
     "output_type": "stream",
     "text": [
      "2024/12/20 10:32:32 INFO dspy.evaluate.evaluate: Average Metric: 62 / 65 (95.4%)\n",
      "2024/12/20 10:32:32 INFO dspy.teleprompt.mipro_optimizer_v2: Full eval scores so far: [96.92, 92.31, 95.38]\n",
      "2024/12/20 10:32:32 INFO dspy.teleprompt.mipro_optimizer_v2: Best full score so far: 96.92\n",
      "2024/12/20 10:32:32 INFO dspy.teleprompt.mipro_optimizer_v2: =======================\n",
      "2024/12/20 10:32:32 INFO dspy.teleprompt.mipro_optimizer_v2: \n",
      "\n",
      "2024/12/20 10:32:32 INFO dspy.teleprompt.mipro_optimizer_v2: == Minibatch Trial 21 / 25 ==\n"
     ]
    },
    {
     "name": "stdout",
     "output_type": "stream",
     "text": [
      "\n",
      "Average Metric: 24.00 / 25 (96.0%): 100%|██████████| 25/25 [00:06<00:00,  4.04it/s] "
     ]
    },
    {
     "name": "stderr",
     "output_type": "stream",
     "text": [
      "2024/12/20 10:32:38 INFO dspy.evaluate.evaluate: Average Metric: 24 / 25 (96.0%)\n",
      "2024/12/20 10:32:38 INFO dspy.teleprompt.mipro_optimizer_v2: Score: 96.0 on minibatch of size 25 with parameters ['Predictor 0: Instruction 3', 'Predictor 0: Few-Shot Set 2'].\n",
      "2024/12/20 10:32:38 INFO dspy.teleprompt.mipro_optimizer_v2: Minibatch scores so far: [96.0, 96.0, 100.0, 96.0, 88.0, 100.0, 96.0, 96.0, 92.0, 96.0, 92.0, 96.0, 92.0, 100.0, 92.0, 96.0, 96.0, 100.0, 96.0, 96.0, 96.0]\n",
      "2024/12/20 10:32:38 INFO dspy.teleprompt.mipro_optimizer_v2: Full eval scores so far: [96.92, 92.31, 95.38]\n",
      "2024/12/20 10:32:38 INFO dspy.teleprompt.mipro_optimizer_v2: Best full score so far: 96.92\n",
      "2024/12/20 10:32:38 INFO dspy.teleprompt.mipro_optimizer_v2: =============================\n",
      "\n",
      "\n",
      "2024/12/20 10:32:38 INFO dspy.teleprompt.mipro_optimizer_v2: == Minibatch Trial 22 / 25 ==\n"
     ]
    },
    {
     "name": "stdout",
     "output_type": "stream",
     "text": [
      "\n",
      "Average Metric: 24.00 / 25 (96.0%): 100%|██████████| 25/25 [00:05<00:00,  4.79it/s] "
     ]
    },
    {
     "name": "stderr",
     "output_type": "stream",
     "text": [
      "2024/12/20 10:32:44 INFO dspy.evaluate.evaluate: Average Metric: 24 / 25 (96.0%)\n",
      "2024/12/20 10:32:44 INFO dspy.teleprompt.mipro_optimizer_v2: Score: 96.0 on minibatch of size 25 with parameters ['Predictor 0: Instruction 9', 'Predictor 0: Few-Shot Set 17'].\n",
      "2024/12/20 10:32:44 INFO dspy.teleprompt.mipro_optimizer_v2: Minibatch scores so far: [96.0, 96.0, 100.0, 96.0, 88.0, 100.0, 96.0, 96.0, 92.0, 96.0, 92.0, 96.0, 92.0, 100.0, 92.0, 96.0, 96.0, 100.0, 96.0, 96.0, 96.0, 96.0]\n",
      "2024/12/20 10:32:44 INFO dspy.teleprompt.mipro_optimizer_v2: Full eval scores so far: [96.92, 92.31, 95.38]\n",
      "2024/12/20 10:32:44 INFO dspy.teleprompt.mipro_optimizer_v2: Best full score so far: 96.92\n",
      "2024/12/20 10:32:44 INFO dspy.teleprompt.mipro_optimizer_v2: =============================\n",
      "\n",
      "\n",
      "2024/12/20 10:32:44 INFO dspy.teleprompt.mipro_optimizer_v2: == Minibatch Trial 23 / 25 ==\n"
     ]
    },
    {
     "name": "stdout",
     "output_type": "stream",
     "text": [
      "\n",
      "Average Metric: 22.00 / 25 (88.0%): 100%|██████████| 25/25 [00:08<00:00,  3.04it/s]"
     ]
    },
    {
     "name": "stderr",
     "output_type": "stream",
     "text": [
      "2024/12/20 10:32:52 INFO dspy.evaluate.evaluate: Average Metric: 22 / 25 (88.0%)\n",
      "2024/12/20 10:32:52 INFO dspy.teleprompt.mipro_optimizer_v2: Score: 88.0 on minibatch of size 25 with parameters ['Predictor 0: Instruction 6', 'Predictor 0: Few-Shot Set 10'].\n",
      "2024/12/20 10:32:52 INFO dspy.teleprompt.mipro_optimizer_v2: Minibatch scores so far: [96.0, 96.0, 100.0, 96.0, 88.0, 100.0, 96.0, 96.0, 92.0, 96.0, 92.0, 96.0, 92.0, 100.0, 92.0, 96.0, 96.0, 100.0, 96.0, 96.0, 96.0, 96.0, 88.0]\n",
      "2024/12/20 10:32:52 INFO dspy.teleprompt.mipro_optimizer_v2: Full eval scores so far: [96.92, 92.31, 95.38]\n",
      "2024/12/20 10:32:52 INFO dspy.teleprompt.mipro_optimizer_v2: Best full score so far: 96.92\n",
      "2024/12/20 10:32:52 INFO dspy.teleprompt.mipro_optimizer_v2: =============================\n",
      "\n",
      "\n",
      "2024/12/20 10:32:52 INFO dspy.teleprompt.mipro_optimizer_v2: == Minibatch Trial 24 / 25 ==\n"
     ]
    },
    {
     "name": "stdout",
     "output_type": "stream",
     "text": [
      "\n",
      "Average Metric: 23.00 / 25 (92.0%): 100%|██████████| 25/25 [00:05<00:00,  4.99it/s]"
     ]
    },
    {
     "name": "stderr",
     "output_type": "stream",
     "text": [
      "2024/12/20 10:32:57 INFO dspy.evaluate.evaluate: Average Metric: 23 / 25 (92.0%)\n",
      "2024/12/20 10:32:57 INFO dspy.teleprompt.mipro_optimizer_v2: Score: 92.0 on minibatch of size 25 with parameters ['Predictor 0: Instruction 9', 'Predictor 0: Few-Shot Set 10'].\n",
      "2024/12/20 10:32:57 INFO dspy.teleprompt.mipro_optimizer_v2: Minibatch scores so far: [96.0, 96.0, 100.0, 96.0, 88.0, 100.0, 96.0, 96.0, 92.0, 96.0, 92.0, 96.0, 92.0, 100.0, 92.0, 96.0, 96.0, 100.0, 96.0, 96.0, 96.0, 96.0, 88.0, 92.0]\n",
      "2024/12/20 10:32:57 INFO dspy.teleprompt.mipro_optimizer_v2: Full eval scores so far: [96.92, 92.31, 95.38]\n",
      "2024/12/20 10:32:57 INFO dspy.teleprompt.mipro_optimizer_v2: Best full score so far: 96.92\n",
      "2024/12/20 10:32:57 INFO dspy.teleprompt.mipro_optimizer_v2: =============================\n",
      "\n",
      "\n",
      "2024/12/20 10:32:57 INFO dspy.teleprompt.mipro_optimizer_v2: == Minibatch Trial 25 / 25 ==\n"
     ]
    },
    {
     "name": "stdout",
     "output_type": "stream",
     "text": [
      "\n",
      "Average Metric: 23.00 / 25 (92.0%): 100%|██████████| 25/25 [00:09<00:00,  2.70it/s] "
     ]
    },
    {
     "name": "stderr",
     "output_type": "stream",
     "text": [
      "2024/12/20 10:33:06 INFO dspy.evaluate.evaluate: Average Metric: 23 / 25 (92.0%)\n",
      "2024/12/20 10:33:06 INFO dspy.teleprompt.mipro_optimizer_v2: Score: 92.0 on minibatch of size 25 with parameters ['Predictor 0: Instruction 18', 'Predictor 0: Few-Shot Set 11'].\n",
      "2024/12/20 10:33:06 INFO dspy.teleprompt.mipro_optimizer_v2: Minibatch scores so far: [96.0, 96.0, 100.0, 96.0, 88.0, 100.0, 96.0, 96.0, 92.0, 96.0, 92.0, 96.0, 92.0, 100.0, 92.0, 96.0, 96.0, 100.0, 96.0, 96.0, 96.0, 96.0, 88.0, 92.0, 92.0]\n",
      "2024/12/20 10:33:06 INFO dspy.teleprompt.mipro_optimizer_v2: Full eval scores so far: [96.92, 92.31, 95.38]\n",
      "2024/12/20 10:33:06 INFO dspy.teleprompt.mipro_optimizer_v2: Best full score so far: 96.92\n",
      "2024/12/20 10:33:06 INFO dspy.teleprompt.mipro_optimizer_v2: =============================\n",
      "\n",
      "\n",
      "2024/12/20 10:33:06 INFO dspy.teleprompt.mipro_optimizer_v2: ===== Full Eval 3 =====\n",
      "2024/12/20 10:33:06 INFO dspy.teleprompt.mipro_optimizer_v2: Doing full eval on next top averaging program (Avg Score: 100.0) from minibatch trials...\n"
     ]
    },
    {
     "name": "stdout",
     "output_type": "stream",
     "text": [
      "\n",
      "Average Metric: 61.00 / 65 (93.8%): 100%|██████████| 65/65 [00:13<00:00,  4.94it/s]"
     ]
    },
    {
     "name": "stderr",
     "output_type": "stream",
     "text": [
      "2024/12/20 10:33:20 INFO dspy.evaluate.evaluate: Average Metric: 61 / 65 (93.8%)\n",
      "2024/12/20 10:33:20 INFO dspy.teleprompt.mipro_optimizer_v2: Full eval scores so far: [96.92, 92.31, 95.38, 93.85]\n",
      "2024/12/20 10:33:20 INFO dspy.teleprompt.mipro_optimizer_v2: Best full score so far: 96.92\n",
      "2024/12/20 10:33:20 INFO dspy.teleprompt.mipro_optimizer_v2: =======================\n",
      "2024/12/20 10:33:20 INFO dspy.teleprompt.mipro_optimizer_v2: \n",
      "\n",
      "2024/12/20 10:33:20 INFO dspy.teleprompt.mipro_optimizer_v2: Returning best identified program with score 96.92!\n"
     ]
    },
    {
     "name": "stdout",
     "output_type": "stream",
     "text": [
      "\n"
     ]
    }
   ],
   "source": [
    "zeroshot_optimized_program = teleprompter.compile(\n",
    "    judge.deepcopy(),\n",
    "    trainset=train_data,\n",
    "    max_bootstrapped_demos=8, # ZERO FEW-SHOT EXAMPLES\n",
    "    max_labeled_demos=0, # ZERO FEW-SHOT EXAMPLES\n",
    "    requires_permission_to_run=False,\n",
    ")"
   ]
  },
  {
   "cell_type": "code",
   "execution_count": 22,
   "metadata": {},
   "outputs": [
    {
     "ename": "TypeError",
     "evalue": "BaseModule.save() got an unexpected keyword argument 'save_field_meta'",
     "output_type": "error",
     "traceback": [
      "\u001b[0;31m---------------------------------------------------------------------------\u001b[0m",
      "\u001b[0;31mTypeError\u001b[0m                                 Traceback (most recent call last)",
      "Cell \u001b[0;32mIn[22], line 1\u001b[0m\n\u001b[0;32m----> 1\u001b[0m \u001b[43mzeroshot_optimized_program\u001b[49m\u001b[38;5;241;43m.\u001b[39;49m\u001b[43msave\u001b[49m\u001b[43m(\u001b[49m\u001b[38;5;124;43m\"\u001b[39;49m\u001b[38;5;124;43m/Users/sulzair/Documents/Bachelor Thesis/dspy_v2/Optimized_prompts/judge_miprov2_final_meta.json\u001b[39;49m\u001b[38;5;124;43m\"\u001b[39;49m\u001b[43m,\u001b[49m\u001b[43m \u001b[49m\u001b[43msave_field_meta\u001b[49m\u001b[38;5;241;43m=\u001b[39;49m\u001b[38;5;28;43;01mTrue\u001b[39;49;00m\u001b[43m)\u001b[49m\n",
      "\u001b[0;31mTypeError\u001b[0m: BaseModule.save() got an unexpected keyword argument 'save_field_meta'"
     ]
    }
   ],
   "source": [
    "zeroshot_optimized_program.save(\"/Users/sulzair/Documents/Bachelor Thesis/dspy_v2/Optimized_prompts/judge_miprov2_final_meta.json\", save_field_meta=True)"
   ]
  },
  {
   "cell_type": "code",
   "execution_count": 26,
   "metadata": {},
   "outputs": [],
   "source": [
    "judge.load(\"/Users/sulzair/Documents/Bachelor Thesis/dspy_v2/Optimized_prompts/judge_miprov2_2.json\")"
   ]
  },
  {
   "cell_type": "code",
   "execution_count": 67,
   "metadata": {},
   "outputs": [],
   "source": [
    "judge2.load(\"/Users/sulzair/Documents/Bachelor Thesis/dspy_v2/Optimized_prompts/judge_miprov2_2.json\")"
   ]
  },
  {
   "cell_type": "code",
   "execution_count": 27,
   "metadata": {},
   "outputs": [
    {
     "name": "stdout",
     "output_type": "stream",
     "text": [
      "Average Metric: 19.00 / 21 (90.5%): 100%|██████████| 21/21 [00:32<00:00,  1.53s/it]"
     ]
    },
    {
     "name": "stderr",
     "output_type": "stream",
     "text": [
      "2024/12/20 10:45:51 INFO dspy.evaluate.evaluate: Average Metric: 19 / 21 (90.5%)\n"
     ]
    },
    {
     "name": "stdout",
     "output_type": "stream",
     "text": [
      "\n"
     ]
    },
    {
     "data": {
      "text/html": [
       "<div>\n",
       "<style scoped>\n",
       "    .dataframe tbody tr th:only-of-type {\n",
       "        vertical-align: middle;\n",
       "    }\n",
       "\n",
       "    .dataframe tbody tr th {\n",
       "        vertical-align: top;\n",
       "    }\n",
       "\n",
       "    .dataframe thead th {\n",
       "        text-align: right;\n",
       "    }\n",
       "</style>\n",
       "<table border=\"1\" class=\"dataframe\">\n",
       "  <thead>\n",
       "    <tr style=\"text-align: right;\">\n",
       "      <th></th>\n",
       "      <th>question</th>\n",
       "      <th>example</th>\n",
       "      <th>prediction</th>\n",
       "      <th>example_answer</th>\n",
       "      <th>reasoning</th>\n",
       "      <th>pred_answer</th>\n",
       "      <th>answer_exact_match</th>\n",
       "    </tr>\n",
       "  </thead>\n",
       "  <tbody>\n",
       "    <tr>\n",
       "      <th>0</th>\n",
       "      <td>How many times do each of the vehicleClasses occur?</td>\n",
       "      <td>A    146712\\nC      2456\\nM      1198\\nR         4</td>\n",
       "      <td>None: 411100\\nA: 146712\\nC: 2456\\nM: 1198\\nR: 4</td>\n",
       "      <td>2</td>\n",
       "      <td>The question asks for the count of occurrences for each of the veh...</td>\n",
       "      <td>1</td>\n",
       "      <td></td>\n",
       "    </tr>\n",
       "    <tr>\n",
       "      <th>1</th>\n",
       "      <td>Which 10 cases have the highest amount last?</td>\n",
       "      <td>The top 9 cases with the highest amount last are: C18395: 800000 C...</td>\n",
       "      <td>The 10 cases with the highest amount last are: 1. C15814 - 800000 ...</td>\n",
       "      <td>2</td>\n",
       "      <td>The prediction lists 10 cases with their respective amounts, and i...</td>\n",
       "      <td>1</td>\n",
       "      <td></td>\n",
       "    </tr>\n",
       "    <tr>\n",
       "      <th>2</th>\n",
       "      <td>What is the percentage of cases which have paid nothing?</td>\n",
       "      <td>0.5363 or 53.63%</td>\n",
       "      <td>The percentage of cases which have paid nothing is approximately 5...</td>\n",
       "      <td>2</td>\n",
       "      <td>The prediction states that the percentage of cases which have paid...</td>\n",
       "      <td>2</td>\n",
       "      <td>✔️ [True]</td>\n",
       "    </tr>\n",
       "    <tr>\n",
       "      <th>3</th>\n",
       "      <td>What is the percentage of cases which have appealed to the judge?</td>\n",
       "      <td>0.369 or 36.9%</td>\n",
       "      <td>The percentage of cases which have appealed to the judge is approx...</td>\n",
       "      <td>2</td>\n",
       "      <td>The prediction states that the percentage of cases which have appe...</td>\n",
       "      <td>2</td>\n",
       "      <td>✔️ [True]</td>\n",
       "    </tr>\n",
       "    <tr>\n",
       "      <th>4</th>\n",
       "      <td>How many cases have been dismissed by the prefecture?</td>\n",
       "      <td>1980</td>\n",
       "      <td>1980</td>\n",
       "      <td>2</td>\n",
       "      <td>The prediction matches the solution exactly, both stating that 198...</td>\n",
       "      <td>2</td>\n",
       "      <td>✔️ [True]</td>\n",
       "    </tr>\n",
       "    <tr>\n",
       "      <th>5</th>\n",
       "      <td>How many dismissal types are there?</td>\n",
       "      <td>26</td>\n",
       "      <td>26</td>\n",
       "      <td>2</td>\n",
       "      <td>The prediction matches the solution exactly in terms of content. B...</td>\n",
       "      <td>2</td>\n",
       "      <td>✔️ [True]</td>\n",
       "    </tr>\n",
       "    <tr>\n",
       "      <th>6</th>\n",
       "      <td>How many cases have been added a penalty?</td>\n",
       "      <td>79860</td>\n",
       "      <td>79860</td>\n",
       "      <td>2</td>\n",
       "      <td>The prediction matches the solution exactly in terms of content. B...</td>\n",
       "      <td>2</td>\n",
       "      <td>✔️ [True]</td>\n",
       "    </tr>\n",
       "    <tr>\n",
       "      <th>7</th>\n",
       "      <td>What is the lowest amount last found in the event log?</td>\n",
       "      <td>0</td>\n",
       "      <td>The lowest amount last found in the event log is 0.</td>\n",
       "      <td>2</td>\n",
       "      <td>The prediction states that the lowest amount last found in the eve...</td>\n",
       "      <td>2</td>\n",
       "      <td>✔️ [True]</td>\n",
       "    </tr>\n",
       "    <tr>\n",
       "      <th>8</th>\n",
       "      <td>What is the average maxtotalPaymentAmount per case?</td>\n",
       "      <td>2396.577176</td>\n",
       "      <td>The average maxtotalPaymentAmount per case is approximately 2396.58.</td>\n",
       "      <td>2</td>\n",
       "      <td>The prediction states that the average maxtotalPaymentAmount per c...</td>\n",
       "      <td>2</td>\n",
       "      <td>✔️ [True]</td>\n",
       "    </tr>\n",
       "    <tr>\n",
       "      <th>9</th>\n",
       "      <td>How many cases have credit_collected == True AND time_timestamp_en...</td>\n",
       "      <td>9383</td>\n",
       "      <td>9383</td>\n",
       "      <td>2</td>\n",
       "      <td>The prediction matches the solution exactly in terms of the numeri...</td>\n",
       "      <td>2</td>\n",
       "      <td>✔️ [True]</td>\n",
       "    </tr>\n",
       "    <tr>\n",
       "      <th>10</th>\n",
       "      <td>How many cases have been credit collected and dismissed?</td>\n",
       "      <td>0</td>\n",
       "      <td>0</td>\n",
       "      <td>2</td>\n",
       "      <td>The prediction matches the solution exactly. Both the solution and...</td>\n",
       "      <td>2</td>\n",
       "      <td>✔️ [True]</td>\n",
       "    </tr>\n",
       "    <tr>\n",
       "      <th>11</th>\n",
       "      <td>How many cases have fully paid and been credit collected?</td>\n",
       "      <td>3</td>\n",
       "      <td>3</td>\n",
       "      <td>2</td>\n",
       "      <td>The prediction matches the solution exactly in terms of content. B...</td>\n",
       "      <td>2</td>\n",
       "      <td>✔️ [True]</td>\n",
       "    </tr>\n",
       "    <tr>\n",
       "      <th>12</th>\n",
       "      <td>What is the percentage of cases which have only partly paid?</td>\n",
       "      <td>0.06259 or 6.259%</td>\n",
       "      <td>The percentage of cases which have only partly paid is approximate...</td>\n",
       "      <td>2</td>\n",
       "      <td>The prediction states that the percentage of cases which have only...</td>\n",
       "      <td>2</td>\n",
       "      <td>✔️ [True]</td>\n",
       "    </tr>\n",
       "    <tr>\n",
       "      <th>13</th>\n",
       "      <td>What is the average outstanding balance per case?</td>\n",
       "      <td>5571.34701</td>\n",
       "      <td>The average outstanding balance per case is approximately 5571.35.</td>\n",
       "      <td>2</td>\n",
       "      <td>The prediction states that the average outstanding balance per cas...</td>\n",
       "      <td>2</td>\n",
       "      <td>✔️ [True]</td>\n",
       "    </tr>\n",
       "    <tr>\n",
       "      <th>14</th>\n",
       "      <td>How many cases have an overpaid_amount lower equal 50?</td>\n",
       "      <td>149493</td>\n",
       "      <td>21</td>\n",
       "      <td>0</td>\n",
       "      <td>The question asks for the number of cases with an overpaid_amount ...</td>\n",
       "      <td>0</td>\n",
       "      <td>✔️ [True]</td>\n",
       "    </tr>\n",
       "    <tr>\n",
       "      <th>15</th>\n",
       "      <td>What is the percentage of cases which have paid without an obligat...</td>\n",
       "      <td>0.04608 or 4.608%</td>\n",
       "      <td>The percentage of cases which have paid without an obligation to p...</td>\n",
       "      <td>2</td>\n",
       "      <td>The prediction states that the percentage of cases which have paid...</td>\n",
       "      <td>2</td>\n",
       "      <td>✔️ [True]</td>\n",
       "    </tr>\n",
       "    <tr>\n",
       "      <th>16</th>\n",
       "      <td>Which case has the highest maxtotalPaymentAmount?</td>\n",
       "      <td>S109961: 402100</td>\n",
       "      <td>The case with the highest maxtotalPaymentAmount is S109961 with an...</td>\n",
       "      <td>2</td>\n",
       "      <td>The prediction correctly identifies the case S109961 as having the...</td>\n",
       "      <td>2</td>\n",
       "      <td>✔️ [True]</td>\n",
       "    </tr>\n",
       "    <tr>\n",
       "      <th>17</th>\n",
       "      <td>How many cases have an overpaid_amount higher equal 5000?</td>\n",
       "      <td>104</td>\n",
       "      <td>104</td>\n",
       "      <td>2</td>\n",
       "      <td>The prediction matches the solution exactly in terms of content. B...</td>\n",
       "      <td>2</td>\n",
       "      <td>✔️ [True]</td>\n",
       "    </tr>\n",
       "    <tr>\n",
       "      <th>18</th>\n",
       "      <td>What are the top 10 cases with the highest expense sum?</td>\n",
       "      <td>The Top 7 are: S176946: 7600 S183468: 7600 S182605: 7500 S189726: ...</td>\n",
       "      <td>The top 10 cases with the highest expense sum are: 1. S176946 - 76...</td>\n",
       "      <td>2</td>\n",
       "      <td>The prediction correctly identifies the top 7 cases with their res...</td>\n",
       "      <td>2</td>\n",
       "      <td>✔️ [True]</td>\n",
       "    </tr>\n",
       "    <tr>\n",
       "      <th>19</th>\n",
       "      <td>How many cases have paid without an obligation to pay?</td>\n",
       "      <td>6930</td>\n",
       "      <td>6930</td>\n",
       "      <td>2</td>\n",
       "      <td>The prediction matches the solution exactly in terms of content. B...</td>\n",
       "      <td>2</td>\n",
       "      <td>✔️ [True]</td>\n",
       "    </tr>\n",
       "    <tr>\n",
       "      <th>20</th>\n",
       "      <td>How many cases have dismissed == False AND both appeal_judge_cance...</td>\n",
       "      <td>0</td>\n",
       "      <td>0</td>\n",
       "      <td>2</td>\n",
       "      <td>The prediction matches the solution exactly. Both the solution and...</td>\n",
       "      <td>2</td>\n",
       "      <td>✔️ [True]</td>\n",
       "    </tr>\n",
       "  </tbody>\n",
       "</table>\n",
       "</div>"
      ],
      "text/plain": [
       "                                                                 question  \\\n",
       "0                     How many times do each of the vehicleClasses occur?   \n",
       "1                            Which 10 cases have the highest amount last?   \n",
       "2                What is the percentage of cases which have paid nothing?   \n",
       "3       What is the percentage of cases which have appealed to the judge?   \n",
       "4                   How many cases have been dismissed by the prefecture?   \n",
       "5                                     How many dismissal types are there?   \n",
       "6                               How many cases have been added a penalty?   \n",
       "7                  What is the lowest amount last found in the event log?   \n",
       "8                    What is the average maxtotalPaymentAmount per case?    \n",
       "9   How many cases have credit_collected == True AND time_timestamp_en...   \n",
       "10               How many cases have been credit collected and dismissed?   \n",
       "11              How many cases have fully paid and been credit collected?   \n",
       "12           What is the percentage of cases which have only partly paid?   \n",
       "13                      What is the average outstanding balance per case?   \n",
       "14                 How many cases have an overpaid_amount lower equal 50?   \n",
       "15  What is the percentage of cases which have paid without an obligat...   \n",
       "16                      Which case has the highest maxtotalPaymentAmount?   \n",
       "17              How many cases have an overpaid_amount higher equal 5000?   \n",
       "18                What are the top 10 cases with the highest expense sum?   \n",
       "19                 How many cases have paid without an obligation to pay?   \n",
       "20  How many cases have dismissed == False AND both appeal_judge_cance...   \n",
       "\n",
       "                                                                  example  \\\n",
       "0                      A    146712\\nC      2456\\nM      1198\\nR         4   \n",
       "1   The top 9 cases with the highest amount last are: C18395: 800000 C...   \n",
       "2                                                        0.5363 or 53.63%   \n",
       "3                                                          0.369 or 36.9%   \n",
       "4                                                                    1980   \n",
       "5                                                                      26   \n",
       "6                                                                   79860   \n",
       "7                                                                       0   \n",
       "8                                                             2396.577176   \n",
       "9                                                                    9383   \n",
       "10                                                                      0   \n",
       "11                                                                      3   \n",
       "12                                                      0.06259 or 6.259%   \n",
       "13                                                             5571.34701   \n",
       "14                                                                 149493   \n",
       "15                                                      0.04608 or 4.608%   \n",
       "16                                                        S109961: 402100   \n",
       "17                                                                    104   \n",
       "18  The Top 7 are: S176946: 7600 S183468: 7600 S182605: 7500 S189726: ...   \n",
       "19                                                                   6930   \n",
       "20                                                                      0   \n",
       "\n",
       "                                                               prediction  \\\n",
       "0                         None: 411100\\nA: 146712\\nC: 2456\\nM: 1198\\nR: 4   \n",
       "1   The 10 cases with the highest amount last are: 1. C15814 - 800000 ...   \n",
       "2   The percentage of cases which have paid nothing is approximately 5...   \n",
       "3   The percentage of cases which have appealed to the judge is approx...   \n",
       "4                                                                    1980   \n",
       "5                                                                      26   \n",
       "6                                                                   79860   \n",
       "7                     The lowest amount last found in the event log is 0.   \n",
       "8    The average maxtotalPaymentAmount per case is approximately 2396.58.   \n",
       "9                                                                    9383   \n",
       "10                                                                      0   \n",
       "11                                                                      3   \n",
       "12  The percentage of cases which have only partly paid is approximate...   \n",
       "13     The average outstanding balance per case is approximately 5571.35.   \n",
       "14                                                                     21   \n",
       "15  The percentage of cases which have paid without an obligation to p...   \n",
       "16  The case with the highest maxtotalPaymentAmount is S109961 with an...   \n",
       "17                                                                    104   \n",
       "18  The top 10 cases with the highest expense sum are: 1. S176946 - 76...   \n",
       "19                                                                   6930   \n",
       "20                                                                      0   \n",
       "\n",
       "   example_answer  \\\n",
       "0               2   \n",
       "1               2   \n",
       "2               2   \n",
       "3               2   \n",
       "4               2   \n",
       "5               2   \n",
       "6               2   \n",
       "7               2   \n",
       "8               2   \n",
       "9               2   \n",
       "10              2   \n",
       "11              2   \n",
       "12              2   \n",
       "13              2   \n",
       "14              0   \n",
       "15              2   \n",
       "16              2   \n",
       "17              2   \n",
       "18              2   \n",
       "19              2   \n",
       "20              2   \n",
       "\n",
       "                                                                reasoning  \\\n",
       "0   The question asks for the count of occurrences for each of the veh...   \n",
       "1   The prediction lists 10 cases with their respective amounts, and i...   \n",
       "2   The prediction states that the percentage of cases which have paid...   \n",
       "3   The prediction states that the percentage of cases which have appe...   \n",
       "4   The prediction matches the solution exactly, both stating that 198...   \n",
       "5   The prediction matches the solution exactly in terms of content. B...   \n",
       "6   The prediction matches the solution exactly in terms of content. B...   \n",
       "7   The prediction states that the lowest amount last found in the eve...   \n",
       "8   The prediction states that the average maxtotalPaymentAmount per c...   \n",
       "9   The prediction matches the solution exactly in terms of the numeri...   \n",
       "10  The prediction matches the solution exactly. Both the solution and...   \n",
       "11  The prediction matches the solution exactly in terms of content. B...   \n",
       "12  The prediction states that the percentage of cases which have only...   \n",
       "13  The prediction states that the average outstanding balance per cas...   \n",
       "14  The question asks for the number of cases with an overpaid_amount ...   \n",
       "15  The prediction states that the percentage of cases which have paid...   \n",
       "16  The prediction correctly identifies the case S109961 as having the...   \n",
       "17  The prediction matches the solution exactly in terms of content. B...   \n",
       "18  The prediction correctly identifies the top 7 cases with their res...   \n",
       "19  The prediction matches the solution exactly in terms of content. B...   \n",
       "20  The prediction matches the solution exactly. Both the solution and...   \n",
       "\n",
       "   pred_answer answer_exact_match  \n",
       "0            1                     \n",
       "1            1                     \n",
       "2            2          ✔️ [True]  \n",
       "3            2          ✔️ [True]  \n",
       "4            2          ✔️ [True]  \n",
       "5            2          ✔️ [True]  \n",
       "6            2          ✔️ [True]  \n",
       "7            2          ✔️ [True]  \n",
       "8            2          ✔️ [True]  \n",
       "9            2          ✔️ [True]  \n",
       "10           2          ✔️ [True]  \n",
       "11           2          ✔️ [True]  \n",
       "12           2          ✔️ [True]  \n",
       "13           2          ✔️ [True]  \n",
       "14           0          ✔️ [True]  \n",
       "15           2          ✔️ [True]  \n",
       "16           2          ✔️ [True]  \n",
       "17           2          ✔️ [True]  \n",
       "18           2          ✔️ [True]  \n",
       "19           2          ✔️ [True]  \n",
       "20           2          ✔️ [True]  "
      ]
     },
     "metadata": {},
     "output_type": "display_data"
    }
   ],
   "source": [
    "score, outputs, scores = evaluate(program = zeroshot_optimized_program, return_all_scores= True)"
   ]
  },
  {
   "cell_type": "code",
   "execution_count": null,
   "metadata": {},
   "outputs": [],
   "source": []
  },
  {
   "cell_type": "markdown",
   "metadata": {},
   "source": [
    "## Normal bootstrapped viewshot optimization"
   ]
  },
  {
   "cell_type": "code",
   "execution_count": 69,
   "metadata": {},
   "outputs": [
    {
     "name": "stderr",
     "output_type": "stream",
     "text": [
      " 29%|██▊       | 8/28 [00:17<00:44,  2.22s/it]"
     ]
    },
    {
     "name": "stdout",
     "output_type": "stream",
     "text": [
      "Bootstrapped 8 full traces after 8 examples for up to 2 rounds, amounting to 8 attempts.\n"
     ]
    },
    {
     "name": "stderr",
     "output_type": "stream",
     "text": [
      "\n"
     ]
    }
   ],
   "source": [
    "from dspy.teleprompt import BootstrapFewShot\n",
    "\n",
    "fewshot_optimizer = BootstrapFewShot(metric=score_accuracy, max_bootstrapped_demos=8, max_labeled_demos=2, max_rounds=2, max_errors=5)\n",
    "\n",
    "your_dspy_program_compiled = fewshot_optimizer.compile(student = judge, trainset=train_data)"
   ]
  },
  {
   "cell_type": "code",
   "execution_count": 70,
   "metadata": {},
   "outputs": [],
   "source": [
    "your_dspy_program_compiled.save(f\"/Users/sulzair/Documents/Bachelor Thesis/dspy_v2/Optimized_prompts/judge_bootstrap.json\")"
   ]
  },
  {
   "cell_type": "code",
   "execution_count": null,
   "metadata": {},
   "outputs": [],
   "source": []
  }
 ],
 "metadata": {
  "kernelspec": {
   "display_name": "dspy_v2",
   "language": "python",
   "name": "python3"
  },
  "language_info": {
   "codemirror_mode": {
    "name": "ipython",
    "version": 3
   },
   "file_extension": ".py",
   "mimetype": "text/x-python",
   "name": "python",
   "nbconvert_exporter": "python",
   "pygments_lexer": "ipython3",
   "version": "3.12.8"
  }
 },
 "nbformat": 4,
 "nbformat_minor": 2
}
