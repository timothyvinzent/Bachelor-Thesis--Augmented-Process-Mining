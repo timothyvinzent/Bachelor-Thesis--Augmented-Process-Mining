{
 "cells": [
  {
   "cell_type": "code",
   "execution_count": 141,
   "metadata": {},
   "outputs": [],
   "source": [
    "import sqlite3\n",
    "import pandas as pd\n",
    "import dspy\n",
    "import dotenv, os\n",
    "from pydantic import BaseModel, Field\n",
    "import openai\n",
    "import pm4py\n",
    "import ast\n",
    "from numpy import random\n",
    "from dspy.evaluate import Evaluate\n",
    "from collections import defaultdict\n",
    "import tqdm as notebook_tqdm\n",
    "import copy\n",
    "import re\n",
    "from dspy.teleprompt import BootstrapFewShot\n",
    "import csv\n",
    "import phoenix as px\n",
    "from openinference.instrumentation.dspy import DSPyInstrumentor\n",
    "from opentelemetry import trace as trace_api\n",
    "from opentelemetry.exporter.otlp.proto.http.trace_exporter import OTLPSpanExporter\n",
    "from opentelemetry.sdk import trace as trace_sdk\n",
    "from opentelemetry.sdk.resources import Resource\n",
    "from opentelemetry.sdk.trace.export import SimpleSpanProcessor\n",
    "from dspy.primitives.assertions import assert_transform_module, backtrack_handler\n",
    "from chroma_retriever import Chroma\n",
    "from chromadb.utils import embedding_functions\n",
    "import numpy as np\n",
    "import functools\n",
    "from PY_programs.python_tables import PM_PY_no_deep\n",
    "from PY_programs.python_simple import PM_PY_simple"
   ]
  },
  {
   "cell_type": "markdown",
   "metadata": {},
   "source": [
    "# 0.Data loading"
   ]
  },
  {
   "cell_type": "code",
   "execution_count": 2,
   "metadata": {},
   "outputs": [],
   "source": [
    "INPUT_FILE_NAME = \"/Users/sulzair/Documents/Bachelor Thesis/dspy_v2/dataset/Road_Traffic_Fine_Management_Process.xes\" #replce with your file path\n",
    "SQLITE_DB_NAME = \"python_test.db\" #\"my_database.db\" #leve as is\n",
    "LLM_MODEL_TYPE = \"gpt-4o\"#\"gpt-3.5-turbo-0125\" #leave as is for gpt 3.5 or change to \"gpt-4-turbo\" for gpt 4 turbo\n",
    "SQLITE_DB_EVAL_NAME = \"python_eval.db\""
   ]
  },
  {
   "cell_type": "code",
   "execution_count": 3,
   "metadata": {},
   "outputs": [],
   "source": [
    "sentence_transformer_ef = embedding_functions.SentenceTransformerEmbeddingFunction(model_name=\"all-mpnet-base-v2\")"
   ]
  },
  {
   "cell_type": "code",
   "execution_count": 165,
   "metadata": {},
   "outputs": [],
   "source": [
    "dotenv.load_dotenv()\n",
    "lm = dspy.LM('openai/gpt-4o', temperature=0.3, max_tokens=4096, stop=None, cache=False)\n",
    "dspy.settings.configure(lm = lm)"
   ]
  },
  {
   "cell_type": "code",
   "execution_count": 52,
   "metadata": {},
   "outputs": [
    {
     "data": {
      "application/vnd.jupyter.widget-view+json": {
       "model_id": "6d97829ebf1c4ba6ae281478714c9ed6",
       "version_major": 2,
       "version_minor": 0
      },
      "text/plain": [
       "parsing log, completed traces ::   0%|          | 0/150370 [00:00<?, ?it/s]"
      ]
     },
     "metadata": {},
     "output_type": "display_data"
    },
    {
     "name": "stdout",
     "output_type": "stream",
     "text": [
      "[]\n"
     ]
    }
   ],
   "source": [
    "df = pm4py.read_xes(INPUT_FILE_NAME)\n",
    "df.columns = df.columns.str.replace(':', '_', regex=False)\n",
    "# replace nan values with 0 in columns \"amount\", \"expense\", \"paymentAmount\", \"totalPaymentAmount\"\n",
    "df['amount'] = df['amount'].fillna(0)\n",
    "df['expense'] = df['expense'].fillna(0)\n",
    "df['paymentAmount'] = df['paymentAmount'].fillna(0)\n",
    "df['totalPaymentAmount'] = df['totalPaymentAmount'].fillna(0)\n",
    "#fturn euros into cents\n",
    "df['amount'] = df['amount'] * 100\n",
    "df['amount'] = df['amount'].astype(int)\n",
    "df['expense'] = df['expense'] * 100\n",
    "df['expense'] = df['expense'].astype(int)\n",
    "df['paymentAmount'] = df['paymentAmount'] * 100\n",
    "df['paymentAmount'] = df['paymentAmount'].astype(int)\n",
    "df['totalPaymentAmount'] = df['totalPaymentAmount'] * 100\n",
    "df['totalPaymentAmount'] = df['totalPaymentAmount'].astype(int)\n",
    "\n",
    "conn = sqlite3.connect(SQLITE_DB_NAME)\n",
    "cur = conn.cursor()\n",
    "cur.execute(\"DROP TABLE IF EXISTS temp_table;\")\n",
    "\n",
    "print(cur.fetchall())\n",
    "conn.commit()\n",
    "\n",
    "df.to_sql(\"event_log\", conn, if_exists=\"replace\", index=False)\n",
    "cur = conn.cursor()\n",
    "cur.execute(\"CREATE INDEX idx_case_concept_name_event_log ON event_log(case_concept_name)\")\n",
    "conn.commit()\n",
    "\n",
    "cur.execute(\"ALTER TABLE event_log ADD COLUMN idx INTEGER;\")\n",
    "conn.commit()\n",
    "cur.execute(\"\"\"UPDATE event_log SET idx = (\n",
    "    SELECT rowid FROM (\n",
    "        SELECT ROW_NUMBER() OVER (ORDER BY case_concept_name, time_timestamp) as seq_num, rowid\n",
    "        FROM event_log\n",
    "    ) temp WHERE temp.rowid = event_log.rowid\n",
    ");\"\"\")\n",
    "conn.commit()\n",
    "cur.execute(\"CREATE INDEX idx_event_log_idx ON event_log(idx);\")\n",
    "conn.commit()\n",
    "cur.execute(\"VACUUM;\")\n",
    "cur.execute(\"ANALYZE;\")\n",
    "conn.commit()\n",
    "cur.close()"
   ]
  },
  {
   "cell_type": "code",
   "execution_count": 7,
   "metadata": {},
   "outputs": [
    {
     "name": "stderr",
     "output_type": "stream",
     "text": [
      "WARNING: All log messages before absl::InitializeLog() is called are written to STDERR\n",
      "E0000 00:00:1735216702.722517 13503914 chttp2_server.cc:1177] UNKNOWN:No address added out of total 1 resolved for '[::]:4317' {created_time:\"2024-12-26T13:38:22.722512+01:00\", children:[UNKNOWN:Failed to add any wildcard listeners {created_time:\"2024-12-26T13:38:22.722499+01:00\", children:[UNKNOWN:Unable to configure socket {created_time:\"2024-12-26T13:38:22.722471+01:00\", fd:95, children:[UNKNOWN:bind: Address already in use (48) {created_time:\"2024-12-26T13:38:22.722446+01:00\"}]}, UNKNOWN:Unable to configure socket {fd:95, created_time:\"2024-12-26T13:38:22.722497+01:00\", children:[UNKNOWN:bind: Address already in use (48) {created_time:\"2024-12-26T13:38:22.72249+01:00\"}]}]}]}\n",
      "ERROR:    Traceback (most recent call last):\n",
      "  File \"/Users/sulzair/Documents/Bachelor Thesis/dspy_v2/dspy_v2/lib/python3.12/site-packages/starlette/routing.py\", line 732, in lifespan\n",
      "    async with self.lifespan_context(app) as maybe_state:\n",
      "               ^^^^^^^^^^^^^^^^^^^^^^^^^^\n",
      "  File \"/opt/homebrew/Cellar/python@3.12/3.12.8/Frameworks/Python.framework/Versions/3.12/lib/python3.12/contextlib.py\", line 210, in __aenter__\n",
      "    return await anext(self.gen)\n",
      "           ^^^^^^^^^^^^^^^^^^^^^\n",
      "  File \"/Users/sulzair/Documents/Bachelor Thesis/dspy_v2/dspy_v2/lib/python3.12/site-packages/phoenix/server/app.py\", line 503, in lifespan\n",
      "    await stack.enter_async_context(grpc_server)\n",
      "  File \"/opt/homebrew/Cellar/python@3.12/3.12.8/Frameworks/Python.framework/Versions/3.12/lib/python3.12/contextlib.py\", line 659, in enter_async_context\n",
      "    result = await _enter(cm)\n",
      "             ^^^^^^^^^^^^^^^^\n",
      "  File \"/Users/sulzair/Documents/Bachelor Thesis/dspy_v2/dspy_v2/lib/python3.12/site-packages/phoenix/server/grpc_server.py\", line 89, in __aenter__\n",
      "    server.add_insecure_port(f\"[::]:{get_env_grpc_port()}\")\n",
      "  File \"/Users/sulzair/Documents/Bachelor Thesis/dspy_v2/dspy_v2/lib/python3.12/site-packages/grpc/aio/_server.py\", line 102, in add_insecure_port\n",
      "    return _common.validate_port_binding_result(\n",
      "           ^^^^^^^^^^^^^^^^^^^^^^^^^^^^^^^^^^^^^\n",
      "  File \"/Users/sulzair/Documents/Bachelor Thesis/dspy_v2/dspy_v2/lib/python3.12/site-packages/grpc/_common.py\", line 181, in validate_port_binding_result\n",
      "    raise RuntimeError(_ERROR_MESSAGE_PORT_BINDING_FAILED % address)\n",
      "RuntimeError: Failed to bind to address [::]:4317; set GRPC_VERBOSITY=debug environment variable to see detailed error message.\n",
      "\n",
      "ERROR:    Application startup failed. Exiting.\n",
      "Overriding of current TracerProvider is not allowed\n",
      "Attempting to instrument while already instrumented\n"
     ]
    },
    {
     "name": "stdout",
     "output_type": "stream",
     "text": [
      "🌍 To view the Phoenix app in your browser, visit http://localhost:6006/\n",
      "📖 For more information on how to use Phoenix, check out https://docs.arize.com/phoenix\n"
     ]
    }
   ],
   "source": [
    "phoenix_session = px.launch_app()\n",
    "endpoint = \"http://127.0.0.1:6006/v1/traces\"\n",
    "resource = Resource(attributes={})\n",
    "tracer_provider = trace_sdk.TracerProvider(resource=resource)\n",
    "span_otlp_exporter = OTLPSpanExporter(endpoint=endpoint)\n",
    "tracer_provider.add_span_processor(SimpleSpanProcessor(span_exporter=span_otlp_exporter))\n",
    "\n",
    "trace_api.set_tracer_provider(tracer_provider=tracer_provider)\n",
    "DSPyInstrumentor().instrument()"
   ]
  },
  {
   "cell_type": "code",
   "execution_count": 171,
   "metadata": {},
   "outputs": [],
   "source": [
    "col_desc = \"\"\"- 'amount' (int): The amount due to be paid for the fine (including the penalty amount in case it is added). There are no nan values in this column.\n",
    "- 'org_resource' (int): A numeric code indicating the employee who handled the case.\n",
    "- 'dismissal' (string): A flag indicating whether and by whom the fine is dismissed. It is initialized to NIL. We know the meaning of:  \n",
    "        'G': dismissed by the judge\n",
    "        '#': dismissed by the prefecture\n",
    "        NIL: not dismissed, i.e., to be paid.\n",
    "        There are several other values used for which we do not know the semantics.\n",
    "- 'vehicleClass' (string): A flag indicating the kind of vehicle driven or owned by the offender. The semantics of the values is unknown.\n",
    "- 'totalPaymentAmount' (int): The cumulative amount paid by the offender. It is always initialized to 0. There are no nan values in this column.\n",
    "- 'lifecycle_transition' (string): the transition of the activity (complete, start, etc.)\n",
    "- 'article' (string): The number of the article of the Italian roadtraffic law that is violated by the offender (e.g., article 157 refers to stopping and parking vehicles).\n",
    "- 'points' (float): Penalty points deducted from the driving license. In Italy, each driver starts with 20 points on their license and may loose points for each offence, based on the gravity.\n",
    "- 'expense' (int): The additional amount due to be paid for postal expenses. There are no nan values in this column.\n",
    "- 'notificationType' (string): A flag indicating to whom the fine refers. 'P': car owner, 'C': car driver.\n",
    "- 'lastSent' (datetime): N/A\n",
    "- 'paymentAmount' (int): The amount paid by the offender in one transaction. There are no nan values in this column.\n",
    "- 'matricola' (string): N/A (Probably refers to the matriculation number of the car.)\n",
    "- 'concept_name' (string): the activity/ event type name\n",
    "        Activity Description, column: 'concept:name':\n",
    "            > 'Create Fine': The initial creation of the fine in the information system. It initializes event log attributes amount, dismissal, points and totalPaymentAmount.\n",
    "            > 'Send Fine': A notification about the fine is sent by post to the offender.\n",
    "            > 'Insert Fine Notification': The notification is received by the offender.\n",
    "            > 'Add penalty': An additional penalty is applied.\n",
    "            > 'Payment': A payment made by the offender is registered.\n",
    "            > 'Send for Credit Collection': Unpaid fines are sent for credit collection. A separate process is started by a collection agency to collect the money of the unpaid fines.\n",
    "            > 'Insert Date Appeal to Prefecture': The offender appeals against the fine to the prefecture. A prefecture in Italy is an administrative body representing the national government in each province.\n",
    "            > 'Send Appeal to Prefecture': The appeal is sent to the prefecture by the local police.\n",
    "            > 'Receive Result Appeal from Prefecture': The local police receives the result of the appeal. If the prefecture dismisses the fine, the appeal is deemed accepted, and the obligation to pay the fine is cancelled. In this case, there is no need for the police to receive the result from the prefecture (Receive Result Appeal from Prefecture) and notify the offender (Notify Result Appeal to Offender).\n",
    "            > 'Notify Result Appeal to Offender': The local police informs the offender of the appeal result. \n",
    "            > 'Appeal to Judge': The offender appeals against the fine to a judge.\n",
    "        IMPORTANT: The last event in a case can be arbitrary. There is no guarantee that the last event is 'Send Fine' or 'Payment'. The last event can be any event in the log.\"\"\""
   ]
  },
  {
   "cell_type": "code",
   "execution_count": 172,
   "metadata": {},
   "outputs": [
    {
     "name": "stdout",
     "output_type": "stream",
     "text": [
      "[\"- 'amount' (int): The amount due to be paid for the fine (including the penalty amount in case it is added). There are no nan values in this column.\", \"- 'org_resource' (int): A numeric code indicating the employee who handled the case.\", \"- 'dismissal' (string): A flag indicating whether and by whom the fine is dismissed. It is initialized to NIL. We know the meaning of:  \\n        'G': dismissed by the judge\\n        '#': dismissed by the prefecture\\n        NIL: not dismissed, i.e., to be paid.\\n        There are several other values used for which we do not know the semantics.\", \"- 'vehicleClass' (string): A flag indicating the kind of vehicle driven or owned by the offender. The semantics of the values is unknown.\", \"- 'totalPaymentAmount' (int): The cumulative amount paid by the offender. It is always initialized to 0. There are no nan values in this column.\", \"- 'lifecycle_transition' (string): the transition of the activity (complete, start, etc.)\", \"- 'article' (string): The number of the article of the Italian roadtraffic law that is violated by the offender (e.g., article 157 refers to stopping and parking vehicles).\", \"- 'points' (float): Penalty points deducted from the driving license. In Italy, each driver starts with 20 points on their license and may loose points for each offence, based on the gravity.\", \"- 'expense' (int): The additional amount due to be paid for postal expenses. There are no nan values in this column.\", \"- 'notificationType' (string): A flag indicating to whom the fine refers. 'P': car owner, 'C': car driver.\", \"- 'lastSent' (datetime): N/A\", \"- 'paymentAmount' (int): The amount paid by the offender in one transaction. There are no nan values in this column.\", \"- 'matricola' (string): N/A (Probably refers to the matriculation number of the car.)\", \"- 'concept_name' (string): the activity/ event type name\\n        Activity Description, column: 'concept:name':\\n            > 'Create Fine': The initial creation of the fine in the information system. It initializes event log attributes amount, dismissal, points and totalPaymentAmount.\\n            > 'Send Fine': A notification about the fine is sent by post to the offender.\\n            > 'Insert Fine Notification': The notification is received by the offender.\\n            > 'Add penalty': An additional penalty is applied.\\n            > 'Payment': A payment made by the offender is registered.\\n            > 'Send for Credit Collection': Unpaid fines are sent for credit collection. A separate process is started by a collection agency to collect the money of the unpaid fines.\\n            > 'Insert Date Appeal to Prefecture': The offender appeals against the fine to the prefecture. A prefecture in Italy is an administrative body representing the national government in each province.\\n            > 'Send Appeal to Prefecture': The appeal is sent to the prefecture by the local police.\\n            > 'Receive Result Appeal from Prefecture': The local police receives the result of the appeal. If the prefecture dismisses the fine, the appeal is deemed accepted, and the obligation to pay the fine is cancelled. In this case, there is no need for the police to receive the result from the prefecture (Receive Result Appeal from Prefecture) and notify the offender (Notify Result Appeal to Offender).\\n            > 'Notify Result Appeal to Offender': The local police informs the offender of the appeal result. \\n            > 'Appeal to Judge': The offender appeals against the fine to a judge.\\n        IMPORTANT: The last event in a case can be arbitrary. There is no guarantee that the last event is 'Send Fine' or 'Payment'. The last event can be any event in the log.\"]\n",
      "14\n",
      "['amount']\n",
      "['org_resource']\n",
      "['dismissal']\n",
      "['vehicleClass']\n",
      "['totalPaymentAmount']\n",
      "['lifecycle_transition']\n",
      "['article']\n",
      "['points']\n",
      "['expense']\n",
      "['notificationType']\n",
      "['lastSent']\n",
      "['paymentAmount']\n",
      "['matricola']\n",
      "['concept_name']\n"
     ]
    }
   ],
   "source": [
    "# initialize the chroma retriever\n",
    "rm = Chroma(sentence_transformer_ef = sentence_transformer_ef , documentation = col_desc) # for python, use standard cols"
   ]
  },
  {
   "cell_type": "code",
   "execution_count": 173,
   "metadata": {},
   "outputs": [],
   "source": [
    "rm.add_new(\"- 'obligation_topay_cancelled' (int): A boolean indicator (stored as an integer) showing whether the obligation to pay the fine is cancelled due to the time difference between 'Create Fine' and 'Send Fine' being more than 90 days. 1 for cancelled, 0 otherwise. This value is consistent across all rows pertaining to the same case.\")"
   ]
  },
  {
   "cell_type": "markdown",
   "metadata": {},
   "source": [
    "# Saving Class"
   ]
  },
  {
   "cell_type": "code",
   "execution_count": 10,
   "metadata": {},
   "outputs": [],
   "source": [
    "def save_report_PM(outputs,scores,filename, program, conn = conn):\n",
    "    inst_lst = []\n",
    "    col_lst = []\n",
    "    dfn_lst = []\n",
    "    example_lst = []\n",
    "    rationale_lst = []\n",
    "    description_lst = []\n",
    "    for i in range(len(outputs)):\n",
    "        inst_lst.append(outputs[i][0].instruction)\n",
    "        col_lst.append(outputs[i][0].column)\n",
    "        dfn_lst.append(outputs[i][0].df_name)\n",
    "        example_lst.append(outputs[i][0].example)\n",
    "        try:\n",
    "            rationale_lst.append(outputs[i][1].rationale)\n",
    "        except:\n",
    "            rationale_lst.append(\"No rationale\")\n",
    "        try:\n",
    "            description_lst.append(outputs[i][1].description)\n",
    "        except:\n",
    "            description_lst.append(\"No description\")\n",
    "    code, errors, descriptions = program.get_history()\n",
    "    code_1 = []\n",
    "    code_2 = []\n",
    "    code_3 = []\n",
    "    for i in inst_lst:\n",
    "        try:\n",
    "            code_1.append(code[i][0])\n",
    "        except:\n",
    "            code_1.append(\"No code\")\n",
    "        try:\n",
    "            code_2.append(code[i][1])\n",
    "        except:\n",
    "            code_2.append(\"No code\")\n",
    "        try:\n",
    "            code_3.append(code[i][2])\n",
    "        except:\n",
    "            code_3.append(\"No code\")\n",
    "    error_lst = []\n",
    "    for i in inst_lst:\n",
    "        error_lst.append(errors[i])\n",
    "    query = 'SELECT * FROM event_log'\n",
    "    du = pd.read_sql_query(query, conn, parse_dates = ['time_timestamp'])\n",
    "    if \"duration\" in du.columns:\n",
    "        du['duration'] = pd.to_timedelta(du['duration'], unit = \"s\")\n",
    "    for cols in du.columns:\n",
    "        if du[cols].isin([0,1]).all() and not cols.endswith(\"_count\"):\n",
    "                du[cols] = du[cols].astype(bool)\n",
    "    du_sorted = du.sort_values(by=['case_concept_name', 'time_timestamp'])\n",
    "    g_dfs = []\n",
    "    for i in col_lst:\n",
    "        try:\n",
    "            pred_col = du_sorted[i]\n",
    "        except:\n",
    "            pred_col = \"error\"\n",
    "        g_dfs.append(pred_col)\n",
    "    lst_non_equal = []\n",
    "    for i in range(len(example_lst)):\n",
    "        try:\n",
    "            non_equal_elements = example_lst[i] != g_dfs[i]\n",
    "            lst_non_equal.append(non_equal_elements.sum())\n",
    "        except:\n",
    "            lst_non_equal.append(\"error\")\n",
    "    df_merged = pd.DataFrame({'Instruction': inst_lst, 'Column': col_lst, 'df_name': dfn_lst, 'Example': example_lst, 'Rationale': rationale_lst, 'Description': description_lst, \"PM_Metric\": scores, 'Code 1': code_1, 'Code 2': code_2, 'Code 3': code_3, \"errors\": error_lst, 'pred_col': g_dfs, \"num_rows_different\": lst_non_equal})\n",
    "    df_merged.to_csv(f\"{filename}.csv\", index=False, quoting=csv.QUOTE_ALL, escapechar='\\\\')\n",
    "    return df_merged"
   ]
  },
  {
   "cell_type": "markdown",
   "metadata": {},
   "source": [
    "# Metric"
   ]
  },
  {
   "cell_type": "code",
   "execution_count": 174,
   "metadata": {},
   "outputs": [],
   "source": [
    "def PM_Metric(example, prediction, trace = None, conn=conn):\n",
    "    col = example.column\n",
    "    question = example.instruction\n",
    "    df_name = example.df_name\n",
    "    gold_col = example.example\n",
    "    \n",
    "    query = 'SELECT * FROM event_log'\n",
    "    try:\n",
    "        tp = pd.read_sql_query(query, conn, parse_dates = ['time_timestamp'])\n",
    "\n",
    "        if \"duration\" in tp.columns:\n",
    "            tp['duration'] = pd.to_timedelta(tp['duration'], unit = \"s\")\n",
    "    except Exception as e:\n",
    "        print(f\"Error executing SQL query: {str(e)}\")\n",
    "        return False\n",
    "    for cols in tp.columns:\n",
    "        if tp[cols].isin([0,1]).all() and not cols.endswith(\"_count\"):\n",
    "            tp[cols] = tp[cols].astype(bool)\n",
    "    \n",
    "    tp_sorted = tp.sort_values(by=['case_concept_name', 'time_timestamp'])\n",
    "\n",
    "    # if gold_col is of type timedelta, convert to int (seconds)\n",
    "    #if gold_col.dtype == '<m8[ns]':\n",
    "    #    gold_col = gold_col.dt.total_seconds().astype(int)\n",
    "\n",
    "    try:\n",
    "        \n",
    "        pred_col = tp_sorted[col]\n",
    "    except KeyError:\n",
    "        print(f\"Eval could not retrieve col: {col}\")\n",
    "        return False\n",
    "\n",
    "    # Use .equals to determine if the Series are the same\n",
    "    if pred_col.equals(gold_col):\n",
    "        if len(pred_col) == len(gold_col):\n",
    "            print(\"EVAL TRUE\")\n",
    "            \n",
    "        \n",
    "            return True\n",
    "        else:\n",
    "            print(\"EVAL FALSE\")\n",
    "            return False\n",
    "    else:\n",
    "\n",
    "        print(\"EVAL FALSE\")\n",
    "        print(\"Type of pred_col\", pred_col.dtype)\n",
    "        print(\"Type of gold_col\", gold_col.dtype)\n",
    "        # number of rows that are different\n",
    "        try:\n",
    "            non_equal_elements = pred_col != gold_col\n",
    "            print(\"Number of rows different\", non_equal_elements.sum())\n",
    "        except Exception as e:\n",
    "            print(f\"Error in comparison: {str(e)}\")\n",
    "            return False\n",
    "        return False"
   ]
  },
  {
   "cell_type": "code",
   "execution_count": 12,
   "metadata": {},
   "outputs": [],
   "source": [
    "def PM_Metric_training(example, prediction, trace = None, df=df):\n",
    "    conn = sqlite3.connect(\"python_test.db\")\n",
    "    col = example.column\n",
    "    question = example.instruction\n",
    "    df_name = example.df_name\n",
    "    gold_col = example.example\n",
    "    \n",
    "    query = 'SELECT * FROM event_log'\n",
    "    try:\n",
    "        dp = pd.read_sql_query(query, conn, parse_dates = ['time_timestamp'])\n",
    "\n",
    "        if \"duration\" in dp.columns:\n",
    "            dp['duration'] = pd.to_timedelta(dp['duration'], unit = \"s\")\n",
    "    except Exception as e:\n",
    "        print(f\"Error executing SQL query: {str(e)}\")\n",
    "        return False\n",
    "    for cols in dp.columns:\n",
    "        if dp[cols].isin([0,1]).all() and not cols.endswith(\"_count\"):\n",
    "            dp[cols] = dp[cols].astype(bool)\n",
    "    \n",
    "    dp_sorted = dp.sort_values(by=['case_concept_name', 'time_timestamp'])\n",
    "\n",
    "    cur = conn.cursor()\n",
    "    \n",
    "\n",
    "    df.to_sql(\"event_log\", conn, if_exists=\"replace\", index=False)\n",
    "    cur = conn.cursor()\n",
    "    cur.execute(\"CREATE INDEX idx_case_concept_name_event_log ON event_log(case_concept_name)\")\n",
    "    conn.commit()\n",
    "\n",
    "    cur.execute(\"ALTER TABLE event_log ADD COLUMN idx INTEGER;\")\n",
    "    conn.commit()\n",
    "    cur.execute(\"\"\"UPDATE event_log SET idx = (\n",
    "        SELECT rowid FROM (\n",
    "            SELECT ROW_NUMBER() OVER (ORDER BY case_concept_name, time_timestamp) as seq_num, rowid\n",
    "            FROM event_log\n",
    "        ) temp WHERE temp.rowid = event_log.rowid\n",
    "    );\"\"\")\n",
    "    conn.commit()\n",
    "    cur.execute(\"CREATE INDEX idx_event_log_idx ON event_log(idx);\")\n",
    "    conn.commit()\n",
    "    cur.execute(\"VACUUM;\")\n",
    "    cur.execute(\"ANALYZE;\")\n",
    "    conn.commit()\n",
    "    cur.close()\n",
    "    \n",
    "    # if gold_col.dtype == '<m8[ns]':\n",
    "    #     gold_col = gold_col.dt.total_seconds().astype(int)\n",
    "\n",
    "    try:\n",
    "        pred_col = dp_sorted[col]\n",
    "    except KeyError:\n",
    "        print(f\"Eval could not retrieve col: {col}\")\n",
    "        return False\n",
    "\n",
    "    # Use .equals to determine if the Series are the same\n",
    "    if pred_col.equals(gold_col):\n",
    "        print(\"EVAL TRUE\")\n",
    "        return True\n",
    "    print(\"EVAL FALSE\")\n",
    "    print(\"Type of pred_col\", type(pred_col[0]))\n",
    "    print(\"Type of gold_col\", type(gold_col[0]))\n",
    "    # number of rows that are different\n",
    "    non_equal_elements = pred_col != gold_col\n",
    "    print(\"Number of rows different\", non_equal_elements.sum())\n",
    "    return False"
   ]
  },
  {
   "cell_type": "markdown",
   "metadata": {},
   "source": [
    "# Loading Dataset"
   ]
  },
  {
   "cell_type": "code",
   "execution_count": 13,
   "metadata": {},
   "outputs": [],
   "source": [
    "gold = pd.read_csv(\"/Users/sulzair/Documents/Bachelor Thesis/dspy_v2/benchmark/PM_EVALQUESTIONS_DF4.csv\")\n",
    "gold['time_timestamp'] = pd.to_datetime(gold['time_timestamp'])\n",
    "gold['duration'] = pd.to_timedelta(gold['duration'], unit= \"s\")\n",
    "gold_sorted = gold.sort_values(by=['case_concept_name', 'time_timestamp'])\n",
    "gold_sorted = gold_sorted.reset_index(drop=True)"
   ]
  },
  {
   "cell_type": "code",
   "execution_count": 14,
   "metadata": {},
   "outputs": [
    {
     "data": {
      "text/plain": [
       "case_concept_name  paid_without_obligation\n",
       "A1                 False                      2\n",
       "A100               False                      5\n",
       "A10000             True                       5\n",
       "A10001             False                      6\n",
       "A10004             False                      5\n",
       "                                             ..\n",
       "V9995              False                      5\n",
       "V9996              False                      3\n",
       "V9997              False                      5\n",
       "V9998              False                      5\n",
       "V9999              False                      5\n",
       "Name: count, Length: 150370, dtype: int64"
      ]
     },
     "execution_count": 14,
     "metadata": {},
     "output_type": "execute_result"
    }
   ],
   "source": [
    "gold_sorted.groupby(\"case_concept_name\")[\"paid_without_obligation\"].value_counts()"
   ]
  },
  {
   "cell_type": "code",
   "execution_count": 15,
   "metadata": {},
   "outputs": [
    {
     "data": {
      "text/html": [
       "<div>\n",
       "<style scoped>\n",
       "    .dataframe tbody tr th:only-of-type {\n",
       "        vertical-align: middle;\n",
       "    }\n",
       "\n",
       "    .dataframe tbody tr th {\n",
       "        vertical-align: top;\n",
       "    }\n",
       "\n",
       "    .dataframe thead th {\n",
       "        text-align: right;\n",
       "    }\n",
       "</style>\n",
       "<table border=\"1\" class=\"dataframe\">\n",
       "  <thead>\n",
       "    <tr style=\"text-align: right;\">\n",
       "      <th></th>\n",
       "      <th>amount</th>\n",
       "      <th>org_resource</th>\n",
       "      <th>dismissal</th>\n",
       "      <th>concept_name</th>\n",
       "      <th>vehicleClass</th>\n",
       "      <th>totalPaymentAmount</th>\n",
       "      <th>lifecycle_transition</th>\n",
       "      <th>time_timestamp</th>\n",
       "      <th>article</th>\n",
       "      <th>points</th>\n",
       "      <th>...</th>\n",
       "      <th>underpaid</th>\n",
       "      <th>credit_collected_AND_fully_paid</th>\n",
       "      <th>dismissed_AND_fully_paid</th>\n",
       "      <th>overpaid_amount</th>\n",
       "      <th>underpaid_amount</th>\n",
       "      <th>part_paid</th>\n",
       "      <th>unresolved</th>\n",
       "      <th>paid_without_obligation</th>\n",
       "      <th>time_timestamp_beginn</th>\n",
       "      <th>time_timestamp_end</th>\n",
       "    </tr>\n",
       "  </thead>\n",
       "  <tbody>\n",
       "    <tr>\n",
       "      <th>0</th>\n",
       "      <td>3500</td>\n",
       "      <td>561.0</td>\n",
       "      <td>NIL</td>\n",
       "      <td>Create Fine</td>\n",
       "      <td>A</td>\n",
       "      <td>0</td>\n",
       "      <td>complete</td>\n",
       "      <td>2006-07-24 00:00:00+00:00</td>\n",
       "      <td>157.0</td>\n",
       "      <td>0.0</td>\n",
       "      <td>...</td>\n",
       "      <td>True</td>\n",
       "      <td>False</td>\n",
       "      <td>False</td>\n",
       "      <td>0</td>\n",
       "      <td>4600</td>\n",
       "      <td>False</td>\n",
       "      <td>True</td>\n",
       "      <td>False</td>\n",
       "      <td>2006-07-24 00:00:00+00:00</td>\n",
       "      <td>2006-12-05 00:00:00+00:00</td>\n",
       "    </tr>\n",
       "    <tr>\n",
       "      <th>1</th>\n",
       "      <td>0</td>\n",
       "      <td>NaN</td>\n",
       "      <td>NaN</td>\n",
       "      <td>Send Fine</td>\n",
       "      <td>NaN</td>\n",
       "      <td>0</td>\n",
       "      <td>complete</td>\n",
       "      <td>2006-12-05 00:00:00+00:00</td>\n",
       "      <td>NaN</td>\n",
       "      <td>NaN</td>\n",
       "      <td>...</td>\n",
       "      <td>True</td>\n",
       "      <td>False</td>\n",
       "      <td>False</td>\n",
       "      <td>0</td>\n",
       "      <td>4600</td>\n",
       "      <td>False</td>\n",
       "      <td>True</td>\n",
       "      <td>False</td>\n",
       "      <td>2006-07-24 00:00:00+00:00</td>\n",
       "      <td>2006-12-05 00:00:00+00:00</td>\n",
       "    </tr>\n",
       "    <tr>\n",
       "      <th>2</th>\n",
       "      <td>3500</td>\n",
       "      <td>561.0</td>\n",
       "      <td>NIL</td>\n",
       "      <td>Create Fine</td>\n",
       "      <td>A</td>\n",
       "      <td>0</td>\n",
       "      <td>complete</td>\n",
       "      <td>2006-08-02 00:00:00+00:00</td>\n",
       "      <td>157.0</td>\n",
       "      <td>0.0</td>\n",
       "      <td>...</td>\n",
       "      <td>True</td>\n",
       "      <td>False</td>\n",
       "      <td>False</td>\n",
       "      <td>0</td>\n",
       "      <td>8250</td>\n",
       "      <td>False</td>\n",
       "      <td>False</td>\n",
       "      <td>False</td>\n",
       "      <td>2006-08-02 00:00:00+00:00</td>\n",
       "      <td>2009-03-30 00:00:00+00:00</td>\n",
       "    </tr>\n",
       "    <tr>\n",
       "      <th>3</th>\n",
       "      <td>0</td>\n",
       "      <td>NaN</td>\n",
       "      <td>NaN</td>\n",
       "      <td>Send Fine</td>\n",
       "      <td>NaN</td>\n",
       "      <td>0</td>\n",
       "      <td>complete</td>\n",
       "      <td>2006-12-12 00:00:00+00:00</td>\n",
       "      <td>NaN</td>\n",
       "      <td>NaN</td>\n",
       "      <td>...</td>\n",
       "      <td>True</td>\n",
       "      <td>False</td>\n",
       "      <td>False</td>\n",
       "      <td>0</td>\n",
       "      <td>8250</td>\n",
       "      <td>False</td>\n",
       "      <td>False</td>\n",
       "      <td>False</td>\n",
       "      <td>2006-08-02 00:00:00+00:00</td>\n",
       "      <td>2009-03-30 00:00:00+00:00</td>\n",
       "    </tr>\n",
       "    <tr>\n",
       "      <th>4</th>\n",
       "      <td>0</td>\n",
       "      <td>NaN</td>\n",
       "      <td>NaN</td>\n",
       "      <td>Insert Fine Notification</td>\n",
       "      <td>NaN</td>\n",
       "      <td>0</td>\n",
       "      <td>complete</td>\n",
       "      <td>2007-01-15 00:00:00+00:00</td>\n",
       "      <td>NaN</td>\n",
       "      <td>NaN</td>\n",
       "      <td>...</td>\n",
       "      <td>True</td>\n",
       "      <td>False</td>\n",
       "      <td>False</td>\n",
       "      <td>0</td>\n",
       "      <td>8250</td>\n",
       "      <td>False</td>\n",
       "      <td>False</td>\n",
       "      <td>False</td>\n",
       "      <td>2006-08-02 00:00:00+00:00</td>\n",
       "      <td>2009-03-30 00:00:00+00:00</td>\n",
       "    </tr>\n",
       "  </tbody>\n",
       "</table>\n",
       "<p>5 rows × 59 columns</p>\n",
       "</div>"
      ],
      "text/plain": [
       "   amount  org_resource dismissal              concept_name vehicleClass  \\\n",
       "0    3500         561.0       NIL               Create Fine            A   \n",
       "1       0           NaN       NaN                 Send Fine          NaN   \n",
       "2    3500         561.0       NIL               Create Fine            A   \n",
       "3       0           NaN       NaN                 Send Fine          NaN   \n",
       "4       0           NaN       NaN  Insert Fine Notification          NaN   \n",
       "\n",
       "   totalPaymentAmount lifecycle_transition            time_timestamp  article  \\\n",
       "0                   0             complete 2006-07-24 00:00:00+00:00    157.0   \n",
       "1                   0             complete 2006-12-05 00:00:00+00:00      NaN   \n",
       "2                   0             complete 2006-08-02 00:00:00+00:00    157.0   \n",
       "3                   0             complete 2006-12-12 00:00:00+00:00      NaN   \n",
       "4                   0             complete 2007-01-15 00:00:00+00:00      NaN   \n",
       "\n",
       "   points  ... underpaid  credit_collected_AND_fully_paid  \\\n",
       "0     0.0  ...      True                            False   \n",
       "1     NaN  ...      True                            False   \n",
       "2     0.0  ...      True                            False   \n",
       "3     NaN  ...      True                            False   \n",
       "4     NaN  ...      True                            False   \n",
       "\n",
       "  dismissed_AND_fully_paid overpaid_amount  underpaid_amount  part_paid  \\\n",
       "0                    False               0              4600      False   \n",
       "1                    False               0              4600      False   \n",
       "2                    False               0              8250      False   \n",
       "3                    False               0              8250      False   \n",
       "4                    False               0              8250      False   \n",
       "\n",
       "   unresolved  paid_without_obligation      time_timestamp_beginn  \\\n",
       "0        True                    False  2006-07-24 00:00:00+00:00   \n",
       "1        True                    False  2006-07-24 00:00:00+00:00   \n",
       "2       False                    False  2006-08-02 00:00:00+00:00   \n",
       "3       False                    False  2006-08-02 00:00:00+00:00   \n",
       "4       False                    False  2006-08-02 00:00:00+00:00   \n",
       "\n",
       "          time_timestamp_end  \n",
       "0  2006-12-05 00:00:00+00:00  \n",
       "1  2006-12-05 00:00:00+00:00  \n",
       "2  2009-03-30 00:00:00+00:00  \n",
       "3  2009-03-30 00:00:00+00:00  \n",
       "4  2009-03-30 00:00:00+00:00  \n",
       "\n",
       "[5 rows x 59 columns]"
      ]
     },
     "execution_count": 15,
     "metadata": {},
     "output_type": "execute_result"
    }
   ],
   "source": [
    "gold_sorted.head()"
   ]
  },
  {
   "cell_type": "code",
   "execution_count": 16,
   "metadata": {},
   "outputs": [
    {
     "data": {
      "text/html": [
       "<div>\n",
       "<style scoped>\n",
       "    .dataframe tbody tr th:only-of-type {\n",
       "        vertical-align: middle;\n",
       "    }\n",
       "\n",
       "    .dataframe tbody tr th {\n",
       "        vertical-align: top;\n",
       "    }\n",
       "\n",
       "    .dataframe thead th {\n",
       "        text-align: right;\n",
       "    }\n",
       "</style>\n",
       "<table border=\"1\" class=\"dataframe\">\n",
       "  <thead>\n",
       "    <tr style=\"text-align: right;\">\n",
       "      <th></th>\n",
       "      <th>Definition</th>\n",
       "      <th>Column</th>\n",
       "      <th>Dependent On New Col</th>\n",
       "      <th>DF</th>\n",
       "    </tr>\n",
       "  </thead>\n",
       "  <tbody>\n",
       "    <tr>\n",
       "      <th>0</th>\n",
       "      <td>Create column called \"dismissed_by_prefecture\"...</td>\n",
       "      <td>dismissed_by_prefecture</td>\n",
       "      <td>NaN</td>\n",
       "      <td>1</td>\n",
       "    </tr>\n",
       "    <tr>\n",
       "      <th>1</th>\n",
       "      <td>Create column called \"dismissed_by_judge\", def...</td>\n",
       "      <td>dismissed_by_judge</td>\n",
       "      <td>NaN</td>\n",
       "      <td>1</td>\n",
       "    </tr>\n",
       "    <tr>\n",
       "      <th>2</th>\n",
       "      <td>Create a column called \"maxtotalPaymentAmount\"...</td>\n",
       "      <td>maxtotalPaymentAmount</td>\n",
       "      <td>NaN</td>\n",
       "      <td>1</td>\n",
       "    </tr>\n",
       "    <tr>\n",
       "      <th>3</th>\n",
       "      <td>Create a column called \"duration\" which takes ...</td>\n",
       "      <td>duration</td>\n",
       "      <td>NaN</td>\n",
       "      <td>1</td>\n",
       "    </tr>\n",
       "    <tr>\n",
       "      <th>4</th>\n",
       "      <td>Create a column called \"event_count\", type int...</td>\n",
       "      <td>event_count</td>\n",
       "      <td>NaN</td>\n",
       "      <td>1</td>\n",
       "    </tr>\n",
       "  </tbody>\n",
       "</table>\n",
       "</div>"
      ],
      "text/plain": [
       "                                          Definition                   Column  \\\n",
       "0  Create column called \"dismissed_by_prefecture\"...  dismissed_by_prefecture   \n",
       "1  Create column called \"dismissed_by_judge\", def...       dismissed_by_judge   \n",
       "2  Create a column called \"maxtotalPaymentAmount\"...    maxtotalPaymentAmount   \n",
       "3  Create a column called \"duration\" which takes ...                 duration   \n",
       "4  Create a column called \"event_count\", type int...              event_count   \n",
       "\n",
       "  Dependent On New Col  DF  \n",
       "0                  NaN   1  \n",
       "1                  NaN   1  \n",
       "2                  NaN   1  \n",
       "3                  NaN   1  \n",
       "4                  NaN   1  "
      ]
     },
     "execution_count": 16,
     "metadata": {},
     "output_type": "execute_result"
    }
   ],
   "source": [
    "qa = pd.read_csv(\"/Users/sulzair/Documents/Bachelor Thesis/dspy_v2/benchmark/PM_EVALQUESTIONS_final.csv\")\n",
    "qa.head()"
   ]
  },
  {
   "cell_type": "code",
   "execution_count": 17,
   "metadata": {},
   "outputs": [
    {
     "name": "stdout",
     "output_type": "stream",
     "text": [
      "10\n"
     ]
    }
   ],
   "source": [
    "for i in range(len(qa)):\n",
    "    if qa[\"Column\"][i] == \"obligation_topay_cancelled\":\n",
    "        print(i)\n",
    "    elif qa[\"Column\"][i] == \"obligation_to_pay_cancelled\":\n",
    "        print(i)"
   ]
  },
  {
   "cell_type": "code",
   "execution_count": 18,
   "metadata": {},
   "outputs": [
    {
     "data": {
      "text/plain": [
       "'obligation_topay_cancelled'"
      ]
     },
     "execution_count": 18,
     "metadata": {},
     "output_type": "execute_result"
    }
   ],
   "source": [
    "qa[\"Column\"][10]"
   ]
  },
  {
   "cell_type": "code",
   "execution_count": 19,
   "metadata": {},
   "outputs": [],
   "source": [
    "dataset = []\n",
    "\n",
    "for instruction, col, dep, df_name in qa.values:\n",
    "    dataset.append(dspy.Example(instruction = instruction, column = col, df_name = df_name, example = gold_sorted[col]).with_inputs(\"instruction\"))\n"
   ]
  },
  {
   "cell_type": "code",
   "execution_count": 20,
   "metadata": {},
   "outputs": [
    {
     "name": "stdout",
     "output_type": "stream",
     "text": [
      "18\n",
      "25\n"
     ]
    }
   ],
   "source": [
    "# the following columns will be in the trainset: duration, event_count, amount_min, amount_last, obligation_topay_cancelled, dismissed_by_other, appeal_to_judgeorprefecture, add_penalty_count, send_fine_count, payment_count, insert_fine_notification_count, send_for_credit_collection_count, insert_date_appeal_to_prefecture_count, send_appeal_to_prefecture_count, receive_result_appeal_from_prefecture_count, notify_result_appeal_to_offender_count, time_timestamp_beginn, time_timestamp_end, appeal_to_judge_count\n",
    "\n",
    "# use those columns for train set\n",
    "\n",
    "trainset = []\n",
    "\n",
    "cols_in_trainset = ['duration', 'event_count', 'amount_min', 'obligation_topay_cancelled', 'dismissed_by_other', 'appeal_to_judgeorprefecture', 'add_penalty_count', 'send_fine_count', 'payment_count', 'insert_fine_notification_count', 'send_for_credit_collection_count', 'insert_date_appeal_to_prefecture_count', 'send_appeal_to_prefecture_count', 'receive_result_appeal_from_prefecture_count', 'notify_result_appeal_to_offender_count', 'time_timestamp_beginn', 'time_timestamp_end', 'appeal_to_judge_count']\n",
    "\n",
    "for i in range(len(dataset)):\n",
    "    if dataset[i][\"column\"] in cols_in_trainset:\n",
    "        trainset.append(dataset[i])\n",
    "\n",
    "print(len(trainset))\n",
    "\n",
    "# create test set which uses the remaining columns\n",
    "trainset[0], trainset[3] = trainset[3], trainset[0]\n",
    "\n",
    "testset = []\n",
    "\n",
    "for i in range(len(dataset)):\n",
    "    if dataset[i] not in trainset:\n",
    "        testset.append(dataset[i])\n",
    "\n",
    "print(len(testset))\n"
   ]
  },
  {
   "cell_type": "markdown",
   "metadata": {},
   "source": [
    "# Evaluation"
   ]
  },
  {
   "cell_type": "markdown",
   "metadata": {},
   "source": [
    "**'openai/gpt-4o', temperature=0.3, max_tokens=4096,**\n",
    "\n",
    "- PM_PY_no_deep (with assertions): 68%, 13m NAME: PY_testset_uncompiled\n",
    "- PM_PY_no_deep_fewshot_12 (with assertions): 100%, 10m 51s NAME: PY_testset_add_fewshot12_final\n",
    "- PM_PY_no_deep_fewshot_12 (no assertions): 92%, 9m 50s NAME: PY_testset_add_fewshot12_no_assertion\n",
    "- PM_PY_simple (with assertions): 28.0%, 29m 30s, NAME: PY_testset_simple (9/25 cols correct, descriptions wrong)\n",
    "- PM_PY_simple (no assertions): 0%, 8m 30s, NAME: PY_testset_simple_no_assertion (6/25 cols correct, descriptions wrong)\n",
    "\n",
    "\n",
    "**'openai/gpt-4o-mini', temperature=0.3, max_tokens=4096,**\n",
    "\n",
    "- PM_PY_no_deep (with assertions): 36.0%, 22m 54s Name: PM_PY_testset_mini_uncompiled\n",
    "- PM_PY_no_deep (no assertions): 0%, 5m, 7s (because the column descriptions could not be fed into the chroma retriever), in terms of cols (9/25 cols were correct) Name: PM_PY_testset_mini_uncompiled_no_assertion\n",
    "- PM_PY_no_deep_fewshot_12 (with assertions): 92.0% 14m 29s, Name : PY_testset_mini_fewshot12\n",
    "- PM_PY_no_deep_fewshot_12 (no assertions): 92.0% 10m 20s, Name: PY_testset_mini_fewshot12_no_assertion (score is super high, maybe run again)*\n",
    "- PM_PY_simple (with assertions): 24.0%, 37m Name: PY_testset_mini_simple (a few descriptions were incorrect (10/25 cols ))\n",
    "- PM_PY_simple (no assertions): 0.0%, 8m 52s, Name: PY_testset_mini_simple_no_assertion (9/25 col were correct, descriptions wrong)"
   ]
  },
  {
   "cell_type": "markdown",
   "metadata": {},
   "source": [
    "for the evaluation on the trainset, we must make sure that the columns that require them are present. Therefore, we make two databases. One that is only the vanilla event log, and the other which includes the columns from the trainset."
   ]
  },
  {
   "cell_type": "code",
   "execution_count": 128,
   "metadata": {},
   "outputs": [],
   "source": [
    "uncompiled_py = assert_transform_module(PM_PY_no_deep(conn_path= SQLITE_DB_EVAL_NAME, rm=rm, training_mode=False ), functools.partial(backtrack_handler, max_backtracks=4))\n",
    "#uncompiled_py.load(\"/Users/sulzair/Documents/Bachelor Thesis/dspy_v2/Optimized_prompts/python/py_add_fewshot_12.json\")\n",
    "#uncompiled_py._compiled = True"
   ]
  },
  {
   "cell_type": "code",
   "execution_count": 137,
   "metadata": {},
   "outputs": [],
   "source": [
    "uncompiled_py_no_assert = PM_PY_no_deep(conn_path= SQLITE_DB_EVAL_NAME, rm=rm, training_mode=False )\n",
    "#compiled_no_assert.load(\"/Users/sulzair/Documents/Bachelor Thesis/dspy_v2/Optimized_prompts/python/py_add_fewshot_12.json\")\n",
    "#compiled_no_assert._compiled = True"
   ]
  },
  {
   "cell_type": "code",
   "execution_count": 166,
   "metadata": {},
   "outputs": [],
   "source": [
    "un_py_simple = assert_transform_module(PM_PY_simple(conn_path= SQLITE_DB_EVAL_NAME, rm=rm), functools.partial(backtrack_handler, max_backtracks=4))"
   ]
  },
  {
   "cell_type": "code",
   "execution_count": 175,
   "metadata": {},
   "outputs": [],
   "source": [
    "un_py_simple_no_assert = PM_PY_simple(conn_path= SQLITE_DB_EVAL_NAME, rm=rm)"
   ]
  },
  {
   "cell_type": "code",
   "execution_count": 160,
   "metadata": {},
   "outputs": [
    {
     "data": {
      "application/vnd.jupyter.widget-view+json": {
       "model_id": "b97f925051b04e49975e4db7ccdcae1e",
       "version_major": 2,
       "version_minor": 0
      },
      "text/plain": [
       "parsing log, completed traces ::   0%|          | 0/150370 [00:00<?, ?it/s]"
      ]
     },
     "metadata": {},
     "output_type": "display_data"
    },
    {
     "name": "stdout",
     "output_type": "stream",
     "text": [
      "[]\n"
     ]
    }
   ],
   "source": [
    "df_t = pm4py.read_xes(INPUT_FILE_NAME)\n",
    "df_t.columns = df_t.columns.str.replace(':', '_', regex=False)\n",
    "# replace nan values with 0 in columns \"amount\", \"expense\", \"paymentAmount\", \"totalPaymentAmount\"\n",
    "df_t['amount'] = df_t['amount'].fillna(0)\n",
    "df_t['expense'] = df_t['expense'].fillna(0)\n",
    "df_t['paymentAmount'] = df_t['paymentAmount'].fillna(0)\n",
    "df_t['totalPaymentAmount'] = df_t['totalPaymentAmount'].fillna(0)\n",
    "#fturn euros into cents\n",
    "df_t['amount'] = df_t['amount'] * 100\n",
    "df_t['amount'] = df_t['amount'].astype(int)\n",
    "df_t['expense'] = df_t['expense'] * 100\n",
    "df_t['expense'] = df_t['expense'].astype(int)\n",
    "df_t['paymentAmount'] = df_t['paymentAmount'] * 100\n",
    "df_t['paymentAmount'] = df_t['paymentAmount'].astype(int)\n",
    "df_t['totalPaymentAmount'] = df_t['totalPaymentAmount'] * 100\n",
    "df_t['totalPaymentAmount'] = df_t['totalPaymentAmount'].astype(int)\n",
    "df_t['obligation_topay_cancelled'] = gold_sorted['obligation_topay_cancelled']\n",
    "\n",
    "conn = sqlite3.connect(SQLITE_DB_EVAL_NAME)\n",
    "cur = conn.cursor()\n",
    "cur.execute(\"DROP TABLE IF EXISTS temp_table;\")\n",
    "\n",
    "print(cur.fetchall())\n",
    "conn.commit()\n",
    "\n",
    "df_t.to_sql(\"event_log\", conn, if_exists=\"replace\", index=False)\n",
    "cur = conn.cursor()\n",
    "cur.execute(\"CREATE INDEX idx_case_concept_name_event_log ON event_log(case_concept_name)\")\n",
    "conn.commit()\n",
    "\n",
    "cur.execute(\"ALTER TABLE event_log ADD COLUMN idx INTEGER;\")\n",
    "conn.commit()\n",
    "cur.execute(\"\"\"UPDATE event_log SET idx = (\n",
    "    SELECT rowid FROM (\n",
    "        SELECT ROW_NUMBER() OVER (ORDER BY case_concept_name, time_timestamp) as seq_num, rowid\n",
    "        FROM event_log\n",
    "    ) temp WHERE temp.rowid = event_log.rowid\n",
    ");\"\"\")\n",
    "conn.commit()\n",
    "cur.execute(\"CREATE INDEX idx_event_log_idx ON event_log(idx);\")\n",
    "conn.commit()\n",
    "cur.execute(\"VACUUM;\")\n",
    "cur.execute(\"ANALYZE;\")\n",
    "conn.commit()\n",
    "cur.close()"
   ]
  },
  {
   "cell_type": "code",
   "execution_count": 37,
   "metadata": {},
   "outputs": [
    {
     "data": {
      "text/plain": [
       "25"
      ]
     },
     "execution_count": 37,
     "metadata": {},
     "output_type": "execute_result"
    }
   ],
   "source": [
    "len(testset)"
   ]
  },
  {
   "cell_type": "code",
   "execution_count": 57,
   "metadata": {},
   "outputs": [
    {
     "data": {
      "text/plain": [
       "[Example({'instruction': 'Create a column called \"paid_without_obligation\" which is a boolean on a per case basis. TRUE if the column \"obligation_topay_cancelled\" == TRUE AND the column \"fully_paid\" == TRUE. If else \"paid_without_obligation\" == FALSE. Makse sure all values for \"paid_without_obligation\" are the same across all rows of a case.', 'column': 'paid_without_obligation', 'df_name': 4, 'example': 0         False\n",
       " 1         False\n",
       " 2         False\n",
       " 3         False\n",
       " 4         False\n",
       "           ...  \n",
       " 561465    False\n",
       " 561466    False\n",
       " 561467    False\n",
       " 561468    False\n",
       " 561469    False\n",
       " Name: paid_without_obligation, Length: 561470, dtype: bool}) (input_keys={'instruction'})]"
      ]
     },
     "execution_count": 57,
     "metadata": {},
     "output_type": "execute_result"
    }
   ],
   "source": [
    "testset[24:]"
   ]
  },
  {
   "cell_type": "code",
   "execution_count": 176,
   "metadata": {},
   "outputs": [],
   "source": [
    "evaluate = Evaluate(devset=testset, metric= PM_Metric, num_threads = 1, display_progress= True, display_table = len(testset), return_outputs=True, provide_traceback=True, max_errors=30)"
   ]
  },
  {
   "cell_type": "code",
   "execution_count": 177,
   "metadata": {},
   "outputs": [
    {
     "name": "stdout",
     "output_type": "stream",
     "text": [
      "  0%|          | 0/25 [00:00<?, ?it/s]length of dp 561470\n",
      "column type of new column bool\n",
      "pre_float_check True\n",
      "pre_distinc_value_check True\n"
     ]
    },
    {
     "name": "stderr",
     "output_type": "stream",
     "text": [
      "2024/12/27 13:04:34 INFO dspy.primitives.assertions: SuggestionFailed: Column description must be short and less than 350 characters\n",
      "2024/12/27 13:04:34 ERROR dspy.utils.parallelizer: Error processing item Example({'instruction': 'Create column called \"dismissed_by_prefecture\", defined as a boolean. True if any of the values of a case in column dismissal = \"#\" , if not False. Apply the same value across all rows of each case', 'column': 'dismissed_by_prefecture', 'df_name': 1, 'example': 0         False\n",
      "1         False\n",
      "2         False\n",
      "3         False\n",
      "4         False\n",
      "          ...  \n",
      "561465    False\n",
      "561466    False\n",
      "561467    False\n",
      "561468    False\n",
      "561469    False\n",
      "Name: dismissed_by_prefecture, Length: 561470, dtype: bool}) (input_keys={'instruction'}): Column description must be short and less than 350 characters\n",
      "Stack trace:\n",
      "Traceback (most recent call last):\n",
      "  File \"/Users/sulzair/Documents/Bachelor Thesis/dspy_v2/dspy_v2/lib/python3.12/site-packages/dspy/utils/parallelizer.py\", line 47, in wrapped\n",
      "    return function(item)\n",
      "           ^^^^^^^^^^^^^^\n",
      "  File \"/Users/sulzair/Documents/Bachelor Thesis/dspy_v2/dspy_v2/lib/python3.12/site-packages/dspy/evaluate/evaluate.py\", line 101, in process_item\n",
      "    prediction = program(**example.inputs())\n",
      "                 ^^^^^^^^^^^^^^^^^^^^^^^^^^^\n",
      "  File \"/Users/sulzair/Documents/Bachelor Thesis/dspy_v2/dspy_v2/lib/python3.12/site-packages/openinference/instrumentation/dspy/__init__.py\", line 374, in __call__\n",
      "    prediction = wrapped(*args, **kwargs)\n",
      "                 ^^^^^^^^^^^^^^^^^^^^^^^^\n",
      "  File \"/Users/sulzair/Documents/Bachelor Thesis/dspy_v2/dspy_v2/lib/python3.12/site-packages/dspy/utils/callback.py\", line 234, in wrapper\n",
      "    return fn(instance, *args, **kwargs)\n",
      "           ^^^^^^^^^^^^^^^^^^^^^^^^^^^^^\n",
      "  File \"/Users/sulzair/Documents/Bachelor Thesis/dspy_v2/dspy_v2/lib/python3.12/site-packages/dspy/primitives/program.py\", line 24, in __call__\n",
      "    return self.forward(*args, **kwargs)\n",
      "           ^^^^^^^^^^^^^^^^^^^^^^^^^^^^^\n",
      "  File \"/Users/sulzair/Documents/Bachelor Thesis/dspy_v2/Programs/PY_programs/python_simple.py\", line 282, in forward\n",
      "    dspy.Suggest(\n",
      "  File \"/Users/sulzair/Documents/Bachelor Thesis/dspy_v2/dspy_v2/lib/python3.12/site-packages/dspy/primitives/assertions.py\", line 76, in __init__\n",
      "    self.__call__()\n",
      "  File \"/Users/sulzair/Documents/Bachelor Thesis/dspy_v2/dspy_v2/lib/python3.12/site-packages/dspy/primitives/assertions.py\", line 114, in __call__\n",
      "    raise DSPySuggestionError(\n",
      "dspy.primitives.assertions.DSPySuggestionError: Column description must be short and less than 350 characters\n",
      "\n"
     ]
    },
    {
     "name": "stdout",
     "output_type": "stream",
     "text": [
      "Average Metric: 0.00 / 25 (0.0%):   4%|▍         | 1/25 [00:23<09:31, 23.82s/it]"
     ]
    },
    {
     "name": "stderr",
     "output_type": "stream",
     "text": [
      "2024/12/27 13:04:39 INFO dspy.primitives.assertions: SuggestionFailed: Error executing codename 'dp' is not defined\n",
      "Stack trace:\n",
      "Line 3: dp['dismissed_by_judge'] = dp.groupby('case_concept_name')['dismissal'].transform(lambda x: 'G' in x.values)\n",
      "2024/12/27 13:04:39 ERROR dspy.utils.parallelizer: Error processing item Example({'instruction': 'Create column called \"dismissed_by_judge\", defined as a boolean. True if any of the values of a case in column dismissal = \"G\" , if not False. Apply the same value across all rows of each case', 'column': 'dismissed_by_judge', 'df_name': 1, 'example': 0         False\n",
      "1         False\n",
      "2         False\n",
      "3         False\n",
      "4         False\n",
      "          ...  \n",
      "561465    False\n",
      "561466    False\n",
      "561467    False\n",
      "561468    False\n",
      "561469    False\n",
      "Name: dismissed_by_judge, Length: 561470, dtype: bool}) (input_keys={'instruction'}): Error executing codename 'dp' is not defined\n",
      "Stack trace:\n",
      "Line 3: dp['dismissed_by_judge'] = dp.groupby('case_concept_name')['dismissal'].transform(lambda x: 'G' in x.values)\n",
      "Stack trace:\n",
      "Traceback (most recent call last):\n",
      "  File \"/Users/sulzair/Documents/Bachelor Thesis/dspy_v2/dspy_v2/lib/python3.12/site-packages/dspy/utils/parallelizer.py\", line 47, in wrapped\n",
      "    return function(item)\n",
      "           ^^^^^^^^^^^^^^\n",
      "  File \"/Users/sulzair/Documents/Bachelor Thesis/dspy_v2/dspy_v2/lib/python3.12/site-packages/dspy/evaluate/evaluate.py\", line 101, in process_item\n",
      "    prediction = program(**example.inputs())\n",
      "                 ^^^^^^^^^^^^^^^^^^^^^^^^^^^\n",
      "  File \"/Users/sulzair/Documents/Bachelor Thesis/dspy_v2/dspy_v2/lib/python3.12/site-packages/openinference/instrumentation/dspy/__init__.py\", line 374, in __call__\n",
      "    prediction = wrapped(*args, **kwargs)\n",
      "                 ^^^^^^^^^^^^^^^^^^^^^^^^\n",
      "  File \"/Users/sulzair/Documents/Bachelor Thesis/dspy_v2/dspy_v2/lib/python3.12/site-packages/dspy/utils/callback.py\", line 234, in wrapper\n",
      "    return fn(instance, *args, **kwargs)\n",
      "           ^^^^^^^^^^^^^^^^^^^^^^^^^^^^^\n",
      "  File \"/Users/sulzair/Documents/Bachelor Thesis/dspy_v2/dspy_v2/lib/python3.12/site-packages/dspy/primitives/program.py\", line 24, in __call__\n",
      "    return self.forward(*args, **kwargs)\n",
      "           ^^^^^^^^^^^^^^^^^^^^^^^^^^^^^\n",
      "  File \"/Users/sulzair/Documents/Bachelor Thesis/dspy_v2/Programs/PY_programs/python_simple.py\", line 208, in forward\n",
      "    dspy.Suggest(\n",
      "  File \"/Users/sulzair/Documents/Bachelor Thesis/dspy_v2/dspy_v2/lib/python3.12/site-packages/dspy/primitives/assertions.py\", line 76, in __init__\n",
      "    self.__call__()\n",
      "  File \"/Users/sulzair/Documents/Bachelor Thesis/dspy_v2/dspy_v2/lib/python3.12/site-packages/dspy/primitives/assertions.py\", line 114, in __call__\n",
      "    raise DSPySuggestionError(\n",
      "dspy.primitives.assertions.DSPySuggestionError: Error executing codename 'dp' is not defined\n",
      "Stack trace:\n",
      "Line 3: dp['dismissed_by_judge'] = dp.groupby('case_concept_name')['dismissal'].transform(lambda x: 'G' in x.values)\n",
      "\n"
     ]
    },
    {
     "name": "stdout",
     "output_type": "stream",
     "text": [
      "Average Metric: 0.00 / 25 (0.0%):   8%|▊         | 2/25 [00:28<04:52, 12.72s/it]"
     ]
    },
    {
     "name": "stderr",
     "output_type": "stream",
     "text": [
      "2024/12/27 13:04:40 INFO dspy.primitives.assertions: SuggestionFailed: Column type must be either INTEGER, BOOLEAN or DATETIME\n",
      "2024/12/27 13:04:40 ERROR dspy.utils.parallelizer: Error processing item Example({'instruction': 'Create a column called \"maxtotalPaymentAmount\", type int, which for every case is the highest \"totalPaymentAmount\" value, if all the values of \"totalPaymentAmount\" are Nan or Null, simply use 0 instead. Make sure its the same value applied to each row of a case', 'column': 'maxtotalPaymentAmount', 'df_name': 1, 'example': 0         0\n",
      "1         0\n",
      "2         0\n",
      "3         0\n",
      "4         0\n",
      "         ..\n",
      "561465    0\n",
      "561466    0\n",
      "561467    0\n",
      "561468    0\n",
      "561469    0\n",
      "Name: maxtotalPaymentAmount, Length: 561470, dtype: int64}) (input_keys={'instruction'}): Column type must be either INTEGER, BOOLEAN or DATETIME\n",
      "Stack trace:\n",
      "Traceback (most recent call last):\n",
      "  File \"/Users/sulzair/Documents/Bachelor Thesis/dspy_v2/dspy_v2/lib/python3.12/site-packages/dspy/utils/parallelizer.py\", line 47, in wrapped\n",
      "    return function(item)\n",
      "           ^^^^^^^^^^^^^^\n",
      "  File \"/Users/sulzair/Documents/Bachelor Thesis/dspy_v2/dspy_v2/lib/python3.12/site-packages/dspy/evaluate/evaluate.py\", line 101, in process_item\n",
      "    prediction = program(**example.inputs())\n",
      "                 ^^^^^^^^^^^^^^^^^^^^^^^^^^^\n",
      "  File \"/Users/sulzair/Documents/Bachelor Thesis/dspy_v2/dspy_v2/lib/python3.12/site-packages/openinference/instrumentation/dspy/__init__.py\", line 374, in __call__\n",
      "    prediction = wrapped(*args, **kwargs)\n",
      "                 ^^^^^^^^^^^^^^^^^^^^^^^^\n",
      "  File \"/Users/sulzair/Documents/Bachelor Thesis/dspy_v2/dspy_v2/lib/python3.12/site-packages/dspy/utils/callback.py\", line 234, in wrapper\n",
      "    return fn(instance, *args, **kwargs)\n",
      "           ^^^^^^^^^^^^^^^^^^^^^^^^^^^^^\n",
      "  File \"/Users/sulzair/Documents/Bachelor Thesis/dspy_v2/dspy_v2/lib/python3.12/site-packages/dspy/primitives/program.py\", line 24, in __call__\n",
      "    return self.forward(*args, **kwargs)\n",
      "           ^^^^^^^^^^^^^^^^^^^^^^^^^^^^^\n",
      "  File \"/Users/sulzair/Documents/Bachelor Thesis/dspy_v2/Programs/PY_programs/python_simple.py\", line 151, in forward\n",
      "    dspy.Suggest(\n",
      "  File \"/Users/sulzair/Documents/Bachelor Thesis/dspy_v2/dspy_v2/lib/python3.12/site-packages/dspy/primitives/assertions.py\", line 76, in __init__\n",
      "    self.__call__()\n",
      "  File \"/Users/sulzair/Documents/Bachelor Thesis/dspy_v2/dspy_v2/lib/python3.12/site-packages/dspy/primitives/assertions.py\", line 114, in __call__\n",
      "    raise DSPySuggestionError(\n",
      "dspy.primitives.assertions.DSPySuggestionError: Column type must be either INTEGER, BOOLEAN or DATETIME\n",
      "\n"
     ]
    },
    {
     "name": "stdout",
     "output_type": "stream",
     "text": [
      "Average Metric: 0.00 / 25 (0.0%):  12%|█▏        | 3/25 [00:29<02:43,  7.43s/it]"
     ]
    },
    {
     "name": "stderr",
     "output_type": "stream",
     "text": [
      "2024/12/27 13:04:41 INFO dspy.primitives.assertions: SuggestionFailed: Column type must be either INTEGER, BOOLEAN or DATETIME\n",
      "2024/12/27 13:04:41 ERROR dspy.utils.parallelizer: Error processing item Example({'instruction': 'Create a column called \"expense_sum\", defined as type int, which sums all \"expense\" values per case, make sure this exepense_sum is the same for every row in a case', 'column': 'expense_sum', 'df_name': 1, 'example': 0         1100\n",
      "1         1100\n",
      "2         1100\n",
      "3         1100\n",
      "4         1100\n",
      "          ... \n",
      "561465    1516\n",
      "561466    1516\n",
      "561467    1516\n",
      "561468    1516\n",
      "561469    1516\n",
      "Name: expense_sum, Length: 561470, dtype: int64}) (input_keys={'instruction'}): Column type must be either INTEGER, BOOLEAN or DATETIME\n",
      "Stack trace:\n",
      "Traceback (most recent call last):\n",
      "  File \"/Users/sulzair/Documents/Bachelor Thesis/dspy_v2/dspy_v2/lib/python3.12/site-packages/dspy/utils/parallelizer.py\", line 47, in wrapped\n",
      "    return function(item)\n",
      "           ^^^^^^^^^^^^^^\n",
      "  File \"/Users/sulzair/Documents/Bachelor Thesis/dspy_v2/dspy_v2/lib/python3.12/site-packages/dspy/evaluate/evaluate.py\", line 101, in process_item\n",
      "    prediction = program(**example.inputs())\n",
      "                 ^^^^^^^^^^^^^^^^^^^^^^^^^^^\n",
      "  File \"/Users/sulzair/Documents/Bachelor Thesis/dspy_v2/dspy_v2/lib/python3.12/site-packages/openinference/instrumentation/dspy/__init__.py\", line 374, in __call__\n",
      "    prediction = wrapped(*args, **kwargs)\n",
      "                 ^^^^^^^^^^^^^^^^^^^^^^^^\n",
      "  File \"/Users/sulzair/Documents/Bachelor Thesis/dspy_v2/dspy_v2/lib/python3.12/site-packages/dspy/utils/callback.py\", line 234, in wrapper\n",
      "    return fn(instance, *args, **kwargs)\n",
      "           ^^^^^^^^^^^^^^^^^^^^^^^^^^^^^\n",
      "  File \"/Users/sulzair/Documents/Bachelor Thesis/dspy_v2/dspy_v2/lib/python3.12/site-packages/dspy/primitives/program.py\", line 24, in __call__\n",
      "    return self.forward(*args, **kwargs)\n",
      "           ^^^^^^^^^^^^^^^^^^^^^^^^^^^^^\n",
      "  File \"/Users/sulzair/Documents/Bachelor Thesis/dspy_v2/Programs/PY_programs/python_simple.py\", line 151, in forward\n",
      "    dspy.Suggest(\n",
      "  File \"/Users/sulzair/Documents/Bachelor Thesis/dspy_v2/dspy_v2/lib/python3.12/site-packages/dspy/primitives/assertions.py\", line 76, in __init__\n",
      "    self.__call__()\n",
      "  File \"/Users/sulzair/Documents/Bachelor Thesis/dspy_v2/dspy_v2/lib/python3.12/site-packages/dspy/primitives/assertions.py\", line 114, in __call__\n",
      "    raise DSPySuggestionError(\n",
      "dspy.primitives.assertions.DSPySuggestionError: Column type must be either INTEGER, BOOLEAN or DATETIME\n",
      "\n"
     ]
    },
    {
     "name": "stdout",
     "output_type": "stream",
     "text": [
      "Average Metric: 0.00 / 25 (0.0%):  16%|█▌        | 4/25 [00:30<01:42,  4.86s/it]"
     ]
    },
    {
     "name": "stderr",
     "output_type": "stream",
     "text": [
      "2024/12/27 13:04:42 INFO dspy.primitives.assertions: SuggestionFailed: Column type must be either INTEGER, BOOLEAN or DATETIME\n",
      "2024/12/27 13:04:42 ERROR dspy.utils.parallelizer: Error processing item Example({'instruction': 'Create a column called \"amount_last\", defined as type int, which takes the highest \"amount\" value per case, make sure \"amount_last\" is the same for every row in a case', 'column': 'amount_last', 'df_name': 1, 'example': 0          3500\n",
      "1          3500\n",
      "2          7150\n",
      "3          7150\n",
      "4          7150\n",
      "          ...  \n",
      "561465    26200\n",
      "561466    26200\n",
      "561467    26200\n",
      "561468    26200\n",
      "561469    26200\n",
      "Name: amount_last, Length: 561470, dtype: int64}) (input_keys={'instruction'}): Column type must be either INTEGER, BOOLEAN or DATETIME\n",
      "Stack trace:\n",
      "Traceback (most recent call last):\n",
      "  File \"/Users/sulzair/Documents/Bachelor Thesis/dspy_v2/dspy_v2/lib/python3.12/site-packages/dspy/utils/parallelizer.py\", line 47, in wrapped\n",
      "    return function(item)\n",
      "           ^^^^^^^^^^^^^^\n",
      "  File \"/Users/sulzair/Documents/Bachelor Thesis/dspy_v2/dspy_v2/lib/python3.12/site-packages/dspy/evaluate/evaluate.py\", line 101, in process_item\n",
      "    prediction = program(**example.inputs())\n",
      "                 ^^^^^^^^^^^^^^^^^^^^^^^^^^^\n",
      "  File \"/Users/sulzair/Documents/Bachelor Thesis/dspy_v2/dspy_v2/lib/python3.12/site-packages/openinference/instrumentation/dspy/__init__.py\", line 374, in __call__\n",
      "    prediction = wrapped(*args, **kwargs)\n",
      "                 ^^^^^^^^^^^^^^^^^^^^^^^^\n",
      "  File \"/Users/sulzair/Documents/Bachelor Thesis/dspy_v2/dspy_v2/lib/python3.12/site-packages/dspy/utils/callback.py\", line 234, in wrapper\n",
      "    return fn(instance, *args, **kwargs)\n",
      "           ^^^^^^^^^^^^^^^^^^^^^^^^^^^^^\n",
      "  File \"/Users/sulzair/Documents/Bachelor Thesis/dspy_v2/dspy_v2/lib/python3.12/site-packages/dspy/primitives/program.py\", line 24, in __call__\n",
      "    return self.forward(*args, **kwargs)\n",
      "           ^^^^^^^^^^^^^^^^^^^^^^^^^^^^^\n",
      "  File \"/Users/sulzair/Documents/Bachelor Thesis/dspy_v2/Programs/PY_programs/python_simple.py\", line 151, in forward\n",
      "    dspy.Suggest(\n",
      "  File \"/Users/sulzair/Documents/Bachelor Thesis/dspy_v2/dspy_v2/lib/python3.12/site-packages/dspy/primitives/assertions.py\", line 76, in __init__\n",
      "    self.__call__()\n",
      "  File \"/Users/sulzair/Documents/Bachelor Thesis/dspy_v2/dspy_v2/lib/python3.12/site-packages/dspy/primitives/assertions.py\", line 114, in __call__\n",
      "    raise DSPySuggestionError(\n",
      "dspy.primitives.assertions.DSPySuggestionError: Column type must be either INTEGER, BOOLEAN or DATETIME\n",
      "\n"
     ]
    },
    {
     "name": "stdout",
     "output_type": "stream",
     "text": [
      "Average Metric: 0.00 / 25 (0.0%):  20%|██        | 5/25 [00:31<01:09,  3.49s/it]length of dp 561470\n",
      "column type of new column bool\n",
      "pre_float_check True\n",
      "pre_distinc_value_check True\n"
     ]
    },
    {
     "name": "stderr",
     "output_type": "stream",
     "text": [
      "2024/12/27 13:05:06 INFO dspy.primitives.assertions: SuggestionFailed: Column description must be short and less than 350 characters\n",
      "2024/12/27 13:05:06 ERROR dspy.utils.parallelizer: Error processing item Example({'instruction': 'Create a column called \"dismissed\" which is a boolean, TRUE if any of the values in a case of \"dismissal\" contain either  \"G\" or \"#\", if not False. Apply the same value across all rows of each case', 'column': 'dismissed', 'df_name': 1, 'example': 0         False\n",
      "1         False\n",
      "2         False\n",
      "3         False\n",
      "4         False\n",
      "          ...  \n",
      "561465    False\n",
      "561466    False\n",
      "561467    False\n",
      "561468    False\n",
      "561469    False\n",
      "Name: dismissed, Length: 561470, dtype: bool}) (input_keys={'instruction'}): Column description must be short and less than 350 characters\n",
      "Stack trace:\n",
      "Traceback (most recent call last):\n",
      "  File \"/Users/sulzair/Documents/Bachelor Thesis/dspy_v2/dspy_v2/lib/python3.12/site-packages/dspy/utils/parallelizer.py\", line 47, in wrapped\n",
      "    return function(item)\n",
      "           ^^^^^^^^^^^^^^\n",
      "  File \"/Users/sulzair/Documents/Bachelor Thesis/dspy_v2/dspy_v2/lib/python3.12/site-packages/dspy/evaluate/evaluate.py\", line 101, in process_item\n",
      "    prediction = program(**example.inputs())\n",
      "                 ^^^^^^^^^^^^^^^^^^^^^^^^^^^\n",
      "  File \"/Users/sulzair/Documents/Bachelor Thesis/dspy_v2/dspy_v2/lib/python3.12/site-packages/openinference/instrumentation/dspy/__init__.py\", line 374, in __call__\n",
      "    prediction = wrapped(*args, **kwargs)\n",
      "                 ^^^^^^^^^^^^^^^^^^^^^^^^\n",
      "  File \"/Users/sulzair/Documents/Bachelor Thesis/dspy_v2/dspy_v2/lib/python3.12/site-packages/dspy/utils/callback.py\", line 234, in wrapper\n",
      "    return fn(instance, *args, **kwargs)\n",
      "           ^^^^^^^^^^^^^^^^^^^^^^^^^^^^^\n",
      "  File \"/Users/sulzair/Documents/Bachelor Thesis/dspy_v2/dspy_v2/lib/python3.12/site-packages/dspy/primitives/program.py\", line 24, in __call__\n",
      "    return self.forward(*args, **kwargs)\n",
      "           ^^^^^^^^^^^^^^^^^^^^^^^^^^^^^\n",
      "  File \"/Users/sulzair/Documents/Bachelor Thesis/dspy_v2/Programs/PY_programs/python_simple.py\", line 282, in forward\n",
      "    dspy.Suggest(\n",
      "  File \"/Users/sulzair/Documents/Bachelor Thesis/dspy_v2/dspy_v2/lib/python3.12/site-packages/dspy/primitives/assertions.py\", line 76, in __init__\n",
      "    self.__call__()\n",
      "  File \"/Users/sulzair/Documents/Bachelor Thesis/dspy_v2/dspy_v2/lib/python3.12/site-packages/dspy/primitives/assertions.py\", line 114, in __call__\n",
      "    raise DSPySuggestionError(\n",
      "dspy.primitives.assertions.DSPySuggestionError: Column description must be short and less than 350 characters\n",
      "\n"
     ]
    },
    {
     "name": "stdout",
     "output_type": "stream",
     "text": [
      "Average Metric: 0.00 / 25 (0.0%):  24%|██▍       | 6/25 [00:55<03:18, 10.46s/it]length of dp 561470\n",
      "column type of new column bool\n",
      "pre_float_check True\n",
      "pre_distinc_value_check True\n"
     ]
    },
    {
     "name": "stderr",
     "output_type": "stream",
     "text": [
      "2024/12/27 13:05:38 INFO dspy.primitives.assertions: SuggestionFailed: Column description must be short and less than 350 characters\n",
      "2024/12/27 13:05:38 ERROR dspy.utils.parallelizer: Error processing item Example({'instruction': 'Create a column called \"credit_collected\" which is a boolean. True if any of the values in a case in the column \"concept_name\" contain \"Send for Credit Collection\", if not False. Apply the same value across all rows of each case.', 'column': 'credit_collected', 'df_name': 1, 'example': 0         False\n",
      "1         False\n",
      "2          True\n",
      "3          True\n",
      "4          True\n",
      "          ...  \n",
      "561465     True\n",
      "561466     True\n",
      "561467     True\n",
      "561468     True\n",
      "561469     True\n",
      "Name: credit_collected, Length: 561470, dtype: bool}) (input_keys={'instruction'}): Column description must be short and less than 350 characters\n",
      "Stack trace:\n",
      "Traceback (most recent call last):\n",
      "  File \"/Users/sulzair/Documents/Bachelor Thesis/dspy_v2/dspy_v2/lib/python3.12/site-packages/dspy/utils/parallelizer.py\", line 47, in wrapped\n",
      "    return function(item)\n",
      "           ^^^^^^^^^^^^^^\n",
      "  File \"/Users/sulzair/Documents/Bachelor Thesis/dspy_v2/dspy_v2/lib/python3.12/site-packages/dspy/evaluate/evaluate.py\", line 101, in process_item\n",
      "    prediction = program(**example.inputs())\n",
      "                 ^^^^^^^^^^^^^^^^^^^^^^^^^^^\n",
      "  File \"/Users/sulzair/Documents/Bachelor Thesis/dspy_v2/dspy_v2/lib/python3.12/site-packages/openinference/instrumentation/dspy/__init__.py\", line 374, in __call__\n",
      "    prediction = wrapped(*args, **kwargs)\n",
      "                 ^^^^^^^^^^^^^^^^^^^^^^^^\n",
      "  File \"/Users/sulzair/Documents/Bachelor Thesis/dspy_v2/dspy_v2/lib/python3.12/site-packages/dspy/utils/callback.py\", line 234, in wrapper\n",
      "    return fn(instance, *args, **kwargs)\n",
      "           ^^^^^^^^^^^^^^^^^^^^^^^^^^^^^\n",
      "  File \"/Users/sulzair/Documents/Bachelor Thesis/dspy_v2/dspy_v2/lib/python3.12/site-packages/dspy/primitives/program.py\", line 24, in __call__\n",
      "    return self.forward(*args, **kwargs)\n",
      "           ^^^^^^^^^^^^^^^^^^^^^^^^^^^^^\n",
      "  File \"/Users/sulzair/Documents/Bachelor Thesis/dspy_v2/Programs/PY_programs/python_simple.py\", line 282, in forward\n",
      "    dspy.Suggest(\n",
      "  File \"/Users/sulzair/Documents/Bachelor Thesis/dspy_v2/dspy_v2/lib/python3.12/site-packages/dspy/primitives/assertions.py\", line 76, in __init__\n",
      "    self.__call__()\n",
      "  File \"/Users/sulzair/Documents/Bachelor Thesis/dspy_v2/dspy_v2/lib/python3.12/site-packages/dspy/primitives/assertions.py\", line 114, in __call__\n",
      "    raise DSPySuggestionError(\n",
      "dspy.primitives.assertions.DSPySuggestionError: Column description must be short and less than 350 characters\n",
      "\n"
     ]
    },
    {
     "name": "stdout",
     "output_type": "stream",
     "text": [
      "Average Metric: 0.00 / 25 (0.0%):  28%|██▊       | 7/25 [01:27<05:10, 17.25s/it]length of dp 561470\n",
      "column type of new column bool\n",
      "pre_float_check True\n",
      "pre_distinc_value_check True\n"
     ]
    },
    {
     "name": "stderr",
     "output_type": "stream",
     "text": [
      "2024/12/27 13:06:13 INFO dspy.primitives.assertions: SuggestionFailed: Column description must be short and less than 350 characters\n",
      "2024/12/27 13:06:13 ERROR dspy.utils.parallelizer: Error processing item Example({'instruction': 'Create a column called \"penalty_added\" which is a boolean, TRUE if any of the values in a case in the column \"concept_name\"contain \"Add penalty\", if not False. Apply the same value across all rows of each case.', 'column': 'penalty_added', 'df_name': 1, 'example': 0         False\n",
      "1         False\n",
      "2          True\n",
      "3          True\n",
      "4          True\n",
      "          ...  \n",
      "561465     True\n",
      "561466     True\n",
      "561467     True\n",
      "561468     True\n",
      "561469     True\n",
      "Name: penalty_added, Length: 561470, dtype: bool}) (input_keys={'instruction'}): Column description must be short and less than 350 characters\n",
      "Stack trace:\n",
      "Traceback (most recent call last):\n",
      "  File \"/Users/sulzair/Documents/Bachelor Thesis/dspy_v2/dspy_v2/lib/python3.12/site-packages/dspy/utils/parallelizer.py\", line 47, in wrapped\n",
      "    return function(item)\n",
      "           ^^^^^^^^^^^^^^\n",
      "  File \"/Users/sulzair/Documents/Bachelor Thesis/dspy_v2/dspy_v2/lib/python3.12/site-packages/dspy/evaluate/evaluate.py\", line 101, in process_item\n",
      "    prediction = program(**example.inputs())\n",
      "                 ^^^^^^^^^^^^^^^^^^^^^^^^^^^\n",
      "  File \"/Users/sulzair/Documents/Bachelor Thesis/dspy_v2/dspy_v2/lib/python3.12/site-packages/openinference/instrumentation/dspy/__init__.py\", line 374, in __call__\n",
      "    prediction = wrapped(*args, **kwargs)\n",
      "                 ^^^^^^^^^^^^^^^^^^^^^^^^\n",
      "  File \"/Users/sulzair/Documents/Bachelor Thesis/dspy_v2/dspy_v2/lib/python3.12/site-packages/dspy/utils/callback.py\", line 234, in wrapper\n",
      "    return fn(instance, *args, **kwargs)\n",
      "           ^^^^^^^^^^^^^^^^^^^^^^^^^^^^^\n",
      "  File \"/Users/sulzair/Documents/Bachelor Thesis/dspy_v2/dspy_v2/lib/python3.12/site-packages/dspy/primitives/program.py\", line 24, in __call__\n",
      "    return self.forward(*args, **kwargs)\n",
      "           ^^^^^^^^^^^^^^^^^^^^^^^^^^^^^\n",
      "  File \"/Users/sulzair/Documents/Bachelor Thesis/dspy_v2/Programs/PY_programs/python_simple.py\", line 282, in forward\n",
      "    dspy.Suggest(\n",
      "  File \"/Users/sulzair/Documents/Bachelor Thesis/dspy_v2/dspy_v2/lib/python3.12/site-packages/dspy/primitives/assertions.py\", line 76, in __init__\n",
      "    self.__call__()\n",
      "  File \"/Users/sulzair/Documents/Bachelor Thesis/dspy_v2/dspy_v2/lib/python3.12/site-packages/dspy/primitives/assertions.py\", line 114, in __call__\n",
      "    raise DSPySuggestionError(\n",
      "dspy.primitives.assertions.DSPySuggestionError: Column description must be short and less than 350 characters\n",
      "\n"
     ]
    },
    {
     "name": "stdout",
     "output_type": "stream",
     "text": [
      "Average Metric: 0.00 / 25 (0.0%):  32%|███▏      | 8/25 [02:02<06:33, 23.14s/it]length of dp 561470\n",
      "column type of new column bool\n",
      "pre_float_check True\n",
      "pre_distinc_value_check True\n"
     ]
    },
    {
     "name": "stderr",
     "output_type": "stream",
     "text": [
      "2024/12/27 13:06:35 INFO dspy.primitives.assertions: SuggestionFailed: Column description must be short and less than 350 characters\n",
      "2024/12/27 13:06:35 ERROR dspy.utils.parallelizer: Error processing item Example({'instruction': 'Create a column called \"appealed_to_judge\" which is a boolean. TRUE if any of the values in a case in the column \"concept_name\" of a case contains \"Appeal to Judge\". False if else. Make sure \"appealed_to_judge\" is the same value across all rows of a case.', 'column': 'appealed_to_judge', 'df_name': 1, 'example': 0         False\n",
      "1         False\n",
      "2         False\n",
      "3         False\n",
      "4         False\n",
      "          ...  \n",
      "561465    False\n",
      "561466    False\n",
      "561467    False\n",
      "561468    False\n",
      "561469    False\n",
      "Name: appealed_to_judge, Length: 561470, dtype: bool}) (input_keys={'instruction'}): Column description must be short and less than 350 characters\n",
      "Stack trace:\n",
      "Traceback (most recent call last):\n",
      "  File \"/Users/sulzair/Documents/Bachelor Thesis/dspy_v2/dspy_v2/lib/python3.12/site-packages/dspy/utils/parallelizer.py\", line 47, in wrapped\n",
      "    return function(item)\n",
      "           ^^^^^^^^^^^^^^\n",
      "  File \"/Users/sulzair/Documents/Bachelor Thesis/dspy_v2/dspy_v2/lib/python3.12/site-packages/dspy/evaluate/evaluate.py\", line 101, in process_item\n",
      "    prediction = program(**example.inputs())\n",
      "                 ^^^^^^^^^^^^^^^^^^^^^^^^^^^\n",
      "  File \"/Users/sulzair/Documents/Bachelor Thesis/dspy_v2/dspy_v2/lib/python3.12/site-packages/openinference/instrumentation/dspy/__init__.py\", line 374, in __call__\n",
      "    prediction = wrapped(*args, **kwargs)\n",
      "                 ^^^^^^^^^^^^^^^^^^^^^^^^\n",
      "  File \"/Users/sulzair/Documents/Bachelor Thesis/dspy_v2/dspy_v2/lib/python3.12/site-packages/dspy/utils/callback.py\", line 234, in wrapper\n",
      "    return fn(instance, *args, **kwargs)\n",
      "           ^^^^^^^^^^^^^^^^^^^^^^^^^^^^^\n",
      "  File \"/Users/sulzair/Documents/Bachelor Thesis/dspy_v2/dspy_v2/lib/python3.12/site-packages/dspy/primitives/program.py\", line 24, in __call__\n",
      "    return self.forward(*args, **kwargs)\n",
      "           ^^^^^^^^^^^^^^^^^^^^^^^^^^^^^\n",
      "  File \"/Users/sulzair/Documents/Bachelor Thesis/dspy_v2/Programs/PY_programs/python_simple.py\", line 282, in forward\n",
      "    dspy.Suggest(\n",
      "  File \"/Users/sulzair/Documents/Bachelor Thesis/dspy_v2/dspy_v2/lib/python3.12/site-packages/dspy/primitives/assertions.py\", line 76, in __init__\n",
      "    self.__call__()\n",
      "  File \"/Users/sulzair/Documents/Bachelor Thesis/dspy_v2/dspy_v2/lib/python3.12/site-packages/dspy/primitives/assertions.py\", line 114, in __call__\n",
      "    raise DSPySuggestionError(\n",
      "dspy.primitives.assertions.DSPySuggestionError: Column description must be short and less than 350 characters\n",
      "\n"
     ]
    },
    {
     "name": "stdout",
     "output_type": "stream",
     "text": [
      "Average Metric: 0.00 / 25 (0.0%):  36%|███▌      | 9/25 [02:24<06:03, 22.74s/it]"
     ]
    },
    {
     "name": "stderr",
     "output_type": "stream",
     "text": [
      "2024/12/27 13:06:40 INFO dspy.primitives.assertions: SuggestionFailed: Error executing codename 'dp' is not defined\n",
      "Stack trace:\n",
      "Line 3: dp['appealed_to_prefecture'] = dp.groupby('case_concept_name')['concept_name'].transform(lambda x: 'Insert Date Appeal to Prefecture' in x.values).astype(bool)\n",
      "2024/12/27 13:06:40 ERROR dspy.utils.parallelizer: Error processing item Example({'instruction': 'Create a column called \"appealed_to_prefecture\" which is a boolean. TRUE if any of the values in a case in the column \"concept_name\" of a case contains \"Insert Date Appeal to Prefecture\". False if else. Make sure \"appealed_to_judge\" is the same value across all rows of a case.', 'column': 'appealed_to_prefecture', 'df_name': 1, 'example': 0         False\n",
      "1         False\n",
      "2         False\n",
      "3         False\n",
      "4         False\n",
      "          ...  \n",
      "561465    False\n",
      "561466    False\n",
      "561467    False\n",
      "561468    False\n",
      "561469    False\n",
      "Name: appealed_to_prefecture, Length: 561470, dtype: bool}) (input_keys={'instruction'}): Error executing codename 'dp' is not defined\n",
      "Stack trace:\n",
      "Line 3: dp['appealed_to_prefecture'] = dp.groupby('case_concept_name')['concept_name'].transform(lambda x: 'Insert Date Appeal to Prefecture' in x.values).astype(bool)\n",
      "Stack trace:\n",
      "Traceback (most recent call last):\n",
      "  File \"/Users/sulzair/Documents/Bachelor Thesis/dspy_v2/dspy_v2/lib/python3.12/site-packages/dspy/utils/parallelizer.py\", line 47, in wrapped\n",
      "    return function(item)\n",
      "           ^^^^^^^^^^^^^^\n",
      "  File \"/Users/sulzair/Documents/Bachelor Thesis/dspy_v2/dspy_v2/lib/python3.12/site-packages/dspy/evaluate/evaluate.py\", line 101, in process_item\n",
      "    prediction = program(**example.inputs())\n",
      "                 ^^^^^^^^^^^^^^^^^^^^^^^^^^^\n",
      "  File \"/Users/sulzair/Documents/Bachelor Thesis/dspy_v2/dspy_v2/lib/python3.12/site-packages/openinference/instrumentation/dspy/__init__.py\", line 374, in __call__\n",
      "    prediction = wrapped(*args, **kwargs)\n",
      "                 ^^^^^^^^^^^^^^^^^^^^^^^^\n",
      "  File \"/Users/sulzair/Documents/Bachelor Thesis/dspy_v2/dspy_v2/lib/python3.12/site-packages/dspy/utils/callback.py\", line 234, in wrapper\n",
      "    return fn(instance, *args, **kwargs)\n",
      "           ^^^^^^^^^^^^^^^^^^^^^^^^^^^^^\n",
      "  File \"/Users/sulzair/Documents/Bachelor Thesis/dspy_v2/dspy_v2/lib/python3.12/site-packages/dspy/primitives/program.py\", line 24, in __call__\n",
      "    return self.forward(*args, **kwargs)\n",
      "           ^^^^^^^^^^^^^^^^^^^^^^^^^^^^^\n",
      "  File \"/Users/sulzair/Documents/Bachelor Thesis/dspy_v2/Programs/PY_programs/python_simple.py\", line 208, in forward\n",
      "    dspy.Suggest(\n",
      "  File \"/Users/sulzair/Documents/Bachelor Thesis/dspy_v2/dspy_v2/lib/python3.12/site-packages/dspy/primitives/assertions.py\", line 76, in __init__\n",
      "    self.__call__()\n",
      "  File \"/Users/sulzair/Documents/Bachelor Thesis/dspy_v2/dspy_v2/lib/python3.12/site-packages/dspy/primitives/assertions.py\", line 114, in __call__\n",
      "    raise DSPySuggestionError(\n",
      "dspy.primitives.assertions.DSPySuggestionError: Error executing codename 'dp' is not defined\n",
      "Stack trace:\n",
      "Line 3: dp['appealed_to_prefecture'] = dp.groupby('case_concept_name')['concept_name'].transform(lambda x: 'Insert Date Appeal to Prefecture' in x.values).astype(bool)\n",
      "\n"
     ]
    },
    {
     "name": "stdout",
     "output_type": "stream",
     "text": [
      "Average Metric: 0.00 / 25 (0.0%):  40%|████      | 10/25 [02:29<04:16, 17.12s/it]"
     ]
    },
    {
     "name": "stderr",
     "output_type": "stream",
     "text": [
      "2024/12/27 13:06:41 INFO dspy.primitives.assertions: SuggestionFailed: Column type must be either INTEGER, BOOLEAN or DATETIME\n",
      "2024/12/27 13:06:41 ERROR dspy.utils.parallelizer: Error processing item Example({'instruction': 'Create a column called \"outstanding_balance\", as type int, which is defined as \"amount_last\" + \"expense_sum\" - \"maxtotalPaymentAmount\" for only the last row/event per case (i.e only consider the last row for each case during the calculation), make sure \"outstanding_balance\" is the same for every row in a case.', 'column': 'outstanding_balance', 'df_name': 2, 'example': 0          4600\n",
      "1          4600\n",
      "2          8250\n",
      "3          8250\n",
      "4          8250\n",
      "          ...  \n",
      "561465    27716\n",
      "561466    27716\n",
      "561467    27716\n",
      "561468    27716\n",
      "561469    27716\n",
      "Name: outstanding_balance, Length: 561470, dtype: int64}) (input_keys={'instruction'}): Column type must be either INTEGER, BOOLEAN or DATETIME\n",
      "Stack trace:\n",
      "Traceback (most recent call last):\n",
      "  File \"/Users/sulzair/Documents/Bachelor Thesis/dspy_v2/dspy_v2/lib/python3.12/site-packages/dspy/utils/parallelizer.py\", line 47, in wrapped\n",
      "    return function(item)\n",
      "           ^^^^^^^^^^^^^^\n",
      "  File \"/Users/sulzair/Documents/Bachelor Thesis/dspy_v2/dspy_v2/lib/python3.12/site-packages/dspy/evaluate/evaluate.py\", line 101, in process_item\n",
      "    prediction = program(**example.inputs())\n",
      "                 ^^^^^^^^^^^^^^^^^^^^^^^^^^^\n",
      "  File \"/Users/sulzair/Documents/Bachelor Thesis/dspy_v2/dspy_v2/lib/python3.12/site-packages/openinference/instrumentation/dspy/__init__.py\", line 374, in __call__\n",
      "    prediction = wrapped(*args, **kwargs)\n",
      "                 ^^^^^^^^^^^^^^^^^^^^^^^^\n",
      "  File \"/Users/sulzair/Documents/Bachelor Thesis/dspy_v2/dspy_v2/lib/python3.12/site-packages/dspy/utils/callback.py\", line 234, in wrapper\n",
      "    return fn(instance, *args, **kwargs)\n",
      "           ^^^^^^^^^^^^^^^^^^^^^^^^^^^^^\n",
      "  File \"/Users/sulzair/Documents/Bachelor Thesis/dspy_v2/dspy_v2/lib/python3.12/site-packages/dspy/primitives/program.py\", line 24, in __call__\n",
      "    return self.forward(*args, **kwargs)\n",
      "           ^^^^^^^^^^^^^^^^^^^^^^^^^^^^^\n",
      "  File \"/Users/sulzair/Documents/Bachelor Thesis/dspy_v2/Programs/PY_programs/python_simple.py\", line 151, in forward\n",
      "    dspy.Suggest(\n",
      "  File \"/Users/sulzair/Documents/Bachelor Thesis/dspy_v2/dspy_v2/lib/python3.12/site-packages/dspy/primitives/assertions.py\", line 76, in __init__\n",
      "    self.__call__()\n",
      "  File \"/Users/sulzair/Documents/Bachelor Thesis/dspy_v2/dspy_v2/lib/python3.12/site-packages/dspy/primitives/assertions.py\", line 114, in __call__\n",
      "    raise DSPySuggestionError(\n",
      "dspy.primitives.assertions.DSPySuggestionError: Column type must be either INTEGER, BOOLEAN or DATETIME\n",
      "\n"
     ]
    },
    {
     "name": "stdout",
     "output_type": "stream",
     "text": [
      "Average Metric: 0.00 / 25 (0.0%):  44%|████▍     | 11/25 [02:30<02:51, 12.28s/it]"
     ]
    },
    {
     "name": "stderr",
     "output_type": "stream",
     "text": [
      "2024/12/27 13:06:56 INFO dspy.primitives.assertions: SuggestionFailed: Error executing code'<' not supported between instances of 'int' and 'str'\n",
      "Stack trace:\n",
      "Line 18: ).reindex(dp.index, method='ffill')\n",
      "2024/12/27 13:06:56 ERROR dspy.utils.parallelizer: Error processing item Example({'instruction': 'Create a column called \"credit_collected_AND_dismissed\" which is a boolean. Defined as TRUE if per case any of the rows are TRUE in the column \"dismissed\" and TRUE for the column \"credit_collected\". If Else False. Make sure the value for \"credit_collected_AND_dismissed\" is the same across all rows of a case. ', 'column': 'credit_collected_AND_dismissed', 'df_name': 2, 'example': 0         False\n",
      "1         False\n",
      "2         False\n",
      "3         False\n",
      "4         False\n",
      "          ...  \n",
      "561465    False\n",
      "561466    False\n",
      "561467    False\n",
      "561468    False\n",
      "561469    False\n",
      "Name: credit_collected_AND_dismissed, Length: 561470, dtype: bool}) (input_keys={'instruction'}): Error executing code'<' not supported between instances of 'int' and 'str'\n",
      "Stack trace:\n",
      "Line 18: ).reindex(dp.index, method='ffill')\n",
      "Stack trace:\n",
      "Traceback (most recent call last):\n",
      "  File \"/Users/sulzair/Documents/Bachelor Thesis/dspy_v2/dspy_v2/lib/python3.12/site-packages/dspy/utils/parallelizer.py\", line 47, in wrapped\n",
      "    return function(item)\n",
      "           ^^^^^^^^^^^^^^\n",
      "  File \"/Users/sulzair/Documents/Bachelor Thesis/dspy_v2/dspy_v2/lib/python3.12/site-packages/dspy/evaluate/evaluate.py\", line 101, in process_item\n",
      "    prediction = program(**example.inputs())\n",
      "                 ^^^^^^^^^^^^^^^^^^^^^^^^^^^\n",
      "  File \"/Users/sulzair/Documents/Bachelor Thesis/dspy_v2/dspy_v2/lib/python3.12/site-packages/openinference/instrumentation/dspy/__init__.py\", line 374, in __call__\n",
      "    prediction = wrapped(*args, **kwargs)\n",
      "                 ^^^^^^^^^^^^^^^^^^^^^^^^\n",
      "  File \"/Users/sulzair/Documents/Bachelor Thesis/dspy_v2/dspy_v2/lib/python3.12/site-packages/dspy/utils/callback.py\", line 234, in wrapper\n",
      "    return fn(instance, *args, **kwargs)\n",
      "           ^^^^^^^^^^^^^^^^^^^^^^^^^^^^^\n",
      "  File \"/Users/sulzair/Documents/Bachelor Thesis/dspy_v2/dspy_v2/lib/python3.12/site-packages/dspy/primitives/program.py\", line 24, in __call__\n",
      "    return self.forward(*args, **kwargs)\n",
      "           ^^^^^^^^^^^^^^^^^^^^^^^^^^^^^\n",
      "  File \"/Users/sulzair/Documents/Bachelor Thesis/dspy_v2/Programs/PY_programs/python_simple.py\", line 208, in forward\n",
      "    dspy.Suggest(\n",
      "  File \"/Users/sulzair/Documents/Bachelor Thesis/dspy_v2/dspy_v2/lib/python3.12/site-packages/dspy/primitives/assertions.py\", line 76, in __init__\n",
      "    self.__call__()\n",
      "  File \"/Users/sulzair/Documents/Bachelor Thesis/dspy_v2/dspy_v2/lib/python3.12/site-packages/dspy/primitives/assertions.py\", line 114, in __call__\n",
      "    raise DSPySuggestionError(\n",
      "dspy.primitives.assertions.DSPySuggestionError: Error executing code'<' not supported between instances of 'int' and 'str'\n",
      "Stack trace:\n",
      "Line 18: ).reindex(dp.index, method='ffill')\n",
      "\n"
     ]
    },
    {
     "name": "stdout",
     "output_type": "stream",
     "text": [
      "Average Metric: 0.00 / 25 (0.0%):  48%|████▊     | 12/25 [02:45<02:48, 12.99s/it]length of dp 561470\n",
      "column type of new column bool\n",
      "pre_float_check True\n",
      "pre_distinc_value_check True\n"
     ]
    },
    {
     "name": "stderr",
     "output_type": "stream",
     "text": [
      "2024/12/27 13:07:18 INFO dspy.primitives.assertions: SuggestionFailed: Column description must be short and less than 350 characters\n",
      "2024/12/27 13:07:18 ERROR dspy.utils.parallelizer: Error processing item Example({'instruction': 'Create a column called \"paid_nothing\" which is a boolean. Defined as TRUE if and only if per case the column \"maxotalPaymentAmount\" is smaller equal to 0. Make sure the value for \"paid_nothing\" is the same across all rows of a case.', 'column': 'paid_nothing', 'df_name': 2, 'example': 0         True\n",
      "1         True\n",
      "2         True\n",
      "3         True\n",
      "4         True\n",
      "          ... \n",
      "561465    True\n",
      "561466    True\n",
      "561467    True\n",
      "561468    True\n",
      "561469    True\n",
      "Name: paid_nothing, Length: 561470, dtype: bool}) (input_keys={'instruction'}): Column description must be short and less than 350 characters\n",
      "Stack trace:\n",
      "Traceback (most recent call last):\n",
      "  File \"/Users/sulzair/Documents/Bachelor Thesis/dspy_v2/dspy_v2/lib/python3.12/site-packages/dspy/utils/parallelizer.py\", line 47, in wrapped\n",
      "    return function(item)\n",
      "           ^^^^^^^^^^^^^^\n",
      "  File \"/Users/sulzair/Documents/Bachelor Thesis/dspy_v2/dspy_v2/lib/python3.12/site-packages/dspy/evaluate/evaluate.py\", line 101, in process_item\n",
      "    prediction = program(**example.inputs())\n",
      "                 ^^^^^^^^^^^^^^^^^^^^^^^^^^^\n",
      "  File \"/Users/sulzair/Documents/Bachelor Thesis/dspy_v2/dspy_v2/lib/python3.12/site-packages/openinference/instrumentation/dspy/__init__.py\", line 374, in __call__\n",
      "    prediction = wrapped(*args, **kwargs)\n",
      "                 ^^^^^^^^^^^^^^^^^^^^^^^^\n",
      "  File \"/Users/sulzair/Documents/Bachelor Thesis/dspy_v2/dspy_v2/lib/python3.12/site-packages/dspy/utils/callback.py\", line 234, in wrapper\n",
      "    return fn(instance, *args, **kwargs)\n",
      "           ^^^^^^^^^^^^^^^^^^^^^^^^^^^^^\n",
      "  File \"/Users/sulzair/Documents/Bachelor Thesis/dspy_v2/dspy_v2/lib/python3.12/site-packages/dspy/primitives/program.py\", line 24, in __call__\n",
      "    return self.forward(*args, **kwargs)\n",
      "           ^^^^^^^^^^^^^^^^^^^^^^^^^^^^^\n",
      "  File \"/Users/sulzair/Documents/Bachelor Thesis/dspy_v2/Programs/PY_programs/python_simple.py\", line 282, in forward\n",
      "    dspy.Suggest(\n",
      "  File \"/Users/sulzair/Documents/Bachelor Thesis/dspy_v2/dspy_v2/lib/python3.12/site-packages/dspy/primitives/assertions.py\", line 76, in __init__\n",
      "    self.__call__()\n",
      "  File \"/Users/sulzair/Documents/Bachelor Thesis/dspy_v2/dspy_v2/lib/python3.12/site-packages/dspy/primitives/assertions.py\", line 114, in __call__\n",
      "    raise DSPySuggestionError(\n",
      "dspy.primitives.assertions.DSPySuggestionError: Column description must be short and less than 350 characters\n",
      "\n"
     ]
    },
    {
     "name": "stdout",
     "output_type": "stream",
     "text": [
      "Average Metric: 0.00 / 25 (0.0%):  52%|█████▏    | 13/25 [03:07<03:09, 15.81s/it]"
     ]
    },
    {
     "name": "stderr",
     "output_type": "stream",
     "text": [
      "2024/12/27 13:07:25 INFO dspy.primitives.assertions: SuggestionFailed: Error executing codename 'dp' is not defined\n",
      "Stack trace:\n",
      "Line 3: dp['appealed_to_judge'] = dp.groupby('case_concept_name')['concept_name'].transform(lambda x: 'Appeal to Judge' in x.values)\n",
      "2024/12/27 13:07:25 ERROR dspy.utils.parallelizer: Error processing item Example({'instruction': 'Create a column called \"appeal_judge_cancelled\" which is a boolean on a per case basis. TRUE if the column \"appealed_to_judge\" == TRUE AND the column \"dismissed_by_judge\" == FALSE, if else \"appeal_judge_cancelled\" == FALSE. Make sure all values of \"appeal_judge_cancelled\" are the same across all rows of a case.', 'column': 'appeal_judge_cancelled', 'df_name': 2, 'example': 0         False\n",
      "1         False\n",
      "2         False\n",
      "3         False\n",
      "4         False\n",
      "          ...  \n",
      "561465    False\n",
      "561466    False\n",
      "561467    False\n",
      "561468    False\n",
      "561469    False\n",
      "Name: appeal_judge_cancelled, Length: 561470, dtype: bool}) (input_keys={'instruction'}): Error executing codename 'dp' is not defined\n",
      "Stack trace:\n",
      "Line 3: dp['appealed_to_judge'] = dp.groupby('case_concept_name')['concept_name'].transform(lambda x: 'Appeal to Judge' in x.values)\n",
      "Stack trace:\n",
      "Traceback (most recent call last):\n",
      "  File \"/Users/sulzair/Documents/Bachelor Thesis/dspy_v2/dspy_v2/lib/python3.12/site-packages/dspy/utils/parallelizer.py\", line 47, in wrapped\n",
      "    return function(item)\n",
      "           ^^^^^^^^^^^^^^\n",
      "  File \"/Users/sulzair/Documents/Bachelor Thesis/dspy_v2/dspy_v2/lib/python3.12/site-packages/dspy/evaluate/evaluate.py\", line 101, in process_item\n",
      "    prediction = program(**example.inputs())\n",
      "                 ^^^^^^^^^^^^^^^^^^^^^^^^^^^\n",
      "  File \"/Users/sulzair/Documents/Bachelor Thesis/dspy_v2/dspy_v2/lib/python3.12/site-packages/openinference/instrumentation/dspy/__init__.py\", line 374, in __call__\n",
      "    prediction = wrapped(*args, **kwargs)\n",
      "                 ^^^^^^^^^^^^^^^^^^^^^^^^\n",
      "  File \"/Users/sulzair/Documents/Bachelor Thesis/dspy_v2/dspy_v2/lib/python3.12/site-packages/dspy/utils/callback.py\", line 234, in wrapper\n",
      "    return fn(instance, *args, **kwargs)\n",
      "           ^^^^^^^^^^^^^^^^^^^^^^^^^^^^^\n",
      "  File \"/Users/sulzair/Documents/Bachelor Thesis/dspy_v2/dspy_v2/lib/python3.12/site-packages/dspy/primitives/program.py\", line 24, in __call__\n",
      "    return self.forward(*args, **kwargs)\n",
      "           ^^^^^^^^^^^^^^^^^^^^^^^^^^^^^\n",
      "  File \"/Users/sulzair/Documents/Bachelor Thesis/dspy_v2/Programs/PY_programs/python_simple.py\", line 208, in forward\n",
      "    dspy.Suggest(\n",
      "  File \"/Users/sulzair/Documents/Bachelor Thesis/dspy_v2/dspy_v2/lib/python3.12/site-packages/dspy/primitives/assertions.py\", line 76, in __init__\n",
      "    self.__call__()\n",
      "  File \"/Users/sulzair/Documents/Bachelor Thesis/dspy_v2/dspy_v2/lib/python3.12/site-packages/dspy/primitives/assertions.py\", line 114, in __call__\n",
      "    raise DSPySuggestionError(\n",
      "dspy.primitives.assertions.DSPySuggestionError: Error executing codename 'dp' is not defined\n",
      "Stack trace:\n",
      "Line 3: dp['appealed_to_judge'] = dp.groupby('case_concept_name')['concept_name'].transform(lambda x: 'Appeal to Judge' in x.values)\n",
      "\n"
     ]
    },
    {
     "name": "stdout",
     "output_type": "stream",
     "text": [
      "Average Metric: 0.00 / 25 (0.0%):  56%|█████▌    | 14/25 [03:14<02:23, 13.06s/it]"
     ]
    },
    {
     "name": "stderr",
     "output_type": "stream",
     "text": [
      "2024/12/27 13:07:29 INFO dspy.primitives.assertions: SuggestionFailed: Error executing codename 'dp' is not defined\n",
      "Stack trace:\n",
      "Line 3: dp['appealed_to_prefecture'] = dp.groupby('case_concept_name')['concept_name'].transform(lambda x: 'Send Appeal to Prefecture' in x.values)\n",
      "2024/12/27 13:07:29 ERROR dspy.utils.parallelizer: Error processing item Example({'instruction': 'Create a column called \"appeal_prefecture_cancelled\" which is a boolean on a per case basis. TRUE if the column \"appealed_to_prefecture\" == TRUE AND the column \"dismissed_by_prefecture\" == FALSE, if else \"appeal_prefecture_cancelled\" == FALSE. Make sure all values of \"appeal_prefecture_cancelled\" are the same across all rows of a case.', 'column': 'appeal_prefecture_cancelled', 'df_name': 2, 'example': 0         False\n",
      "1         False\n",
      "2         False\n",
      "3         False\n",
      "4         False\n",
      "          ...  \n",
      "561465    False\n",
      "561466    False\n",
      "561467    False\n",
      "561468    False\n",
      "561469    False\n",
      "Name: appeal_prefecture_cancelled, Length: 561470, dtype: bool}) (input_keys={'instruction'}): Error executing codename 'dp' is not defined\n",
      "Stack trace:\n",
      "Line 3: dp['appealed_to_prefecture'] = dp.groupby('case_concept_name')['concept_name'].transform(lambda x: 'Send Appeal to Prefecture' in x.values)\n",
      "Stack trace:\n",
      "Traceback (most recent call last):\n",
      "  File \"/Users/sulzair/Documents/Bachelor Thesis/dspy_v2/dspy_v2/lib/python3.12/site-packages/dspy/utils/parallelizer.py\", line 47, in wrapped\n",
      "    return function(item)\n",
      "           ^^^^^^^^^^^^^^\n",
      "  File \"/Users/sulzair/Documents/Bachelor Thesis/dspy_v2/dspy_v2/lib/python3.12/site-packages/dspy/evaluate/evaluate.py\", line 101, in process_item\n",
      "    prediction = program(**example.inputs())\n",
      "                 ^^^^^^^^^^^^^^^^^^^^^^^^^^^\n",
      "  File \"/Users/sulzair/Documents/Bachelor Thesis/dspy_v2/dspy_v2/lib/python3.12/site-packages/openinference/instrumentation/dspy/__init__.py\", line 374, in __call__\n",
      "    prediction = wrapped(*args, **kwargs)\n",
      "                 ^^^^^^^^^^^^^^^^^^^^^^^^\n",
      "  File \"/Users/sulzair/Documents/Bachelor Thesis/dspy_v2/dspy_v2/lib/python3.12/site-packages/dspy/utils/callback.py\", line 234, in wrapper\n",
      "    return fn(instance, *args, **kwargs)\n",
      "           ^^^^^^^^^^^^^^^^^^^^^^^^^^^^^\n",
      "  File \"/Users/sulzair/Documents/Bachelor Thesis/dspy_v2/dspy_v2/lib/python3.12/site-packages/dspy/primitives/program.py\", line 24, in __call__\n",
      "    return self.forward(*args, **kwargs)\n",
      "           ^^^^^^^^^^^^^^^^^^^^^^^^^^^^^\n",
      "  File \"/Users/sulzair/Documents/Bachelor Thesis/dspy_v2/Programs/PY_programs/python_simple.py\", line 208, in forward\n",
      "    dspy.Suggest(\n",
      "  File \"/Users/sulzair/Documents/Bachelor Thesis/dspy_v2/dspy_v2/lib/python3.12/site-packages/dspy/primitives/assertions.py\", line 76, in __init__\n",
      "    self.__call__()\n",
      "  File \"/Users/sulzair/Documents/Bachelor Thesis/dspy_v2/dspy_v2/lib/python3.12/site-packages/dspy/primitives/assertions.py\", line 114, in __call__\n",
      "    raise DSPySuggestionError(\n",
      "dspy.primitives.assertions.DSPySuggestionError: Error executing codename 'dp' is not defined\n",
      "Stack trace:\n",
      "Line 3: dp['appealed_to_prefecture'] = dp.groupby('case_concept_name')['concept_name'].transform(lambda x: 'Send Appeal to Prefecture' in x.values)\n",
      "\n"
     ]
    },
    {
     "name": "stdout",
     "output_type": "stream",
     "text": [
      "Average Metric: 0.00 / 25 (0.0%):  60%|██████    | 15/25 [03:18<01:44, 10.47s/it]length of dp 561470\n",
      "column type of new column bool\n",
      "pre_float_check True\n",
      "pre_distinc_value_check True\n"
     ]
    },
    {
     "name": "stderr",
     "output_type": "stream",
     "text": [
      "2024/12/27 13:07:53 INFO dspy.primitives.assertions: SuggestionFailed: Column description must be short and less than 350 characters\n",
      "2024/12/27 13:07:53 ERROR dspy.utils.parallelizer: Error processing item Example({'instruction': 'Create a column called \"fully_paid\" which is a boolean, TRUE if \"outstanding_balance\" <= 0, if else FALSE, for every case in the event log, make sure \"fully_paid\" is the same for every row in a case', 'column': 'fully_paid', 'df_name': 3, 'example': 0         False\n",
      "1         False\n",
      "2         False\n",
      "3         False\n",
      "4         False\n",
      "          ...  \n",
      "561465    False\n",
      "561466    False\n",
      "561467    False\n",
      "561468    False\n",
      "561469    False\n",
      "Name: fully_paid, Length: 561470, dtype: bool}) (input_keys={'instruction'}): Column description must be short and less than 350 characters\n",
      "Stack trace:\n",
      "Traceback (most recent call last):\n",
      "  File \"/Users/sulzair/Documents/Bachelor Thesis/dspy_v2/dspy_v2/lib/python3.12/site-packages/dspy/utils/parallelizer.py\", line 47, in wrapped\n",
      "    return function(item)\n",
      "           ^^^^^^^^^^^^^^\n",
      "  File \"/Users/sulzair/Documents/Bachelor Thesis/dspy_v2/dspy_v2/lib/python3.12/site-packages/dspy/evaluate/evaluate.py\", line 101, in process_item\n",
      "    prediction = program(**example.inputs())\n",
      "                 ^^^^^^^^^^^^^^^^^^^^^^^^^^^\n",
      "  File \"/Users/sulzair/Documents/Bachelor Thesis/dspy_v2/dspy_v2/lib/python3.12/site-packages/openinference/instrumentation/dspy/__init__.py\", line 374, in __call__\n",
      "    prediction = wrapped(*args, **kwargs)\n",
      "                 ^^^^^^^^^^^^^^^^^^^^^^^^\n",
      "  File \"/Users/sulzair/Documents/Bachelor Thesis/dspy_v2/dspy_v2/lib/python3.12/site-packages/dspy/utils/callback.py\", line 234, in wrapper\n",
      "    return fn(instance, *args, **kwargs)\n",
      "           ^^^^^^^^^^^^^^^^^^^^^^^^^^^^^\n",
      "  File \"/Users/sulzair/Documents/Bachelor Thesis/dspy_v2/dspy_v2/lib/python3.12/site-packages/dspy/primitives/program.py\", line 24, in __call__\n",
      "    return self.forward(*args, **kwargs)\n",
      "           ^^^^^^^^^^^^^^^^^^^^^^^^^^^^^\n",
      "  File \"/Users/sulzair/Documents/Bachelor Thesis/dspy_v2/Programs/PY_programs/python_simple.py\", line 282, in forward\n",
      "    dspy.Suggest(\n",
      "  File \"/Users/sulzair/Documents/Bachelor Thesis/dspy_v2/dspy_v2/lib/python3.12/site-packages/dspy/primitives/assertions.py\", line 76, in __init__\n",
      "    self.__call__()\n",
      "  File \"/Users/sulzair/Documents/Bachelor Thesis/dspy_v2/dspy_v2/lib/python3.12/site-packages/dspy/primitives/assertions.py\", line 114, in __call__\n",
      "    raise DSPySuggestionError(\n",
      "dspy.primitives.assertions.DSPySuggestionError: Column description must be short and less than 350 characters\n",
      "\n"
     ]
    },
    {
     "name": "stdout",
     "output_type": "stream",
     "text": [
      "Average Metric: 0.00 / 25 (0.0%):  64%|██████▍   | 16/25 [03:42<02:11, 14.56s/it]length of dp 561470\n",
      "column type of new column bool\n",
      "pre_float_check True\n",
      "pre_distinc_value_check True\n"
     ]
    },
    {
     "name": "stderr",
     "output_type": "stream",
     "text": [
      "2024/12/27 13:08:27 INFO dspy.primitives.assertions: SuggestionFailed: Column description must be short and less than 350 characters\n",
      "2024/12/27 13:08:27 ERROR dspy.utils.parallelizer: Error processing item Example({'instruction': 'Create a column called \"overpaid\" which is a boolean. TRUE if on a per case basis, the column \"outstanding_balance\" is smaller than 0. False if else. Make sure the value for \"overpaid\" is the same across all rows of a case.', 'column': 'overpaid', 'df_name': 3, 'example': 0         False\n",
      "1         False\n",
      "2         False\n",
      "3         False\n",
      "4         False\n",
      "          ...  \n",
      "561465    False\n",
      "561466    False\n",
      "561467    False\n",
      "561468    False\n",
      "561469    False\n",
      "Name: overpaid, Length: 561470, dtype: bool}) (input_keys={'instruction'}): Column description must be short and less than 350 characters\n",
      "Stack trace:\n",
      "Traceback (most recent call last):\n",
      "  File \"/Users/sulzair/Documents/Bachelor Thesis/dspy_v2/dspy_v2/lib/python3.12/site-packages/dspy/utils/parallelizer.py\", line 47, in wrapped\n",
      "    return function(item)\n",
      "           ^^^^^^^^^^^^^^\n",
      "  File \"/Users/sulzair/Documents/Bachelor Thesis/dspy_v2/dspy_v2/lib/python3.12/site-packages/dspy/evaluate/evaluate.py\", line 101, in process_item\n",
      "    prediction = program(**example.inputs())\n",
      "                 ^^^^^^^^^^^^^^^^^^^^^^^^^^^\n",
      "  File \"/Users/sulzair/Documents/Bachelor Thesis/dspy_v2/dspy_v2/lib/python3.12/site-packages/openinference/instrumentation/dspy/__init__.py\", line 374, in __call__\n",
      "    prediction = wrapped(*args, **kwargs)\n",
      "                 ^^^^^^^^^^^^^^^^^^^^^^^^\n",
      "  File \"/Users/sulzair/Documents/Bachelor Thesis/dspy_v2/dspy_v2/lib/python3.12/site-packages/dspy/utils/callback.py\", line 234, in wrapper\n",
      "    return fn(instance, *args, **kwargs)\n",
      "           ^^^^^^^^^^^^^^^^^^^^^^^^^^^^^\n",
      "  File \"/Users/sulzair/Documents/Bachelor Thesis/dspy_v2/dspy_v2/lib/python3.12/site-packages/dspy/primitives/program.py\", line 24, in __call__\n",
      "    return self.forward(*args, **kwargs)\n",
      "           ^^^^^^^^^^^^^^^^^^^^^^^^^^^^^\n",
      "  File \"/Users/sulzair/Documents/Bachelor Thesis/dspy_v2/Programs/PY_programs/python_simple.py\", line 282, in forward\n",
      "    dspy.Suggest(\n",
      "  File \"/Users/sulzair/Documents/Bachelor Thesis/dspy_v2/dspy_v2/lib/python3.12/site-packages/dspy/primitives/assertions.py\", line 76, in __init__\n",
      "    self.__call__()\n",
      "  File \"/Users/sulzair/Documents/Bachelor Thesis/dspy_v2/dspy_v2/lib/python3.12/site-packages/dspy/primitives/assertions.py\", line 114, in __call__\n",
      "    raise DSPySuggestionError(\n",
      "dspy.primitives.assertions.DSPySuggestionError: Column description must be short and less than 350 characters\n",
      "\n"
     ]
    },
    {
     "name": "stdout",
     "output_type": "stream",
     "text": [
      "Average Metric: 0.00 / 25 (0.0%):  68%|██████▊   | 17/25 [04:16<02:42, 20.25s/it]length of dp 561470\n",
      "column type of new column bool\n",
      "pre_float_check True\n",
      "pre_distinc_value_check True\n"
     ]
    },
    {
     "name": "stderr",
     "output_type": "stream",
     "text": [
      "2024/12/27 13:09:17 INFO dspy.primitives.assertions: SuggestionFailed: Column description must be short and less than 350 characters\n",
      "2024/12/27 13:09:17 ERROR dspy.utils.parallelizer: Error processing item Example({'instruction': 'Create a column called \"underpaid\" which is a boolean. TRUE if on a per case basis, the column \"outstanding_balance\" is larger than 0. False if else. Make sure the value for \"underpaid\" is the same across all rows of a case.', 'column': 'underpaid', 'df_name': 3, 'example': 0         True\n",
      "1         True\n",
      "2         True\n",
      "3         True\n",
      "4         True\n",
      "          ... \n",
      "561465    True\n",
      "561466    True\n",
      "561467    True\n",
      "561468    True\n",
      "561469    True\n",
      "Name: underpaid, Length: 561470, dtype: bool}) (input_keys={'instruction'}): Column description must be short and less than 350 characters\n",
      "Stack trace:\n",
      "Traceback (most recent call last):\n",
      "  File \"/Users/sulzair/Documents/Bachelor Thesis/dspy_v2/dspy_v2/lib/python3.12/site-packages/dspy/utils/parallelizer.py\", line 47, in wrapped\n",
      "    return function(item)\n",
      "           ^^^^^^^^^^^^^^\n",
      "  File \"/Users/sulzair/Documents/Bachelor Thesis/dspy_v2/dspy_v2/lib/python3.12/site-packages/dspy/evaluate/evaluate.py\", line 101, in process_item\n",
      "    prediction = program(**example.inputs())\n",
      "                 ^^^^^^^^^^^^^^^^^^^^^^^^^^^\n",
      "  File \"/Users/sulzair/Documents/Bachelor Thesis/dspy_v2/dspy_v2/lib/python3.12/site-packages/openinference/instrumentation/dspy/__init__.py\", line 374, in __call__\n",
      "    prediction = wrapped(*args, **kwargs)\n",
      "                 ^^^^^^^^^^^^^^^^^^^^^^^^\n",
      "  File \"/Users/sulzair/Documents/Bachelor Thesis/dspy_v2/dspy_v2/lib/python3.12/site-packages/dspy/utils/callback.py\", line 234, in wrapper\n",
      "    return fn(instance, *args, **kwargs)\n",
      "           ^^^^^^^^^^^^^^^^^^^^^^^^^^^^^\n",
      "  File \"/Users/sulzair/Documents/Bachelor Thesis/dspy_v2/dspy_v2/lib/python3.12/site-packages/dspy/primitives/program.py\", line 24, in __call__\n",
      "    return self.forward(*args, **kwargs)\n",
      "           ^^^^^^^^^^^^^^^^^^^^^^^^^^^^^\n",
      "  File \"/Users/sulzair/Documents/Bachelor Thesis/dspy_v2/Programs/PY_programs/python_simple.py\", line 282, in forward\n",
      "    dspy.Suggest(\n",
      "  File \"/Users/sulzair/Documents/Bachelor Thesis/dspy_v2/dspy_v2/lib/python3.12/site-packages/dspy/primitives/assertions.py\", line 76, in __init__\n",
      "    self.__call__()\n",
      "  File \"/Users/sulzair/Documents/Bachelor Thesis/dspy_v2/dspy_v2/lib/python3.12/site-packages/dspy/primitives/assertions.py\", line 114, in __call__\n",
      "    raise DSPySuggestionError(\n",
      "dspy.primitives.assertions.DSPySuggestionError: Column description must be short and less than 350 characters\n",
      "\n"
     ]
    },
    {
     "name": "stdout",
     "output_type": "stream",
     "text": [
      "Average Metric: 0.00 / 25 (0.0%):  72%|███████▏  | 18/25 [05:06<03:24, 29.21s/it]"
     ]
    },
    {
     "name": "stderr",
     "output_type": "stream",
     "text": [
      "2024/12/27 13:09:38 INFO dspy.primitives.assertions: SuggestionFailed: Error executing code'<' not supported between instances of 'int' and 'str'\n",
      "Stack trace:\n",
      "Line 18: ).reindex(dp.index, method='ffill')\n",
      "2024/12/27 13:09:38 ERROR dspy.utils.parallelizer: Error processing item Example({'instruction': 'Create a column called \"credit_collected_AND_fully_paid\" which is a boolean. Defined as TRUE if per case any of the rows are TRUE in the column \"fully_paid\" and TRUE for the column \"credit_collected\". If Else False. Make sure the value for \"credit_collected_AND_fully_paid\" is the same across all rows of a case. ', 'column': 'credit_collected_AND_fully_paid', 'df_name': 4, 'example': 0         False\n",
      "1         False\n",
      "2         False\n",
      "3         False\n",
      "4         False\n",
      "          ...  \n",
      "561465    False\n",
      "561466    False\n",
      "561467    False\n",
      "561468    False\n",
      "561469    False\n",
      "Name: credit_collected_AND_fully_paid, Length: 561470, dtype: bool}) (input_keys={'instruction'}): Error executing code'<' not supported between instances of 'int' and 'str'\n",
      "Stack trace:\n",
      "Line 18: ).reindex(dp.index, method='ffill')\n",
      "Stack trace:\n",
      "Traceback (most recent call last):\n",
      "  File \"/Users/sulzair/Documents/Bachelor Thesis/dspy_v2/dspy_v2/lib/python3.12/site-packages/dspy/utils/parallelizer.py\", line 47, in wrapped\n",
      "    return function(item)\n",
      "           ^^^^^^^^^^^^^^\n",
      "  File \"/Users/sulzair/Documents/Bachelor Thesis/dspy_v2/dspy_v2/lib/python3.12/site-packages/dspy/evaluate/evaluate.py\", line 101, in process_item\n",
      "    prediction = program(**example.inputs())\n",
      "                 ^^^^^^^^^^^^^^^^^^^^^^^^^^^\n",
      "  File \"/Users/sulzair/Documents/Bachelor Thesis/dspy_v2/dspy_v2/lib/python3.12/site-packages/openinference/instrumentation/dspy/__init__.py\", line 374, in __call__\n",
      "    prediction = wrapped(*args, **kwargs)\n",
      "                 ^^^^^^^^^^^^^^^^^^^^^^^^\n",
      "  File \"/Users/sulzair/Documents/Bachelor Thesis/dspy_v2/dspy_v2/lib/python3.12/site-packages/dspy/utils/callback.py\", line 234, in wrapper\n",
      "    return fn(instance, *args, **kwargs)\n",
      "           ^^^^^^^^^^^^^^^^^^^^^^^^^^^^^\n",
      "  File \"/Users/sulzair/Documents/Bachelor Thesis/dspy_v2/dspy_v2/lib/python3.12/site-packages/dspy/primitives/program.py\", line 24, in __call__\n",
      "    return self.forward(*args, **kwargs)\n",
      "           ^^^^^^^^^^^^^^^^^^^^^^^^^^^^^\n",
      "  File \"/Users/sulzair/Documents/Bachelor Thesis/dspy_v2/Programs/PY_programs/python_simple.py\", line 208, in forward\n",
      "    dspy.Suggest(\n",
      "  File \"/Users/sulzair/Documents/Bachelor Thesis/dspy_v2/dspy_v2/lib/python3.12/site-packages/dspy/primitives/assertions.py\", line 76, in __init__\n",
      "    self.__call__()\n",
      "  File \"/Users/sulzair/Documents/Bachelor Thesis/dspy_v2/dspy_v2/lib/python3.12/site-packages/dspy/primitives/assertions.py\", line 114, in __call__\n",
      "    raise DSPySuggestionError(\n",
      "dspy.primitives.assertions.DSPySuggestionError: Error executing code'<' not supported between instances of 'int' and 'str'\n",
      "Stack trace:\n",
      "Line 18: ).reindex(dp.index, method='ffill')\n",
      "\n"
     ]
    },
    {
     "name": "stdout",
     "output_type": "stream",
     "text": [
      "Average Metric: 0.00 / 25 (0.0%):  76%|███████▌  | 19/25 [05:27<02:41, 26.92s/it]length of dp 561470\n",
      "column type of new column bool\n",
      "pre_float_check True\n",
      "pre_distinc_value_check True\n"
     ]
    },
    {
     "name": "stderr",
     "output_type": "stream",
     "text": [
      "2024/12/27 13:10:25 INFO dspy.primitives.assertions: SuggestionFailed: Column description must be short and less than 350 characters\n",
      "2024/12/27 13:10:25 ERROR dspy.utils.parallelizer: Error processing item Example({'instruction': 'Create a column called \"dismissed_AND_fully_paid\" which is a boolean. Defined as TRUE if per case any of the rows are TRUE in the column \"dismissed\" and TRUE for the column \"fully_paid\". If Else False. Make sure the value for \"dismissed_AND_fully_paid\" is the same across all rows of a case. ', 'column': 'dismissed_AND_fully_paid', 'df_name': 4, 'example': 0         False\n",
      "1         False\n",
      "2         False\n",
      "3         False\n",
      "4         False\n",
      "          ...  \n",
      "561465    False\n",
      "561466    False\n",
      "561467    False\n",
      "561468    False\n",
      "561469    False\n",
      "Name: dismissed_AND_fully_paid, Length: 561470, dtype: bool}) (input_keys={'instruction'}): Column description must be short and less than 350 characters\n",
      "Stack trace:\n",
      "Traceback (most recent call last):\n",
      "  File \"/Users/sulzair/Documents/Bachelor Thesis/dspy_v2/dspy_v2/lib/python3.12/site-packages/dspy/utils/parallelizer.py\", line 47, in wrapped\n",
      "    return function(item)\n",
      "           ^^^^^^^^^^^^^^\n",
      "  File \"/Users/sulzair/Documents/Bachelor Thesis/dspy_v2/dspy_v2/lib/python3.12/site-packages/dspy/evaluate/evaluate.py\", line 101, in process_item\n",
      "    prediction = program(**example.inputs())\n",
      "                 ^^^^^^^^^^^^^^^^^^^^^^^^^^^\n",
      "  File \"/Users/sulzair/Documents/Bachelor Thesis/dspy_v2/dspy_v2/lib/python3.12/site-packages/openinference/instrumentation/dspy/__init__.py\", line 374, in __call__\n",
      "    prediction = wrapped(*args, **kwargs)\n",
      "                 ^^^^^^^^^^^^^^^^^^^^^^^^\n",
      "  File \"/Users/sulzair/Documents/Bachelor Thesis/dspy_v2/dspy_v2/lib/python3.12/site-packages/dspy/utils/callback.py\", line 234, in wrapper\n",
      "    return fn(instance, *args, **kwargs)\n",
      "           ^^^^^^^^^^^^^^^^^^^^^^^^^^^^^\n",
      "  File \"/Users/sulzair/Documents/Bachelor Thesis/dspy_v2/dspy_v2/lib/python3.12/site-packages/dspy/primitives/program.py\", line 24, in __call__\n",
      "    return self.forward(*args, **kwargs)\n",
      "           ^^^^^^^^^^^^^^^^^^^^^^^^^^^^^\n",
      "  File \"/Users/sulzair/Documents/Bachelor Thesis/dspy_v2/Programs/PY_programs/python_simple.py\", line 282, in forward\n",
      "    dspy.Suggest(\n",
      "  File \"/Users/sulzair/Documents/Bachelor Thesis/dspy_v2/dspy_v2/lib/python3.12/site-packages/dspy/primitives/assertions.py\", line 76, in __init__\n",
      "    self.__call__()\n",
      "  File \"/Users/sulzair/Documents/Bachelor Thesis/dspy_v2/dspy_v2/lib/python3.12/site-packages/dspy/primitives/assertions.py\", line 114, in __call__\n",
      "    raise DSPySuggestionError(\n",
      "dspy.primitives.assertions.DSPySuggestionError: Column description must be short and less than 350 characters\n",
      "\n"
     ]
    },
    {
     "name": "stdout",
     "output_type": "stream",
     "text": [
      "Average Metric: 0.00 / 25 (0.0%):  80%|████████  | 20/25 [06:14<02:44, 32.99s/it]"
     ]
    },
    {
     "name": "stderr",
     "output_type": "stream",
     "text": [
      "2024/12/27 13:10:33 INFO dspy.primitives.assertions: SuggestionFailed: Error executing codename 'dp' is not defined\n",
      "Stack trace:\n",
      "Line 3: dp['overpaid'] = (dp['totalPaymentAmount'] > (dp['amount'] + dp['expense'])).astype(bool)\n",
      "2024/12/27 13:10:33 ERROR dspy.utils.parallelizer: Error processing item Example({'instruction': 'Create a column called \"overpaid_amount\" which is an integer. Defined as 0 if the column \"overpaid\" == FALSE. If \"overpaid\" == TURE it is the difference between 0 and the column \"outstanding_balance\" (take the absolute value to avoid negative values. Make sure the value for \"overpaid_amount\" is the same across all rows of a case.', 'column': 'overpaid_amount', 'df_name': 4, 'example': 0         0\n",
      "1         0\n",
      "2         0\n",
      "3         0\n",
      "4         0\n",
      "         ..\n",
      "561465    0\n",
      "561466    0\n",
      "561467    0\n",
      "561468    0\n",
      "561469    0\n",
      "Name: overpaid_amount, Length: 561470, dtype: int64}) (input_keys={'instruction'}): Error executing codename 'dp' is not defined\n",
      "Stack trace:\n",
      "Line 3: dp['overpaid'] = (dp['totalPaymentAmount'] > (dp['amount'] + dp['expense'])).astype(bool)\n",
      "Stack trace:\n",
      "Traceback (most recent call last):\n",
      "  File \"/Users/sulzair/Documents/Bachelor Thesis/dspy_v2/dspy_v2/lib/python3.12/site-packages/dspy/utils/parallelizer.py\", line 47, in wrapped\n",
      "    return function(item)\n",
      "           ^^^^^^^^^^^^^^\n",
      "  File \"/Users/sulzair/Documents/Bachelor Thesis/dspy_v2/dspy_v2/lib/python3.12/site-packages/dspy/evaluate/evaluate.py\", line 101, in process_item\n",
      "    prediction = program(**example.inputs())\n",
      "                 ^^^^^^^^^^^^^^^^^^^^^^^^^^^\n",
      "  File \"/Users/sulzair/Documents/Bachelor Thesis/dspy_v2/dspy_v2/lib/python3.12/site-packages/openinference/instrumentation/dspy/__init__.py\", line 374, in __call__\n",
      "    prediction = wrapped(*args, **kwargs)\n",
      "                 ^^^^^^^^^^^^^^^^^^^^^^^^\n",
      "  File \"/Users/sulzair/Documents/Bachelor Thesis/dspy_v2/dspy_v2/lib/python3.12/site-packages/dspy/utils/callback.py\", line 234, in wrapper\n",
      "    return fn(instance, *args, **kwargs)\n",
      "           ^^^^^^^^^^^^^^^^^^^^^^^^^^^^^\n",
      "  File \"/Users/sulzair/Documents/Bachelor Thesis/dspy_v2/dspy_v2/lib/python3.12/site-packages/dspy/primitives/program.py\", line 24, in __call__\n",
      "    return self.forward(*args, **kwargs)\n",
      "           ^^^^^^^^^^^^^^^^^^^^^^^^^^^^^\n",
      "  File \"/Users/sulzair/Documents/Bachelor Thesis/dspy_v2/Programs/PY_programs/python_simple.py\", line 208, in forward\n",
      "    dspy.Suggest(\n",
      "  File \"/Users/sulzair/Documents/Bachelor Thesis/dspy_v2/dspy_v2/lib/python3.12/site-packages/dspy/primitives/assertions.py\", line 76, in __init__\n",
      "    self.__call__()\n",
      "  File \"/Users/sulzair/Documents/Bachelor Thesis/dspy_v2/dspy_v2/lib/python3.12/site-packages/dspy/primitives/assertions.py\", line 114, in __call__\n",
      "    raise DSPySuggestionError(\n",
      "dspy.primitives.assertions.DSPySuggestionError: Error executing codename 'dp' is not defined\n",
      "Stack trace:\n",
      "Line 3: dp['overpaid'] = (dp['totalPaymentAmount'] > (dp['amount'] + dp['expense'])).astype(bool)\n",
      "\n"
     ]
    },
    {
     "name": "stdout",
     "output_type": "stream",
     "text": [
      "Average Metric: 0.00 / 25 (0.0%):  84%|████████▍ | 21/25 [06:22<01:41, 25.47s/it]length of dp 561470\n",
      "column type of new column int64\n",
      "pre_float_check True\n",
      "pre_distinc_value_check True\n"
     ]
    },
    {
     "name": "stderr",
     "output_type": "stream",
     "text": [
      "2024/12/27 13:11:02 INFO dspy.primitives.assertions: SuggestionFailed: Column description must be short and less than 350 characters\n",
      "2024/12/27 13:11:02 ERROR dspy.utils.parallelizer: Error processing item Example({'instruction': 'Create a column called \"underpaid_amount\" which is a integer. Defined as 0 if the column \"underpaid\" == FALSE. If \"underpaid\" == TURE it is equal to the value of the column \"outstanding_balance\". Make sure the value for \"underpaid_amount\" is the same across all rows of a case.', 'column': 'underpaid_amount', 'df_name': 4, 'example': 0          4600\n",
      "1          4600\n",
      "2          8250\n",
      "3          8250\n",
      "4          8250\n",
      "          ...  \n",
      "561465    27716\n",
      "561466    27716\n",
      "561467    27716\n",
      "561468    27716\n",
      "561469    27716\n",
      "Name: underpaid_amount, Length: 561470, dtype: int64}) (input_keys={'instruction'}): Column description must be short and less than 350 characters\n",
      "Stack trace:\n",
      "Traceback (most recent call last):\n",
      "  File \"/Users/sulzair/Documents/Bachelor Thesis/dspy_v2/dspy_v2/lib/python3.12/site-packages/dspy/utils/parallelizer.py\", line 47, in wrapped\n",
      "    return function(item)\n",
      "           ^^^^^^^^^^^^^^\n",
      "  File \"/Users/sulzair/Documents/Bachelor Thesis/dspy_v2/dspy_v2/lib/python3.12/site-packages/dspy/evaluate/evaluate.py\", line 101, in process_item\n",
      "    prediction = program(**example.inputs())\n",
      "                 ^^^^^^^^^^^^^^^^^^^^^^^^^^^\n",
      "  File \"/Users/sulzair/Documents/Bachelor Thesis/dspy_v2/dspy_v2/lib/python3.12/site-packages/openinference/instrumentation/dspy/__init__.py\", line 374, in __call__\n",
      "    prediction = wrapped(*args, **kwargs)\n",
      "                 ^^^^^^^^^^^^^^^^^^^^^^^^\n",
      "  File \"/Users/sulzair/Documents/Bachelor Thesis/dspy_v2/dspy_v2/lib/python3.12/site-packages/dspy/utils/callback.py\", line 234, in wrapper\n",
      "    return fn(instance, *args, **kwargs)\n",
      "           ^^^^^^^^^^^^^^^^^^^^^^^^^^^^^\n",
      "  File \"/Users/sulzair/Documents/Bachelor Thesis/dspy_v2/dspy_v2/lib/python3.12/site-packages/dspy/primitives/program.py\", line 24, in __call__\n",
      "    return self.forward(*args, **kwargs)\n",
      "           ^^^^^^^^^^^^^^^^^^^^^^^^^^^^^\n",
      "  File \"/Users/sulzair/Documents/Bachelor Thesis/dspy_v2/Programs/PY_programs/python_simple.py\", line 282, in forward\n",
      "    dspy.Suggest(\n",
      "  File \"/Users/sulzair/Documents/Bachelor Thesis/dspy_v2/dspy_v2/lib/python3.12/site-packages/dspy/primitives/assertions.py\", line 76, in __init__\n",
      "    self.__call__()\n",
      "  File \"/Users/sulzair/Documents/Bachelor Thesis/dspy_v2/dspy_v2/lib/python3.12/site-packages/dspy/primitives/assertions.py\", line 114, in __call__\n",
      "    raise DSPySuggestionError(\n",
      "dspy.primitives.assertions.DSPySuggestionError: Column description must be short and less than 350 characters\n",
      "\n"
     ]
    },
    {
     "name": "stdout",
     "output_type": "stream",
     "text": [
      "Average Metric: 0.00 / 25 (0.0%):  88%|████████▊ | 22/25 [06:51<01:19, 26.47s/it]length of dp 561470\n",
      "column type of new column bool\n",
      "pre_float_check True\n",
      "pre_distinc_value_check True\n"
     ]
    },
    {
     "name": "stderr",
     "output_type": "stream",
     "text": [
      "2024/12/27 13:11:29 INFO dspy.primitives.assertions: SuggestionFailed: Column description must be short and less than 350 characters\n",
      "2024/12/27 13:11:29 ERROR dspy.utils.parallelizer: Error processing item Example({'instruction': 'Create a column called \"part_paid\" which is a boolean. TRUE if on a per case basis, the column \"fully_paid\" AND \"paid_nothing\"are equal to FALSE. If Either \"fully_paid\" OR \"paid_nothing\" == TRUE, \"part_paid\" == FALSE. Make sure the value for \"part_paid\" is the same across all rows of a case. ', 'column': 'part_paid', 'df_name': 4, 'example': 0         False\n",
      "1         False\n",
      "2         False\n",
      "3         False\n",
      "4         False\n",
      "          ...  \n",
      "561465    False\n",
      "561466    False\n",
      "561467    False\n",
      "561468    False\n",
      "561469    False\n",
      "Name: part_paid, Length: 561470, dtype: bool}) (input_keys={'instruction'}): Column description must be short and less than 350 characters\n",
      "Stack trace:\n",
      "Traceback (most recent call last):\n",
      "  File \"/Users/sulzair/Documents/Bachelor Thesis/dspy_v2/dspy_v2/lib/python3.12/site-packages/dspy/utils/parallelizer.py\", line 47, in wrapped\n",
      "    return function(item)\n",
      "           ^^^^^^^^^^^^^^\n",
      "  File \"/Users/sulzair/Documents/Bachelor Thesis/dspy_v2/dspy_v2/lib/python3.12/site-packages/dspy/evaluate/evaluate.py\", line 101, in process_item\n",
      "    prediction = program(**example.inputs())\n",
      "                 ^^^^^^^^^^^^^^^^^^^^^^^^^^^\n",
      "  File \"/Users/sulzair/Documents/Bachelor Thesis/dspy_v2/dspy_v2/lib/python3.12/site-packages/openinference/instrumentation/dspy/__init__.py\", line 374, in __call__\n",
      "    prediction = wrapped(*args, **kwargs)\n",
      "                 ^^^^^^^^^^^^^^^^^^^^^^^^\n",
      "  File \"/Users/sulzair/Documents/Bachelor Thesis/dspy_v2/dspy_v2/lib/python3.12/site-packages/dspy/utils/callback.py\", line 234, in wrapper\n",
      "    return fn(instance, *args, **kwargs)\n",
      "           ^^^^^^^^^^^^^^^^^^^^^^^^^^^^^\n",
      "  File \"/Users/sulzair/Documents/Bachelor Thesis/dspy_v2/dspy_v2/lib/python3.12/site-packages/dspy/primitives/program.py\", line 24, in __call__\n",
      "    return self.forward(*args, **kwargs)\n",
      "           ^^^^^^^^^^^^^^^^^^^^^^^^^^^^^\n",
      "  File \"/Users/sulzair/Documents/Bachelor Thesis/dspy_v2/Programs/PY_programs/python_simple.py\", line 282, in forward\n",
      "    dspy.Suggest(\n",
      "  File \"/Users/sulzair/Documents/Bachelor Thesis/dspy_v2/dspy_v2/lib/python3.12/site-packages/dspy/primitives/assertions.py\", line 76, in __init__\n",
      "    self.__call__()\n",
      "  File \"/Users/sulzair/Documents/Bachelor Thesis/dspy_v2/dspy_v2/lib/python3.12/site-packages/dspy/primitives/assertions.py\", line 114, in __call__\n",
      "    raise DSPySuggestionError(\n",
      "dspy.primitives.assertions.DSPySuggestionError: Column description must be short and less than 350 characters\n",
      "\n"
     ]
    },
    {
     "name": "stdout",
     "output_type": "stream",
     "text": [
      "Average Metric: 0.00 / 25 (0.0%):  92%|█████████▏| 23/25 [07:18<00:53, 26.61s/it]length of dp 561470\n",
      "column type of new column bool\n",
      "pre_float_check True\n",
      "pre_distinc_value_check True\n"
     ]
    },
    {
     "name": "stderr",
     "output_type": "stream",
     "text": [
      "2024/12/27 13:12:07 INFO dspy.primitives.assertions: SuggestionFailed: Column description must be short and less than 350 characters\n",
      "2024/12/27 13:12:07 ERROR dspy.utils.parallelizer: Error processing item Example({'instruction': 'Create column called \"unresolved\" which is a boolean. TRUE if on a per case basis the column \"fully_paid\" AND \"credit_collected\" AND \"dismissed\" are == FALSE, if any of those columns are TRUE, \"unresolved\" == FALSE. Makse sure the value for \"unresolved\" is the same across all rows of a case.', 'column': 'unresolved', 'df_name': 4, 'example': 0          True\n",
      "1          True\n",
      "2         False\n",
      "3         False\n",
      "4         False\n",
      "          ...  \n",
      "561465    False\n",
      "561466    False\n",
      "561467    False\n",
      "561468    False\n",
      "561469    False\n",
      "Name: unresolved, Length: 561470, dtype: bool}) (input_keys={'instruction'}): Column description must be short and less than 350 characters\n",
      "Stack trace:\n",
      "Traceback (most recent call last):\n",
      "  File \"/Users/sulzair/Documents/Bachelor Thesis/dspy_v2/dspy_v2/lib/python3.12/site-packages/dspy/utils/parallelizer.py\", line 47, in wrapped\n",
      "    return function(item)\n",
      "           ^^^^^^^^^^^^^^\n",
      "  File \"/Users/sulzair/Documents/Bachelor Thesis/dspy_v2/dspy_v2/lib/python3.12/site-packages/dspy/evaluate/evaluate.py\", line 101, in process_item\n",
      "    prediction = program(**example.inputs())\n",
      "                 ^^^^^^^^^^^^^^^^^^^^^^^^^^^\n",
      "  File \"/Users/sulzair/Documents/Bachelor Thesis/dspy_v2/dspy_v2/lib/python3.12/site-packages/openinference/instrumentation/dspy/__init__.py\", line 374, in __call__\n",
      "    prediction = wrapped(*args, **kwargs)\n",
      "                 ^^^^^^^^^^^^^^^^^^^^^^^^\n",
      "  File \"/Users/sulzair/Documents/Bachelor Thesis/dspy_v2/dspy_v2/lib/python3.12/site-packages/dspy/utils/callback.py\", line 234, in wrapper\n",
      "    return fn(instance, *args, **kwargs)\n",
      "           ^^^^^^^^^^^^^^^^^^^^^^^^^^^^^\n",
      "  File \"/Users/sulzair/Documents/Bachelor Thesis/dspy_v2/dspy_v2/lib/python3.12/site-packages/dspy/primitives/program.py\", line 24, in __call__\n",
      "    return self.forward(*args, **kwargs)\n",
      "           ^^^^^^^^^^^^^^^^^^^^^^^^^^^^^\n",
      "  File \"/Users/sulzair/Documents/Bachelor Thesis/dspy_v2/Programs/PY_programs/python_simple.py\", line 282, in forward\n",
      "    dspy.Suggest(\n",
      "  File \"/Users/sulzair/Documents/Bachelor Thesis/dspy_v2/dspy_v2/lib/python3.12/site-packages/dspy/primitives/assertions.py\", line 76, in __init__\n",
      "    self.__call__()\n",
      "  File \"/Users/sulzair/Documents/Bachelor Thesis/dspy_v2/dspy_v2/lib/python3.12/site-packages/dspy/primitives/assertions.py\", line 114, in __call__\n",
      "    raise DSPySuggestionError(\n",
      "dspy.primitives.assertions.DSPySuggestionError: Column description must be short and less than 350 characters\n",
      "\n"
     ]
    },
    {
     "name": "stdout",
     "output_type": "stream",
     "text": [
      "Average Metric: 0.00 / 25 (0.0%):  96%|█████████▌| 24/25 [07:56<00:29, 29.96s/it]"
     ]
    },
    {
     "name": "stderr",
     "output_type": "stream",
     "text": [
      "2024/12/27 13:12:42 INFO dspy.primitives.assertions: SuggestionFailed: Do not use .apply and lambda functions to create the new column, as those will result in nan values when grouping by case (subsequent column dtype will be float64 or object). Instead use boolean operators first and subsequently group by case, then counring using for example value_counts() or methods that are more robust in avoiding nan values. (fillna(0).astype(int) will most likely also be incorrect.)\n",
      "2024/12/27 13:12:42 ERROR dspy.utils.parallelizer: Error processing item Example({'instruction': 'Create a column called \"paid_without_obligation\" which is a boolean on a per case basis. TRUE if the column \"obligation_topay_cancelled\" == TRUE AND the column \"fully_paid\" == TRUE. If else \"paid_without_obligation\" == FALSE. Makse sure all values for \"paid_without_obligation\" are the same across all rows of a case.', 'column': 'paid_without_obligation', 'df_name': 4, 'example': 0         False\n",
      "1         False\n",
      "2         False\n",
      "3         False\n",
      "4         False\n",
      "          ...  \n",
      "561465    False\n",
      "561466    False\n",
      "561467    False\n",
      "561468    False\n",
      "561469    False\n",
      "Name: paid_without_obligation, Length: 561470, dtype: bool}) (input_keys={'instruction'}): Do not use .apply and lambda functions to create the new column, as those will result in nan values when grouping by case (subsequent column dtype will be float64 or object). Instead use boolean operators first and subsequently group by case, then counring using for example value_counts() or methods that are more robust in avoiding nan values. (fillna(0).astype(int) will most likely also be incorrect.)\n",
      "Stack trace:\n",
      "Traceback (most recent call last):\n",
      "  File \"/Users/sulzair/Documents/Bachelor Thesis/dspy_v2/dspy_v2/lib/python3.12/site-packages/dspy/utils/parallelizer.py\", line 47, in wrapped\n",
      "    return function(item)\n",
      "           ^^^^^^^^^^^^^^\n",
      "  File \"/Users/sulzair/Documents/Bachelor Thesis/dspy_v2/dspy_v2/lib/python3.12/site-packages/dspy/evaluate/evaluate.py\", line 101, in process_item\n",
      "    prediction = program(**example.inputs())\n",
      "                 ^^^^^^^^^^^^^^^^^^^^^^^^^^^\n",
      "  File \"/Users/sulzair/Documents/Bachelor Thesis/dspy_v2/dspy_v2/lib/python3.12/site-packages/openinference/instrumentation/dspy/__init__.py\", line 374, in __call__\n",
      "    prediction = wrapped(*args, **kwargs)\n",
      "                 ^^^^^^^^^^^^^^^^^^^^^^^^\n",
      "  File \"/Users/sulzair/Documents/Bachelor Thesis/dspy_v2/dspy_v2/lib/python3.12/site-packages/dspy/utils/callback.py\", line 234, in wrapper\n",
      "    return fn(instance, *args, **kwargs)\n",
      "           ^^^^^^^^^^^^^^^^^^^^^^^^^^^^^\n",
      "  File \"/Users/sulzair/Documents/Bachelor Thesis/dspy_v2/dspy_v2/lib/python3.12/site-packages/dspy/primitives/program.py\", line 24, in __call__\n",
      "    return self.forward(*args, **kwargs)\n",
      "           ^^^^^^^^^^^^^^^^^^^^^^^^^^^^^\n",
      "  File \"/Users/sulzair/Documents/Bachelor Thesis/dspy_v2/Programs/PY_programs/python_simple.py\", line 253, in forward\n",
      "    dspy.Suggest(\n",
      "  File \"/Users/sulzair/Documents/Bachelor Thesis/dspy_v2/dspy_v2/lib/python3.12/site-packages/dspy/primitives/assertions.py\", line 76, in __init__\n",
      "    self.__call__()\n",
      "  File \"/Users/sulzair/Documents/Bachelor Thesis/dspy_v2/dspy_v2/lib/python3.12/site-packages/dspy/primitives/assertions.py\", line 114, in __call__\n",
      "    raise DSPySuggestionError(\n",
      "dspy.primitives.assertions.DSPySuggestionError: Do not use .apply and lambda functions to create the new column, as those will result in nan values when grouping by case (subsequent column dtype will be float64 or object). Instead use boolean operators first and subsequently group by case, then counring using for example value_counts() or methods that are more robust in avoiding nan values. (fillna(0).astype(int) will most likely also be incorrect.)\n",
      "\n"
     ]
    },
    {
     "name": "stdout",
     "output_type": "stream",
     "text": [
      "length of dp 561470\n",
      "column type of new column object\n",
      "pre_float_check False\n",
      "Average Metric: 0.00 / 25 (0.0%): 100%|██████████| 25/25 [08:31<00:00, 20.46s/it]"
     ]
    },
    {
     "name": "stderr",
     "output_type": "stream",
     "text": [
      "2024/12/27 13:12:42 INFO dspy.evaluate.evaluate: Average Metric: 0.0 / 25 (0.0%)\n"
     ]
    },
    {
     "name": "stdout",
     "output_type": "stream",
     "text": [
      "\n"
     ]
    },
    {
     "data": {
      "text/html": [
       "<div>\n",
       "<style scoped>\n",
       "    .dataframe tbody tr th:only-of-type {\n",
       "        vertical-align: middle;\n",
       "    }\n",
       "\n",
       "    .dataframe tbody tr th {\n",
       "        vertical-align: top;\n",
       "    }\n",
       "\n",
       "    .dataframe thead th {\n",
       "        text-align: right;\n",
       "    }\n",
       "</style>\n",
       "<table border=\"1\" class=\"dataframe\">\n",
       "  <thead>\n",
       "    <tr style=\"text-align: right;\">\n",
       "      <th></th>\n",
       "      <th>instruction</th>\n",
       "      <th>column</th>\n",
       "      <th>df_name</th>\n",
       "      <th>example</th>\n",
       "      <th>PM_Metric</th>\n",
       "    </tr>\n",
       "  </thead>\n",
       "  <tbody>\n",
       "    <tr>\n",
       "      <th>0</th>\n",
       "      <td>Create column called \"dismissed_by_prefecture\", defined as a boole...</td>\n",
       "      <td>dismissed_by_prefecture</td>\n",
       "      <td>1</td>\n",
       "      <td>0 False 1 False 2 False 3 False 4 False ... 561465 False 561466 Fa...</td>\n",
       "      <td></td>\n",
       "    </tr>\n",
       "    <tr>\n",
       "      <th>1</th>\n",
       "      <td>Create column called \"dismissed_by_judge\", defined as a boolean. T...</td>\n",
       "      <td>dismissed_by_judge</td>\n",
       "      <td>1</td>\n",
       "      <td>0 False 1 False 2 False 3 False 4 False ... 561465 False 561466 Fa...</td>\n",
       "      <td></td>\n",
       "    </tr>\n",
       "    <tr>\n",
       "      <th>2</th>\n",
       "      <td>Create a column called \"maxtotalPaymentAmount\", type int, which fo...</td>\n",
       "      <td>maxtotalPaymentAmount</td>\n",
       "      <td>1</td>\n",
       "      <td>0 0 1 0 2 0 3 0 4 0 .. 561465 0 561466 0 561467 0 561468 0 561469 ...</td>\n",
       "      <td></td>\n",
       "    </tr>\n",
       "    <tr>\n",
       "      <th>3</th>\n",
       "      <td>Create a column called \"expense_sum\", defined as type int, which s...</td>\n",
       "      <td>expense_sum</td>\n",
       "      <td>1</td>\n",
       "      <td>0 1100 1 1100 2 1100 3 1100 4 1100 ... 561465 1516 561466 1516 561...</td>\n",
       "      <td></td>\n",
       "    </tr>\n",
       "    <tr>\n",
       "      <th>4</th>\n",
       "      <td>Create a column called \"amount_last\", defined as type int, which t...</td>\n",
       "      <td>amount_last</td>\n",
       "      <td>1</td>\n",
       "      <td>0 3500 1 3500 2 7150 3 7150 4 7150 ... 561465 26200 561466 26200 5...</td>\n",
       "      <td></td>\n",
       "    </tr>\n",
       "    <tr>\n",
       "      <th>5</th>\n",
       "      <td>Create a column called \"dismissed\" which is a boolean, TRUE if any...</td>\n",
       "      <td>dismissed</td>\n",
       "      <td>1</td>\n",
       "      <td>0 False 1 False 2 False 3 False 4 False ... 561465 False 561466 Fa...</td>\n",
       "      <td></td>\n",
       "    </tr>\n",
       "    <tr>\n",
       "      <th>6</th>\n",
       "      <td>Create a column called \"credit_collected\" which is a boolean. True...</td>\n",
       "      <td>credit_collected</td>\n",
       "      <td>1</td>\n",
       "      <td>0 False 1 False 2 True 3 True 4 True ... 561465 True 561466 True 5...</td>\n",
       "      <td></td>\n",
       "    </tr>\n",
       "    <tr>\n",
       "      <th>7</th>\n",
       "      <td>Create a column called \"penalty_added\" which is a boolean, TRUE if...</td>\n",
       "      <td>penalty_added</td>\n",
       "      <td>1</td>\n",
       "      <td>0 False 1 False 2 True 3 True 4 True ... 561465 True 561466 True 5...</td>\n",
       "      <td></td>\n",
       "    </tr>\n",
       "    <tr>\n",
       "      <th>8</th>\n",
       "      <td>Create a column called \"appealed_to_judge\" which is a boolean. TRU...</td>\n",
       "      <td>appealed_to_judge</td>\n",
       "      <td>1</td>\n",
       "      <td>0 False 1 False 2 False 3 False 4 False ... 561465 False 561466 Fa...</td>\n",
       "      <td></td>\n",
       "    </tr>\n",
       "    <tr>\n",
       "      <th>9</th>\n",
       "      <td>Create a column called \"appealed_to_prefecture\" which is a boolean...</td>\n",
       "      <td>appealed_to_prefecture</td>\n",
       "      <td>1</td>\n",
       "      <td>0 False 1 False 2 False 3 False 4 False ... 561465 False 561466 Fa...</td>\n",
       "      <td></td>\n",
       "    </tr>\n",
       "    <tr>\n",
       "      <th>10</th>\n",
       "      <td>Create a column called \"outstanding_balance\", as type int, which i...</td>\n",
       "      <td>outstanding_balance</td>\n",
       "      <td>2</td>\n",
       "      <td>0 4600 1 4600 2 8250 3 8250 4 8250 ... 561465 27716 561466 27716 5...</td>\n",
       "      <td></td>\n",
       "    </tr>\n",
       "    <tr>\n",
       "      <th>11</th>\n",
       "      <td>Create a column called \"credit_collected_AND_dismissed\" which is a...</td>\n",
       "      <td>credit_collected_AND_dismissed</td>\n",
       "      <td>2</td>\n",
       "      <td>0 False 1 False 2 False 3 False 4 False ... 561465 False 561466 Fa...</td>\n",
       "      <td></td>\n",
       "    </tr>\n",
       "    <tr>\n",
       "      <th>12</th>\n",
       "      <td>Create a column called \"paid_nothing\" which is a boolean. Defined ...</td>\n",
       "      <td>paid_nothing</td>\n",
       "      <td>2</td>\n",
       "      <td>0 True 1 True 2 True 3 True 4 True ... 561465 True 561466 True 561...</td>\n",
       "      <td></td>\n",
       "    </tr>\n",
       "    <tr>\n",
       "      <th>13</th>\n",
       "      <td>Create a column called \"appeal_judge_cancelled\" which is a boolean...</td>\n",
       "      <td>appeal_judge_cancelled</td>\n",
       "      <td>2</td>\n",
       "      <td>0 False 1 False 2 False 3 False 4 False ... 561465 False 561466 Fa...</td>\n",
       "      <td></td>\n",
       "    </tr>\n",
       "    <tr>\n",
       "      <th>14</th>\n",
       "      <td>Create a column called \"appeal_prefecture_cancelled\" which is a bo...</td>\n",
       "      <td>appeal_prefecture_cancelled</td>\n",
       "      <td>2</td>\n",
       "      <td>0 False 1 False 2 False 3 False 4 False ... 561465 False 561466 Fa...</td>\n",
       "      <td></td>\n",
       "    </tr>\n",
       "    <tr>\n",
       "      <th>15</th>\n",
       "      <td>Create a column called \"fully_paid\" which is a boolean, TRUE if \"o...</td>\n",
       "      <td>fully_paid</td>\n",
       "      <td>3</td>\n",
       "      <td>0 False 1 False 2 False 3 False 4 False ... 561465 False 561466 Fa...</td>\n",
       "      <td></td>\n",
       "    </tr>\n",
       "    <tr>\n",
       "      <th>16</th>\n",
       "      <td>Create a column called \"overpaid\" which is a boolean. TRUE if on a...</td>\n",
       "      <td>overpaid</td>\n",
       "      <td>3</td>\n",
       "      <td>0 False 1 False 2 False 3 False 4 False ... 561465 False 561466 Fa...</td>\n",
       "      <td></td>\n",
       "    </tr>\n",
       "    <tr>\n",
       "      <th>17</th>\n",
       "      <td>Create a column called \"underpaid\" which is a boolean. TRUE if on ...</td>\n",
       "      <td>underpaid</td>\n",
       "      <td>3</td>\n",
       "      <td>0 True 1 True 2 True 3 True 4 True ... 561465 True 561466 True 561...</td>\n",
       "      <td></td>\n",
       "    </tr>\n",
       "    <tr>\n",
       "      <th>18</th>\n",
       "      <td>Create a column called \"credit_collected_AND_fully_paid\" which is ...</td>\n",
       "      <td>credit_collected_AND_fully_paid</td>\n",
       "      <td>4</td>\n",
       "      <td>0 False 1 False 2 False 3 False 4 False ... 561465 False 561466 Fa...</td>\n",
       "      <td></td>\n",
       "    </tr>\n",
       "    <tr>\n",
       "      <th>19</th>\n",
       "      <td>Create a column called \"dismissed_AND_fully_paid\" which is a boole...</td>\n",
       "      <td>dismissed_AND_fully_paid</td>\n",
       "      <td>4</td>\n",
       "      <td>0 False 1 False 2 False 3 False 4 False ... 561465 False 561466 Fa...</td>\n",
       "      <td></td>\n",
       "    </tr>\n",
       "    <tr>\n",
       "      <th>20</th>\n",
       "      <td>Create a column called \"overpaid_amount\" which is an integer. Defi...</td>\n",
       "      <td>overpaid_amount</td>\n",
       "      <td>4</td>\n",
       "      <td>0 0 1 0 2 0 3 0 4 0 .. 561465 0 561466 0 561467 0 561468 0 561469 ...</td>\n",
       "      <td></td>\n",
       "    </tr>\n",
       "    <tr>\n",
       "      <th>21</th>\n",
       "      <td>Create a column called \"underpaid_amount\" which is a integer. Defi...</td>\n",
       "      <td>underpaid_amount</td>\n",
       "      <td>4</td>\n",
       "      <td>0 4600 1 4600 2 8250 3 8250 4 8250 ... 561465 27716 561466 27716 5...</td>\n",
       "      <td></td>\n",
       "    </tr>\n",
       "    <tr>\n",
       "      <th>22</th>\n",
       "      <td>Create a column called \"part_paid\" which is a boolean. TRUE if on ...</td>\n",
       "      <td>part_paid</td>\n",
       "      <td>4</td>\n",
       "      <td>0 False 1 False 2 False 3 False 4 False ... 561465 False 561466 Fa...</td>\n",
       "      <td></td>\n",
       "    </tr>\n",
       "    <tr>\n",
       "      <th>23</th>\n",
       "      <td>Create column called \"unresolved\" which is a boolean. TRUE if on a...</td>\n",
       "      <td>unresolved</td>\n",
       "      <td>4</td>\n",
       "      <td>0 True 1 True 2 False 3 False 4 False ... 561465 False 561466 Fals...</td>\n",
       "      <td></td>\n",
       "    </tr>\n",
       "    <tr>\n",
       "      <th>24</th>\n",
       "      <td>Create a column called \"paid_without_obligation\" which is a boolea...</td>\n",
       "      <td>paid_without_obligation</td>\n",
       "      <td>4</td>\n",
       "      <td>0 False 1 False 2 False 3 False 4 False ... 561465 False 561466 Fa...</td>\n",
       "      <td></td>\n",
       "    </tr>\n",
       "  </tbody>\n",
       "</table>\n",
       "</div>"
      ],
      "text/plain": [
       "                                                              instruction  \\\n",
       "0   Create column called \"dismissed_by_prefecture\", defined as a boole...   \n",
       "1   Create column called \"dismissed_by_judge\", defined as a boolean. T...   \n",
       "2   Create a column called \"maxtotalPaymentAmount\", type int, which fo...   \n",
       "3   Create a column called \"expense_sum\", defined as type int, which s...   \n",
       "4   Create a column called \"amount_last\", defined as type int, which t...   \n",
       "5   Create a column called \"dismissed\" which is a boolean, TRUE if any...   \n",
       "6   Create a column called \"credit_collected\" which is a boolean. True...   \n",
       "7   Create a column called \"penalty_added\" which is a boolean, TRUE if...   \n",
       "8   Create a column called \"appealed_to_judge\" which is a boolean. TRU...   \n",
       "9   Create a column called \"appealed_to_prefecture\" which is a boolean...   \n",
       "10  Create a column called \"outstanding_balance\", as type int, which i...   \n",
       "11  Create a column called \"credit_collected_AND_dismissed\" which is a...   \n",
       "12  Create a column called \"paid_nothing\" which is a boolean. Defined ...   \n",
       "13  Create a column called \"appeal_judge_cancelled\" which is a boolean...   \n",
       "14  Create a column called \"appeal_prefecture_cancelled\" which is a bo...   \n",
       "15  Create a column called \"fully_paid\" which is a boolean, TRUE if \"o...   \n",
       "16  Create a column called \"overpaid\" which is a boolean. TRUE if on a...   \n",
       "17  Create a column called \"underpaid\" which is a boolean. TRUE if on ...   \n",
       "18  Create a column called \"credit_collected_AND_fully_paid\" which is ...   \n",
       "19  Create a column called \"dismissed_AND_fully_paid\" which is a boole...   \n",
       "20  Create a column called \"overpaid_amount\" which is an integer. Defi...   \n",
       "21  Create a column called \"underpaid_amount\" which is a integer. Defi...   \n",
       "22  Create a column called \"part_paid\" which is a boolean. TRUE if on ...   \n",
       "23  Create column called \"unresolved\" which is a boolean. TRUE if on a...   \n",
       "24  Create a column called \"paid_without_obligation\" which is a boolea...   \n",
       "\n",
       "                             column  df_name  \\\n",
       "0           dismissed_by_prefecture        1   \n",
       "1                dismissed_by_judge        1   \n",
       "2             maxtotalPaymentAmount        1   \n",
       "3                       expense_sum        1   \n",
       "4                       amount_last        1   \n",
       "5                         dismissed        1   \n",
       "6                  credit_collected        1   \n",
       "7                     penalty_added        1   \n",
       "8                 appealed_to_judge        1   \n",
       "9            appealed_to_prefecture        1   \n",
       "10              outstanding_balance        2   \n",
       "11   credit_collected_AND_dismissed        2   \n",
       "12                     paid_nothing        2   \n",
       "13           appeal_judge_cancelled        2   \n",
       "14      appeal_prefecture_cancelled        2   \n",
       "15                       fully_paid        3   \n",
       "16                         overpaid        3   \n",
       "17                        underpaid        3   \n",
       "18  credit_collected_AND_fully_paid        4   \n",
       "19         dismissed_AND_fully_paid        4   \n",
       "20                  overpaid_amount        4   \n",
       "21                 underpaid_amount        4   \n",
       "22                        part_paid        4   \n",
       "23                       unresolved        4   \n",
       "24          paid_without_obligation        4   \n",
       "\n",
       "                                                                  example  \\\n",
       "0   0 False 1 False 2 False 3 False 4 False ... 561465 False 561466 Fa...   \n",
       "1   0 False 1 False 2 False 3 False 4 False ... 561465 False 561466 Fa...   \n",
       "2   0 0 1 0 2 0 3 0 4 0 .. 561465 0 561466 0 561467 0 561468 0 561469 ...   \n",
       "3   0 1100 1 1100 2 1100 3 1100 4 1100 ... 561465 1516 561466 1516 561...   \n",
       "4   0 3500 1 3500 2 7150 3 7150 4 7150 ... 561465 26200 561466 26200 5...   \n",
       "5   0 False 1 False 2 False 3 False 4 False ... 561465 False 561466 Fa...   \n",
       "6   0 False 1 False 2 True 3 True 4 True ... 561465 True 561466 True 5...   \n",
       "7   0 False 1 False 2 True 3 True 4 True ... 561465 True 561466 True 5...   \n",
       "8   0 False 1 False 2 False 3 False 4 False ... 561465 False 561466 Fa...   \n",
       "9   0 False 1 False 2 False 3 False 4 False ... 561465 False 561466 Fa...   \n",
       "10  0 4600 1 4600 2 8250 3 8250 4 8250 ... 561465 27716 561466 27716 5...   \n",
       "11  0 False 1 False 2 False 3 False 4 False ... 561465 False 561466 Fa...   \n",
       "12  0 True 1 True 2 True 3 True 4 True ... 561465 True 561466 True 561...   \n",
       "13  0 False 1 False 2 False 3 False 4 False ... 561465 False 561466 Fa...   \n",
       "14  0 False 1 False 2 False 3 False 4 False ... 561465 False 561466 Fa...   \n",
       "15  0 False 1 False 2 False 3 False 4 False ... 561465 False 561466 Fa...   \n",
       "16  0 False 1 False 2 False 3 False 4 False ... 561465 False 561466 Fa...   \n",
       "17  0 True 1 True 2 True 3 True 4 True ... 561465 True 561466 True 561...   \n",
       "18  0 False 1 False 2 False 3 False 4 False ... 561465 False 561466 Fa...   \n",
       "19  0 False 1 False 2 False 3 False 4 False ... 561465 False 561466 Fa...   \n",
       "20  0 0 1 0 2 0 3 0 4 0 .. 561465 0 561466 0 561467 0 561468 0 561469 ...   \n",
       "21  0 4600 1 4600 2 8250 3 8250 4 8250 ... 561465 27716 561466 27716 5...   \n",
       "22  0 False 1 False 2 False 3 False 4 False ... 561465 False 561466 Fa...   \n",
       "23  0 True 1 True 2 False 3 False 4 False ... 561465 False 561466 Fals...   \n",
       "24  0 False 1 False 2 False 3 False 4 False ... 561465 False 561466 Fa...   \n",
       "\n",
       "   PM_Metric  \n",
       "0             \n",
       "1             \n",
       "2             \n",
       "3             \n",
       "4             \n",
       "5             \n",
       "6             \n",
       "7             \n",
       "8             \n",
       "9             \n",
       "10            \n",
       "11            \n",
       "12            \n",
       "13            \n",
       "14            \n",
       "15            \n",
       "16            \n",
       "17            \n",
       "18            \n",
       "19            \n",
       "20            \n",
       "21            \n",
       "22            \n",
       "23            \n",
       "24            "
      ]
     },
     "metadata": {},
     "output_type": "display_data"
    }
   ],
   "source": [
    "score, outputs, scores = evaluate(program = un_py_simple_no_assert, return_all_scores= True)"
   ]
  },
  {
   "cell_type": "code",
   "execution_count": 178,
   "metadata": {},
   "outputs": [],
   "source": [
    "df_merged = save_report_PM(outputs,scores,\"/Users/sulzair/Documents/Bachelor Thesis/dspy_v2/Results_PY/PY_testset_simple_no_assertion\", un_py_simple_no_assert, conn = conn)"
   ]
  },
  {
   "cell_type": "code",
   "execution_count": 170,
   "metadata": {},
   "outputs": [
    {
     "name": "stdout",
     "output_type": "stream",
     "text": [
      "[]\n"
     ]
    }
   ],
   "source": [
    "# reset DB and class for another evaluation\n",
    "\n",
    "conn = sqlite3.connect(SQLITE_DB_EVAL_NAME)\n",
    "cur = conn.cursor()\n",
    "cur.execute(\"DROP TABLE IF EXISTS temp_table;\")\n",
    "\n",
    "print(cur.fetchall())\n",
    "conn.commit()\n",
    "\n",
    "df_t.to_sql(\"event_log\", conn, if_exists=\"replace\", index=False)\n",
    "cur = conn.cursor()\n",
    "cur.execute(\"CREATE INDEX idx_case_concept_name_event_log ON event_log(case_concept_name)\")\n",
    "conn.commit()\n",
    "\n",
    "cur.execute(\"ALTER TABLE event_log ADD COLUMN idx INTEGER;\")\n",
    "conn.commit()\n",
    "cur.execute(\"\"\"UPDATE event_log SET idx = (\n",
    "    SELECT rowid FROM (\n",
    "        SELECT ROW_NUMBER() OVER (ORDER BY case_concept_name, time_timestamp) as seq_num, rowid\n",
    "        FROM event_log\n",
    "    ) temp WHERE temp.rowid = event_log.rowid\n",
    ");\"\"\")\n",
    "conn.commit()\n",
    "cur.execute(\"CREATE INDEX idx_event_log_idx ON event_log(idx);\")\n",
    "conn.commit()\n",
    "cur.execute(\"VACUUM;\")\n",
    "cur.execute(\"ANALYZE;\")\n",
    "conn.commit()\n",
    "cur.close()"
   ]
  },
  {
   "cell_type": "markdown",
   "metadata": {},
   "source": [
    "# Optimization "
   ]
  },
  {
   "cell_type": "markdown",
   "metadata": {},
   "source": []
  },
  {
   "cell_type": "code",
   "execution_count": 25,
   "metadata": {},
   "outputs": [],
   "source": [
    "py_special = PM_PY_no_deep(conn_path = SQLITE_DB_NAME, rm=rm, training_mode=True).activate_assertions()\n",
    "py_special.load(\"/Users/sulzair/Documents/Bachelor Thesis/dspy_v2/Optimized_prompts/python/py_fewshot_12 copy 2.json\")\n",
    "py_special._compiled = False"
   ]
  },
  {
   "cell_type": "code",
   "execution_count": 26,
   "metadata": {},
   "outputs": [],
   "source": [
    "uncompiled_py = PM_PY_no_deep(conn_path = SQLITE_DB_NAME, rm=rm).activate_assertions()"
   ]
  },
  {
   "cell_type": "code",
   "execution_count": 26,
   "metadata": {},
   "outputs": [
    {
     "name": "stdout",
     "output_type": "stream",
     "text": [
      "[]\n"
     ]
    }
   ],
   "source": [
    "# reset DB and class for another evaluation\n",
    "\n",
    "conn = sqlite3.connect(SQLITE_DB_NAME)\n",
    "cur = conn.cursor()\n",
    "cur.execute(\"DROP TABLE IF EXISTS temp_table;\")\n",
    "\n",
    "print(cur.fetchall())\n",
    "conn.commit()\n",
    "\n",
    "df.to_sql(\"event_log\", conn, if_exists=\"replace\", index=False)\n",
    "cur = conn.cursor()\n",
    "cur.execute(\"CREATE INDEX idx_case_concept_name_event_log ON event_log(case_concept_name)\")\n",
    "conn.commit()\n",
    "\n",
    "cur.execute(\"ALTER TABLE event_log ADD COLUMN idx INTEGER;\")\n",
    "conn.commit()\n",
    "cur.execute(\"\"\"UPDATE event_log SET idx = (\n",
    "    SELECT rowid FROM (\n",
    "        SELECT ROW_NUMBER() OVER (ORDER BY case_concept_name, time_timestamp) as seq_num, rowid\n",
    "        FROM event_log\n",
    "    ) temp WHERE temp.rowid = event_log.rowid\n",
    ");\"\"\")\n",
    "conn.commit()\n",
    "cur.execute(\"CREATE INDEX idx_event_log_idx ON event_log(idx);\")\n",
    "conn.commit()\n",
    "cur.execute(\"VACUUM;\")\n",
    "cur.execute(\"ANALYZE;\")\n",
    "conn.commit()\n",
    "cur.close()"
   ]
  },
  {
   "cell_type": "code",
   "execution_count": 27,
   "metadata": {},
   "outputs": [
    {
     "data": {
      "text/plain": [
       "18"
      ]
     },
     "execution_count": 27,
     "metadata": {},
     "output_type": "execute_result"
    }
   ],
   "source": [
    "len(trainset)"
   ]
  },
  {
   "cell_type": "code",
   "execution_count": 28,
   "metadata": {},
   "outputs": [
    {
     "name": "stderr",
     "output_type": "stream",
     "text": [
      "  0%|          | 0/18 [00:00<?, ?it/s]2024/12/26 13:48:36 INFO dspy.primitives.assertions: SuggestionFailed: Error executing codename 'dp' is not defined\n",
      "Stack trace:\n",
      "Line 3: case_durations = dp[dp['concept_name'].isin(['Create Fine', 'Send Fine'])]\n",
      "2024/12/26 13:48:45 INFO dspy.primitives.assertions: SuggestionFailed: Error executing codesingle positional indexer is out-of-bounds\n",
      "Stack trace:\n",
      "Line 14: timedeltas = case_durations.groupby('case_concept_name').apply(\n",
      "Line 15:     lambda x: (x[x['concept_name'] == 'Send Fine']['time_timestamp'].iloc[0] -\n",
      "2024/12/26 13:49:21 INFO dspy.primitives.assertions: SuggestionFailed: Error executing codename 'timedeltas' is not defined\n",
      "Stack trace:\n",
      "Line 24: dp['obligation_topay_cancelled'] = dp['case_concept_name'].map(lambda x: timedeltas.get(x, 0) > 90)\n",
      "Line 24: dp['obligation_topay_cancelled'] = dp['case_concept_name'].map(lambda x: timedeltas.get(x, 0) > 90)\n",
      "2024/12/26 13:49:22 INFO dspy.primitives.assertions: SuggestionFailed: New Column was not successfully generated, 'obligation_topay_cancelled'\n"
     ]
    },
    {
     "name": "stdout",
     "output_type": "stream",
     "text": [
      "length of dp 561470\n",
      "pre_float_check True\n",
      "pre_distinc_value_check True\n",
      "Eval could not retrieve col: obligation_topay_cancelled\n"
     ]
    },
    {
     "name": "stderr",
     "output_type": "stream",
     "text": [
      "2024/12/26 13:49:38 INFO dspy.primitives.assertions: SuggestionFailed: Error executing codename 'dp' is not defined\n",
      "Stack trace:\n",
      "Line 3: case_durations = dp[dp['concept_name'].isin(['Create Fine', 'Send Fine'])].groupby(['case_concept_name', 'concept_name'])['time_timestamp'].min().unstack()\n"
     ]
    },
    {
     "name": "stdout",
     "output_type": "stream",
     "text": [
      "length of dp 561470\n",
      "column type of new column bool\n",
      "pre_float_check True\n",
      "pre_distinc_value_check True\n"
     ]
    },
    {
     "name": "stderr",
     "output_type": "stream",
     "text": [
      "  6%|▌         | 1/18 [01:27<24:53, 87.84s/it]"
     ]
    },
    {
     "name": "stdout",
     "output_type": "stream",
     "text": [
      "EVAL TRUE\n"
     ]
    },
    {
     "name": "stderr",
     "output_type": "stream",
     "text": [
      "2024/12/26 13:50:03 INFO dspy.primitives.assertions: SuggestionFailed: Error executing codename 'dp' is not defined\n",
      "Stack trace:\n",
      "Line 3: case_event_counts = dp.groupby('case_concept_name').size()\n"
     ]
    },
    {
     "name": "stdout",
     "output_type": "stream",
     "text": [
      "length of dp 561470\n",
      "column type of new column int64\n",
      "pre_float_check True\n",
      "pre_distinc_value_check True\n"
     ]
    },
    {
     "name": "stderr",
     "output_type": "stream",
     "text": [
      " 11%|█         | 2/18 [01:49<13:06, 49.15s/it]"
     ]
    },
    {
     "name": "stdout",
     "output_type": "stream",
     "text": [
      "EVAL TRUE\n"
     ]
    },
    {
     "name": "stderr",
     "output_type": "stream",
     "text": [
      "2024/12/26 13:50:26 INFO dspy.primitives.assertions: SuggestionFailed: Error executing codename 'dp' is not defined\n",
      "Stack trace:\n",
      "Line 3: amount_min_per_case = dp[dp['amount'] > 0].groupby('case_concept_name')['amount'].min().reset_index()\n"
     ]
    },
    {
     "name": "stdout",
     "output_type": "stream",
     "text": [
      "length of dp 561470\n",
      "column type of new column int64\n",
      "pre_float_check True\n",
      "pre_distinc_value_check True\n"
     ]
    },
    {
     "name": "stderr",
     "output_type": "stream",
     "text": [
      " 17%|█▋        | 3/18 [02:14<11:11, 44.75s/it]"
     ]
    },
    {
     "name": "stdout",
     "output_type": "stream",
     "text": [
      "EVAL TRUE\n",
      "Bootstrapped 3 full traces after 3 examples for up to 3 rounds, amounting to 4 attempts.\n"
     ]
    },
    {
     "name": "stderr",
     "output_type": "stream",
     "text": [
      "\n"
     ]
    }
   ],
   "source": [
    "bootstrap_fewshot = BootstrapFewShot(\n",
    "    metric = PM_Metric_training,\n",
    "    max_bootstrapped_demos = 3,\n",
    "    max_labeled_demos = 0,\n",
    "    max_rounds = 3,\n",
    "    max_errors = 2)\n",
    "py_compiled_special = bootstrap_fewshot.compile(student = py_special, trainset = trainset)"
   ]
  },
  {
   "cell_type": "code",
   "execution_count": 29,
   "metadata": {},
   "outputs": [],
   "source": [
    "py_compiled_special.save(\"/Users/sulzair/Documents/Bachelor Thesis/dspy_v2/Optimized_prompts/python/py_add_fewshot_3.json\")"
   ]
  },
  {
   "cell_type": "code",
   "execution_count": 35,
   "metadata": {},
   "outputs": [
    {
     "data": {
      "text/plain": [
       "False"
      ]
     },
     "execution_count": 35,
     "metadata": {},
     "output_type": "execute_result"
    }
   ],
   "source": [
    "py_compiled_special_2.training_mode"
   ]
  },
  {
   "cell_type": "code",
   "execution_count": 31,
   "metadata": {},
   "outputs": [
    {
     "name": "stderr",
     "output_type": "stream",
     "text": [
      "  0%|          | 0/18 [00:00<?, ?it/s]"
     ]
    },
    {
     "name": "stdout",
     "output_type": "stream",
     "text": [
      "length of dp 561470\n",
      "column type of new column bool\n",
      "pre_float_check True\n",
      "pre_distinc_value_check True\n"
     ]
    },
    {
     "name": "stderr",
     "output_type": "stream",
     "text": [
      "  6%|▌         | 1/18 [00:18<05:20, 18.86s/it]"
     ]
    },
    {
     "name": "stdout",
     "output_type": "stream",
     "text": [
      "EVAL TRUE\n",
      "length of dp 561470\n",
      "column type of new column int64\n",
      "pre_float_check True\n",
      "pre_distinc_value_check True\n"
     ]
    },
    {
     "name": "stderr",
     "output_type": "stream",
     "text": [
      " 11%|█         | 2/18 [00:36<04:47, 17.99s/it]"
     ]
    },
    {
     "name": "stdout",
     "output_type": "stream",
     "text": [
      "EVAL TRUE\n",
      "length of dp 561470\n",
      "column type of new column int64\n",
      "pre_float_check True\n",
      "pre_distinc_value_check True\n"
     ]
    },
    {
     "name": "stderr",
     "output_type": "stream",
     "text": [
      " 17%|█▋        | 3/18 [00:54<04:34, 18.33s/it]"
     ]
    },
    {
     "name": "stdout",
     "output_type": "stream",
     "text": [
      "EVAL TRUE\n",
      "length of dp 561470\n",
      "column type of new column int64\n",
      "pre_float_check True\n",
      "pre_distinc_value_check True\n"
     ]
    },
    {
     "name": "stderr",
     "output_type": "stream",
     "text": [
      " 22%|██▏       | 4/18 [01:13<04:15, 18.23s/it]"
     ]
    },
    {
     "name": "stdout",
     "output_type": "stream",
     "text": [
      "EVAL TRUE\n",
      "length of dp 561470\n",
      "column type of new column bool\n",
      "pre_float_check True\n",
      "pre_distinc_value_check True\n"
     ]
    },
    {
     "name": "stderr",
     "output_type": "stream",
     "text": [
      " 28%|██▊       | 5/18 [01:32<04:00, 18.51s/it]"
     ]
    },
    {
     "name": "stdout",
     "output_type": "stream",
     "text": [
      "EVAL TRUE\n",
      "length of dp 561470\n",
      "column type of new column bool\n",
      "pre_float_check True\n",
      "pre_distinc_value_check True\n"
     ]
    },
    {
     "name": "stderr",
     "output_type": "stream",
     "text": [
      " 33%|███▎      | 6/18 [01:56<04:05, 20.47s/it]"
     ]
    },
    {
     "name": "stdout",
     "output_type": "stream",
     "text": [
      "EVAL TRUE\n",
      "length of dp 561470\n",
      "column type of new column int64\n",
      "pre_float_check True\n",
      "pre_distinc_value_check True\n"
     ]
    },
    {
     "name": "stderr",
     "output_type": "stream",
     "text": [
      " 39%|███▉      | 7/18 [02:14<03:36, 19.66s/it]"
     ]
    },
    {
     "name": "stdout",
     "output_type": "stream",
     "text": [
      "EVAL TRUE\n",
      "length of dp 561470\n",
      "column type of new column int64\n",
      "pre_float_check True\n",
      "pre_distinc_value_check True\n"
     ]
    },
    {
     "name": "stderr",
     "output_type": "stream",
     "text": [
      " 44%|████▍     | 8/18 [02:32<03:10, 19.09s/it]"
     ]
    },
    {
     "name": "stdout",
     "output_type": "stream",
     "text": [
      "EVAL TRUE\n",
      "length of dp 561470\n",
      "column type of new column int64\n",
      "pre_float_check True\n",
      "pre_distinc_value_check True\n"
     ]
    },
    {
     "name": "stderr",
     "output_type": "stream",
     "text": [
      " 50%|█████     | 9/18 [02:50<02:48, 18.75s/it]"
     ]
    },
    {
     "name": "stdout",
     "output_type": "stream",
     "text": [
      "EVAL TRUE\n",
      "length of dp 561470\n",
      "column type of new column int64\n",
      "pre_float_check True\n",
      "pre_distinc_value_check True\n"
     ]
    },
    {
     "name": "stderr",
     "output_type": "stream",
     "text": [
      " 56%|█████▌    | 10/18 [03:08<02:29, 18.67s/it]"
     ]
    },
    {
     "name": "stdout",
     "output_type": "stream",
     "text": [
      "EVAL TRUE\n",
      "length of dp 561470\n",
      "column type of new column int64\n",
      "pre_float_check True\n",
      "pre_distinc_value_check True\n"
     ]
    },
    {
     "name": "stderr",
     "output_type": "stream",
     "text": [
      " 61%|██████    | 11/18 [03:26<02:09, 18.47s/it]"
     ]
    },
    {
     "name": "stdout",
     "output_type": "stream",
     "text": [
      "EVAL TRUE\n",
      "length of dp 561470\n",
      "column type of new column int64\n",
      "pre_float_check True\n",
      "pre_distinc_value_check True\n"
     ]
    },
    {
     "name": "stderr",
     "output_type": "stream",
     "text": [
      " 67%|██████▋   | 12/18 [03:44<01:52, 18.74s/it]"
     ]
    },
    {
     "name": "stdout",
     "output_type": "stream",
     "text": [
      "EVAL TRUE\n",
      "Bootstrapped 12 full traces after 12 examples for up to 3 rounds, amounting to 12 attempts.\n"
     ]
    },
    {
     "name": "stderr",
     "output_type": "stream",
     "text": [
      "\n"
     ]
    }
   ],
   "source": [
    "bootstrap_fewshot = BootstrapFewShot(\n",
    "    metric = PM_Metric_training,\n",
    "    max_bootstrapped_demos = 12,\n",
    "    max_labeled_demos = 0,\n",
    "    max_rounds = 3,\n",
    "    max_errors = 3)\n",
    "py_compiled_special_2 = bootstrap_fewshot.compile(student = py_special, teacher=py_compiled_special, trainset = trainset)"
   ]
  },
  {
   "cell_type": "code",
   "execution_count": 32,
   "metadata": {},
   "outputs": [],
   "source": [
    "py_compiled_special_2.save(\"/Users/sulzair/Documents/Bachelor Thesis/dspy_v2/Optimized_prompts/python/py_add_fewshot_12.json\")"
   ]
  },
  {
   "cell_type": "code",
   "execution_count": null,
   "metadata": {},
   "outputs": [],
   "source": []
  }
 ],
 "metadata": {
  "kernelspec": {
   "display_name": "dspy_v2",
   "language": "python",
   "name": "python3"
  },
  "language_info": {
   "codemirror_mode": {
    "name": "ipython",
    "version": 3
   },
   "file_extension": ".py",
   "mimetype": "text/x-python",
   "name": "python",
   "nbconvert_exporter": "python",
   "pygments_lexer": "ipython3",
   "version": "3.12.8"
  }
 },
 "nbformat": 4,
 "nbformat_minor": 2
}
