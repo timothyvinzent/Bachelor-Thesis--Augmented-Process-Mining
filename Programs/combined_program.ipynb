{
 "cells": [
  {
   "cell_type": "code",
   "execution_count": 1,
   "metadata": {},
   "outputs": [],
   "source": [
    "import sqlite3\n",
    "import pandas as pd\n",
    "import dspy\n",
    "import dotenv, os\n",
    "from pydantic import BaseModel, Field\n",
    "import openai\n",
    "import pm4py\n",
    "import ast\n",
    "import networkx as nx\n",
    "from numpy import random\n",
    "from dspy.evaluate import Evaluate\n",
    "from collections import defaultdict\n",
    "import tqdm as notebook_tqdm\n",
    "import copy\n",
    "import re\n",
    "import traceback\n",
    "from queue import Queue\n",
    "import threading\n",
    "from dspy.teleprompt import BootstrapFewShot\n",
    "from dspy.teleprompt import BootstrapFewShotWithRandomSearch\n",
    "import phoenix as px\n",
    "from openinference.instrumentation.dspy import DSPyInstrumentor\n",
    "from opentelemetry import trace as trace_api\n",
    "from opentelemetry.exporter.otlp.proto.http.trace_exporter import OTLPSpanExporter\n",
    "from opentelemetry.sdk import trace as trace_sdk\n",
    "from opentelemetry.sdk.resources import Resource\n",
    "from opentelemetry.sdk.trace.export import SimpleSpanProcessor\n",
    "from chroma_retriever import Chroma\n",
    "from chromadb.utils import embedding_functions\n",
    "from contextlib import contextmanager\n",
    "from dspy.primitives.assertions import assert_transform_module, backtrack_handler\n",
    "import functools\n",
    "sentence_transformer_ef = embedding_functions.SentenceTransformerEmbeddingFunction(model_name=\"all-mpnet-base-v2\")"
   ]
  },
  {
   "cell_type": "code",
   "execution_count": 2,
   "metadata": {},
   "outputs": [],
   "source": [
    "from SQL_programs.sql_reasoning import PM_SQL_multi_sp"
   ]
  },
  {
   "cell_type": "code",
   "execution_count": 3,
   "metadata": {},
   "outputs": [],
   "source": [
    "# importing the programs & utils\n",
    "from Combined_programs.combined import PM_combined\n",
    "from Combined_programs.combined_perfect_decision import PM_combined_perfect_d\n",
    "from Combined_programs.pm_isolated import PM_isolated\n",
    "\n",
    "# utils\n",
    "from Utils.column_dependency import DependencyGraph\n",
    "from Utils.saving_functions import save_report_v2, save_report_isolated\n",
    "from SQL_programs.sql_llm_judge import LM_EVAL"
   ]
  },
  {
   "cell_type": "code",
   "execution_count": 4,
   "metadata": {},
   "outputs": [],
   "source": [
    "INPUT_FILE_NAME = \"/Users/sulzair/Documents/Bachelor Thesis/dspy_v2/dataset/Road_Traffic_Fine_Management_Process.xes\" #replce with your file path\n",
    "COLUMN_INSTRUCTIONS = \"/Users/sulzair/Documents/Bachelor Thesis/Proof-of-Concept/Experiments/PM_EVALQUESTIONS_final.csv\"\n",
    "SQL_QUESTIONS = '/Users/sulzair/Documents/Bachelor Thesis/dspy_v2/benchmark/sql_questions_to_splitt.csv'\n",
    "SQLITE_DB_NAME = \"combined.db\" #\"my_database.db\" #leve as is\n",
    "SQLITE_DB_ISOLATED = \"isolated.db\"\n",
    "LLM_MODEL_TYPE = \"gpt-4o\" #gpt-4-turbo\" #\"gpt-3.5-turbo-0125\" #leave as is for gpt 3.5 or change to \"gpt-4-1106-preview\" for gpt 4\n",
    "PM_PY_PATH = \"/Users/sulzair/Documents/Bachelor Thesis/dspy_v2/Optimized_prompts/python/py_add_fewshot_12.json\"\n",
    "PM_SQL_PATH = \"/Users/sulzair/Documents/Bachelor Thesis/dspy_v2/Optimized_prompts/sql/sql_bootstrap_bootstrap_fewshot_1.json\" # potentially we can go higher\n",
    "JUDGE_PATH = \"/Users/sulzair/Documents/Bachelor Thesis/dspy_v2/Optimized_prompts/judge/judge_optimized_final.json\""
   ]
  },
  {
   "cell_type": "code",
   "execution_count": 5,
   "metadata": {},
   "outputs": [
    {
     "name": "stdout",
     "output_type": "stream",
     "text": [
      "🌍 To view the Phoenix app in your browser, visit http://localhost:6006/\n",
      "📖 For more information on how to use Phoenix, check out https://docs.arize.com/phoenix\n"
     ]
    }
   ],
   "source": [
    "phoenix_session = px.launch_app()\n",
    "endpoint = \"http://127.0.0.1:6006/v1/traces\"\n",
    "resource = Resource(attributes={})\n",
    "tracer_provider = trace_sdk.TracerProvider(resource=resource)\n",
    "span_otlp_exporter = OTLPSpanExporter(endpoint=endpoint)\n",
    "tracer_provider.add_span_processor(SimpleSpanProcessor(span_exporter=span_otlp_exporter))\n",
    "\n",
    "trace_api.set_tracer_provider(tracer_provider=tracer_provider)\n",
    "DSPyInstrumentor().instrument()"
   ]
  },
  {
   "cell_type": "code",
   "execution_count": null,
   "metadata": {},
   "outputs": [],
   "source": [
    "# Get all evaluations for a project\n",
    "evals = px.Client().get_evaluations(project_name=\"your_project\")\n",
    "\n",
    "# Get spans with evaluations as dataframe\n",
    "spans_df = px.Client().get_spans_dataframe()"
   ]
  },
  {
   "cell_type": "code",
   "execution_count": 110,
   "metadata": {},
   "outputs": [
    {
     "name": "stderr",
     "output_type": "stream",
     "text": [
      "/Users/sulzair/Documents/Bachelor Thesis/dspy_v2/dspy_v2/lib/python3.12/site-packages/phoenix/trace/dsl/query.py:741: FutureWarning: Series.__getitem__ treating keys as positions is deprecated. In a future version, integer keys will always be treated as labels (consistent with DataFrame behavior). To access a value by position, use `ser.iloc[pos]`\n",
      "  df_attributes = pd.DataFrame.from_records(\n"
     ]
    }
   ],
   "source": [
    "spans_df = px.Client().get_spans_dataframe()"
   ]
  },
  {
   "cell_type": "code",
   "execution_count": 112,
   "metadata": {},
   "outputs": [
    {
     "data": {
      "text/plain": [
       "319"
      ]
     },
     "execution_count": 112,
     "metadata": {},
     "output_type": "execute_result"
    }
   ],
   "source": [
    "len(spans_df)"
   ]
  },
  {
   "cell_type": "code",
   "execution_count": null,
   "metadata": {},
   "outputs": [],
   "source": [
    "spans_df = pd.read_csv(\"my_spans.csv\")\n",
    "\n",
    "# Launch Phoenix with loaded spans\n",
    "import phoenix as px\n",
    "px.launch_app(trace=spans_df)"
   ]
  },
  {
   "cell_type": "code",
   "execution_count": 113,
   "metadata": {},
   "outputs": [],
   "source": [
    "spans_df.to_csv(\"/Users/sulzair/Documents/Bachelor Thesis/dspy_v2/Saved Spans/my_spans.csv\", index=False)"
   ]
  },
  {
   "cell_type": "code",
   "execution_count": 108,
   "metadata": {},
   "outputs": [],
   "source": [
    "evals = px.Client().get_evaluations(project_name=\"default\")"
   ]
  },
  {
   "cell_type": "code",
   "execution_count": 109,
   "metadata": {},
   "outputs": [
    {
     "data": {
      "text/plain": [
       "[]"
      ]
     },
     "execution_count": 109,
     "metadata": {},
     "output_type": "execute_result"
    }
   ],
   "source": [
    "evals"
   ]
  },
  {
   "cell_type": "code",
   "execution_count": 107,
   "metadata": {},
   "outputs": [
    {
     "ename": "AttributeError",
     "evalue": "'str' object has no attribute 'evaluations'",
     "output_type": "error",
     "traceback": [
      "\u001b[0;31m---------------------------------------------------------------------------\u001b[0m",
      "\u001b[0;31mAttributeError\u001b[0m                            Traceback (most recent call last)",
      "Cell \u001b[0;32mIn[107], line 1\u001b[0m\n\u001b[0;32m----> 1\u001b[0m my_traces \u001b[38;5;241m=\u001b[39m \u001b[43mpx\u001b[49m\u001b[38;5;241;43m.\u001b[39;49m\u001b[43mTraceDataset\u001b[49m\u001b[38;5;241;43m.\u001b[39;49m\u001b[43msave\u001b[49m\u001b[43m(\u001b[49m\u001b[38;5;124;43m\"\u001b[39;49m\u001b[38;5;124;43m/Users/sulzair/Documents/Bachelor Thesis/dspy_v2/Saved Spans/\u001b[39;49m\u001b[38;5;124;43m\"\u001b[39;49m\u001b[43m)\u001b[49m\n",
      "File \u001b[0;32m~/Documents/Bachelor Thesis/dspy_v2/dspy_v2/lib/python3.12/site-packages/phoenix/trace/trace_dataset.py:248\u001b[0m, in \u001b[0;36mTraceDataset.save\u001b[0;34m(self, directory)\u001b[0m\n\u001b[1;32m    233\u001b[0m \u001b[38;5;250m\u001b[39m\u001b[38;5;124;03m\"\"\"\u001b[39;00m\n\u001b[1;32m    234\u001b[0m \u001b[38;5;124;03mWrites the trace dataset to disk. If any evaluations have been appended\u001b[39;00m\n\u001b[1;32m    235\u001b[0m \u001b[38;5;124;03mto the dataset, those evaluations will be saved to separate files within\u001b[39;00m\n\u001b[0;32m   (...)\u001b[0m\n\u001b[1;32m    245\u001b[0m \u001b[38;5;124;03m        the dataset from disk using `load`.\u001b[39;00m\n\u001b[1;32m    246\u001b[0m \u001b[38;5;124;03m\"\"\"\u001b[39;00m\n\u001b[1;32m    247\u001b[0m directory \u001b[38;5;241m=\u001b[39m Path(directory \u001b[38;5;129;01mor\u001b[39;00m TRACE_DATASETS_DIR)\n\u001b[0;32m--> 248\u001b[0m \u001b[38;5;28;01mfor\u001b[39;00m evals \u001b[38;5;129;01min\u001b[39;00m \u001b[38;5;28;43mself\u001b[39;49m\u001b[38;5;241;43m.\u001b[39;49m\u001b[43mevaluations\u001b[49m:\n\u001b[1;32m    249\u001b[0m     evals\u001b[38;5;241m.\u001b[39msave(directory)\n\u001b[1;32m    250\u001b[0m path \u001b[38;5;241m=\u001b[39m directory \u001b[38;5;241m/\u001b[39m TRACE_DATASET_PARQUET_FILE_NAME\u001b[38;5;241m.\u001b[39mformat(\u001b[38;5;28mid\u001b[39m\u001b[38;5;241m=\u001b[39m\u001b[38;5;28mself\u001b[39m\u001b[38;5;241m.\u001b[39m_id)\n",
      "\u001b[0;31mAttributeError\u001b[0m: 'str' object has no attribute 'evaluations'"
     ]
    }
   ],
   "source": [
    "\n",
    "my_traces = px.TraceDataset.save(\"/Users/sulzair/Documents/Bachelor Thesis/dspy_v2/Saved Spans/\")\n",
    "\n"
   ]
  },
  {
   "cell_type": "code",
   "execution_count": null,
   "metadata": {},
   "outputs": [],
   "source": [
    "px.launch_app(trace=px.TraceDataset.load(my_traces))"
   ]
  },
  {
   "cell_type": "code",
   "execution_count": 6,
   "metadata": {},
   "outputs": [],
   "source": [
    "dotenv.load_dotenv()\n",
    "lm = dspy.LM('openai/gpt-4o', temperature=0.3, max_tokens=4096, stop=None, cache=False)\n",
    "dspy.settings.configure(lm = lm)"
   ]
  },
  {
   "cell_type": "code",
   "execution_count": 7,
   "metadata": {},
   "outputs": [
    {
     "data": {
      "application/vnd.jupyter.widget-view+json": {
       "model_id": "7a175e4b84124cfbba760e8f46698477",
       "version_major": 2,
       "version_minor": 0
      },
      "text/plain": [
       "parsing log, completed traces ::   0%|          | 0/150370 [00:00<?, ?it/s]"
      ]
     },
     "metadata": {},
     "output_type": "display_data"
    },
    {
     "name": "stdout",
     "output_type": "stream",
     "text": [
      "[]\n"
     ]
    }
   ],
   "source": [
    "df = pm4py.read_xes(INPUT_FILE_NAME)\n",
    "df.columns = df.columns.str.replace(':', '_', regex=False)\n",
    "# replace nan values with 0 in columns \"amount\", \"expense\", \"paymentAmount\", \"totalPaymentAmount\"\n",
    "df['amount'] = df['amount'].fillna(0)\n",
    "df['expense'] = df['expense'].fillna(0)\n",
    "df['paymentAmount'] = df['paymentAmount'].fillna(0)\n",
    "df['totalPaymentAmount'] = df['totalPaymentAmount'].fillna(0)\n",
    "#fturn euros into cents\n",
    "df['amount'] = df['amount'] * 100\n",
    "df['amount'] = df['amount'].astype(int)\n",
    "df['expense'] = df['expense'] * 100\n",
    "df['expense'] = df['expense'].astype(int)\n",
    "df['paymentAmount'] = df['paymentAmount'] * 100\n",
    "df['paymentAmount'] = df['paymentAmount'].astype(int)\n",
    "df['totalPaymentAmount'] = df['totalPaymentAmount'] * 100\n",
    "df['totalPaymentAmount'] = df['totalPaymentAmount'].astype(int)\n",
    "\n",
    "conn = sqlite3.connect(SQLITE_DB_NAME)\n",
    "cur = conn.cursor()\n",
    "cur.execute(\"DROP TABLE IF EXISTS temp_table;\")\n",
    "\n",
    "print(cur.fetchall())\n",
    "conn.commit()\n",
    "\n",
    "df.to_sql(\"event_log\", conn, if_exists=\"replace\", index=False)\n",
    "cur = conn.cursor()\n",
    "indexes = [\n",
    "    \"CREATE INDEX IF NOT EXISTS idx_case_concept_name ON event_log(case_concept_name);\",\n",
    "    \"CREATE INDEX IF NOT EXISTS idx_concept_name ON event_log(concept_name);\",\n",
    "    \"CREATE INDEX IF NOT EXISTS idx_timestamp ON event_log(time_timestamp);\"\n",
    "]\n",
    "for index_query in indexes:\n",
    "    cur.execute(index_query)\n",
    "conn.commit()\n",
    "\n",
    "cur.execute(\"ALTER TABLE event_log ADD COLUMN idx INTEGER;\")\n",
    "conn.commit()\n",
    "cur.execute(\"\"\"UPDATE event_log SET idx = (\n",
    "    SELECT rowid FROM (\n",
    "        SELECT ROW_NUMBER() OVER (ORDER BY case_concept_name, time_timestamp) as seq_num, rowid\n",
    "        FROM event_log\n",
    "    ) temp WHERE temp.rowid = event_log.rowid\n",
    ");\"\"\")\n",
    "conn.commit()\n",
    "cur.execute(\"CREATE INDEX idx_event_log_idx ON event_log(idx);\")\n",
    "conn.commit()\n",
    "cur.execute(\"VACUUM;\")\n",
    "cur.execute(\"ANALYZE;\")\n",
    "conn.commit()\n",
    "cur.close()"
   ]
  },
  {
   "cell_type": "markdown",
   "metadata": {},
   "source": [
    "# Initialize Chroma Retriever"
   ]
  },
  {
   "cell_type": "code",
   "execution_count": 92,
   "metadata": {},
   "outputs": [
    {
     "name": "stdout",
     "output_type": "stream",
     "text": [
      "[\"- 'amount' (int): The amount due to be paid for the fine (including the penalty amount in case it is added). There are no nan values in this column.\", \"- 'org_resource' (int): A numeric code indicating the employee who handled the case.\", \"- 'dismissal' (string): A flag indicating whether and by whom the fine is dismissed. It is initialized to NIL. We know the meaning of:  \\n        'G': dismissed by the judge\\n        '#': dismissed by the prefecture\\n        NIL: not dismissed, i.e., to be paid.\\n        There are several other values used for which we do not know the semantics.\", \"- 'vehicleClass' (string): A flag indicating the kind of vehicle driven or owned by the offender. The semantics of the values is unknown.\", \"- 'totalPaymentAmount' (int): The cumulative amount paid by the offender. It is always initialized to 0. There are no nan values in this column.\", \"- 'lifecycle_transition' (string): the transition of the activity (complete, start, etc.)\", \"- 'article' (string): The number of the article of the Italian roadtraffic law that is violated by the offender (e.g., article 157 refers to stopping and parking vehicles).\", \"- 'points' (float): Penalty points deducted from the driving license. In Italy, each driver starts with 20 points on their license and may loose points for each offence, based on the gravity.\", \"- 'expense' (int): The additional amount due to be paid for postal expenses. There are no nan values in this column.\", \"- 'notificationType' (string): A flag indicating to whom the fine refers. 'P': car owner, 'C': car driver.\", \"- 'lastSent' (datetime): N/A\", \"- 'paymentAmount' (int): The amount paid by the offender in one transaction. There are no nan values in this column.\", \"- 'matricola' (string): N/A (Probably refers to the matriculation number of the car.)\", \"- 'concept_name' (string): the activity/ event type name\\n        Activity Description, column: 'concept:name':\\n            > 'Create Fine': The initial creation of the fine in the information system. It initializes event log attributes amount, dismissal, points and totalPaymentAmount.\\n            > 'Send Fine': A notification about the fine is sent by post to the offender.\\n            > 'Insert Fine Notification': The notification is received by the offender.\\n            > 'Add penalty': An additional penalty is applied.\\n            > 'Payment': A payment made by the offender is registered.\\n            > 'Send for Credit Collection': Unpaid fines are sent for credit collection. A separate process is started by a collection agency to collect the money of the unpaid fines.\\n            > 'Insert Date Appeal to Prefecture': The offender appeals against the fine to the prefecture. A prefecture in Italy is an administrative body representing the national government in each province.\\n            > 'Send Appeal to Prefecture': The appeal is sent to the prefecture by the local police.\\n            > 'Receive Result Appeal from Prefecture': The local police receives the result of the appeal. If the prefecture dismisses the fine, the appeal is deemed accepted, and the obligation to pay the fine is cancelled. In this case, there is no need for the police to receive the result from the prefecture (Receive Result Appeal from Prefecture) and notify the offender (Notify Result Appeal to Offender).\\n            > 'Notify Result Appeal to Offender': The local police informs the offender of the appeal result. \\n            > 'Appeal to Judge': The offender appeals against the fine to a judge.\\n        IMPORTANT: The last event in a case can be arbitrary. There is no guarantee that the last event is 'Send Fine' or 'Payment'. The last event can be any event in the log.\"]\n",
      "14\n",
      "['amount']\n",
      "['org_resource']\n",
      "['dismissal']\n",
      "['vehicleClass']\n",
      "['totalPaymentAmount']\n",
      "['lifecycle_transition']\n",
      "['article']\n",
      "['points']\n",
      "['expense']\n",
      "['notificationType']\n",
      "['lastSent']\n",
      "['paymentAmount']\n",
      "['matricola']\n",
      "['concept_name']\n"
     ]
    }
   ],
   "source": [
    "# Initialize the Chroma retriever\n",
    "\n",
    "col_desc = \"\"\"- 'amount' (int): The amount due to be paid for the fine (including the penalty amount in case it is added). There are no nan values in this column.\n",
    "- 'org_resource' (int): A numeric code indicating the employee who handled the case.\n",
    "- 'dismissal' (string): A flag indicating whether and by whom the fine is dismissed. It is initialized to NIL. We know the meaning of:  \n",
    "        'G': dismissed by the judge\n",
    "        '#': dismissed by the prefecture\n",
    "        NIL: not dismissed, i.e., to be paid.\n",
    "        There are several other values used for which we do not know the semantics.\n",
    "- 'vehicleClass' (string): A flag indicating the kind of vehicle driven or owned by the offender. The semantics of the values is unknown.\n",
    "- 'totalPaymentAmount' (int): The cumulative amount paid by the offender. It is always initialized to 0. There are no nan values in this column.\n",
    "- 'lifecycle_transition' (string): the transition of the activity (complete, start, etc.)\n",
    "- 'article' (string): The number of the article of the Italian roadtraffic law that is violated by the offender (e.g., article 157 refers to stopping and parking vehicles).\n",
    "- 'points' (float): Penalty points deducted from the driving license. In Italy, each driver starts with 20 points on their license and may loose points for each offence, based on the gravity.\n",
    "- 'expense' (int): The additional amount due to be paid for postal expenses. There are no nan values in this column.\n",
    "- 'notificationType' (string): A flag indicating to whom the fine refers. 'P': car owner, 'C': car driver.\n",
    "- 'lastSent' (datetime): N/A\n",
    "- 'paymentAmount' (int): The amount paid by the offender in one transaction. There are no nan values in this column.\n",
    "- 'matricola' (string): N/A (Probably refers to the matriculation number of the car.)\n",
    "- 'concept_name' (string): the activity/ event type name\n",
    "        Activity Description, column: 'concept:name':\n",
    "            > 'Create Fine': The initial creation of the fine in the information system. It initializes event log attributes amount, dismissal, points and totalPaymentAmount.\n",
    "            > 'Send Fine': A notification about the fine is sent by post to the offender.\n",
    "            > 'Insert Fine Notification': The notification is received by the offender.\n",
    "            > 'Add penalty': An additional penalty is applied.\n",
    "            > 'Payment': A payment made by the offender is registered.\n",
    "            > 'Send for Credit Collection': Unpaid fines are sent for credit collection. A separate process is started by a collection agency to collect the money of the unpaid fines.\n",
    "            > 'Insert Date Appeal to Prefecture': The offender appeals against the fine to the prefecture. A prefecture in Italy is an administrative body representing the national government in each province.\n",
    "            > 'Send Appeal to Prefecture': The appeal is sent to the prefecture by the local police.\n",
    "            > 'Receive Result Appeal from Prefecture': The local police receives the result of the appeal. If the prefecture dismisses the fine, the appeal is deemed accepted, and the obligation to pay the fine is cancelled. In this case, there is no need for the police to receive the result from the prefecture (Receive Result Appeal from Prefecture) and notify the offender (Notify Result Appeal to Offender).\n",
    "            > 'Notify Result Appeal to Offender': The local police informs the offender of the appeal result. \n",
    "            > 'Appeal to Judge': The offender appeals against the fine to a judge.\n",
    "        IMPORTANT: The last event in a case can be arbitrary. There is no guarantee that the last event is 'Send Fine' or 'Payment'. The last event can be any event in the log.\"\"\"\n",
    "\n",
    "rm = Chroma(sentence_transformer_ef = sentence_transformer_ef , documentation = col_desc) # for python, use standard cols"
   ]
  },
  {
   "cell_type": "code",
   "execution_count": 79,
   "metadata": {},
   "outputs": [
    {
     "data": {
      "text/plain": [
       "['amount',\n",
       " 'org_resource',\n",
       " 'dismissal',\n",
       " 'vehicleClass',\n",
       " 'totalPaymentAmount',\n",
       " 'lifecycle_transition',\n",
       " 'article',\n",
       " 'points',\n",
       " 'expense',\n",
       " 'notificationType',\n",
       " 'lastSent',\n",
       " 'paymentAmount',\n",
       " 'matricola',\n",
       " 'concept_name']"
      ]
     },
     "execution_count": 79,
     "metadata": {},
     "output_type": "execute_result"
    }
   ],
   "source": [
    "rm.cols # is the case:concept:name and time:timestamp in there?"
   ]
  },
  {
   "cell_type": "markdown",
   "metadata": {},
   "source": [
    "# Initialize SQL, PY and combined Classes"
   ]
  },
  {
   "cell_type": "code",
   "execution_count": 93,
   "metadata": {},
   "outputs": [],
   "source": [
    "class SQLiteConnectionPool:\n",
    "    def __init__(self, database, max_size=10):\n",
    "        self.database = database\n",
    "        self.pool = Queue(maxsize=max_size)\n",
    "        for _ in range(max_size):\n",
    "            self.pool.put(self.create_new_connection())\n",
    "\n",
    "    def create_new_connection(self):\n",
    "        return sqlite3.connect(self.database, check_same_thread=False)\n",
    "\n",
    "    def get_connection(self):\n",
    "        return self.pool.get()\n",
    "\n",
    "    def release_connection(self, conn):\n",
    "        self.pool.put(conn)\n",
    "\n",
    "pool = SQLiteConnectionPool(SQLITE_DB_NAME, max_size=10)"
   ]
  },
  {
   "cell_type": "code",
   "execution_count": 94,
   "metadata": {},
   "outputs": [],
   "source": [
    "\n",
    "col_instructions = pd.read_csv(COLUMN_INSTRUCTIONS)\n",
    "\n",
    "dp_graph = DependencyGraph(rm.cols, col_instructions) # check what is in rm.cols (it appends the timestamp and case concept name columns)"
   ]
  },
  {
   "cell_type": "code",
   "execution_count": 95,
   "metadata": {},
   "outputs": [],
   "source": [
    "required_cols_test = ['appeal_judge_cancelled']"
   ]
  },
  {
   "cell_type": "code",
   "execution_count": 96,
   "metadata": {},
   "outputs": [
    {
     "data": {
      "text/plain": [
       "['amount',\n",
       " 'org_resource',\n",
       " 'dismissal',\n",
       " 'vehicleClass',\n",
       " 'totalPaymentAmount',\n",
       " 'lifecycle_transition',\n",
       " 'article',\n",
       " 'points',\n",
       " 'expense',\n",
       " 'notificationType',\n",
       " 'lastSent',\n",
       " 'paymentAmount',\n",
       " 'matricola',\n",
       " 'concept_name',\n",
       " 'case_concept_name',\n",
       " 'time_timestamp']"
      ]
     },
     "execution_count": 96,
     "metadata": {},
     "output_type": "execute_result"
    }
   ],
   "source": [
    "rm.cols"
   ]
  },
  {
   "cell_type": "code",
   "execution_count": 97,
   "metadata": {},
   "outputs": [
    {
     "name": "stdout",
     "output_type": "stream",
     "text": [
      "['appealed_to_judge', 'dismissed_by_judge', 'appeal_judge_cancelled']\n"
     ]
    }
   ],
   "source": [
    "testing_cols_generate = dp_graph.cols(required_cols_test, rm.cols)\n",
    "print(testing_cols_generate)"
   ]
  },
  {
   "cell_type": "markdown",
   "metadata": {},
   "source": [
    "load the combined.py program"
   ]
  },
  {
   "cell_type": "code",
   "execution_count": 17,
   "metadata": {},
   "outputs": [],
   "source": [
    "py_combined = assert_transform_module(\n",
    "    PM_combined(\n",
    "        dp_graph = dp_graph, \n",
    "        rm=rm, \n",
    "        pool=pool,\n",
    "        conn_path= SQLITE_DB_NAME,\n",
    "        pm_py_path= PM_PY_PATH,\n",
    "        pm_sql_path=PM_SQL_PATH ), \n",
    "        functools.partial(backtrack_handler, max_backtracks=4))\n",
    "\n",
    "py_combined.save(\"/Users/sulzair/Documents/Bachelor Thesis/dspy_v2/Optimized_prompts/combined/combined_signatures.json\") # save the signature\n",
    "py_combined.pm_py.load(PM_PY_PATH) # load the demonstrations\n",
    "py_combined.pm_sql.load(PM_SQL_PATH) # load the demonstrations\n",
    "py_combined.save(\"/Users/sulzair/Documents/Bachelor Thesis/dspy_v2/Optimized_prompts/combined/combined_signatures.json\") # save including the demonstrations\n"
   ]
  },
  {
   "cell_type": "markdown",
   "metadata": {},
   "source": [
    "load the combined_perfect decisions.py program"
   ]
  },
  {
   "cell_type": "code",
   "execution_count": 12,
   "metadata": {},
   "outputs": [],
   "source": [
    "py_combined_perfect = assert_transform_module(\n",
    "    PM_combined_perfect_d(\n",
    "        dp_graph = dp_graph, \n",
    "        rm=rm, \n",
    "        pool=pool,\n",
    "        conn_path= SQLITE_DB_NAME,\n",
    "        pm_py_path= PM_PY_PATH,\n",
    "        pm_sql_path=PM_SQL_PATH ), \n",
    "        functools.partial(backtrack_handler, max_backtracks=4))\n"
   ]
  },
  {
   "cell_type": "code",
   "execution_count": 13,
   "metadata": {},
   "outputs": [],
   "source": [
    "py_combined_perfect.save(\"/Users/sulzair/Documents/Bachelor Thesis/dspy_v2/Optimized_prompts/combined/combined_signatures_perfect.json\") # save the signature\n",
    "py_combined_perfect.pm_py.load(PM_PY_PATH) # load the demonstrations\n",
    "py_combined_perfect.pm_sql.load(PM_SQL_PATH) # load the demonstrations\n",
    "py_combined_perfect.save(\"/Users/sulzair/Documents/Bachelor Thesis/dspy_v2/Optimized_prompts/combined/combined_signatures_perfect.json\") # save including the demonstrations"
   ]
  },
  {
   "cell_type": "markdown",
   "metadata": {},
   "source": [
    "# Load the Train and Test data"
   ]
  },
  {
   "cell_type": "code",
   "execution_count": 18,
   "metadata": {},
   "outputs": [],
   "source": [
    "qa = pd.read_csv(SQL_QUESTIONS)"
   ]
  },
  {
   "cell_type": "code",
   "execution_count": 41,
   "metadata": {},
   "outputs": [
    {
     "data": {
      "text/html": [
       "<div>\n",
       "<style scoped>\n",
       "    .dataframe tbody tr th:only-of-type {\n",
       "        vertical-align: middle;\n",
       "    }\n",
       "\n",
       "    .dataframe tbody tr th {\n",
       "        vertical-align: top;\n",
       "    }\n",
       "\n",
       "    .dataframe thead th {\n",
       "        text-align: right;\n",
       "    }\n",
       "</style>\n",
       "<table border=\"1\" class=\"dataframe\">\n",
       "  <thead>\n",
       "    <tr style=\"text-align: right;\">\n",
       "      <th></th>\n",
       "      <th>Category</th>\n",
       "      <th>Question</th>\n",
       "      <th>Answer</th>\n",
       "      <th>Direct col to use</th>\n",
       "      <th>Split</th>\n",
       "    </tr>\n",
       "  </thead>\n",
       "  <tbody>\n",
       "    <tr>\n",
       "      <th>0</th>\n",
       "      <td>Generic Questions</td>\n",
       "      <td>How many events are in the log?</td>\n",
       "      <td>561470</td>\n",
       "      <td>NaN</td>\n",
       "      <td>test</td>\n",
       "    </tr>\n",
       "    <tr>\n",
       "      <th>1</th>\n",
       "      <td>NaN</td>\n",
       "      <td>How many cases are in the log?</td>\n",
       "      <td>150370</td>\n",
       "      <td>NaN</td>\n",
       "      <td>train</td>\n",
       "    </tr>\n",
       "    <tr>\n",
       "      <th>2</th>\n",
       "      <td>NaN</td>\n",
       "      <td>When is the start of the event log?</td>\n",
       "      <td>1/1/2000 / 2000-01-01</td>\n",
       "      <td>NaN</td>\n",
       "      <td>test</td>\n",
       "    </tr>\n",
       "    <tr>\n",
       "      <th>3</th>\n",
       "      <td>NaN</td>\n",
       "      <td>When is the end of the event log?</td>\n",
       "      <td>6/18/2013/ 2013-06-18</td>\n",
       "      <td>NaN</td>\n",
       "      <td>test</td>\n",
       "    </tr>\n",
       "    <tr>\n",
       "      <th>4</th>\n",
       "      <td>Activity Count (log)</td>\n",
       "      <td>How many Create Fine events occur?</td>\n",
       "      <td>150370</td>\n",
       "      <td>NaN</td>\n",
       "      <td>train</td>\n",
       "    </tr>\n",
       "    <tr>\n",
       "      <th>...</th>\n",
       "      <td>...</td>\n",
       "      <td>...</td>\n",
       "      <td>...</td>\n",
       "      <td>...</td>\n",
       "      <td>...</td>\n",
       "    </tr>\n",
       "    <tr>\n",
       "      <th>95</th>\n",
       "      <td>NaN</td>\n",
       "      <td>What is the lowest amount last found in the event log?</td>\n",
       "      <td>0</td>\n",
       "      <td>['amount_last']</td>\n",
       "      <td>test</td>\n",
       "    </tr>\n",
       "    <tr>\n",
       "      <th>96</th>\n",
       "      <td>NaN</td>\n",
       "      <td>How many cases have the lowest amount last found in the event log?</td>\n",
       "      <td>36</td>\n",
       "      <td>['amount_last']</td>\n",
       "      <td>test</td>\n",
       "    </tr>\n",
       "    <tr>\n",
       "      <th>97</th>\n",
       "      <td>NaN</td>\n",
       "      <td>Which case has the highest outstanding balance?</td>\n",
       "      <td>C18395:\\t801985</td>\n",
       "      <td>['outstanding_balance']</td>\n",
       "      <td>test</td>\n",
       "    </tr>\n",
       "    <tr>\n",
       "      <th>98</th>\n",
       "      <td>NaN</td>\n",
       "      <td>What is the average outstanding balance per case?</td>\n",
       "      <td>5571.34701</td>\n",
       "      <td>['outstanding_balance']</td>\n",
       "      <td>test</td>\n",
       "    </tr>\n",
       "    <tr>\n",
       "      <th>99</th>\n",
       "      <td>NaN</td>\n",
       "      <td>What are the top 10 cases whith the highest outstanding balance?</td>\n",
       "      <td>The top 9 cases with the highest outstanding balance are:\\r\\nC1839...</td>\n",
       "      <td>['outstanding_balance']</td>\n",
       "      <td>test</td>\n",
       "    </tr>\n",
       "  </tbody>\n",
       "</table>\n",
       "<p>100 rows × 5 columns</p>\n",
       "</div>"
      ],
      "text/plain": [
       "                Category  \\\n",
       "0      Generic Questions   \n",
       "1                    NaN   \n",
       "2                    NaN   \n",
       "3                    NaN   \n",
       "4   Activity Count (log)   \n",
       "..                   ...   \n",
       "95                   NaN   \n",
       "96                   NaN   \n",
       "97                   NaN   \n",
       "98                   NaN   \n",
       "99                   NaN   \n",
       "\n",
       "                                                               Question  \\\n",
       "0                                       How many events are in the log?   \n",
       "1                                        How many cases are in the log?   \n",
       "2                                   When is the start of the event log?   \n",
       "3                                     When is the end of the event log?   \n",
       "4                                    How many Create Fine events occur?   \n",
       "..                                                                  ...   \n",
       "95               What is the lowest amount last found in the event log?   \n",
       "96  How many cases have the lowest amount last found in the event log?    \n",
       "97                      Which case has the highest outstanding balance?   \n",
       "98                    What is the average outstanding balance per case?   \n",
       "99     What are the top 10 cases whith the highest outstanding balance?   \n",
       "\n",
       "                                                                   Answer  \\\n",
       "0                                                                  561470   \n",
       "1                                                                  150370   \n",
       "2                                                   1/1/2000 / 2000-01-01   \n",
       "3                                                   6/18/2013/ 2013-06-18   \n",
       "4                                                                  150370   \n",
       "..                                                                    ...   \n",
       "95                                                                      0   \n",
       "96                                                                     36   \n",
       "97                                                        C18395:\\t801985   \n",
       "98                                                             5571.34701   \n",
       "99  The top 9 cases with the highest outstanding balance are:\\r\\nC1839...   \n",
       "\n",
       "          Direct col to use  Split  \n",
       "0                       NaN   test  \n",
       "1                       NaN  train  \n",
       "2                       NaN   test  \n",
       "3                       NaN   test  \n",
       "4                       NaN  train  \n",
       "..                      ...    ...  \n",
       "95          ['amount_last']   test  \n",
       "96          ['amount_last']   test  \n",
       "97  ['outstanding_balance']   test  \n",
       "98  ['outstanding_balance']   test  \n",
       "99  ['outstanding_balance']   test  \n",
       "\n",
       "[100 rows x 5 columns]"
      ]
     },
     "execution_count": 41,
     "metadata": {},
     "output_type": "execute_result"
    }
   ],
   "source": [
    "qa.head(100)"
   ]
  },
  {
   "cell_type": "code",
   "execution_count": 20,
   "metadata": {},
   "outputs": [
    {
     "name": "stdout",
     "output_type": "stream",
     "text": [
      "True\n",
      "True\n",
      "True\n",
      "True\n",
      "True\n",
      "True\n",
      "True\n",
      "True\n",
      "False\n",
      "True\n",
      "True\n",
      "False\n",
      "False\n",
      "False\n",
      "False\n",
      "False\n",
      "False\n",
      "False\n",
      "False\n",
      "False\n",
      "False\n",
      "False\n",
      "False\n",
      "False\n",
      "False\n",
      "False\n",
      "False\n",
      "False\n",
      "False\n",
      "False\n",
      "False\n",
      "False\n",
      "False\n",
      "False\n",
      "False\n",
      "False\n",
      "False\n",
      "False\n",
      "False\n",
      "True\n",
      "True\n",
      "True\n",
      "True\n",
      "True\n",
      "False\n",
      "False\n",
      "False\n",
      "False\n",
      "False\n",
      "False\n",
      "False\n",
      "False\n",
      "False\n",
      "False\n",
      "False\n",
      "False\n",
      "False\n",
      "False\n",
      "False\n",
      "False\n",
      "False\n",
      "False\n",
      "False\n",
      "False\n",
      "False\n",
      "False\n",
      "False\n",
      "False\n",
      "False\n",
      "False\n",
      "False\n",
      "False\n",
      "False\n",
      "False\n",
      "False\n",
      "False\n",
      "False\n",
      "False\n",
      "False\n",
      "False\n",
      "False\n",
      "False\n",
      "False\n",
      "False\n",
      "True\n",
      "True\n",
      "True\n",
      "True\n",
      "False\n",
      "False\n",
      "False\n",
      "False\n",
      "False\n",
      "False\n",
      "False\n",
      "False\n",
      "False\n",
      "False\n",
      "False\n",
      "False\n",
      "False\n",
      "False\n",
      "False\n",
      "False\n",
      "False\n",
      "False\n",
      "False\n",
      "False\n",
      "False\n",
      "False\n",
      "False\n",
      "False\n",
      "False\n",
      "False\n",
      "False\n",
      "False\n",
      "False\n",
      "False\n",
      "False\n",
      "False\n",
      "False\n",
      "False\n",
      "False\n",
      "False\n",
      "False\n",
      "False\n",
      "False\n",
      "False\n",
      "False\n",
      "False\n",
      "False\n",
      "False\n",
      "False\n",
      "False\n",
      "False\n",
      "False\n",
      "False\n",
      "False\n",
      "False\n",
      "False\n",
      "False\n",
      "False\n",
      "False\n",
      "False\n",
      "False\n",
      "False\n",
      "False\n",
      "False\n",
      "False\n",
      "False\n",
      "False\n",
      "False\n",
      "False\n",
      "False\n",
      "False\n",
      "False\n",
      "False\n",
      "False\n",
      "False\n",
      "False\n",
      "False\n",
      "False\n",
      "False\n",
      "False\n",
      "False\n",
      "False\n",
      "False\n",
      "False\n",
      "False\n",
      "False\n",
      "False\n",
      "False\n",
      "False\n",
      "False\n",
      "False\n",
      "False\n",
      "False\n",
      "False\n",
      "False\n",
      "False\n",
      "False\n"
     ]
    }
   ],
   "source": [
    "trainset = []\n",
    "testset = []\n",
    "for category, question, answer, cols, split in qa.values:\n",
    "    print(type(cols) == float)\n",
    "    py = dspy.Example(question = question, example = answer, req_cols = cols).with_inputs(\"question\", \"req_cols\")\n",
    "    if split == \"train\":\n",
    "        trainset.append(py)\n",
    "    else:\n",
    "        testset.append(py)"
   ]
  },
  {
   "cell_type": "code",
   "execution_count": 21,
   "metadata": {},
   "outputs": [
    {
     "name": "stdout",
     "output_type": "stream",
     "text": [
      "78 103\n"
     ]
    }
   ],
   "source": [
    "print(len(trainset), len(testset))\n"
   ]
  },
  {
   "cell_type": "markdown",
   "metadata": {},
   "source": [
    "# Eval Class"
   ]
  },
  {
   "cell_type": "markdown",
   "metadata": {},
   "source": [
    "import from sql_llm_judge.py the LM_EVAL program"
   ]
  },
  {
   "cell_type": "code",
   "execution_count": 98,
   "metadata": {},
   "outputs": [],
   "source": [
    "judge_lm = dspy.LM(model='openai/gpt-4o', temperature=1, max_tokens=3000, stop=None, cache=True, seed= 99)\n",
    "\n",
    "judge_adjusted = LM_EVAL(judge_lm)\n",
    "judge_adjusted.load(JUDGE_PATH)"
   ]
  },
  {
   "cell_type": "markdown",
   "metadata": {},
   "source": [
    "# Eval of combined"
   ]
  },
  {
   "cell_type": "markdown",
   "metadata": {},
   "source": [
    "**'openai/gpt-4o-mini', temperature=0.3, max_tokens=4096,**\n",
    "\n",
    "- pm_combined (check + reasoning uncompiled) (using py_add_fewshot_12.json & sql_bootstrap_bootstrap_fewshot_1.json) (assertions activated): score: 168.0 time: 32m 16\n",
    "Name: testset_pm_combined_decision_uc\n",
    "\n",
    "(maybe we run this again (not urgent))\n",
    "\n",
    "\n",
    "- pm_combined_perfect (check + reasoning uncompiled) (using py_add_fewshot_12.json & sql_bootstrap_bootstrap_fewshot_1.json) (assertions activated): score:164.1 time: 31m 50s Name: testset_pm_combined_perfect_decision_uc\n",
    "\n",
    "**'openai/gpt-4o', temperature=0.3, max_tokens=4096,**\n",
    "\n",
    "- pm_combined (check + reasoning uncompiled) (using py_add_fewshot_12.json & sql_bootstrap_bootstrap_fewshot_1.json) (assertions activated): score: 154.4 time: 28m 53\n",
    "Name: testset_pm_combined_decision_uc_4o\n",
    "\n",
    "- pm_combined_perfect (check + reasoning uncompiled) (using py_add_fewshot_12.json & sql_bootstrap_bootstrap_fewshot_1.json) (assertions activated): score:116.5 time: 31m 05s Name: testset_pm_combined_perfect_decision_uc_4o\n",
    "\n",
    "second run (after some weird results)\n",
    "\n",
    "**-> potentially something wrong (restarted notebook)**\n",
    "\n",
    "- pm_combined_perfect (check + reasoning uncompiled) (using py_add_fewshot_12.json & sql_bootstrap_bootstrap_fewshot_1.json) (assertions activated): score:182.5% time: 29m 30s Name: testset_pm_combined_perfect_decision_uc_4o_run2\n",
    "\n",
    "Notes: All columns generated successfully & correctly. very good. We have a slight mismatch between precision (0.7) and recall (1), whereby the model will more often than not, tend to lean towards using the sql query instead of python code to help out. Its a little too self-sufficient\n",
    "\n",
    "\n",
    "- pm_combined (check + reasoning compiled (combined_optimized.json)) (using py_add_fewshot_12.json & sql_bootstrap_bootstrap_fewshot_1.json) (assertions activated): score: 172.8% time: 29m 12\n",
    "Name: testset_pm_combined_decision_compiled_4o\n",
    "\n",
    "\n",
    "\n",
    "**SQL Isolated**\n",
    "gpt 4o, temp .3\n",
    "- PM_SQL_multi_sp compiled(sql_bootstrap_bootstrap_fewshot_1.json) (assertions active) 106.8%, time: 10:48, Name: testset_pm_isolated_c_4o\n",
    "\n",
    "- PM_isolated uncompiled (assertions active) Name: testset_pm_isolated_definitions_uc_4o Score:158.3 Time: 14m 33s \n",
    "\n",
    "gpt4-mini temp .3\n",
    "\n",
    "- PM_SQL_multi_sp compiled(sql_bootstrap_bootstrap_fewshot_1.json) (assertions active) Score: 99.0 , time: , Name: testset_pm_isolated_c_mini\n",
    "\n",
    "- PM_isolated uncompiled (assertions active) Name: testset_pm_isolated_definitions_uc_mini Score:161.2 Time: 14m 33s "
   ]
  },
  {
   "cell_type": "markdown",
   "metadata": {},
   "source": [
    " normal stuff, reset db, EVAluate, + getting the FP,TP etc scores"
   ]
  },
  {
   "cell_type": "code",
   "execution_count": 27,
   "metadata": {},
   "outputs": [
    {
     "data": {
      "text/plain": [
       "78"
      ]
     },
     "execution_count": 27,
     "metadata": {},
     "output_type": "execute_result"
    }
   ],
   "source": [
    "len(trainset)"
   ]
  },
  {
   "cell_type": "code",
   "execution_count": 34,
   "metadata": {},
   "outputs": [
    {
     "data": {
      "text/plain": [
       "[Example({'question': 'How many cases are unresolved?', 'example': '28984', 'req_cols': \"['unresolved']\"}) (input_keys={'question', 'req_cols'})]"
      ]
     },
     "execution_count": 34,
     "metadata": {},
     "output_type": "execute_result"
    }
   ],
   "source": [
    "testset[63:64]"
   ]
  },
  {
   "cell_type": "code",
   "execution_count": 101,
   "metadata": {},
   "outputs": [
    {
     "data": {
      "text/plain": [
       "[Example({'question': 'How many cases have had their appeal rejected by the judge?', 'example': '462', 'req_cols': \"['appeal_judge_cancelled']\"}) (input_keys={'question', 'req_cols'})]"
      ]
     },
     "execution_count": 101,
     "metadata": {},
     "output_type": "execute_result"
    }
   ],
   "source": [
    "testset[18:19]"
   ]
  },
  {
   "cell_type": "code",
   "execution_count": 102,
   "metadata": {},
   "outputs": [],
   "source": [
    "evaluate = Evaluate(devset=testset[18:19], metric=judge_adjusted, num_threads=1, display_progress=True, display_table=len(testset[18:19]), return_outputs=True, max_errors=10)"
   ]
  },
  {
   "cell_type": "code",
   "execution_count": 103,
   "metadata": {},
   "outputs": [
    {
     "name": "stdout",
     "output_type": "stream",
     "text": [
      "[]\n"
     ]
    }
   ],
   "source": [
    "conn = sqlite3.connect(SQLITE_DB_NAME)\n",
    "cur = conn.cursor()\n",
    "cur.execute(\"DROP TABLE IF EXISTS temp_table;\")\n",
    "\n",
    "print(cur.fetchall())\n",
    "conn.commit()\n",
    "\n",
    "df.to_sql(\"event_log\", conn, if_exists=\"replace\", index=False)\n",
    "cur = conn.cursor()\n",
    "indexes = [\n",
    "    \"CREATE INDEX IF NOT EXISTS idx_case_concept_name ON event_log(case_concept_name);\",\n",
    "    \"CREATE INDEX IF NOT EXISTS idx_concept_name ON event_log(concept_name);\",\n",
    "    \"CREATE INDEX IF NOT EXISTS idx_timestamp ON event_log(time_timestamp);\"\n",
    "]\n",
    "for index_query in indexes:\n",
    "    cur.execute(index_query)\n",
    "conn.commit()\n",
    "\n",
    "cur.execute(\"ALTER TABLE event_log ADD COLUMN idx INTEGER;\")\n",
    "conn.commit()\n",
    "cur.execute(\"\"\"UPDATE event_log SET idx = (\n",
    "    SELECT rowid FROM (\n",
    "        SELECT ROW_NUMBER() OVER (ORDER BY case_concept_name, time_timestamp) as seq_num, rowid\n",
    "        FROM event_log\n",
    "    ) temp WHERE temp.rowid = event_log.rowid\n",
    ");\"\"\")\n",
    "conn.commit()\n",
    "cur.execute(\"CREATE INDEX idx_event_log_idx ON event_log(idx);\")\n",
    "conn.commit()\n",
    "cur.execute(\"VACUUM;\")\n",
    "cur.execute(\"ANALYZE;\")\n",
    "conn.commit()\n",
    "cur.close()\n",
    "\n",
    "# dont forget to reset the rm class\n",
    "\n"
   ]
  },
  {
   "cell_type": "markdown",
   "metadata": {},
   "source": [
    "seed 1\n",
    "seed 2"
   ]
  },
  {
   "cell_type": "markdown",
   "metadata": {},
   "source": [
    "4o seed 3, seed 4, seed 5, seed 6, seed 7, seed 8, seed9"
   ]
  },
  {
   "cell_type": "code",
   "execution_count": 104,
   "metadata": {},
   "outputs": [],
   "source": [
    "lm = dspy.LM('openai/gpt-4o', temperature=0.3, max_tokens=4096, stop=None, cache=True, seed=399995)\n",
    "dspy.settings.configure(lm = lm)"
   ]
  },
  {
   "cell_type": "code",
   "execution_count": 69,
   "metadata": {},
   "outputs": [],
   "source": [
    "py_combined = assert_transform_module(\n",
    "    PM_combined(\n",
    "        dp_graph = dp_graph, \n",
    "        rm=rm, \n",
    "        pool=pool,\n",
    "        conn_path= SQLITE_DB_NAME,\n",
    "        pm_py_path= PM_PY_PATH,\n",
    "        pm_sql_path=PM_SQL_PATH ), \n",
    "        functools.partial(backtrack_handler, max_backtracks=4))\n",
    "\n",
    "\n",
    "py_combined.load(\"/Users/sulzair/Documents/Bachelor Thesis/dspy_v2/Optimized_prompts/combined/combined_optimized.json\") # save including the demonstrations\n"
   ]
  },
  {
   "cell_type": "code",
   "execution_count": 105,
   "metadata": {},
   "outputs": [],
   "source": [
    "py_combined_perfect = assert_transform_module(\n",
    "    PM_combined_perfect_d(\n",
    "        dp_graph = dp_graph, \n",
    "        rm=rm, \n",
    "        pool=pool,\n",
    "        conn_path= SQLITE_DB_NAME,\n",
    "        pm_py_path= PM_PY_PATH,\n",
    "        pm_sql_path=PM_SQL_PATH ), \n",
    "        functools.partial(backtrack_handler, max_backtracks=4))\n",
    "\n",
    "py_combined_perfect.load(\"/Users/sulzair/Documents/Bachelor Thesis/dspy_v2/Optimized_prompts/combined/combined_optimized.json\")"
   ]
  },
  {
   "cell_type": "code",
   "execution_count": 30,
   "metadata": {},
   "outputs": [],
   "source": [
    "py_combined_perfect.save(\"/Users/sulzair/Documents/Bachelor Thesis/dspy_v2/Optimized_prompts/combined/sometest_delete.json\") # save the signature"
   ]
  },
  {
   "cell_type": "code",
   "execution_count": 22,
   "metadata": {},
   "outputs": [],
   "source": [
    "py_combined_perfect = assert_transform_module(\n",
    "    PM_combined_perfect_d(\n",
    "        dp_graph = dp_graph, \n",
    "        rm=rm, \n",
    "        pool=pool,\n",
    "        conn_path= SQLITE_DB_NAME,\n",
    "        pm_py_path= PM_PY_PATH,\n",
    "        pm_sql_path=PM_SQL_PATH ), \n",
    "        functools.partial(backtrack_handler, max_backtracks=4))\n",
    "py_combined_perfect.save(\"/Users/sulzair/Documents/Bachelor Thesis/dspy_v2/Optimized_prompts/combined/combined_signatures_perfect.json\") # save the signature\n",
    "py_combined_perfect.pm_py.load(PM_PY_PATH) # load the demonstrations\n",
    "py_combined_perfect.pm_sql.load(PM_SQL_PATH) # load the demonstrations\n",
    "py_combined_perfect.save(\"/Users/sulzair/Documents/Bachelor Thesis/dspy_v2/Optimized_prompts/combined/combined_signatures_perfect.json\") # save including the demonstrations"
   ]
  },
  {
   "cell_type": "code",
   "execution_count": 106,
   "metadata": {},
   "outputs": [
    {
     "name": "stdout",
     "output_type": "stream",
     "text": [
      "  0%|          | 0/1 [00:00<?, ?it/s]check Decision.NO\n",
      "calling python module cols to generate:  ['appealed_to_judge', 'dismissed_by_judge', 'appeal_judge_cancelled']\n",
      "length of dp 561470\n",
      "column type of new column bool\n",
      "pre_float_check True\n",
      "pre_distinc_value_check True\n",
      "calling python module cols to generate:  ['appealed_to_judge', 'dismissed_by_judge', 'appeal_judge_cancelled']\n",
      "length of dp 561470\n",
      "column type of new column bool\n",
      "pre_float_check True\n",
      "pre_distinc_value_check True\n",
      "calling python module cols to generate:  ['appealed_to_judge', 'dismissed_by_judge', 'appeal_judge_cancelled']\n",
      "length of dp 561470\n",
      "column type of new column bool\n",
      "pre_float_check True\n",
      "pre_distinc_value_check True\n",
      "finished calling python, now calling sql module\n",
      "Average Metric: 2.00 / 1 (200.0%): 100%|██████████| 1/1 [01:24<00:00, 84.87s/it]"
     ]
    },
    {
     "name": "stderr",
     "output_type": "stream",
     "text": [
      "2025/01/10 13:41:39 INFO dspy.evaluate.evaluate: Average Metric: 2 / 1 (200.0%)\n"
     ]
    },
    {
     "name": "stdout",
     "output_type": "stream",
     "text": [
      "\n"
     ]
    },
    {
     "data": {
      "text/html": [
       "<div>\n",
       "<style scoped>\n",
       "    .dataframe tbody tr th:only-of-type {\n",
       "        vertical-align: middle;\n",
       "    }\n",
       "\n",
       "    .dataframe tbody tr th {\n",
       "        vertical-align: top;\n",
       "    }\n",
       "\n",
       "    .dataframe thead th {\n",
       "        text-align: right;\n",
       "    }\n",
       "</style>\n",
       "<table border=\"1\" class=\"dataframe\">\n",
       "  <thead>\n",
       "    <tr style=\"text-align: right;\">\n",
       "      <th></th>\n",
       "      <th>question</th>\n",
       "      <th>example</th>\n",
       "      <th>req_cols</th>\n",
       "      <th>answer</th>\n",
       "      <th>LM_EVAL</th>\n",
       "    </tr>\n",
       "  </thead>\n",
       "  <tbody>\n",
       "    <tr>\n",
       "      <th>0</th>\n",
       "      <td>How many cases have had their appeal rejected by the judge?</td>\n",
       "      <td>462</td>\n",
       "      <td>['appeal_judge_cancelled']</td>\n",
       "      <td>462</td>\n",
       "      <td>✔️ [2]</td>\n",
       "    </tr>\n",
       "  </tbody>\n",
       "</table>\n",
       "</div>"
      ],
      "text/plain": [
       "                                                      question example  \\\n",
       "0  How many cases have had their appeal rejected by the judge?     462   \n",
       "\n",
       "                     req_cols answer LM_EVAL  \n",
       "0  ['appeal_judge_cancelled']    462  ✔️ [2]  "
      ]
     },
     "metadata": {},
     "output_type": "display_data"
    }
   ],
   "source": [
    "score, outputs, scores = evaluate(program = py_combined_perfect, return_all_scores= True)"
   ]
  },
  {
   "cell_type": "code",
   "execution_count": 40,
   "metadata": {},
   "outputs": [
    {
     "data": {
      "text/plain": [
       "defaultdict(list, {})"
      ]
     },
     "execution_count": 40,
     "metadata": {},
     "output_type": "execute_result"
    }
   ],
   "source": [
    "py_combined.pm_py.errors"
   ]
  },
  {
   "cell_type": "code",
   "execution_count": 23,
   "metadata": {},
   "outputs": [],
   "source": [
    "df_merged = save_report_v2(outputs,scores, \"/Users/sulzair/Documents/Bachelor Thesis/dspy_v2/Results_Combined/testset_pm_combined_decision_compiled_4o\", py_combined, judge_adjusted)"
   ]
  },
  {
   "cell_type": "markdown",
   "metadata": {},
   "source": [
    "check how many columns are incorrect"
   ]
  },
  {
   "cell_type": "code",
   "execution_count": 43,
   "metadata": {},
   "outputs": [],
   "source": [
    "import numpy as np"
   ]
  },
  {
   "cell_type": "code",
   "execution_count": 44,
   "metadata": {},
   "outputs": [],
   "source": [
    "# get the gold columns\n",
    "gold = pd.read_csv(\"/Users/sulzair/Documents/Bachelor Thesis/dspy_v2/benchmark/PM_EVALQUESTIONS_DF4.csv\")\n",
    "gold['time_timestamp'] = pd.to_datetime(gold['time_timestamp'])\n",
    "gold['time_timestamp_beginn'] = pd.to_datetime(gold['time_timestamp_beginn'])\n",
    "gold['time_timestamp_end'] = pd.to_datetime(gold['time_timestamp_end'])\n",
    "gold['duration'] = pd.to_timedelta(gold['duration'], unit='s')\n",
    "gold_sorted = gold.sort_values(by=['case_concept_name', 'time_timestamp'])\n",
    "gold_sorted = gold_sorted.reset_index(drop=True)\n",
    "\n",
    "# get the combined.db and convert to df\n",
    "query = 'SELECT * FROM event_log'\n",
    "conn = sqlite3.connect(SQLITE_DB_NAME)\n",
    "tp = pd.read_sql_query(query, conn, parse_dates = ['time_timestamp', 'time_timestamp_beginn', 'time_timestamp_end'])\n",
    "if \"duration\" in tp.columns:\n",
    "    tp['duration'] = pd.to_timedelta(tp['duration'], unit = \"s\")\n",
    "for cols in tp.columns:\n",
    "    if tp[cols].isin([0,1]).all() and not cols.endswith(\"_count\"):\n",
    "        tp[cols] = tp[cols].astype(bool)\n",
    "tp_sorted = tp.sort_values(by=['case_concept_name', 'time_timestamp'])\n",
    "\n",
    "# convert NoneType to nan (float)\n",
    "tp_sorted = tp_sorted.replace({None: np.nan})"
   ]
  },
  {
   "cell_type": "code",
   "execution_count": 45,
   "metadata": {},
   "outputs": [
    {
     "data": {
      "text/html": [
       "<div>\n",
       "<style scoped>\n",
       "    .dataframe tbody tr th:only-of-type {\n",
       "        vertical-align: middle;\n",
       "    }\n",
       "\n",
       "    .dataframe tbody tr th {\n",
       "        vertical-align: top;\n",
       "    }\n",
       "\n",
       "    .dataframe thead th {\n",
       "        text-align: right;\n",
       "    }\n",
       "</style>\n",
       "<table border=\"1\" class=\"dataframe\">\n",
       "  <thead>\n",
       "    <tr style=\"text-align: right;\">\n",
       "      <th></th>\n",
       "      <th>column_name</th>\n",
       "      <th>length_equal</th>\n",
       "      <th>columns_equal</th>\n",
       "      <th>type_a</th>\n",
       "      <th>type_b</th>\n",
       "      <th>rows_different</th>\n",
       "    </tr>\n",
       "  </thead>\n",
       "  <tbody>\n",
       "    <tr>\n",
       "      <th>0</th>\n",
       "      <td>amount</td>\n",
       "      <td>True</td>\n",
       "      <td>True</td>\n",
       "      <td>int64</td>\n",
       "      <td>int64</td>\n",
       "      <td>0</td>\n",
       "    </tr>\n",
       "    <tr>\n",
       "      <th>1</th>\n",
       "      <td>org_resource</td>\n",
       "      <td>True</td>\n",
       "      <td>False</td>\n",
       "      <td>object</td>\n",
       "      <td>float64</td>\n",
       "      <td>561470</td>\n",
       "    </tr>\n",
       "    <tr>\n",
       "      <th>2</th>\n",
       "      <td>dismissal</td>\n",
       "      <td>True</td>\n",
       "      <td>True</td>\n",
       "      <td>object</td>\n",
       "      <td>object</td>\n",
       "      <td>406404</td>\n",
       "    </tr>\n",
       "    <tr>\n",
       "      <th>3</th>\n",
       "      <td>concept_name</td>\n",
       "      <td>True</td>\n",
       "      <td>True</td>\n",
       "      <td>object</td>\n",
       "      <td>object</td>\n",
       "      <td>0</td>\n",
       "    </tr>\n",
       "    <tr>\n",
       "      <th>4</th>\n",
       "      <td>vehicleClass</td>\n",
       "      <td>True</td>\n",
       "      <td>True</td>\n",
       "      <td>object</td>\n",
       "      <td>object</td>\n",
       "      <td>411100</td>\n",
       "    </tr>\n",
       "    <tr>\n",
       "      <th>5</th>\n",
       "      <td>totalPaymentAmount</td>\n",
       "      <td>True</td>\n",
       "      <td>True</td>\n",
       "      <td>int64</td>\n",
       "      <td>int64</td>\n",
       "      <td>0</td>\n",
       "    </tr>\n",
       "    <tr>\n",
       "      <th>6</th>\n",
       "      <td>lifecycle_transition</td>\n",
       "      <td>True</td>\n",
       "      <td>True</td>\n",
       "      <td>object</td>\n",
       "      <td>object</td>\n",
       "      <td>0</td>\n",
       "    </tr>\n",
       "    <tr>\n",
       "      <th>7</th>\n",
       "      <td>time_timestamp</td>\n",
       "      <td>True</td>\n",
       "      <td>True</td>\n",
       "      <td>datetime64[ns, UTC]</td>\n",
       "      <td>datetime64[ns, UTC]</td>\n",
       "      <td>0</td>\n",
       "    </tr>\n",
       "    <tr>\n",
       "      <th>8</th>\n",
       "      <td>article</td>\n",
       "      <td>True</td>\n",
       "      <td>True</td>\n",
       "      <td>float64</td>\n",
       "      <td>float64</td>\n",
       "      <td>411100</td>\n",
       "    </tr>\n",
       "    <tr>\n",
       "      <th>9</th>\n",
       "      <td>points</td>\n",
       "      <td>True</td>\n",
       "      <td>True</td>\n",
       "      <td>float64</td>\n",
       "      <td>float64</td>\n",
       "      <td>411100</td>\n",
       "    </tr>\n",
       "    <tr>\n",
       "      <th>10</th>\n",
       "      <td>case_concept_name</td>\n",
       "      <td>True</td>\n",
       "      <td>True</td>\n",
       "      <td>object</td>\n",
       "      <td>object</td>\n",
       "      <td>0</td>\n",
       "    </tr>\n",
       "    <tr>\n",
       "      <th>11</th>\n",
       "      <td>expense</td>\n",
       "      <td>True</td>\n",
       "      <td>True</td>\n",
       "      <td>int64</td>\n",
       "      <td>int64</td>\n",
       "      <td>0</td>\n",
       "    </tr>\n",
       "    <tr>\n",
       "      <th>12</th>\n",
       "      <td>notificationType</td>\n",
       "      <td>True</td>\n",
       "      <td>True</td>\n",
       "      <td>object</td>\n",
       "      <td>object</td>\n",
       "      <td>481610</td>\n",
       "    </tr>\n",
       "    <tr>\n",
       "      <th>13</th>\n",
       "      <td>lastSent</td>\n",
       "      <td>True</td>\n",
       "      <td>True</td>\n",
       "      <td>object</td>\n",
       "      <td>object</td>\n",
       "      <td>483241</td>\n",
       "    </tr>\n",
       "    <tr>\n",
       "      <th>14</th>\n",
       "      <td>paymentAmount</td>\n",
       "      <td>True</td>\n",
       "      <td>True</td>\n",
       "      <td>int64</td>\n",
       "      <td>int64</td>\n",
       "      <td>0</td>\n",
       "    </tr>\n",
       "    <tr>\n",
       "      <th>15</th>\n",
       "      <td>matricola</td>\n",
       "      <td>True</td>\n",
       "      <td>True</td>\n",
       "      <td>float64</td>\n",
       "      <td>float64</td>\n",
       "      <td>560915</td>\n",
       "    </tr>\n",
       "    <tr>\n",
       "      <th>16</th>\n",
       "      <td>expense_sum</td>\n",
       "      <td>True</td>\n",
       "      <td>True</td>\n",
       "      <td>int64</td>\n",
       "      <td>int64</td>\n",
       "      <td>0</td>\n",
       "    </tr>\n",
       "    <tr>\n",
       "      <th>17</th>\n",
       "      <td>credit_collected</td>\n",
       "      <td>True</td>\n",
       "      <td>True</td>\n",
       "      <td>bool</td>\n",
       "      <td>bool</td>\n",
       "      <td>0</td>\n",
       "    </tr>\n",
       "    <tr>\n",
       "      <th>18</th>\n",
       "      <td>maxtotalPaymentAmount</td>\n",
       "      <td>True</td>\n",
       "      <td>True</td>\n",
       "      <td>int64</td>\n",
       "      <td>int64</td>\n",
       "      <td>0</td>\n",
       "    </tr>\n",
       "    <tr>\n",
       "      <th>19</th>\n",
       "      <td>dismissed</td>\n",
       "      <td>True</td>\n",
       "      <td>True</td>\n",
       "      <td>bool</td>\n",
       "      <td>bool</td>\n",
       "      <td>0</td>\n",
       "    </tr>\n",
       "    <tr>\n",
       "      <th>20</th>\n",
       "      <td>amount_last</td>\n",
       "      <td>True</td>\n",
       "      <td>True</td>\n",
       "      <td>int64</td>\n",
       "      <td>int64</td>\n",
       "      <td>0</td>\n",
       "    </tr>\n",
       "    <tr>\n",
       "      <th>21</th>\n",
       "      <td>outstanding_balance</td>\n",
       "      <td>True</td>\n",
       "      <td>False</td>\n",
       "      <td>bool</td>\n",
       "      <td>int64</td>\n",
       "      <td>409534</td>\n",
       "    </tr>\n",
       "    <tr>\n",
       "      <th>22</th>\n",
       "      <td>fully_paid</td>\n",
       "      <td>True</td>\n",
       "      <td>False</td>\n",
       "      <td>bool</td>\n",
       "      <td>bool</td>\n",
       "      <td>400269</td>\n",
       "    </tr>\n",
       "    <tr>\n",
       "      <th>23</th>\n",
       "      <td>unresolved</td>\n",
       "      <td>True</td>\n",
       "      <td>False</td>\n",
       "      <td>bool</td>\n",
       "      <td>bool</td>\n",
       "      <td>89321</td>\n",
       "    </tr>\n",
       "  </tbody>\n",
       "</table>\n",
       "</div>"
      ],
      "text/plain": [
       "              column_name  length_equal  columns_equal               type_a  \\\n",
       "0                  amount          True           True                int64   \n",
       "1            org_resource          True          False               object   \n",
       "2               dismissal          True           True               object   \n",
       "3            concept_name          True           True               object   \n",
       "4            vehicleClass          True           True               object   \n",
       "5      totalPaymentAmount          True           True                int64   \n",
       "6    lifecycle_transition          True           True               object   \n",
       "7          time_timestamp          True           True  datetime64[ns, UTC]   \n",
       "8                 article          True           True              float64   \n",
       "9                  points          True           True              float64   \n",
       "10      case_concept_name          True           True               object   \n",
       "11                expense          True           True                int64   \n",
       "12       notificationType          True           True               object   \n",
       "13               lastSent          True           True               object   \n",
       "14          paymentAmount          True           True                int64   \n",
       "15              matricola          True           True              float64   \n",
       "16            expense_sum          True           True                int64   \n",
       "17       credit_collected          True           True                 bool   \n",
       "18  maxtotalPaymentAmount          True           True                int64   \n",
       "19              dismissed          True           True                 bool   \n",
       "20            amount_last          True           True                int64   \n",
       "21    outstanding_balance          True          False                 bool   \n",
       "22             fully_paid          True          False                 bool   \n",
       "23             unresolved          True          False                 bool   \n",
       "\n",
       "                 type_b  rows_different  \n",
       "0                 int64               0  \n",
       "1               float64          561470  \n",
       "2                object          406404  \n",
       "3                object               0  \n",
       "4                object          411100  \n",
       "5                 int64               0  \n",
       "6                object               0  \n",
       "7   datetime64[ns, UTC]               0  \n",
       "8               float64          411100  \n",
       "9               float64          411100  \n",
       "10               object               0  \n",
       "11                int64               0  \n",
       "12               object          481610  \n",
       "13               object          483241  \n",
       "14                int64               0  \n",
       "15              float64          560915  \n",
       "16                int64               0  \n",
       "17                 bool               0  \n",
       "18                int64               0  \n",
       "19                 bool               0  \n",
       "20                int64               0  \n",
       "21                int64          409534  \n",
       "22                 bool          400269  \n",
       "23                 bool           89321  "
      ]
     },
     "execution_count": 45,
     "metadata": {},
     "output_type": "execute_result"
    }
   ],
   "source": [
    "column_name = []\n",
    "length_equal = []\n",
    "columns_equal = []\n",
    "type_a = []\n",
    "type_b = []\n",
    "rows_different = []\n",
    "check_df = pd.DataFrame(columns = ['column_name', 'length_equal', 'columns_equal', 'type_a', 'type_b','rows_different'])\n",
    "for col in tp_sorted.columns:\n",
    "    if col in gold_sorted.columns:\n",
    "        # create a small df with the cols: column name, length of columns are equal, columns are equal, types of the columns (two separate colums),number of rows different\n",
    "        column_name.append(col)\n",
    "        length_equal.append(len(tp_sorted[col]) == len(gold_sorted[col]))\n",
    "        columns_equal.append(tp_sorted[col].equals(gold_sorted[col]))\n",
    "        type_a.append(tp_sorted[col].dtype)\n",
    "        type_b.append(gold_sorted[col].dtype)\n",
    "        non_equal_elements = tp_sorted[col] != gold_sorted[col]\n",
    "        rows_different.append(non_equal_elements.sum())\n",
    "        \n",
    "\n",
    "check_df['column_name'] = column_name\n",
    "check_df['length_equal'] = length_equal\n",
    "check_df['columns_equal'] = columns_equal\n",
    "check_df['type_a'] = type_a\n",
    "check_df['type_b'] = type_b\n",
    "check_df['rows_different'] = rows_different\n",
    "\n",
    "check_df.head(50)"
   ]
  },
  {
   "cell_type": "markdown",
   "metadata": {},
   "source": [
    "# Isolated Program"
   ]
  },
  {
   "cell_type": "markdown",
   "metadata": {},
   "source": [
    "Running the sql program on the vanilla event log"
   ]
  },
  {
   "cell_type": "code",
   "execution_count": 29,
   "metadata": {},
   "outputs": [],
   "source": [
    "SQLITE_DB_ISOLATED = \"isolated.db\""
   ]
  },
  {
   "cell_type": "code",
   "execution_count": 61,
   "metadata": {},
   "outputs": [
    {
     "name": "stdout",
     "output_type": "stream",
     "text": [
      "[]\n",
      "[\"- 'amount' (int): The amount due to be paid for the fine (including the penalty amount in case it is added). There are no nan values in this column.\", \"- 'org_resource' (int): A numeric code indicating the employee who handled the case.\", \"- 'dismissal' (string): A flag indicating whether and by whom the fine is dismissed. It is initialized to NIL. We know the meaning of:  \\n        'G': dismissed by the judge\\n        '#': dismissed by the prefecture\\n        NIL: not dismissed, i.e., to be paid.\\n        There are several other values used for which we do not know the semantics.\", \"- 'vehicleClass' (string): A flag indicating the kind of vehicle driven or owned by the offender. The semantics of the values is unknown.\", \"- 'totalPaymentAmount' (int): The cumulative amount paid by the offender. It is always initialized to 0. There are no nan values in this column.\", \"- 'lifecycle_transition' (string): the transition of the activity (complete, start, etc.)\", \"- 'article' (string): The number of the article of the Italian roadtraffic law that is violated by the offender (e.g., article 157 refers to stopping and parking vehicles).\", \"- 'points' (float): Penalty points deducted from the driving license. In Italy, each driver starts with 20 points on their license and may loose points for each offence, based on the gravity.\", \"- 'expense' (int): The additional amount due to be paid for postal expenses. There are no nan values in this column.\", \"- 'notificationType' (string): A flag indicating to whom the fine refers. 'P': car owner, 'C': car driver.\", \"- 'lastSent' (datetime): N/A\", \"- 'paymentAmount' (int): The amount paid by the offender in one transaction. There are no nan values in this column.\", \"- 'matricola' (string): N/A (Probably refers to the matriculation number of the car.)\", \"- 'concept_name' (string): the activity/ event type name\\n        Activity Description, column: 'concept:name':\\n            > 'Create Fine': The initial creation of the fine in the information system. It initializes event log attributes amount, dismissal, points and totalPaymentAmount.\\n            > 'Send Fine': A notification about the fine is sent by post to the offender.\\n            > 'Insert Fine Notification': The notification is received by the offender.\\n            > 'Add penalty': An additional penalty is applied.\\n            > 'Payment': A payment made by the offender is registered.\\n            > 'Send for Credit Collection': Unpaid fines are sent for credit collection. A separate process is started by a collection agency to collect the money of the unpaid fines.\\n            > 'Insert Date Appeal to Prefecture': The offender appeals against the fine to the prefecture. A prefecture in Italy is an administrative body representing the national government in each province.\\n            > 'Send Appeal to Prefecture': The appeal is sent to the prefecture by the local police.\\n            > 'Receive Result Appeal from Prefecture': The local police receives the result of the appeal. If the prefecture dismisses the fine, the appeal is deemed accepted, and the obligation to pay the fine is cancelled. In this case, there is no need for the police to receive the result from the prefecture (Receive Result Appeal from Prefecture) and notify the offender (Notify Result Appeal to Offender).\\n            > 'Notify Result Appeal to Offender': The local police informs the offender of the appeal result. \\n            > 'Appeal to Judge': The offender appeals against the fine to a judge.\\n        IMPORTANT: The last event in a case can be arbitrary. There is no guarantee that the last event is 'Send Fine' or 'Payment'. The last event can be any event in the log.\"]\n",
      "14\n",
      "['amount']\n",
      "['org_resource']\n",
      "['dismissal']\n",
      "['vehicleClass']\n",
      "['totalPaymentAmount']\n",
      "['lifecycle_transition']\n",
      "['article']\n",
      "['points']\n",
      "['expense']\n",
      "['notificationType']\n",
      "['lastSent']\n",
      "['paymentAmount']\n",
      "['matricola']\n",
      "['concept_name']\n"
     ]
    }
   ],
   "source": [
    "# reset rm and the database\n",
    "\n",
    "conn = sqlite3.connect(SQLITE_DB_ISOLATED)\n",
    "cur = conn.cursor()\n",
    "cur.execute(\"DROP TABLE IF EXISTS temp_table;\")\n",
    "\n",
    "print(cur.fetchall())\n",
    "conn.commit()\n",
    "\n",
    "df.to_sql(\"event_log\", conn, if_exists=\"replace\", index=False)\n",
    "cur = conn.cursor()\n",
    "indexes = [\n",
    "    \"CREATE INDEX IF NOT EXISTS idx_case_concept_name ON event_log(case_concept_name);\",\n",
    "    \"CREATE INDEX IF NOT EXISTS idx_concept_name ON event_log(concept_name);\",\n",
    "    \"CREATE INDEX IF NOT EXISTS idx_timestamp ON event_log(time_timestamp);\",\n",
    "    \"CREATE INDEX IF NOT EXISTS idx_totalPaymentAmount ON event_log(totalPaymentAmount);\",\n",
    "    \"CREATE INDEX IF NOT EXISTS idx_expense ON event_log(expense);\",\n",
    "    \"CREATE INDEX IF NOT EXISTS idx_amount ON event_log(amount);\",\n",
    "    \"CREATE INDEX IF NOT EXISTS idx_case_totalPaymentAmount ON event_log(case_concept_name, totalPaymentAmount);\",\n",
    "    \"CREATE INDEX IF NOT EXISTS idx_case_expense ON event_log(case_concept_name, expense);\",\n",
    "    \"CREATE INDEX IF NOT EXISTS idx_case_amount ON event_log(case_concept_name, amount);\",\n",
    "    \"CREATE INDEX IF NOT EXISTS idx_case_time ON event_log(case_concept_name, time_timestamp);\",\n",
    "    \"CREATE INDEX IF NOT EXISTS idx_case_name ON event_log(case_concept_name, concept_name);\",\n",
    "    \"CREATE INDEX IF NOT EXISTS idx_case_covering ON event_log(case_concept_name, amount, expense, totalPaymentAmount, time_timestamp);\"\n",
    "    \n",
    "\n",
    "]\n",
    "for index_query in indexes:\n",
    "    cur.execute(index_query)\n",
    "conn.commit()\n",
    "\n",
    "cur.execute(\"ALTER TABLE event_log ADD COLUMN idx INTEGER;\")\n",
    "conn.commit()\n",
    "cur.execute(\"\"\"UPDATE event_log SET idx = (\n",
    "    SELECT rowid FROM (\n",
    "        SELECT ROW_NUMBER() OVER (ORDER BY case_concept_name, time_timestamp) as seq_num, rowid\n",
    "        FROM event_log\n",
    "    ) temp WHERE temp.rowid = event_log.rowid\n",
    ");\"\"\")\n",
    "conn.commit()\n",
    "cur.execute(\"CREATE INDEX idx_event_log_idx ON event_log(idx);\")\n",
    "conn.commit()\n",
    "cur.execute(\"VACUUM;\")\n",
    "cur.execute(\"ANALYZE;\")\n",
    "conn.commit()\n",
    "cur.close()\n",
    "\n",
    "# Initialize the Chroma retriever\n",
    "\n",
    "col_desc = \"\"\"- 'amount' (int): The amount due to be paid for the fine (including the penalty amount in case it is added). There are no nan values in this column.\n",
    "- 'org_resource' (int): A numeric code indicating the employee who handled the case.\n",
    "- 'dismissal' (string): A flag indicating whether and by whom the fine is dismissed. It is initialized to NIL. We know the meaning of:  \n",
    "        'G': dismissed by the judge\n",
    "        '#': dismissed by the prefecture\n",
    "        NIL: not dismissed, i.e., to be paid.\n",
    "        There are several other values used for which we do not know the semantics.\n",
    "- 'vehicleClass' (string): A flag indicating the kind of vehicle driven or owned by the offender. The semantics of the values is unknown.\n",
    "- 'totalPaymentAmount' (int): The cumulative amount paid by the offender. It is always initialized to 0. There are no nan values in this column.\n",
    "- 'lifecycle_transition' (string): the transition of the activity (complete, start, etc.)\n",
    "- 'article' (string): The number of the article of the Italian roadtraffic law that is violated by the offender (e.g., article 157 refers to stopping and parking vehicles).\n",
    "- 'points' (float): Penalty points deducted from the driving license. In Italy, each driver starts with 20 points on their license and may loose points for each offence, based on the gravity.\n",
    "- 'expense' (int): The additional amount due to be paid for postal expenses. There are no nan values in this column.\n",
    "- 'notificationType' (string): A flag indicating to whom the fine refers. 'P': car owner, 'C': car driver.\n",
    "- 'lastSent' (datetime): N/A\n",
    "- 'paymentAmount' (int): The amount paid by the offender in one transaction. There are no nan values in this column.\n",
    "- 'matricola' (string): N/A (Probably refers to the matriculation number of the car.)\n",
    "- 'concept_name' (string): the activity/ event type name\n",
    "        Activity Description, column: 'concept:name':\n",
    "            > 'Create Fine': The initial creation of the fine in the information system. It initializes event log attributes amount, dismissal, points and totalPaymentAmount.\n",
    "            > 'Send Fine': A notification about the fine is sent by post to the offender.\n",
    "            > 'Insert Fine Notification': The notification is received by the offender.\n",
    "            > 'Add penalty': An additional penalty is applied.\n",
    "            > 'Payment': A payment made by the offender is registered.\n",
    "            > 'Send for Credit Collection': Unpaid fines are sent for credit collection. A separate process is started by a collection agency to collect the money of the unpaid fines.\n",
    "            > 'Insert Date Appeal to Prefecture': The offender appeals against the fine to the prefecture. A prefecture in Italy is an administrative body representing the national government in each province.\n",
    "            > 'Send Appeal to Prefecture': The appeal is sent to the prefecture by the local police.\n",
    "            > 'Receive Result Appeal from Prefecture': The local police receives the result of the appeal. If the prefecture dismisses the fine, the appeal is deemed accepted, and the obligation to pay the fine is cancelled. In this case, there is no need for the police to receive the result from the prefecture (Receive Result Appeal from Prefecture) and notify the offender (Notify Result Appeal to Offender).\n",
    "            > 'Notify Result Appeal to Offender': The local police informs the offender of the appeal result. \n",
    "            > 'Appeal to Judge': The offender appeals against the fine to a judge.\n",
    "        IMPORTANT: The last event in a case can be arbitrary. There is no guarantee that the last event is 'Send Fine' or 'Payment'. The last event can be any event in the log.\"\"\"\n",
    "\n",
    "rm = Chroma(sentence_transformer_ef = sentence_transformer_ef , documentation = col_desc) # for python, use standard cols\n"
   ]
  },
  {
   "cell_type": "code",
   "execution_count": 62,
   "metadata": {},
   "outputs": [],
   "source": [
    "\n",
    "col_instructions = pd.read_csv(COLUMN_INSTRUCTIONS)\n",
    "\n",
    "dp_graph = DependencyGraph(rm.cols, col_instructions) # check what is in rm.cols (it appends the timestamp and case concept name columns)"
   ]
  },
  {
   "cell_type": "code",
   "execution_count": 63,
   "metadata": {},
   "outputs": [
    {
     "data": {
      "text/plain": [
       "['amount',\n",
       " 'org_resource',\n",
       " 'dismissal',\n",
       " 'vehicleClass',\n",
       " 'totalPaymentAmount',\n",
       " 'lifecycle_transition',\n",
       " 'article',\n",
       " 'points',\n",
       " 'expense',\n",
       " 'notificationType',\n",
       " 'lastSent',\n",
       " 'paymentAmount',\n",
       " 'matricola',\n",
       " 'concept_name',\n",
       " 'case_concept_name',\n",
       " 'time_timestamp']"
      ]
     },
     "execution_count": 63,
     "metadata": {},
     "output_type": "execute_result"
    }
   ],
   "source": []
  },
  {
   "cell_type": "code",
   "execution_count": 31,
   "metadata": {},
   "outputs": [],
   "source": [
    "# create a conn pool\n",
    "from queue import Queue\n",
    "import threading\n",
    "\n",
    "\n",
    "class SQLiteConnectionPool:\n",
    "    def __init__(self, database, max_size=10):\n",
    "        self.database = database\n",
    "        self.pool = Queue(maxsize=max_size)\n",
    "        for _ in range(max_size):\n",
    "            self.pool.put(self.create_new_connection())\n",
    "\n",
    "    def create_new_connection(self):\n",
    "        return sqlite3.connect(self.database, check_same_thread=False)\n",
    "\n",
    "    def get_connection(self):\n",
    "        return self.pool.get()\n",
    "\n",
    "    def release_connection(self, conn):\n",
    "        self.pool.put(conn)\n",
    "\n",
    "pool = SQLiteConnectionPool(SQLITE_DB_NAME, max_size=10)"
   ]
  },
  {
   "cell_type": "code",
   "execution_count": 32,
   "metadata": {},
   "outputs": [],
   "source": [
    "def save_report_sql(output,scores,filename, program, e_metric):\n",
    "    qs = []\n",
    "    exs = []\n",
    "    preds = []\n",
    "    for i in range(len(output)):\n",
    "        qs.append(output[i][0][\"question\"])\n",
    "        exs.append(output[i][0][\"example\"])\n",
    "        try:\n",
    "            preds.append(output[i][1][\"answer\"])\n",
    "        except:\n",
    "            preds.append(\"No Answer Possible\")\n",
    "\n",
    "    qa, es, tb= program.get_history()\n",
    "    re = e_metric.get_reasoning()\n",
    "\n",
    "    df_merged = pd.DataFrame({\"question\": qs, \"example\": exs, \"prediction\": preds, \"SCORE\": scores})\n",
    "    df_merged['reasoning'] = df_merged['question'].map(re)\n",
    "    df_merged['queries'] = df_merged['question'].map(qa)\n",
    "    df_merged['errors'] = df_merged['question'].map(es)\n",
    "    df_merged['table'] = df_merged['question'].map(tb)\n",
    "    df_merged.to_csv(f\"{filename}.csv\", index=False)\n",
    "    return df_merged"
   ]
  },
  {
   "cell_type": "code",
   "execution_count": 39,
   "metadata": {},
   "outputs": [
    {
     "name": "stdout",
     "output_type": "stream",
     "text": [
      "trainset 78\n",
      "testset 103\n",
      "dataset 181\n"
     ]
    }
   ],
   "source": [
    "# reading the gold answers\n",
    "qa_sql = pd.read_csv(\"/Users/sulzair/Documents/Bachelor Thesis/dspy_v2/benchmark/q_a_final.csv\")\n",
    "\n",
    "\n",
    "dataset = []\n",
    "\n",
    "for question, answer, _ in qa_sql.values:\n",
    "    dataset.append(dspy.Example(question = question, example = answer).with_inputs(\"question\"))\n",
    "\n",
    "train_test_split = pd.read_csv('/Users/sulzair/Documents/Bachelor Thesis/dspy_v2/benchmark/sql_questions_to_splitt.csv')\n",
    "trainset_sql = []\n",
    "testset_sql = []\n",
    "\n",
    "for i in range(len(dataset)):\n",
    "    try:\n",
    "        obj = train_test_split.loc[train_test_split['Question'] == dataset[i].question][\"Split\"][i]\n",
    "    except:\n",
    "        print(\"error at\", i)\n",
    "\n",
    "    if obj == \"train\":\n",
    "        trainset_sql.append(dataset[i])\n",
    "    elif obj == \"test\":\n",
    "        testset_sql.append(dataset[i])\n",
    "\n",
    "print(\"trainset\", len(trainset_sql))\n",
    "print(\"testset\", len(testset_sql))\n",
    "print(\"dataset\", len(dataset))"
   ]
  },
  {
   "cell_type": "code",
   "execution_count": 77,
   "metadata": {},
   "outputs": [],
   "source": [
    "judge_lm = dspy.LM(model='openai/gpt-4o', temperature=1, max_tokens=3000, stop=None, cache=True, seed= 99)\n",
    "\n",
    "judge_adjusted = LM_EVAL(judge_lm)\n",
    "judge_adjusted.load(JUDGE_PATH)"
   ]
  },
  {
   "cell_type": "code",
   "execution_count": 41,
   "metadata": {},
   "outputs": [],
   "source": [
    "lm = dspy.LM('openai/gpt-4o', temperature=0.3, max_tokens=4096, stop=None, cache=True, seed=512)\n",
    "dspy.settings.configure(lm = lm)"
   ]
  },
  {
   "cell_type": "code",
   "execution_count": 78,
   "metadata": {},
   "outputs": [],
   "source": [
    "lm = dspy.LM('openai/gpt-4o-mini', temperature=0.3, max_tokens=4096, stop=None, cache=True, seed=530)\n",
    "dspy.settings.configure(lm = lm)"
   ]
  },
  {
   "cell_type": "code",
   "execution_count": 79,
   "metadata": {},
   "outputs": [],
   "source": [
    "# initialize the isolated program\n",
    "\n",
    "sql_isolated = PM_SQL_multi_sp(pool=pool, rm=rm).activate_assertions()\n",
    "sql_isolated.load(PM_SQL_PATH)"
   ]
  },
  {
   "cell_type": "code",
   "execution_count": 80,
   "metadata": {},
   "outputs": [],
   "source": [
    "evaluate = Evaluate(devset=testset_sql, metric=judge_adjusted, num_threads=7, display_progress=True, display_table=len(testset_sql), return_outputs=True, max_errors=10)"
   ]
  },
  {
   "cell_type": "code",
   "execution_count": 81,
   "metadata": {},
   "outputs": [
    {
     "name": "stdout",
     "output_type": "stream",
     "text": [
      "Average Metric: 92.00 / 92 (100.0%):  89%|████████▉ | 92/103 [17:24<01:13,  6.69s/it]  "
     ]
    },
    {
     "name": "stderr",
     "output_type": "stream",
     "text": [
      "2024/12/28 18:45:27 INFO dspy.primitives.assertions: SuggestionFailed: Your reasoning should be fewer than 1400 characters long\n"
     ]
    },
    {
     "name": "stdout",
     "output_type": "stream",
     "text": [
      "Average Metric: 92.00 / 93 (98.9%):  90%|█████████ | 93/103 [17:44<01:44, 10.46s/it] "
     ]
    },
    {
     "name": "stderr",
     "output_type": "stream",
     "text": [
      "2024/12/28 18:45:44 INFO dspy.primitives.assertions: SuggestionFailed: Your reasoning should be fewer than 1400 characters long\n"
     ]
    },
    {
     "name": "stdout",
     "output_type": "stream",
     "text": [
      "Average Metric: 96.00 / 96 (100.0%):  93%|█████████▎| 96/103 [18:16<01:11, 10.24s/it]"
     ]
    },
    {
     "name": "stderr",
     "output_type": "stream",
     "text": [
      "2024/12/28 18:46:17 INFO dspy.primitives.assertions: SuggestionFailed: Your reasoning should be fewer than 1400 characters long\n"
     ]
    },
    {
     "name": "stdout",
     "output_type": "stream",
     "text": [
      "Average Metric: 102.00 / 103 (99.0%): 100%|██████████| 103/103 [19:21<00:00, 11.28s/it]"
     ]
    },
    {
     "name": "stderr",
     "output_type": "stream",
     "text": [
      "2024/12/28 18:47:16 INFO dspy.evaluate.evaluate: Average Metric: 102 / 103 (99.0%)\n"
     ]
    },
    {
     "name": "stdout",
     "output_type": "stream",
     "text": [
      "\n"
     ]
    },
    {
     "data": {
      "text/html": [
       "<div>\n",
       "<style scoped>\n",
       "    .dataframe tbody tr th:only-of-type {\n",
       "        vertical-align: middle;\n",
       "    }\n",
       "\n",
       "    .dataframe tbody tr th {\n",
       "        vertical-align: top;\n",
       "    }\n",
       "\n",
       "    .dataframe thead th {\n",
       "        text-align: right;\n",
       "    }\n",
       "</style>\n",
       "<table border=\"1\" class=\"dataframe\">\n",
       "  <thead>\n",
       "    <tr style=\"text-align: right;\">\n",
       "      <th></th>\n",
       "      <th>question</th>\n",
       "      <th>example</th>\n",
       "      <th>answer</th>\n",
       "      <th>LM_EVAL</th>\n",
       "    </tr>\n",
       "  </thead>\n",
       "  <tbody>\n",
       "    <tr>\n",
       "      <th>0</th>\n",
       "      <td>How many events are in the log?</td>\n",
       "      <td>561470</td>\n",
       "      <td>561470</td>\n",
       "      <td>✔️ [2]</td>\n",
       "    </tr>\n",
       "    <tr>\n",
       "      <th>1</th>\n",
       "      <td>When is the start of the event log?</td>\n",
       "      <td>1/1/2000 / 2000-01-01</td>\n",
       "      <td>2000-01-01 00:00:00+00:00</td>\n",
       "      <td>✔️ [2]</td>\n",
       "    </tr>\n",
       "    <tr>\n",
       "      <th>2</th>\n",
       "      <td>When is the end of the event log?</td>\n",
       "      <td>6/18/2013/ 2013-06-18</td>\n",
       "      <td>2013-06-18 00:00:00+00:00</td>\n",
       "      <td>✔️ [2]</td>\n",
       "    </tr>\n",
       "    <tr>\n",
       "      <th>3</th>\n",
       "      <td>How many cases have sent an appeal to the Prefecture?</td>\n",
       "      <td>4141</td>\n",
       "      <td>4188</td>\n",
       "      <td>✔️ [1]</td>\n",
       "    </tr>\n",
       "    <tr>\n",
       "      <th>4</th>\n",
       "      <td>How many event types are there?</td>\n",
       "      <td>11</td>\n",
       "      <td>11</td>\n",
       "      <td>✔️ [2]</td>\n",
       "    </tr>\n",
       "    <tr>\n",
       "      <th>...</th>\n",
       "      <td>...</td>\n",
       "      <td>...</td>\n",
       "      <td>...</td>\n",
       "      <td>...</td>\n",
       "    </tr>\n",
       "    <tr>\n",
       "      <th>98</th>\n",
       "      <td>Which case is underpaid == True AND part_paid == True AND payment_...</td>\n",
       "      <td>C23364</td>\n",
       "      <td>case_concept_name</td>\n",
       "      <td></td>\n",
       "    </tr>\n",
       "    <tr>\n",
       "      <th>99</th>\n",
       "      <td>How many cases have undresolved == True AND obligation_topay_cance...</td>\n",
       "      <td>13395</td>\n",
       "      <td>28984</td>\n",
       "      <td></td>\n",
       "    </tr>\n",
       "    <tr>\n",
       "      <th>100</th>\n",
       "      <td>How many cases have unresolved == True AND obligation_topay_cancel...</td>\n",
       "      <td>2</td>\n",
       "      <td>0</td>\n",
       "      <td></td>\n",
       "    </tr>\n",
       "    <tr>\n",
       "      <th>101</th>\n",
       "      <td>How many cases are credit collected before 2002-12-24?</td>\n",
       "      <td>9383</td>\n",
       "      <td>9383</td>\n",
       "      <td>✔️ [2]</td>\n",
       "    </tr>\n",
       "    <tr>\n",
       "      <th>102</th>\n",
       "      <td>How many cases have credit_collected == True AND time_timestamp_en...</td>\n",
       "      <td>9383</td>\n",
       "      <td>9383</td>\n",
       "      <td>✔️ [2]</td>\n",
       "    </tr>\n",
       "  </tbody>\n",
       "</table>\n",
       "<p>103 rows × 4 columns</p>\n",
       "</div>"
      ],
      "text/plain": [
       "                                                                  question  \\\n",
       "0                                          How many events are in the log?   \n",
       "1                                      When is the start of the event log?   \n",
       "2                                        When is the end of the event log?   \n",
       "3                    How many cases have sent an appeal to the Prefecture?   \n",
       "4                                          How many event types are there?   \n",
       "..                                                                     ...   \n",
       "98   Which case is underpaid == True AND part_paid == True AND payment_...   \n",
       "99   How many cases have undresolved == True AND obligation_topay_cance...   \n",
       "100  How many cases have unresolved == True AND obligation_topay_cancel...   \n",
       "101                 How many cases are credit collected before 2002-12-24?   \n",
       "102  How many cases have credit_collected == True AND time_timestamp_en...   \n",
       "\n",
       "                   example                     answer LM_EVAL  \n",
       "0                   561470                     561470  ✔️ [2]  \n",
       "1    1/1/2000 / 2000-01-01  2000-01-01 00:00:00+00:00  ✔️ [2]  \n",
       "2    6/18/2013/ 2013-06-18  2013-06-18 00:00:00+00:00  ✔️ [2]  \n",
       "3                     4141                       4188  ✔️ [1]  \n",
       "4                       11                         11  ✔️ [2]  \n",
       "..                     ...                        ...     ...  \n",
       "98                  C23364          case_concept_name          \n",
       "99                   13395                      28984          \n",
       "100                      2                          0          \n",
       "101                   9383                       9383  ✔️ [2]  \n",
       "102                   9383                       9383  ✔️ [2]  \n",
       "\n",
       "[103 rows x 4 columns]"
      ]
     },
     "metadata": {},
     "output_type": "display_data"
    }
   ],
   "source": [
    "score, outputs, scores = evaluate(program = sql_isolated, return_all_scores= True)"
   ]
  },
  {
   "cell_type": "code",
   "execution_count": 82,
   "metadata": {},
   "outputs": [],
   "source": [
    "df_merged = save_report_sql(outputs,scores, \"/Users/sulzair/Documents/Bachelor Thesis/dspy_v2/Results_Combined/testset_pm_isolated_c_mini\", sql_isolated, judge_adjusted)"
   ]
  },
  {
   "cell_type": "markdown",
   "metadata": {},
   "source": [
    "eval of isolated program"
   ]
  },
  {
   "cell_type": "code",
   "execution_count": 45,
   "metadata": {},
   "outputs": [],
   "source": [
    "## Save resport for isolated\n",
    "\n",
    "def save_report_isolated(output,scores,filename, program, e_metric):\n",
    "    qs = []\n",
    "    exs = []\n",
    "    preds = []\n",
    "    for i in range(len(output)):\n",
    "        qs.append(output[i][0][\"question\"])\n",
    "        exs.append(output[i][0][\"example\"])\n",
    "        try:\n",
    "            preds.append(output[i][1][\"answer\"])\n",
    "        except:\n",
    "            preds.append(\"No Answer Possible\")\n",
    "\n",
    "    qa, es, tb, rh = program.get_history()\n",
    "    re = e_metric.get_reasoning()\n",
    "\n",
    "    df_merged = pd.DataFrame({\"question\": qs, \"example\": exs, \"prediction\": preds, \"SCORE\": scores})\n",
    "    df_merged['reasoning'] = df_merged['question'].map(re)\n",
    "    df_merged['queries'] = df_merged['question'].map(qa)\n",
    "    df_merged['errors'] = df_merged['question'].map(es)\n",
    "    df_merged['table'] = df_merged['question'].map(tb)\n",
    "    df_merged['reasoning_hist'] = df_merged['question'].map(rh)\n",
    "    df_merged.to_csv(f\"{filename}.csv\", index=False)\n",
    "    return df_merged"
   ]
  },
  {
   "cell_type": "code",
   "execution_count": 71,
   "metadata": {},
   "outputs": [],
   "source": [
    "judge_lm = dspy.LM(model='openai/gpt-4o', temperature=1, max_tokens=3000, stop=None, cache=True, seed= 99)\n",
    "\n",
    "judge_adjusted = LM_EVAL(judge_lm)\n",
    "judge_adjusted.load(JUDGE_PATH)"
   ]
  },
  {
   "cell_type": "code",
   "execution_count": 72,
   "metadata": {},
   "outputs": [],
   "source": [
    "lm = dspy.LM('openai/gpt-4o-mini', temperature=0.3, max_tokens=4096, stop=None, cache=True, seed=515)\n",
    "dspy.settings.configure(lm = lm)"
   ]
  },
  {
   "cell_type": "code",
   "execution_count": 73,
   "metadata": {},
   "outputs": [],
   "source": [
    "sql_isolated_definitions = PM_isolated(pool=pool, rm=rm, dp_graph=dp_graph).activate_assertions()\n"
   ]
  },
  {
   "cell_type": "code",
   "execution_count": 52,
   "metadata": {},
   "outputs": [
    {
     "data": {
      "text/plain": [
       "Example({'question': 'How many events are in the log?', 'example': '561470', 'req_cols': nan}) (input_keys={'question', 'req_cols'})"
      ]
     },
     "execution_count": 52,
     "metadata": {},
     "output_type": "execute_result"
    }
   ],
   "source": [
    "testset[0]"
   ]
  },
  {
   "cell_type": "code",
   "execution_count": 74,
   "metadata": {},
   "outputs": [],
   "source": [
    "evaluate = Evaluate(devset=testset, metric=judge_adjusted, num_threads=7, display_progress=True, display_table=len(testset), return_outputs=True, max_errors=10)"
   ]
  },
  {
   "cell_type": "code",
   "execution_count": 75,
   "metadata": {},
   "outputs": [
    {
     "name": "stdout",
     "output_type": "stream",
     "text": [
      "  0%|          | 0/103 [00:00<?, ?it/s]Query executed successfully\n",
      "output [[('2000-01-01 00:00:00+00:00',)], (('start_of_event_log', None, None, None, None, None, None),)]\n",
      "Average Metric: 2.00 / 1 (200.0%):   1%|          | 1/103 [00:04<08:23,  4.94s/it]Query executed successfully\n",
      "output [[('2013-06-18 00:00:00+00:00',)], (('end_of_event_log', None, None, None, None, None, None),)]\n",
      "Average Metric: 4.00 / 2 (200.0%):   2%|▏         | 2/103 [00:09<07:27,  4.43s/it]Query executed successfully\n",
      "output [[(4141,)], (('total_cases_sent_appeal', None, None, None, None, None, None),)]\n",
      "Average Metric: 6.00 / 3 (200.0%):   3%|▎         | 3/103 [00:21<13:23,  8.03s/it]Query executed successfully\n",
      "output [[(561470,)], (('total_events', None, None, None, None, None, None),)]\n",
      "Average Metric: 8.00 / 4 (200.0%):   4%|▍         | 4/103 [00:24<10:23,  6.30s/it]Query executed successfully\n",
      "output [[(11,)], (('distinct_event_types', None, None, None, None, None, None),)]\n",
      "Average Metric: 10.00 / 5 (200.0%):   5%|▍         | 5/103 [00:31<10:18,  6.32s/it]Query executed successfully\n",
      "output [[(None, 411100), ('A', 146712), ('C', 2456), ('M', 1198), ('R', 4)], (('vehicleClass', None, None, None, None, None, None), ('occurrence_count', None, None, None, None, None, None))]\n",
      "Average Metric: 12.00 / 6 (200.0%):   6%|▌         | 6/103 [00:37<10:00,  6.19s/it]Query executed successfully\n",
      "output [[(26,)], (('unique_dismissal_types', None, None, None, None, None, None),)]\n",
      "Average Metric: 14.00 / 7 (200.0%):   7%|▋         | 7/103 [00:40<08:26,  5.28s/it]Query executed successfully\n",
      "output [[(None, 406404), ('#', 1980), ('$', 2), ('2', 2), ('3', 3), ('4', 2), ('5', 10), ('@', 9), ('A', 213), ('B', 2), ('C', 10), ('D', 36), ('E', 7), ('F', 4), ('G', 93), ('I', 29), ('J', 1), ('K', 3), ('M', 5), ('N', 28), ('NIL', 152484), ('Q', 1), ('R', 4), ('T', 111), ('U', 11), ('V', 10), ('Z', 6)], (('dismissal', None, None, None, None, None, None), ('count', None, None, None, None, None, None))]\n",
      "Average Metric: 15.00 / 8 (187.5%):   8%|▊         | 8/103 [00:47<09:12,  5.82s/it]Query executed successfully\n",
      "output [[(1980,)], (('dismissed_cases_count', None, None, None, None, None, None),)]\n",
      "Average Metric: 17.00 / 9 (188.9%):   9%|▊         | 9/103 [01:13<18:56, 12.09s/it]Query executed successfully\n",
      "output [[(93,)], (('dismissed_cases_count', None, None, None, None, None, None),)]\n",
      "Average Metric: 19.00 / 10 (190.0%):  10%|▉         | 10/103 [01:19<16:00, 10.32s/it]Query executed successfully\n",
      "output [[(0.061847442973997475,)], (('dismissal_percentage', None, None, None, None, None, None),)]\n",
      "Average Metric: 19.00 / 11 (172.7%):  11%|█         | 11/103 [01:27<14:41,  9.59s/it]Query executed successfully\n",
      "output [[(1.3167520117044624,)], (('dismissal_percentage', None, None, None, None, None, None),)]\n",
      "Average Metric: 20.00 / 12 (166.7%):  12%|█▏        | 12/103 [01:36<14:00,  9.23s/it]Query executed successfully\n",
      "output [[(2073,)], (('dismissed_cases', None, None, None, None, None, None),)]\n",
      "Average Metric: 22.00 / 13 (169.2%):  13%|█▎        | 13/103 [01:54<17:53, 11.92s/it]Query executed successfully\n",
      "output [[(1.37859945467846,)], (('dismissal_percentage', None, None, None, None, None, None),)]\n",
      "Average Metric: 24.00 / 14 (171.4%):  14%|█▎        | 14/103 [02:04<16:53, 11.38s/it]Query executed successfully\n",
      "output [[(555,)], (('appealed_cases_count', None, None, None, None, None, None),)]\n",
      "Average Metric: 26.00 / 15 (173.3%):  15%|█▍        | 15/103 [02:24<20:33, 14.02s/it]Query executed successfully\n",
      "output [[(0.36908957903837203,)], (('percentage_appealed_to_judge', None, None, None, None, None, None),)]\n",
      "Average Metric: 26.00 / 16 (162.5%):  16%|█▌        | 16/103 [02:32<17:32, 12.10s/it]Query executed successfully\n",
      "output [[(4188,)], (('cases_appealed_to_prefecture', None, None, None, None, None, None),)]\n",
      "Average Metric: 28.00 / 17 (164.7%):  17%|█▋        | 17/103 [02:52<20:44, 14.47s/it]Query executed successfully\n",
      "output [[(2.785130012635499,)], (('percentage_appealed', None, None, None, None, None, None),)]\n",
      "Average Metric: 30.00 / 18 (166.7%):  17%|█▋        | 18/103 [03:00<17:55, 12.65s/it]Query executed successfully\n",
      "output [[(93,)], (('rejected_appeals', None, None, None, None, None, None),)]\n",
      "Average Metric: 30.00 / 19 (157.9%):  18%|█▊        | 19/103 [03:05<14:26, 10.31s/it]Query executed successfully\n",
      "output [[(1980,)], (('rejected_appeals', None, None, None, None, None, None),)]\n",
      "Average Metric: 31.00 / 20 (155.0%):  19%|█▉        | 20/103 [03:29<20:04, 14.51s/it]Query executed successfully\n",
      "output [[('S176946', 7600)], (('case_concept_name', None, None, None, None, None, None), ('expense_sum', None, None, None, None, None, None))]\n",
      "Average Metric: 32.00 / 21 (152.4%):  20%|██        | 21/103 [03:38<17:27, 12.78s/it]Query executed successfully\n",
      "output [[('S176946', 7600), ('S183468', 7600), ('S182605', 7500), ('P220', 6000), ('S181646', 6000), ('S189726', 6000), ('S185752', 5088), ('P4429', 4600), ('P4461', 4600), ('P5574', 4600)], (('case_concept_name', None, None, None, None, None, None), ('expense_sum', None, None, None, None, None, None))]\n",
      "Average Metric: 34.00 / 22 (154.5%):  21%|██▏       | 22/103 [03:46<15:20, 11.37s/it]Query executed successfully\n",
      "output [[(826.320123694886,)], (('average_expense_sum_per_case', None, None, None, None, None, None),)]\n",
      "Average Metric: 36.00 / 23 (156.5%):  22%|██▏       | 23/103 [03:55<14:10, 10.63s/it]Query executed successfully\n",
      "output [[(49243,)], (('case_count', None, None, None, None, None, None),)]\n",
      "Average Metric: 38.00 / 24 (158.3%):  23%|██▎       | 24/103 [03:59<11:13,  8.53s/it]Query executed successfully\n",
      "output [[('S176946', 7600), ('S183468', 7600), ('S182605', 7500), ('P220', 6000), ('S181646', 6000), ('S189726', 6000), ('S185752', 5088), ('P4429', 4600), ('P4461', 4600), ('P5574', 4600)], (('case_concept_name', None, None, None, None, None, None), ('expense_sum', None, None, None, None, None, None))]\n",
      "Average Metric: 40.00 / 25 (160.0%):  24%|██▍       | 25/103 [04:07<11:08,  8.57s/it]Query executed successfully\n",
      "output [[(59013,)], (('cases_with_credit_collected', None, None, None, None, None, None),)]\n",
      "Average Metric: 42.00 / 26 (161.5%):  25%|██▌       | 26/103 [04:11<09:13,  7.19s/it]Query executed successfully\n",
      "output [[(39.245195185209816,)], (('percentage_credit_collected', None, None, None, None, None, None),)]\n",
      "Average Metric: 44.00 / 27 (163.0%):  26%|██▌       | 27/103 [04:19<09:21,  7.39s/it]Query executed successfully\n",
      "output [[(53.10899780541332,)], (('percentage_penalty_added', None, None, None, None, None, None),)]\n",
      "Average Metric: 46.00 / 28 (164.3%):  27%|██▋       | 28/103 [04:43<15:28, 12.39s/it]Query executed successfully\n",
      "output [[(79860,)], (('cases_with_penalty', None, None, None, None, None, None),)]\n",
      "Average Metric: 48.00 / 29 (165.5%):  28%|██▊       | 29/103 [04:47<12:10,  9.88s/it]Query executed successfully\n",
      "output [[(70510,)], (('case_count', None, None, None, None, None, None),)]\n",
      "Average Metric: 50.00 / 30 (166.7%):  29%|██▉       | 30/103 [04:56<11:26,  9.40s/it]Query executed successfully\n",
      "output [[('S109961', 402100)], (('case_concept_name', None, None, None, None, None, None), ('maxtotalPaymentAmount', None, None, None, None, None, None))]\n",
      "Average Metric: 52.00 / 31 (167.7%):  30%|███       | 31/103 [05:03<10:26,  8.70s/it]Query executed successfully\n",
      "output [[(2396.5771762984637,)], (('average_maxtotalPaymentAmount', None, None, None, None, None, None),)]\n",
      "Average Metric: 54.00 / 32 (168.8%):  31%|███       | 32/103 [05:15<11:27,  9.69s/it]Query executed successfully\n",
      "output [[(80656,)], (('case_count', None, None, None, None, None, None),)]\n",
      "Average Metric: 56.00 / 33 (169.7%):  32%|███▏      | 33/103 [05:20<09:43,  8.34s/it]Query executed successfully\n",
      "output [[('S109961', 402100), ('C23364', 184200), ('C23357', 159700), ('C19723', 149850), ('C18271', 143350), ('S161037', 82300), ('S161018', 81300), ('S161025', 81300), ('S161032', 81300), ('C21036', 79810)], (('case_concept_name', None, None, None, None, None, None), ('maxtotalPaymentAmount', None, None, None, None, None, None))]\n",
      "Average Metric: 58.00 / 34 (170.6%):  33%|███▎      | 34/103 [05:29<10:00,  8.71s/it]Query executed successfully\n",
      "output [[('C15814', 1235100)], (('case_concept_name', None, None, None, None, None, None), ('total_amount_payable', None, None, None, None, None, None))]\n",
      "Average Metric: 58.00 / 35 (165.7%):  34%|███▍      | 35/103 [05:38<09:55,  8.76s/it]Query executed successfully\n",
      "output [[('S109961', 397500)], (('case_concept_name', None, None, None, None, None, None), ('max_paymentAmount', None, None, None, None, None, None))]\n",
      "Average Metric: 60.00 / 36 (166.7%):  35%|███▍      | 36/103 [05:44<08:50,  7.92s/it]Query executed successfully\n",
      "output [[('C15814', 800000)], (('case_concept_name', None, None, None, None, None, None), ('amount_last', None, None, None, None, None, None))]\n",
      "Average Metric: 61.00 / 37 (164.9%):  36%|███▌      | 37/103 [05:51<08:22,  7.62s/it]Query executed successfully\n",
      "output [[('C15814', 800000), ('C18395', 800000), ('C21853', 754600), ('C22583', 754600), ('C20473', 368450), ('C21090', 368450), ('C23364', 368450), ('C22584', 345150), ('C17345', 325290), ('C21546', 222000)], (('case_concept_name', None, None, None, None, None, None), ('amount_last', None, None, None, None, None, None))]\n",
      "Average Metric: 62.00 / 38 (163.2%):  37%|███▋      | 38/103 [05:58<08:08,  7.52s/it]Query executed successfully\n",
      "output [[('C15814', 800000), ('C18395', 800000), ('C21853', 754600), ('C22583', 754600), ('C20473', 368450), ('C21090', 368450), ('C23364', 368450), ('C22584', 345150), ('C17345', 325290), ('C21546', 222000)], (('case_concept_name', None, None, None, None, None, None), ('amount_last', None, None, None, None, None, None))]\n",
      "Average Metric: 63.00 / 39 (161.5%):  38%|███▊      | 39/103 [06:06<08:04,  7.56s/it]Query executed successfully\n",
      "output [[(0,)], (('lowest_amount_last', None, None, None, None, None, None),)]\n",
      "Average Metric: 65.00 / 40 (162.5%):  39%|███▉      | 40/103 [06:09<06:31,  6.22s/it]Query executed successfully\n",
      "output [[(36,)], (('case_count', None, None, None, None, None, None),)]\n",
      "Average Metric: 67.00 / 41 (163.4%):  40%|███▉      | 41/103 [06:16<06:33,  6.35s/it]Query executed successfully\n",
      "output [[('C19427', 74300)], (('case_concept_name', None, None, None, None, None, None), ('outstanding_balance', None, None, None, None, None, None))]\n",
      "Average Metric: 67.00 / 42 (159.5%):  41%|████      | 42/103 [06:28<08:22,  8.24s/it]Query executed successfully\n",
      "output [[(-1924.836184079271,)], (('average_outstanding_balance', None, None, None, None, None, None),)]\n",
      "Average Metric: 67.00 / 43 (155.8%):  42%|████▏     | 43/103 [06:54<13:35, 13.59s/it]Query executed successfully\n",
      "output [[('C18395', 801985), ('C15814', 800000), ('C21853', 754600), ('C22583', 754600), ('C20473', 368450), ('C21090', 368450), ('C22584', 345150), ('C17345', 325290), ('C21546', 222000), ('C22283', 222000)], (('case_concept_name', None, None, None, None, None, None), ('outstanding_balance', None, None, None, None, None, None))]\n",
      "Average Metric: 68.00 / 44 (154.5%):  43%|████▎     | 44/103 [07:22<17:23, 17.68s/it]Query executed successfully\n",
      "output [[(80656,)], (('cases_paid_nothing', None, None, None, None, None, None),)]\n",
      "Average Metric: 70.00 / 45 (155.6%):  44%|████▎     | 45/103 [07:27<13:22, 13.84s/it]Query executed successfully\n",
      "output [[(53.63835871516925,)], (('percentage_paid_nothing', None, None, None, None, None, None),)]\n",
      "Average Metric: 72.00 / 46 (156.5%):  45%|████▍     | 46/103 [07:59<18:24, 19.37s/it]Query executed successfully\n",
      "output [[(2215,)], (('overpaid_cases', None, None, None, None, None, None),)]\n",
      "Average Metric: 74.00 / 47 (157.4%):  46%|████▌     | 47/103 [08:09<15:22, 16.47s/it]Query executed successfully\n",
      "output [[(1.4730331848108,)], (('percentage_overpaid', None, None, None, None, None, None),)]\n",
      "Average Metric: 76.00 / 48 (158.3%):  47%|████▋     | 48/103 [08:34<17:38, 19.24s/it]Query executed successfully\n",
      "output [[(90066,)], (('underpaid_cases', None, None, None, None, None, None),)]\n",
      "Average Metric: 78.00 / 49 (159.2%):  48%|████▊     | 49/103 [08:43<14:27, 16.07s/it]Query executed successfully\n",
      "output [[(59.89625590210813,)], (('percentage_underpaid', None, None, None, None, None, None),)]\n",
      "Average Metric: 80.00 / 50 (160.0%):  49%|████▊     | 50/103 [09:16<18:36, 21.07s/it]Query executed successfully\n",
      "output [[('S109961', 393525)], (('case_concept_name', None, None, None, None, None, None), ('overpaid_amount', None, None, None, None, None, None))]\n",
      "Average Metric: 82.00 / 51 (160.8%):  50%|████▉     | 51/103 [09:42<19:35, 22.61s/it]Query executed successfully\n",
      "output [[(393525,)], (('highest_overpaid_amount', None, None, None, None, None, None),)]\n",
      "Average Metric: 84.00 / 52 (161.5%):  50%|█████     | 52/103 [10:08<20:00, 23.53s/it]Query executed successfully\n",
      "output [[('C18395', 801985), ('C15814', 800000), ('C22583', 754600), ('C21853', 754600), ('C21090', 368450), ('C20473', 368450), ('C22584', 345150), ('C17345', 325290), ('C22820', 222000), ('C22740', 222000)], (('case_concept_name', None, None, None, None, None, None), ('highest_underpaid_amount', None, None, None, None, None, None))]\n",
      "Average Metric: 86.00 / 53 (162.3%):  51%|█████▏    | 53/103 [10:20<16:43, 20.07s/it]Query executed successfully\n",
      "output [[(801985,)], (('underpaid_amount', None, None, None, None, None, None),)]\n",
      "Average Metric: 88.00 / 54 (163.0%):  52%|█████▏    | 54/103 [10:44<17:26, 21.35s/it]Query executed successfully\n",
      "output [[(9413,)], (('number_of_part_paid_cases', None, None, None, None, None, None),)]\n",
      "Average Metric: 90.00 / 55 (163.6%):  53%|█████▎    | 55/103 [11:12<18:35, 23.23s/it]Query executed successfully\n",
      "output [[(6.259892265744497,)], (('percentage_part_paid', None, None, None, None, None, None),)]\n",
      "Average Metric: 92.00 / 56 (164.3%):  54%|█████▍    | 56/103 [11:36<18:35, 23.74s/it]Query executed successfully\n",
      "output [[(6930,)], (('case_count', None, None, None, None, None, None),)]\n",
      "Average Metric: 94.00 / 57 (164.9%):  55%|█████▌    | 57/103 [12:18<22:19, 29.11s/it]"
     ]
    },
    {
     "name": "stderr",
     "output_type": "stream",
     "text": [
      "2024/12/28 18:09:25 INFO dspy.primitives.assertions: SuggestionFailed: Error executing SQLite query Query execution exceeded the time limit. Use a query that executes faster.\n"
     ]
    },
    {
     "name": "stdout",
     "output_type": "stream",
     "text": [
      "Query execution failed: misuse of aggregate function MIN()\n",
      "query timed out\n"
     ]
    },
    {
     "name": "stderr",
     "output_type": "stream",
     "text": [
      "2024/12/28 18:09:30 INFO dspy.primitives.assertions: SuggestionFailed: Error executing SQLite query Query execution exceeded the time limit. Use a query that executes faster.\n"
     ]
    },
    {
     "name": "stdout",
     "output_type": "stream",
     "text": [
      "Query execution failed: misuse of aggregate function MIN()\n",
      "query timed out\n"
     ]
    },
    {
     "name": "stderr",
     "output_type": "stream",
     "text": [
      "2024/12/28 18:09:36 INFO dspy.primitives.assertions: SuggestionFailed: Error executing SQLite query Query execution exceeded the time limit. Use a query that executes faster.\n"
     ]
    },
    {
     "name": "stdout",
     "output_type": "stream",
     "text": [
      "Query execution failed: misuse of aggregate function MIN()\n",
      "query timed out\n",
      "Average Metric: 94.00 / 58 (162.1%):  56%|█████▋    | 58/103 [13:00<24:47, 33.06s/it]Query executed successfully\n",
      "output [[(0,)], (('case_count', None, None, None, None, None, None),)]\n",
      "Average Metric: 96.00 / 59 (162.7%):  57%|█████▋    | 59/103 [13:07<18:22, 25.06s/it]Query executed successfully\n",
      "output [[(60304,)], (('fully_paid_cases', None, None, None, None, None, None),)]\n",
      "Average Metric: 98.00 / 60 (163.3%):  58%|█████▊    | 60/103 [13:33<18:12, 25.40s/it]Query executed successfully\n",
      "output [[(40.10374409789187,)], (('percentage_fully_paid', None, None, None, None, None, None),)]\n",
      "Average Metric: 100.00 / 61 (163.9%):  59%|█████▉    | 61/103 [14:05<19:15, 27.51s/it]Query executed successfully\n",
      "output [[(3,)], (('case_count', None, None, None, None, None, None),)]\n",
      "Average Metric: 102.00 / 62 (164.5%):  60%|██████    | 62/103 [14:38<19:45, 28.92s/it]"
     ]
    },
    {
     "name": "stderr",
     "output_type": "stream",
     "text": [
      "2024/12/28 18:11:47 INFO dspy.primitives.assertions: SuggestionFailed: Error executing SQLite query Query execution exceeded the time limit. Use a query that executes faster.\n"
     ]
    },
    {
     "name": "stdout",
     "output_type": "stream",
     "text": [
      "Query execution failed: misuse of aggregate function MAX()\n",
      "query timed out\n"
     ]
    },
    {
     "name": "stderr",
     "output_type": "stream",
     "text": [
      "2024/12/28 18:11:50 INFO dspy.primitives.assertions: SuggestionFailed: Error executing SQLite query Query execution exceeded the time limit. Use a query that executes faster.\n"
     ]
    },
    {
     "name": "stdout",
     "output_type": "stream",
     "text": [
      "Query execution failed: misuse of aggregate function MAX()\n",
      "query timed out\n"
     ]
    },
    {
     "name": "stderr",
     "output_type": "stream",
     "text": [
      "2024/12/28 18:11:50 INFO dspy.primitives.assertions: SuggestionFailed: Error executing SQLite query Query execution exceeded the time limit. Use a query that executes faster.\n"
     ]
    },
    {
     "name": "stdout",
     "output_type": "stream",
     "text": [
      "Query execution failed: misuse of aggregate function MAX()\n",
      "query timed out\n",
      "Average Metric: 102.00 / 63 (161.9%):  61%|██████    | 63/103 [15:14<20:49, 31.23s/it]Query executed successfully\n",
      "output [[(28984,)], (('unresolved_case_count', None, None, None, None, None, None),)]\n",
      "Average Metric: 104.00 / 64 (162.5%):  62%|██████▏   | 64/103 [15:46<20:20, 31.29s/it]"
     ]
    },
    {
     "name": "stderr",
     "output_type": "stream",
     "text": [
      "2024/12/28 18:12:53 INFO dspy.primitives.assertions: SuggestionFailed: Error executing SQLite query Query execution exceeded the time limit. Use a query that executes faster.\n"
     ]
    },
    {
     "name": "stdout",
     "output_type": "stream",
     "text": [
      "Query execution failed: misuse of aggregate function MAX()\n",
      "query timed out\n"
     ]
    },
    {
     "name": "stderr",
     "output_type": "stream",
     "text": [
      "2024/12/28 18:12:58 INFO dspy.primitives.assertions: SuggestionFailed: Error executing SQLite query Query execution exceeded the time limit. Use a query that executes faster.\n"
     ]
    },
    {
     "name": "stdout",
     "output_type": "stream",
     "text": [
      "Query execution failed: misuse of aggregate function MAX()\n",
      "query timed out\n"
     ]
    },
    {
     "name": "stderr",
     "output_type": "stream",
     "text": [
      "2024/12/28 18:12:58 INFO dspy.primitives.assertions: SuggestionFailed: Error executing SQLite query Query execution exceeded the time limit. Use a query that executes faster.\n"
     ]
    },
    {
     "name": "stdout",
     "output_type": "stream",
     "text": [
      "Query execution failed: misuse of aggregate function MAX()\n",
      "query timed out\n",
      "Average Metric: 104.00 / 65 (160.0%):  63%|██████▎   | 65/103 [16:22<20:51, 32.94s/it]Query executed successfully\n",
      "output [[(66373,)], (('case_count', None, None, None, None, None, None),)]\n",
      "Average Metric: 106.00 / 66 (160.6%):  64%|██████▍   | 66/103 [16:27<15:00, 24.35s/it]Query executed successfully\n",
      "output [[(23728,)], (('case_count', None, None, None, None, None, None),)]\n",
      "Average Metric: 108.00 / 67 (161.2%):  65%|██████▌   | 67/103 [16:39<12:21, 20.60s/it]Query executed successfully\n",
      "output [[(76,)], (('case_count', None, None, None, None, None, None),)]\n",
      "Average Metric: 110.00 / 68 (161.8%):  66%|██████▌   | 68/103 [16:58<11:45, 20.15s/it]Query executed successfully\n",
      "output [[(9,)], (('case_count', None, None, None, None, None, None),)]\n",
      "Average Metric: 112.00 / 69 (162.3%):  67%|██████▋   | 69/103 [17:04<09:06, 16.06s/it]Query executed successfully\n",
      "output [[(80670,)], (('case_count', None, None, None, None, None, None),)]\n",
      "Average Metric: 114.00 / 70 (162.9%):  68%|██████▊   | 70/103 [17:24<09:29, 17.25s/it]Query executed successfully\n",
      "output [[(134086,)], (('case_count', None, None, None, None, None, None),)]\n",
      "Average Metric: 116.00 / 71 (163.4%):  69%|██████▉   | 71/103 [17:44<09:34, 17.97s/it]Query executed successfully\n",
      "output [[(150306,)], (('COUNT(*)', None, None, None, None, None, None),)]\n",
      "Average Metric: 118.00 / 72 (163.9%):  70%|██████▉   | 72/103 [18:02<09:18, 18.02s/it]Query executed successfully\n",
      "output [[(23914,)], (('case_count', None, None, None, None, None, None),)]\n",
      "Average Metric: 120.00 / 73 (164.4%):  71%|███████   | 73/103 [18:08<07:11, 14.39s/it]Query executed successfully\n",
      "output [[(42547,)], (('case_count', None, None, None, None, None, None),)]\n",
      "Average Metric: 122.00 / 74 (164.9%):  72%|███████▏  | 74/103 [18:17<06:10, 12.77s/it]Query executed successfully\n",
      "output [[(54244,)], (('case_count', None, None, None, None, None, None),)]\n",
      "Average Metric: 124.00 / 75 (165.3%):  73%|███████▎  | 75/103 [18:24<05:10, 11.10s/it]Query executed successfully\n",
      "output [[(62742,)], (('case_count', None, None, None, None, None, None),)]\n",
      "Average Metric: 126.00 / 76 (165.8%):  74%|███████▍  | 76/103 [18:30<04:20,  9.66s/it]Query executed successfully\n",
      "output [[(28401,)], (('case_count', None, None, None, None, None, None),)]\n",
      "Average Metric: 128.00 / 77 (166.2%):  75%|███████▍  | 77/103 [18:37<03:45,  8.66s/it]Query executed successfully\n",
      "output [[(37575,)], (('case_count', None, None, None, None, None, None),)]\n",
      "Average Metric: 130.00 / 78 (166.7%):  76%|███████▌  | 78/103 [18:44<03:26,  8.27s/it]Query executed successfully\n",
      "output [[(64961,)], (('case_count', None, None, None, None, None, None),)]\n",
      "Average Metric: 132.00 / 79 (167.1%):  77%|███████▋  | 79/103 [19:10<05:26, 13.61s/it]Query executed successfully\n",
      "output [[(65851,)], (('case_count', None, None, None, None, None, None),)]\n",
      "Average Metric: 134.00 / 80 (167.5%):  78%|███████▊  | 80/103 [19:17<04:26, 11.57s/it]Query executed successfully\n",
      "output [[(2215,)], (('case_count', None, None, None, None, None, None),)]\n",
      "Average Metric: 136.00 / 81 (167.9%):  79%|███████▊  | 81/103 [19:53<06:53, 18.78s/it]Query executed successfully\n",
      "output [[(60304,)], (('case_count', None, None, None, None, None, None),)]\n",
      "Average Metric: 138.00 / 82 (168.3%):  80%|███████▉  | 82/103 [20:00<05:24, 15.44s/it]Query executed successfully\n",
      "output [[(24539,)], (('case_count', None, None, None, None, None, None),)]\n",
      "Average Metric: 140.00 / 83 (168.7%):  81%|████████  | 83/103 [20:12<04:44, 14.23s/it]Query executed successfully\n",
      "output [[(28598,)], (('case_count', None, None, None, None, None, None),)]\n",
      "Average Metric: 142.00 / 84 (169.0%):  82%|████████▏ | 84/103 [20:41<05:56, 18.74s/it]Query executed successfully\n",
      "output [[], (('case_count', None, None, None, None, None, None),)]\n",
      "Average Metric: 142.00 / 85 (167.1%):  83%|████████▎ | 85/103 [21:17<07:09, 23.88s/it]Query executed successfully\n",
      "output [[(104,)], (('case_count', None, None, None, None, None, None),)]\n",
      "Average Metric: 144.00 / 86 (167.4%):  83%|████████▎ | 86/103 [21:23<05:16, 18.63s/it]Query executed successfully\n",
      "output [[(149472,)], (('case_count', None, None, None, None, None, None),)]\n",
      "Average Metric: 146.00 / 87 (167.8%):  84%|████████▍ | 87/103 [21:48<05:25, 20.36s/it]Query executed successfully\n",
      "output [[(1338,)], (('case_count', None, None, None, None, None, None),)]\n",
      "Average Metric: 146.00 / 88 (165.9%):  85%|████████▌ | 88/103 [22:35<07:09, 28.62s/it]Query executed successfully\n",
      "output [[(60647,)], (('case_count', None, None, None, None, None, None),)]\n",
      "Average Metric: 148.00 / 89 (166.3%):  86%|████████▋ | 89/103 [23:09<06:59, 29.96s/it]Query executed successfully\n",
      "output [[(60673,)], (('case_count', None, None, None, None, None, None),)]\n",
      "Average Metric: 150.00 / 90 (166.7%):  87%|████████▋ | 90/103 [23:38<06:26, 29.70s/it]Query executed successfully\n",
      "output [[(24539,)], (('case_count', None, None, None, None, None, None),)]\n",
      "Average Metric: 152.00 / 91 (167.0%):  88%|████████▊ | 91/103 [23:47<04:41, 23.48s/it]"
     ]
    },
    {
     "name": "stderr",
     "output_type": "stream",
     "text": [
      "2024/12/28 18:20:47 INFO dspy.primitives.assertions: SuggestionFailed: Error executing SQLite query Query execution exceeded the time limit. Use a query that executes faster.\n"
     ]
    },
    {
     "name": "stdout",
     "output_type": "stream",
     "text": [
      "Query execution failed: no such column: totalPaymentAmount\n",
      "query timed out\n",
      "Query executed successfully\n",
      "output [[(28598,)], (('case_count', None, None, None, None, None, None),)]\n",
      "Average Metric: 154.00 / 92 (167.4%):  89%|████████▉ | 92/103 [24:12<04:24, 24.01s/it]"
     ]
    },
    {
     "name": "stderr",
     "output_type": "stream",
     "text": [
      "2024/12/28 18:21:18 INFO dspy.primitives.assertions: SuggestionFailed: Error executing SQLite query Query execution exceeded the time limit. Use a query that executes faster.\n"
     ]
    },
    {
     "name": "stdout",
     "output_type": "stream",
     "text": [
      "Query execution failed: misuse of aggregate function MIN()\n",
      "query timed out\n"
     ]
    },
    {
     "name": "stderr",
     "output_type": "stream",
     "text": [
      "2024/12/28 18:21:26 INFO dspy.primitives.assertions: SuggestionFailed: Error executing SQLite query Query execution exceeded the time limit. Use a query that executes faster.\n"
     ]
    },
    {
     "name": "stdout",
     "output_type": "stream",
     "text": [
      "Query execution failed: misuse of aggregate function MIN()\n",
      "query timed out\n"
     ]
    },
    {
     "name": "stderr",
     "output_type": "stream",
     "text": [
      "2024/12/28 18:21:32 INFO dspy.primitives.assertions: SuggestionFailed: Error executing SQLite query Query execution exceeded the time limit. Use a query that executes faster.\n"
     ]
    },
    {
     "name": "stdout",
     "output_type": "stream",
     "text": [
      "Query execution failed: no such column: totalPaymentAmount\n",
      "query timed out\n",
      "Average Metric: 154.00 / 93 (165.6%):  90%|█████████ | 93/103 [24:56<05:01, 30.13s/it]"
     ]
    },
    {
     "name": "stderr",
     "output_type": "stream",
     "text": [
      "2024/12/28 18:21:40 INFO dspy.primitives.assertions: SuggestionFailed: Error executing SQLite query Query execution exceeded the time limit. Use a query that executes faster.\n"
     ]
    },
    {
     "name": "stdout",
     "output_type": "stream",
     "text": [
      "Query execution failed: misuse of aggregate function MAX()\n",
      "query timed out\n"
     ]
    },
    {
     "name": "stderr",
     "output_type": "stream",
     "text": [
      "2024/12/28 18:21:49 INFO dspy.primitives.assertions: SuggestionFailed: Error executing SQLite query Query execution exceeded the time limit. Use a query that executes faster.\n"
     ]
    },
    {
     "name": "stdout",
     "output_type": "stream",
     "text": [
      "Query execution failed: no such column: concept_name\n",
      "query timed out\n"
     ]
    },
    {
     "name": "stderr",
     "output_type": "stream",
     "text": [
      "2024/12/28 18:21:58 INFO dspy.primitives.assertions: SuggestionFailed: Error executing SQLite query Query execution exceeded the time limit. Use a query that executes faster.\n"
     ]
    },
    {
     "name": "stdout",
     "output_type": "stream",
     "text": [
      "Query execution failed: no such column: concept_name\n",
      "query timed out\n",
      "Average Metric: 154.00 / 94 (163.8%):  91%|█████████▏| 94/103 [25:22<04:19, 28.80s/it]Query executed successfully\n",
      "output [[(130,)], (('case_count', None, None, None, None, None, None),)]\n",
      "Average Metric: 154.00 / 95 (162.1%):  92%|█████████▏| 95/103 [25:30<03:00, 22.52s/it]Query executed successfully\n",
      "output [[(5,)], (('case_count', None, None, None, None, None, None),)]\n",
      "Average Metric: 156.00 / 96 (162.5%):  93%|█████████▎| 96/103 [25:56<02:45, 23.63s/it]Query executed successfully\n",
      "output [[(0,)], (('case_count', None, None, None, None, None, None),)]\n",
      "Average Metric: 158.00 / 97 (162.9%):  94%|█████████▍| 97/103 [26:23<02:28, 24.67s/it]Query executed successfully\n",
      "output [[(5,)], (('case_count', None, None, None, None, None, None),)]\n",
      "Average Metric: 160.00 / 98 (163.3%):  95%|█████████▌| 98/103 [26:52<02:09, 25.92s/it]Query executed successfully\n",
      "output [[('C23364',)], (('case_concept_name', None, None, None, None, None, None),)]\n",
      "Average Metric: 162.00 / 99 (163.6%):  96%|█████████▌| 99/103 [27:24<01:51, 27.87s/it]"
     ]
    },
    {
     "name": "stderr",
     "output_type": "stream",
     "text": [
      "2024/12/28 18:24:48 INFO dspy.primitives.assertions: SuggestionFailed: Error executing SQLite query Query execution exceeded the time limit. Use a query that executes faster.\n"
     ]
    },
    {
     "name": "stdout",
     "output_type": "stream",
     "text": [
      "Query execution failed: no such column: unresolved\n",
      "query timed out\n"
     ]
    },
    {
     "name": "stderr",
     "output_type": "stream",
     "text": [
      "2024/12/28 18:24:53 INFO dspy.primitives.assertions: SuggestionFailed: Error executing SQLite query Query execution exceeded the time limit. Use a query that executes faster.\n"
     ]
    },
    {
     "name": "stdout",
     "output_type": "stream",
     "text": [
      "Query execution failed: no such column: e2.time_timestamp\n",
      "query timed out\n"
     ]
    },
    {
     "name": "stderr",
     "output_type": "stream",
     "text": [
      "2024/12/28 18:24:59 INFO dspy.primitives.assertions: SuggestionFailed: Error executing SQLite query Query execution exceeded the time limit. Use a query that executes faster.\n"
     ]
    },
    {
     "name": "stdout",
     "output_type": "stream",
     "text": [
      "Query execution failed: no such column: e2.time_timestamp\n",
      "query timed out\n",
      "Average Metric: 162.00 / 100 (162.0%):  97%|█████████▋| 100/103 [28:23<01:51, 37.19s/it]"
     ]
    },
    {
     "name": "stderr",
     "output_type": "stream",
     "text": [
      "2024/12/28 18:25:11 INFO dspy.primitives.assertions: SuggestionFailed: Error executing SQLite query Query execution exceeded the time limit. Use a query that executes faster.\n"
     ]
    },
    {
     "name": "stdout",
     "output_type": "stream",
     "text": [
      "Query execution failed: misuse of aggregate function MIN()\n",
      "query timed out\n"
     ]
    },
    {
     "name": "stderr",
     "output_type": "stream",
     "text": [
      "2024/12/28 18:25:20 INFO dspy.primitives.assertions: SuggestionFailed: Error executing SQLite query Query execution exceeded the time limit. Use a query that executes faster.\n"
     ]
    },
    {
     "name": "stdout",
     "output_type": "stream",
     "text": [
      "Query execution failed: misuse of aggregate function MIN()\n",
      "query timed out\n"
     ]
    },
    {
     "name": "stderr",
     "output_type": "stream",
     "text": [
      "2024/12/28 18:25:27 INFO dspy.primitives.assertions: SuggestionFailed: Error executing SQLite query Query execution exceeded the time limit. Use a query that executes faster.\n"
     ]
    },
    {
     "name": "stdout",
     "output_type": "stream",
     "text": [
      "Query execution failed: misuse of aggregate function MIN()\n",
      "query timed out\n",
      "Average Metric: 162.00 / 101 (160.4%):  98%|█████████▊| 101/103 [28:52<01:09, 34.56s/it]Query executed successfully\n",
      "output [[(9383,)], (('case_count', None, None, None, None, None, None),)]\n",
      "Average Metric: 164.00 / 102 (160.8%):  99%|█████████▉| 102/103 [28:59<00:26, 26.25s/it]Query executed successfully\n",
      "output [[(9383,)], (('case_count', None, None, None, None, None, None),)]\n",
      "Average Metric: 166.00 / 103 (161.2%): 100%|██████████| 103/103 [29:24<00:00, 17.13s/it]"
     ]
    },
    {
     "name": "stderr",
     "output_type": "stream",
     "text": [
      "2024/12/28 18:26:02 INFO dspy.evaluate.evaluate: Average Metric: 166 / 103 (161.2%)\n"
     ]
    },
    {
     "name": "stdout",
     "output_type": "stream",
     "text": [
      "\n"
     ]
    },
    {
     "data": {
      "text/html": [
       "<div>\n",
       "<style scoped>\n",
       "    .dataframe tbody tr th:only-of-type {\n",
       "        vertical-align: middle;\n",
       "    }\n",
       "\n",
       "    .dataframe tbody tr th {\n",
       "        vertical-align: top;\n",
       "    }\n",
       "\n",
       "    .dataframe thead th {\n",
       "        text-align: right;\n",
       "    }\n",
       "</style>\n",
       "<table border=\"1\" class=\"dataframe\">\n",
       "  <thead>\n",
       "    <tr style=\"text-align: right;\">\n",
       "      <th></th>\n",
       "      <th>question</th>\n",
       "      <th>example</th>\n",
       "      <th>req_cols</th>\n",
       "      <th>answer</th>\n",
       "      <th>LM_EVAL</th>\n",
       "    </tr>\n",
       "  </thead>\n",
       "  <tbody>\n",
       "    <tr>\n",
       "      <th>0</th>\n",
       "      <td>How many events are in the log?</td>\n",
       "      <td>561470</td>\n",
       "      <td>NaN</td>\n",
       "      <td>561470</td>\n",
       "      <td>✔️ [2]</td>\n",
       "    </tr>\n",
       "    <tr>\n",
       "      <th>1</th>\n",
       "      <td>When is the start of the event log?</td>\n",
       "      <td>1/1/2000 / 2000-01-01</td>\n",
       "      <td>NaN</td>\n",
       "      <td>2000-01-01 00:00:00+00:00</td>\n",
       "      <td>✔️ [2]</td>\n",
       "    </tr>\n",
       "    <tr>\n",
       "      <th>2</th>\n",
       "      <td>When is the end of the event log?</td>\n",
       "      <td>6/18/2013/ 2013-06-18</td>\n",
       "      <td>NaN</td>\n",
       "      <td>2013-06-18 00:00:00+00:00</td>\n",
       "      <td>✔️ [2]</td>\n",
       "    </tr>\n",
       "    <tr>\n",
       "      <th>3</th>\n",
       "      <td>How many cases have sent an appeal to the Prefecture?</td>\n",
       "      <td>4141</td>\n",
       "      <td>NaN</td>\n",
       "      <td>4141</td>\n",
       "      <td>✔️ [2]</td>\n",
       "    </tr>\n",
       "    <tr>\n",
       "      <th>4</th>\n",
       "      <td>How many event types are there?</td>\n",
       "      <td>11</td>\n",
       "      <td>NaN</td>\n",
       "      <td>There are 11 distinct event types.</td>\n",
       "      <td>✔️ [2]</td>\n",
       "    </tr>\n",
       "    <tr>\n",
       "      <th>...</th>\n",
       "      <td>...</td>\n",
       "      <td>...</td>\n",
       "      <td>...</td>\n",
       "      <td>...</td>\n",
       "      <td>...</td>\n",
       "    </tr>\n",
       "    <tr>\n",
       "      <th>98</th>\n",
       "      <td>Which case is underpaid == True AND part_paid == True AND payment_...</td>\n",
       "      <td>C23364</td>\n",
       "      <td>['underpaid', 'part_paid', 'payment_count', 'underpaid_amount', 'c...</td>\n",
       "      <td>C23364</td>\n",
       "      <td>✔️ [2]</td>\n",
       "    </tr>\n",
       "    <tr>\n",
       "      <th>99</th>\n",
       "      <td>How many cases have undresolved == True AND obligation_topay_cance...</td>\n",
       "      <td>13395</td>\n",
       "      <td>['unresolved', 'obligation_topay_cancelled']</td>\n",
       "      <td>There was an error during the execution of the SQL query, which re...</td>\n",
       "      <td></td>\n",
       "    </tr>\n",
       "    <tr>\n",
       "      <th>100</th>\n",
       "      <td>How many cases have unresolved == True AND obligation_topay_cancel...</td>\n",
       "      <td>2</td>\n",
       "      <td>['unresolved', 'obligation_topay_cancelled', 'underpaid_amount', '...</td>\n",
       "      <td>There was an error during the answering of the question due to the...</td>\n",
       "      <td></td>\n",
       "    </tr>\n",
       "    <tr>\n",
       "      <th>101</th>\n",
       "      <td>How many cases are credit collected before 2002-12-24?</td>\n",
       "      <td>9383</td>\n",
       "      <td>['credit_collected', 'time_timestamp_end']</td>\n",
       "      <td>9383</td>\n",
       "      <td>✔️ [2]</td>\n",
       "    </tr>\n",
       "    <tr>\n",
       "      <th>102</th>\n",
       "      <td>How many cases have credit_collected == True AND time_timestamp_en...</td>\n",
       "      <td>9383</td>\n",
       "      <td>['credit_collected', 'time_timestamp_end']</td>\n",
       "      <td>9383</td>\n",
       "      <td>✔️ [2]</td>\n",
       "    </tr>\n",
       "  </tbody>\n",
       "</table>\n",
       "<p>103 rows × 5 columns</p>\n",
       "</div>"
      ],
      "text/plain": [
       "                                                                  question  \\\n",
       "0                                          How many events are in the log?   \n",
       "1                                      When is the start of the event log?   \n",
       "2                                        When is the end of the event log?   \n",
       "3                    How many cases have sent an appeal to the Prefecture?   \n",
       "4                                          How many event types are there?   \n",
       "..                                                                     ...   \n",
       "98   Which case is underpaid == True AND part_paid == True AND payment_...   \n",
       "99   How many cases have undresolved == True AND obligation_topay_cance...   \n",
       "100  How many cases have unresolved == True AND obligation_topay_cancel...   \n",
       "101                 How many cases are credit collected before 2002-12-24?   \n",
       "102  How many cases have credit_collected == True AND time_timestamp_en...   \n",
       "\n",
       "                   example  \\\n",
       "0                   561470   \n",
       "1    1/1/2000 / 2000-01-01   \n",
       "2    6/18/2013/ 2013-06-18   \n",
       "3                     4141   \n",
       "4                       11   \n",
       "..                     ...   \n",
       "98                  C23364   \n",
       "99                   13395   \n",
       "100                      2   \n",
       "101                   9383   \n",
       "102                   9383   \n",
       "\n",
       "                                                                  req_cols  \\\n",
       "0                                                                      NaN   \n",
       "1                                                                      NaN   \n",
       "2                                                                      NaN   \n",
       "3                                                                      NaN   \n",
       "4                                                                      NaN   \n",
       "..                                                                     ...   \n",
       "98   ['underpaid', 'part_paid', 'payment_count', 'underpaid_amount', 'c...   \n",
       "99                            ['unresolved', 'obligation_topay_cancelled']   \n",
       "100  ['unresolved', 'obligation_topay_cancelled', 'underpaid_amount', '...   \n",
       "101                             ['credit_collected', 'time_timestamp_end']   \n",
       "102                             ['credit_collected', 'time_timestamp_end']   \n",
       "\n",
       "                                                                    answer  \\\n",
       "0                                                                   561470   \n",
       "1                                                2000-01-01 00:00:00+00:00   \n",
       "2                                                2013-06-18 00:00:00+00:00   \n",
       "3                                                                     4141   \n",
       "4                                       There are 11 distinct event types.   \n",
       "..                                                                     ...   \n",
       "98                                                                  C23364   \n",
       "99   There was an error during the execution of the SQL query, which re...   \n",
       "100  There was an error during the answering of the question due to the...   \n",
       "101                                                                   9383   \n",
       "102                                                                   9383   \n",
       "\n",
       "    LM_EVAL  \n",
       "0    ✔️ [2]  \n",
       "1    ✔️ [2]  \n",
       "2    ✔️ [2]  \n",
       "3    ✔️ [2]  \n",
       "4    ✔️ [2]  \n",
       "..      ...  \n",
       "98   ✔️ [2]  \n",
       "99           \n",
       "100          \n",
       "101  ✔️ [2]  \n",
       "102  ✔️ [2]  \n",
       "\n",
       "[103 rows x 5 columns]"
      ]
     },
     "metadata": {},
     "output_type": "display_data"
    }
   ],
   "source": [
    "score, outputs, scores = evaluate(program = sql_isolated_definitions, return_all_scores= True)"
   ]
  },
  {
   "cell_type": "code",
   "execution_count": 76,
   "metadata": {},
   "outputs": [],
   "source": [
    "df_merged = save_report_isolated(outputs,scores, \"/Users/sulzair/Documents/Bachelor Thesis/dspy_v2/Results_Combined/testset_pm_isolated_definitions_uc_mini\", sql_isolated_definitions, judge_adjusted)"
   ]
  },
  {
   "cell_type": "markdown",
   "metadata": {},
   "source": [
    "creating indices in the db to speed things up a little bit"
   ]
  },
  {
   "cell_type": "code",
   "execution_count": null,
   "metadata": {},
   "outputs": [],
   "source": []
  },
  {
   "cell_type": "code",
   "execution_count": null,
   "metadata": {},
   "outputs": [],
   "source": [
    "creating"
   ]
  }
 ],
 "metadata": {
  "kernelspec": {
   "display_name": "dspy_v2",
   "language": "python",
   "name": "python3"
  },
  "language_info": {
   "codemirror_mode": {
    "name": "ipython",
    "version": 3
   },
   "file_extension": ".py",
   "mimetype": "text/x-python",
   "name": "python",
   "nbconvert_exporter": "python",
   "pygments_lexer": "ipython3",
   "version": "3.12.8"
  }
 },
 "nbformat": 4,
 "nbformat_minor": 2
}
